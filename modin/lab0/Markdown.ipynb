{
 "cells": [
  {
   "cell_type": "code",
   "execution_count": 7,
   "metadata": {},
   "outputs": [
    {
     "data": {
      "text/plain": [
       "3"
      ]
     },
     "execution_count": 7,
     "metadata": {},
     "output_type": "execute_result"
    }
   ],
   "source": [
    "1+2"
   ]
  },
  {
   "cell_type": "markdown",
   "metadata": {},
   "source": [
    "#Заголовок первого уровня#\n",
    "##Заголовок h2\n",
    "###Заголовок h3\n",
    "####Заголовок h4\n",
    "#####Заголовок h5\n",
    "######Заголовок h6"
   ]
  },
  {
   "cell_type": "markdown",
   "metadata": {},
   "source": [
    "### Списки\n",
    "\n",
    "* элемент 1\n",
    "- элемент 2\n",
    "* элемент ...\n",
    "\n",
    "\n",
    "* элемент 1\n",
    "* элемент 2\n",
    "    1. вложенный 2.1\n",
    "    2. вложенный 2.2\n",
    "* элемент ...\n",
    "\n",
    "\n",
    "1. Элемент 1\n",
    "2. элемент 2\n",
    "    1. вложенный \n",
    "    2. вложенный\n",
    "3. элемент 3\n",
    "4. Domec sit amet nisl. Aliquam semper ipsum sit amet velit. Suspendise id sem consectetuer libero luctus adipiscing.\n"
   ]
  },
  {
   "cell_type": "markdown",
   "metadata": {},
   "source": [
    "0. элемент 1\n",
    "0. элемент 2\n",
    "0. элемент 3\n",
    "0. элемент 4\n",
    "\n",
    "\n",
    "\n",
    "* Раз абзац. Lorem ipsum dolor sit amet, consectetur adipsicing elit/\n",
    "\n",
    "* Два абзац. Donec sit amet nisl. Aliquam semper ipsum sit amet velit. Suspendise id sem consectetuer libero luctus adipiscing\n",
    "\n",
    "* Три абзац. Ea, quis, alias nobis porro quos laborum minus sed fuga odio dolore natus quas cum enim necessitatibus magni provident non saepe sequi?\n",
    "\n",
    "    Четыре абзац (Четыре пробела в начале или один tab).\n",
    "    "
   ]
  },
  {
   "cell_type": "markdown",
   "metadata": {},
   "source": []
  }
 ],
 "metadata": {
  "kernelspec": {
   "display_name": "Python 3",
   "language": "python",
   "name": "python3"
  },
  "language_info": {
   "codemirror_mode": {
    "name": "ipython",
    "version": 3
   },
   "file_extension": ".py",
   "mimetype": "text/x-python",
   "name": "python",
   "nbconvert_exporter": "python",
   "pygments_lexer": "ipython3",
   "version": "3.7.4"
  }
 },
 "nbformat": 4,
 "nbformat_minor": 2
}
