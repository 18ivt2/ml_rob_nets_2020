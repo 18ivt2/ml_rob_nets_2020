{
 "cells": [
  {
   "cell_type": "markdown",
   "metadata": {},
   "source": [
    "34 Вариант."
   ]
  },
  {
   "cell_type": "markdown",
   "metadata": {},
   "source": [
    "1)\tИзучить набор данных. Создать описание набора данных на русском языке. Описать признаки, используемые в наборе данных (включить полученные описания в отчёт)."
   ]
  },
  {
   "cell_type": "markdown",
   "metadata": {},
   "source": [
    "1) Alcohol - процентное содержание алкоголя;\n",
    "\n",
    "2) Malic acid – содержание яблочной кислоты;\n",
    "\n",
    "3) Ash - зольность;\n",
    "\n",
    "4) Alcalinity of ash – содержание щелочи;\n",
    "\n",
    "5) Magnesium – содержание магния;\n",
    "\n",
    "6) Total phenols – общее число фенолов;\n",
    "\n",
    "7) Flavanoids – Флавоноиды;\n",
    "\n",
    "8) Nonflavanoid phenols - нефлаваноидные фенолы;\n",
    "\n",
    "9) Proanthocyanins - Проантоцианы;\n",
    "\n",
    "10)Color intensity – интенсивность цвета;\n",
    "\n",
    "11)Hue – оттенок вина;\n",
    "\n",
    "12)OD2 80/OD315 of diluted wines – разбавленность вина;\n",
    "\n",
    "13)Proline – сорт вина."
   ]
  },
  {
   "cell_type": "markdown",
   "metadata": {},
   "source": [
    "2)\tУдалите дубликаты строк в наборе данных; приведите размер набора данных до и после данной операции;"
   ]
  },
  {
   "cell_type": "code",
   "execution_count": 2,
   "metadata": {},
   "outputs": [],
   "source": [
    "import matplotlib.pyplot as plt\n",
    "import numpy as np\n",
    "import pandas as pd\n",
    "import seaborn as sns\n",
    "import sklearn as sk\n",
    "from sklearn.preprocessing import MinMaxScaler\n",
    "from sklearn.tree import DecisionTreeClassifier\n",
    "from sklearn.calibration import CalibratedClassifierCV\n",
    "from sklearn.linear_model import Perceptron\n",
    "from sklearn.metrics import accuracy_score, precision_recall_curve, average_precision_score, roc_curve, auc\n",
    "from sklearn.model_selection import GridSearchCV\n",
    "from sklearn.model_selection import train_test_split\n",
    "from sklearn.neighbors import KNeighborsClassifier\n",
    "from sklearn.preprocessing import LabelEncoder\n",
    "from sklearn.preprocessing import StandardScaler\n",
    "from sklearn.preprocessing import label_binarize\n",
    "%matplotlib inline"
   ]
  },
  {
   "cell_type": "code",
   "execution_count": 3,
   "metadata": {},
   "outputs": [
    {
     "data": {
      "text/html": [
       "<div>\n",
       "<style scoped>\n",
       "    .dataframe tbody tr th:only-of-type {\n",
       "        vertical-align: middle;\n",
       "    }\n",
       "\n",
       "    .dataframe tbody tr th {\n",
       "        vertical-align: top;\n",
       "    }\n",
       "\n",
       "    .dataframe thead th {\n",
       "        text-align: right;\n",
       "    }\n",
       "</style>\n",
       "<table border=\"1\" class=\"dataframe\">\n",
       "  <thead>\n",
       "    <tr style=\"text-align: right;\">\n",
       "      <th></th>\n",
       "      <th>class</th>\n",
       "      <th>Alcohol</th>\n",
       "      <th>Malic acid</th>\n",
       "      <th>Ash</th>\n",
       "      <th>Alcalinity of ash</th>\n",
       "      <th>Magnesium</th>\n",
       "      <th>Total phenols</th>\n",
       "      <th>Flavanoids</th>\n",
       "      <th>Nonflavanoid phenols</th>\n",
       "      <th>Proanthocyanins</th>\n",
       "      <th>Color intensity</th>\n",
       "      <th>Hue</th>\n",
       "      <th>OD2 80/OD315 of diluted wines</th>\n",
       "      <th>Proline</th>\n",
       "    </tr>\n",
       "  </thead>\n",
       "  <tbody>\n",
       "    <tr>\n",
       "      <th>0</th>\n",
       "      <td>1</td>\n",
       "      <td>14.23</td>\n",
       "      <td>1.71</td>\n",
       "      <td>2.43</td>\n",
       "      <td>15.6</td>\n",
       "      <td>127</td>\n",
       "      <td>2.80</td>\n",
       "      <td>3.06</td>\n",
       "      <td>0.28</td>\n",
       "      <td>2.29</td>\n",
       "      <td>5.64</td>\n",
       "      <td>1.04</td>\n",
       "      <td>3.92</td>\n",
       "      <td>1065</td>\n",
       "    </tr>\n",
       "    <tr>\n",
       "      <th>1</th>\n",
       "      <td>1</td>\n",
       "      <td>13.20</td>\n",
       "      <td>1.78</td>\n",
       "      <td>2.14</td>\n",
       "      <td>11.2</td>\n",
       "      <td>100</td>\n",
       "      <td>2.65</td>\n",
       "      <td>2.76</td>\n",
       "      <td>0.26</td>\n",
       "      <td>1.28</td>\n",
       "      <td>4.38</td>\n",
       "      <td>1.05</td>\n",
       "      <td>3.40</td>\n",
       "      <td>1050</td>\n",
       "    </tr>\n",
       "    <tr>\n",
       "      <th>2</th>\n",
       "      <td>1</td>\n",
       "      <td>13.16</td>\n",
       "      <td>2.36</td>\n",
       "      <td>2.67</td>\n",
       "      <td>18.6</td>\n",
       "      <td>101</td>\n",
       "      <td>2.80</td>\n",
       "      <td>3.24</td>\n",
       "      <td>0.30</td>\n",
       "      <td>2.81</td>\n",
       "      <td>5.68</td>\n",
       "      <td>1.03</td>\n",
       "      <td>3.17</td>\n",
       "      <td>1185</td>\n",
       "    </tr>\n",
       "    <tr>\n",
       "      <th>3</th>\n",
       "      <td>1</td>\n",
       "      <td>14.37</td>\n",
       "      <td>1.95</td>\n",
       "      <td>2.50</td>\n",
       "      <td>16.8</td>\n",
       "      <td>113</td>\n",
       "      <td>3.85</td>\n",
       "      <td>3.49</td>\n",
       "      <td>0.24</td>\n",
       "      <td>2.18</td>\n",
       "      <td>7.80</td>\n",
       "      <td>0.86</td>\n",
       "      <td>3.45</td>\n",
       "      <td>1480</td>\n",
       "    </tr>\n",
       "    <tr>\n",
       "      <th>4</th>\n",
       "      <td>1</td>\n",
       "      <td>13.24</td>\n",
       "      <td>2.59</td>\n",
       "      <td>2.87</td>\n",
       "      <td>21.0</td>\n",
       "      <td>118</td>\n",
       "      <td>2.80</td>\n",
       "      <td>2.69</td>\n",
       "      <td>0.39</td>\n",
       "      <td>1.82</td>\n",
       "      <td>4.32</td>\n",
       "      <td>1.04</td>\n",
       "      <td>2.93</td>\n",
       "      <td>735</td>\n",
       "    </tr>\n",
       "  </tbody>\n",
       "</table>\n",
       "</div>"
      ],
      "text/plain": [
       "   class   Alcohol   Malic acid   Ash   Alcalinity of ash   Magnesium  \\\n",
       "0      1     14.23         1.71  2.43                15.6         127   \n",
       "1      1     13.20         1.78  2.14                11.2         100   \n",
       "2      1     13.16         2.36  2.67                18.6         101   \n",
       "3      1     14.37         1.95  2.50                16.8         113   \n",
       "4      1     13.24         2.59  2.87                21.0         118   \n",
       "\n",
       "    Total phenols   Flavanoids   Nonflavanoid phenols   Proanthocyanins  \\\n",
       "0            2.80         3.06                   0.28              2.29   \n",
       "1            2.65         2.76                   0.26              1.28   \n",
       "2            2.80         3.24                   0.30              2.81   \n",
       "3            3.85         3.49                   0.24              2.18   \n",
       "4            2.80         2.69                   0.39              1.82   \n",
       "\n",
       "    Color intensity   Hue   OD2 80/OD315 of diluted wines   Proline  \n",
       "0              5.64  1.04                            3.92      1065  \n",
       "1              4.38  1.05                            3.40      1050  \n",
       "2              5.68  1.03                            3.17      1185  \n",
       "3              7.80  0.86                            3.45      1480  \n",
       "4              4.32  1.04                            2.93       735  "
      ]
     },
     "execution_count": 3,
     "metadata": {},
     "output_type": "execute_result"
    }
   ],
   "source": [
    "wine_data = pd.read_csv(\"wine.data.txt\")\n",
    "wine_data.head()"
   ]
  },
  {
   "cell_type": "code",
   "execution_count": 4,
   "metadata": {},
   "outputs": [
    {
     "name": "stdout",
     "output_type": "stream",
     "text": [
      "До удаление дубликатов: 178\n",
      "После удаление дубликатов: 178\n"
     ]
    }
   ],
   "source": [
    "print(\"До удаление дубликатов: %d\" % len(wine_data))\n",
    "wine_data.drop_duplicates(keep=\"first\", inplace=True)\n",
    "print(\"После удаление дубликатов: %d\" % len(wine_data))"
   ]
  },
  {
   "cell_type": "markdown",
   "metadata": {},
   "source": [
    "3) Оцените сбалансированность данных по классам (постройте гистограмму). Используйте полученную информацию при выборе метрики оценки качества классификации (PR или ROC кривая)"
   ]
  },
  {
   "cell_type": "code",
   "execution_count": 5,
   "metadata": {},
   "outputs": [
    {
     "data": {
      "text/plain": [
       "<matplotlib.axes._subplots.AxesSubplot at 0x128168c8>"
      ]
     },
     "execution_count": 5,
     "metadata": {},
     "output_type": "execute_result"
    },
    {
     "data": {
      "image/png": "[encoded data removed]",
      "text/plain": [
       "<Figure size 432x288 with 1 Axes>"
      ]
     },
     "metadata": {
      "needs_background": "light"
     },
     "output_type": "display_data"
    }
   ],
   "source": [
    "sns.barplot(data=pd.DataFrame({\n",
    "    'count': [\n",
    "        len(wine_data.loc[wine_data[\"class\"] == 1]),\n",
    "        len(wine_data.loc[wine_data[\"class\"] == 2]),\n",
    "        len(wine_data.loc[wine_data[\"class\"] == 3]),\n",
    "    ],\n",
    "    'class': [\n",
    "        '1',\n",
    "        '2',\n",
    "        '3'\n",
    "    ],\n",
    "}), y='count', x='class')"
   ]
  },
  {
   "cell_type": "markdown",
   "metadata": {},
   "source": [
    "Вывод: Классы сбалансированны."
   ]
  },
  {
   "cell_type": "markdown",
   "metadata": {},
   "source": [
    "4) Выполните масштабирование количественных признаков; Постройте диаграммы BoxPlot для признаков до и после масштабирования. Выберите способ масштабирования (например, нормализацию или стандартизацию);"
   ]
  },
  {
   "cell_type": "code",
   "execution_count": 6,
   "metadata": {},
   "outputs": [
    {
     "name": "stdout",
     "output_type": "stream",
     "text": [
      "numerical:  [' Alcohol', ' Malic acid', ' Ash', ' Alcalinity of ash', ' Magnesium', ' Total phenols', ' Flavanoids', ' Nonflavanoid phenols', ' Proanthocyanins', ' Color intensity', ' Hue', ' OD2 80/OD315 of diluted wines', ' Proline']\n",
      "categorial:  ['class']\n"
     ]
    }
   ],
   "source": [
    "wine_data['class'] = wine_data['class'].apply(lambda x: str(x))\n",
    "numerical_columns = [i for i in wine_data.columns if wine_data[i].dtype.name != 'object']\n",
    "categorial_columns = [i for i in wine_data.columns if wine_data[i].dtype.name == 'object']\n",
    "\n",
    "print('numerical: ', numerical_columns)\n",
    "print('categorial: ', categorial_columns)"
   ]
  },
  {
   "cell_type": "code",
   "execution_count": 7,
   "metadata": {},
   "outputs": [
    {
     "data": {
      "text/html": [
       "<div>\n",
       "<style scoped>\n",
       "    .dataframe tbody tr th:only-of-type {\n",
       "        vertical-align: middle;\n",
       "    }\n",
       "\n",
       "    .dataframe tbody tr th {\n",
       "        vertical-align: top;\n",
       "    }\n",
       "\n",
       "    .dataframe thead th {\n",
       "        text-align: right;\n",
       "    }\n",
       "</style>\n",
       "<table border=\"1\" class=\"dataframe\">\n",
       "  <thead>\n",
       "    <tr style=\"text-align: right;\">\n",
       "      <th></th>\n",
       "      <th>class</th>\n",
       "      <th>Alcohol</th>\n",
       "      <th>Malic acid</th>\n",
       "      <th>Ash</th>\n",
       "      <th>Alcalinity of ash</th>\n",
       "      <th>Magnesium</th>\n",
       "      <th>Total phenols</th>\n",
       "      <th>Flavanoids</th>\n",
       "      <th>Nonflavanoid phenols</th>\n",
       "      <th>Proanthocyanins</th>\n",
       "      <th>Color intensity</th>\n",
       "      <th>Hue</th>\n",
       "      <th>OD2 80/OD315 of diluted wines</th>\n",
       "      <th>Proline</th>\n",
       "    </tr>\n",
       "  </thead>\n",
       "  <tbody>\n",
       "    <tr>\n",
       "      <th>0</th>\n",
       "      <td>1</td>\n",
       "      <td>0.842105</td>\n",
       "      <td>0.191700</td>\n",
       "      <td>0.572193</td>\n",
       "      <td>0.257732</td>\n",
       "      <td>0.619565</td>\n",
       "      <td>0.627586</td>\n",
       "      <td>0.573840</td>\n",
       "      <td>0.283019</td>\n",
       "      <td>0.593060</td>\n",
       "      <td>0.372014</td>\n",
       "      <td>0.455285</td>\n",
       "      <td>0.970696</td>\n",
       "      <td>0.561341</td>\n",
       "    </tr>\n",
       "    <tr>\n",
       "      <th>1</th>\n",
       "      <td>1</td>\n",
       "      <td>0.571053</td>\n",
       "      <td>0.205534</td>\n",
       "      <td>0.417112</td>\n",
       "      <td>0.030928</td>\n",
       "      <td>0.326087</td>\n",
       "      <td>0.575862</td>\n",
       "      <td>0.510549</td>\n",
       "      <td>0.245283</td>\n",
       "      <td>0.274448</td>\n",
       "      <td>0.264505</td>\n",
       "      <td>0.463415</td>\n",
       "      <td>0.780220</td>\n",
       "      <td>0.550642</td>\n",
       "    </tr>\n",
       "    <tr>\n",
       "      <th>2</th>\n",
       "      <td>1</td>\n",
       "      <td>0.560526</td>\n",
       "      <td>0.320158</td>\n",
       "      <td>0.700535</td>\n",
       "      <td>0.412371</td>\n",
       "      <td>0.336957</td>\n",
       "      <td>0.627586</td>\n",
       "      <td>0.611814</td>\n",
       "      <td>0.320755</td>\n",
       "      <td>0.757098</td>\n",
       "      <td>0.375427</td>\n",
       "      <td>0.447154</td>\n",
       "      <td>0.695971</td>\n",
       "      <td>0.646933</td>\n",
       "    </tr>\n",
       "    <tr>\n",
       "      <th>3</th>\n",
       "      <td>1</td>\n",
       "      <td>0.878947</td>\n",
       "      <td>0.239130</td>\n",
       "      <td>0.609626</td>\n",
       "      <td>0.319588</td>\n",
       "      <td>0.467391</td>\n",
       "      <td>0.989655</td>\n",
       "      <td>0.664557</td>\n",
       "      <td>0.207547</td>\n",
       "      <td>0.558360</td>\n",
       "      <td>0.556314</td>\n",
       "      <td>0.308943</td>\n",
       "      <td>0.798535</td>\n",
       "      <td>0.857347</td>\n",
       "    </tr>\n",
       "    <tr>\n",
       "      <th>4</th>\n",
       "      <td>1</td>\n",
       "      <td>0.581579</td>\n",
       "      <td>0.365613</td>\n",
       "      <td>0.807487</td>\n",
       "      <td>0.536082</td>\n",
       "      <td>0.521739</td>\n",
       "      <td>0.627586</td>\n",
       "      <td>0.495781</td>\n",
       "      <td>0.490566</td>\n",
       "      <td>0.444795</td>\n",
       "      <td>0.259386</td>\n",
       "      <td>0.455285</td>\n",
       "      <td>0.608059</td>\n",
       "      <td>0.325963</td>\n",
       "    </tr>\n",
       "  </tbody>\n",
       "</table>\n",
       "</div>"
      ],
      "text/plain": [
       "  class   Alcohol   Malic acid       Ash   Alcalinity of ash   Magnesium  \\\n",
       "0     1  0.842105     0.191700  0.572193            0.257732    0.619565   \n",
       "1     1  0.571053     0.205534  0.417112            0.030928    0.326087   \n",
       "2     1  0.560526     0.320158  0.700535            0.412371    0.336957   \n",
       "3     1  0.878947     0.239130  0.609626            0.319588    0.467391   \n",
       "4     1  0.581579     0.365613  0.807487            0.536082    0.521739   \n",
       "\n",
       "    Total phenols   Flavanoids   Nonflavanoid phenols   Proanthocyanins  \\\n",
       "0        0.627586     0.573840               0.283019          0.593060   \n",
       "1        0.575862     0.510549               0.245283          0.274448   \n",
       "2        0.627586     0.611814               0.320755          0.757098   \n",
       "3        0.989655     0.664557               0.207547          0.558360   \n",
       "4        0.627586     0.495781               0.490566          0.444795   \n",
       "\n",
       "    Color intensity       Hue   OD2 80/OD315 of diluted wines   Proline  \n",
       "0          0.372014  0.455285                        0.970696  0.561341  \n",
       "1          0.264505  0.463415                        0.780220  0.550642  \n",
       "2          0.375427  0.447154                        0.695971  0.646933  \n",
       "3          0.556314  0.308943                        0.798535  0.857347  \n",
       "4          0.259386  0.455285                        0.608059  0.325963  "
      ]
     },
     "execution_count": 7,
     "metadata": {},
     "output_type": "execute_result"
    }
   ],
   "source": [
    "scaler = MinMaxScaler()\n",
    "wine_data[numerical_columns] = scaler.fit_transform(wine_data[numerical_columns])\n",
    "wine_data.head()"
   ]
  },
  {
   "cell_type": "markdown",
   "metadata": {},
   "source": [
    "5) Выполните замену категориальных признаков; выберите и обоснуйте способ замены;"
   ]
  },
  {
   "cell_type": "code",
   "execution_count": 8,
   "metadata": {},
   "outputs": [
    {
     "name": "stdout",
     "output_type": "stream",
     "text": [
      "class :  ['1' '2' '3']\n"
     ]
    }
   ],
   "source": [
    "for i in categorial_columns:\n",
    "    print(i,': ', wine_data[i].unique())"
   ]
  },
  {
   "cell_type": "code",
   "execution_count": 9,
   "metadata": {},
   "outputs": [
    {
     "name": "stdout",
     "output_type": "stream",
     "text": [
      "(178, 16)\n"
     ]
    },
    {
     "data": {
      "text/html": [
       "<div>\n",
       "<style scoped>\n",
       "    .dataframe tbody tr th:only-of-type {\n",
       "        vertical-align: middle;\n",
       "    }\n",
       "\n",
       "    .dataframe tbody tr th {\n",
       "        vertical-align: top;\n",
       "    }\n",
       "\n",
       "    .dataframe thead th {\n",
       "        text-align: right;\n",
       "    }\n",
       "</style>\n",
       "<table border=\"1\" class=\"dataframe\">\n",
       "  <thead>\n",
       "    <tr style=\"text-align: right;\">\n",
       "      <th></th>\n",
       "      <th>class_1</th>\n",
       "      <th>class_2</th>\n",
       "      <th>class_3</th>\n",
       "      <th>Alcohol</th>\n",
       "      <th>Malic acid</th>\n",
       "      <th>Ash</th>\n",
       "      <th>Alcalinity of ash</th>\n",
       "      <th>Magnesium</th>\n",
       "      <th>Total phenols</th>\n",
       "      <th>Flavanoids</th>\n",
       "      <th>Nonflavanoid phenols</th>\n",
       "      <th>Proanthocyanins</th>\n",
       "      <th>Color intensity</th>\n",
       "      <th>Hue</th>\n",
       "      <th>OD2 80/OD315 of diluted wines</th>\n",
       "      <th>Proline</th>\n",
       "    </tr>\n",
       "  </thead>\n",
       "  <tbody>\n",
       "    <tr>\n",
       "      <th>0</th>\n",
       "      <td>1</td>\n",
       "      <td>0</td>\n",
       "      <td>0</td>\n",
       "      <td>0.842105</td>\n",
       "      <td>0.191700</td>\n",
       "      <td>0.572193</td>\n",
       "      <td>0.257732</td>\n",
       "      <td>0.619565</td>\n",
       "      <td>0.627586</td>\n",
       "      <td>0.573840</td>\n",
       "      <td>0.283019</td>\n",
       "      <td>0.593060</td>\n",
       "      <td>0.372014</td>\n",
       "      <td>0.455285</td>\n",
       "      <td>0.970696</td>\n",
       "      <td>0.561341</td>\n",
       "    </tr>\n",
       "    <tr>\n",
       "      <th>1</th>\n",
       "      <td>1</td>\n",
       "      <td>0</td>\n",
       "      <td>0</td>\n",
       "      <td>0.571053</td>\n",
       "      <td>0.205534</td>\n",
       "      <td>0.417112</td>\n",
       "      <td>0.030928</td>\n",
       "      <td>0.326087</td>\n",
       "      <td>0.575862</td>\n",
       "      <td>0.510549</td>\n",
       "      <td>0.245283</td>\n",
       "      <td>0.274448</td>\n",
       "      <td>0.264505</td>\n",
       "      <td>0.463415</td>\n",
       "      <td>0.780220</td>\n",
       "      <td>0.550642</td>\n",
       "    </tr>\n",
       "    <tr>\n",
       "      <th>2</th>\n",
       "      <td>1</td>\n",
       "      <td>0</td>\n",
       "      <td>0</td>\n",
       "      <td>0.560526</td>\n",
       "      <td>0.320158</td>\n",
       "      <td>0.700535</td>\n",
       "      <td>0.412371</td>\n",
       "      <td>0.336957</td>\n",
       "      <td>0.627586</td>\n",
       "      <td>0.611814</td>\n",
       "      <td>0.320755</td>\n",
       "      <td>0.757098</td>\n",
       "      <td>0.375427</td>\n",
       "      <td>0.447154</td>\n",
       "      <td>0.695971</td>\n",
       "      <td>0.646933</td>\n",
       "    </tr>\n",
       "    <tr>\n",
       "      <th>3</th>\n",
       "      <td>1</td>\n",
       "      <td>0</td>\n",
       "      <td>0</td>\n",
       "      <td>0.878947</td>\n",
       "      <td>0.239130</td>\n",
       "      <td>0.609626</td>\n",
       "      <td>0.319588</td>\n",
       "      <td>0.467391</td>\n",
       "      <td>0.989655</td>\n",
       "      <td>0.664557</td>\n",
       "      <td>0.207547</td>\n",
       "      <td>0.558360</td>\n",
       "      <td>0.556314</td>\n",
       "      <td>0.308943</td>\n",
       "      <td>0.798535</td>\n",
       "      <td>0.857347</td>\n",
       "    </tr>\n",
       "    <tr>\n",
       "      <th>4</th>\n",
       "      <td>1</td>\n",
       "      <td>0</td>\n",
       "      <td>0</td>\n",
       "      <td>0.581579</td>\n",
       "      <td>0.365613</td>\n",
       "      <td>0.807487</td>\n",
       "      <td>0.536082</td>\n",
       "      <td>0.521739</td>\n",
       "      <td>0.627586</td>\n",
       "      <td>0.495781</td>\n",
       "      <td>0.490566</td>\n",
       "      <td>0.444795</td>\n",
       "      <td>0.259386</td>\n",
       "      <td>0.455285</td>\n",
       "      <td>0.608059</td>\n",
       "      <td>0.325963</td>\n",
       "    </tr>\n",
       "  </tbody>\n",
       "</table>\n",
       "</div>"
      ],
      "text/plain": [
       "   class_1  class_2  class_3   Alcohol   Malic acid       Ash  \\\n",
       "0        1        0        0  0.842105     0.191700  0.572193   \n",
       "1        1        0        0  0.571053     0.205534  0.417112   \n",
       "2        1        0        0  0.560526     0.320158  0.700535   \n",
       "3        1        0        0  0.878947     0.239130  0.609626   \n",
       "4        1        0        0  0.581579     0.365613  0.807487   \n",
       "\n",
       "    Alcalinity of ash   Magnesium   Total phenols   Flavanoids  \\\n",
       "0            0.257732    0.619565        0.627586     0.573840   \n",
       "1            0.030928    0.326087        0.575862     0.510549   \n",
       "2            0.412371    0.336957        0.627586     0.611814   \n",
       "3            0.319588    0.467391        0.989655     0.664557   \n",
       "4            0.536082    0.521739        0.627586     0.495781   \n",
       "\n",
       "    Nonflavanoid phenols   Proanthocyanins   Color intensity       Hue  \\\n",
       "0               0.283019          0.593060          0.372014  0.455285   \n",
       "1               0.245283          0.274448          0.264505  0.463415   \n",
       "2               0.320755          0.757098          0.375427  0.447154   \n",
       "3               0.207547          0.558360          0.556314  0.308943   \n",
       "4               0.490566          0.444795          0.259386  0.455285   \n",
       "\n",
       "    OD2 80/OD315 of diluted wines   Proline  \n",
       "0                        0.970696  0.561341  \n",
       "1                        0.780220  0.550642  \n",
       "2                        0.695971  0.646933  \n",
       "3                        0.798535  0.857347  \n",
       "4                        0.608059  0.325963  "
      ]
     },
     "execution_count": 9,
     "metadata": {},
     "output_type": "execute_result"
    }
   ],
   "source": [
    "nonbinary_columns = categorial_columns\n",
    "\n",
    "wine_data_nonbinary = pd.get_dummies(wine_data[nonbinary_columns])\n",
    "wine_data.drop(nonbinary_columns, axis=1, inplace=True)\n",
    "wine_data = pd.concat([wine_data_nonbinary, wine_data] , axis=1)\n",
    "\n",
    "print(wine_data.shape)\n",
    "wine_data.head()"
   ]
  },
  {
   "cell_type": "markdown",
   "metadata": {},
   "source": [
    "6) Оцените корреляцию между признаков и удалите те признаки, которые коррелируют с наибольшим числом других (удалять признаки нужно только для линейных методов классификации);"
   ]
  },
  {
   "cell_type": "code",
   "execution_count": 10,
   "metadata": {},
   "outputs": [
    {
     "data": {
      "text/plain": [
       "<matplotlib.axes._subplots.AxesSubplot at 0x138afc58>"
      ]
     },
     "execution_count": 10,
     "metadata": {},
     "output_type": "execute_result"
    },
    {
     "data": {
      "image/png": "[encoded data removed]",
      "text/plain": [
       "<Figure size 432x288 with 2 Axes>"
      ]
     },
     "metadata": {
      "needs_background": "light"
     },
     "output_type": "display_data"
    }
   ],
   "source": [
    "corr_matrix = wine_data.corr()\n",
    "sns.heatmap(corr_matrix)"
   ]
  },
  {
   "cell_type": "markdown",
   "metadata": {},
   "source": [
    "7) Заполните пропущенные значения в данных;"
   ]
  },
  {
   "cell_type": "code",
   "execution_count": 11,
   "metadata": {},
   "outputs": [
    {
     "data": {
      "text/plain": [
       "class_1                           178\n",
       "class_2                           178\n",
       "class_3                           178\n",
       " Alcohol                          178\n",
       " Malic acid                       178\n",
       " Ash                              178\n",
       " Alcalinity of ash                178\n",
       " Magnesium                        178\n",
       " Total phenols                    178\n",
       " Flavanoids                       178\n",
       " Nonflavanoid phenols             178\n",
       " Proanthocyanins                  178\n",
       " Color intensity                  178\n",
       " Hue                              178\n",
       " OD2 80/OD315 of diluted wines    178\n",
       " Proline                          178\n",
       "dtype: int64"
      ]
     },
     "execution_count": 11,
     "metadata": {},
     "output_type": "execute_result"
    }
   ],
   "source": [
    "wine_data.count()"
   ]
  },
  {
   "cell_type": "markdown",
   "metadata": {},
   "source": [
    "Пропуски отсутствуют."
   ]
  },
  {
   "cell_type": "markdown",
   "metadata": {},
   "source": [
    "8) Решите поставленную задачу классификации в соответствии с заданием. При подборе параметров классификатора используйте метод GridSearchCV и перекрёстную проверку (изучите возможные для изменения параметры классификации). Определите схему построения многоклассового классификатора, используемую по умолчанию (опишите используемую схему кодирования, обоснуйте свой выбор). Постройте, если это возможно, многоклассовую классификацию на основе схем «один-против-всех» и «все-против-всех». Оцените точность классификации для каждой их схем. Постройте кривые PR и ROC (для каждого из классов должны быть построены отдельные кривые, а также кривые для микро и макроусреднения метрик качества). Для линейного классификатора используйте регуляризацию."
   ]
  },
  {
   "cell_type": "code",
   "execution_count": 12,
   "metadata": {},
   "outputs": [],
   "source": [
    "data_X, data_Y = wine_data.drop(columns=\"class_2\", axis=1).values, wine_data[\"class_2\"]\n",
    "train_x, test_x, train_y, test_y = train_test_split(data_X, data_Y, test_size=0.3)"
   ]
  },
  {
   "cell_type": "markdown",
   "metadata": {},
   "source": [
    "Классификатор K ближайших соседей"
   ]
  },
  {
   "cell_type": "code",
   "execution_count": 14,
   "metadata": {},
   "outputs": [
    {
     "name": "stdout",
     "output_type": "stream",
     "text": [
      "best: 1.0 , neighbors num: 1\n",
      "Accuracy knn: 1.00000\n"
     ]
    }
   ],
   "source": [
    "knn = KNeighborsClassifier()\n",
    "\n",
    "search = GridSearchCV(knn, {'n_neighbors': [x for x in range(1, 50)]})\n",
    "search.fit(train_x, train_y)\n",
    "\n",
    "n = search.best_estimator_.n_neighbors\n",
    "best = search.best_score_\n",
    "print('best:', best, ', neighbors num:', n, sep=' ')\n",
    "\n",
    "knn = KNeighborsClassifier(n_neighbors=n)\n",
    "knn.fit(train_x, train_y)\n",
    "knn_predict = knn.predict(test_x)\n",
    "print('Accuracy knn: %.5f' % accuracy_score(test_y, knn_predict))"
   ]
  },
  {
   "cell_type": "markdown",
   "metadata": {},
   "source": [
    "Логический классификатор (бинарное решающее дерево)"
   ]
  },
  {
   "cell_type": "code",
   "execution_count": 15,
   "metadata": {},
   "outputs": [
    {
     "name": "stdout",
     "output_type": "stream",
     "text": [
      " best: 0.9596666666666666 \n",
      " at features number: 6 \n",
      " at depth: 10\n",
      " Accuracy dtc: 0.96296\n"
     ]
    }
   ],
   "source": [
    "dtc = DecisionTreeClassifier()\n",
    "params = {'max_depth': list(range(1,12)), 'max_features': list(range(1,12))}\n",
    "\n",
    "dtc_grid = GridSearchCV(dtc, params)\n",
    "dtc_grid.fit (train_x, train_y)\n",
    "\n",
    "best_features = dtc_grid.best_estimator_.max_features\n",
    "best_depth = dtc_grid.best_estimator_.max_depth\n",
    "best_score = dtc_grid.best_score_\n",
    "print(' best:', best_score, \"\\n\", 'at features number:', best_features, \"\\n\", 'at depth:', best_depth)\n",
    "\n",
    "dtc = DecisionTreeClassifier(max_depth=best_depth, max_features=best_features)\n",
    "dtc.fit(train_x, train_y)\n",
    "accuracy_score  = np.mean(test_y == dtc.predict(test_x))\n",
    "print(' Accuracy dtc: %.5f' % accuracy_score)"
   ]
  },
  {
   "cell_type": "markdown",
   "metadata": {},
   "source": [
    "9) Сравните кривые для классификаторов, указанных в задании, сделайте выводы."
   ]
  },
  {
   "cell_type": "markdown",
   "metadata": {},
   "source": [
    "PR графики"
   ]
  },
  {
   "cell_type": "code",
   "execution_count": 20,
   "metadata": {},
   "outputs": [],
   "source": [
    "def addPlotPr(prob, occupancy, label, test):\n",
    "    precision, recall, _ = precision_recall_curve(test, prob[:, occupancy])\n",
    "    aps = average_precision_score(test, prob[:, occupancy])\n",
    "    plt.plot(recall, precision, label='%s PR (area = %f)' % (label, aps))"
   ]
  },
  {
   "cell_type": "code",
   "execution_count": 21,
   "metadata": {},
   "outputs": [],
   "source": [
    "test_y_inversion = [1-y for y in test_y]\n",
    "\n",
    "prob_dtc = dtc.predict_proba(test_x)\n",
    "prob_knn = knn.predict_proba(test_x)"
   ]
  },
  {
   "cell_type": "code",
   "execution_count": 22,
   "metadata": {},
   "outputs": [
    {
     "data": {
      "image/png": "[encoded data removed]",
      "text/plain": [
       "<Figure size 720x576 with 1 Axes>"
      ]
     },
     "metadata": {
      "needs_background": "light"
     },
     "output_type": "display_data"
    }
   ],
   "source": [
    "plt.figure(figsize=(10,8))\n",
    "\n",
    "addPlotPr(prob_knn, 0, 'KNeighbors', test_y_inversion)\n",
    "addPlotPr(prob_dtc, 0, 'DecisionTree', test_y_inversion)\n",
    "\n",
    "plt.xlabel('Recall')\n",
    "plt.ylabel('Precision')\n",
    "plt.xlim([0.0, 1.0])\n",
    "plt.ylim([0.0, 1.0])\n",
    "plt.title('Occupancy = 0')\n",
    "plt.legend(loc=4, fontsize='medium')\n",
    "plt.show()"
   ]
  },
  {
   "cell_type": "code",
   "execution_count": 23,
   "metadata": {},
   "outputs": [
    {
     "data": {
      "image/png": "[encoded data removed]",
      "text/plain": [
       "<Figure size 720x576 with 1 Axes>"
      ]
     },
     "metadata": {
      "needs_background": "light"
     },
     "output_type": "display_data"
    }
   ],
   "source": [
    "plt.figure(figsize=(10,8))\n",
    "\n",
    "addPlotPr(prob_knn, 1, 'KNeighbors', test_y)\n",
    "addPlotPr(prob_dtc, 1, 'DecisionTree', test_y)\n",
    "\n",
    "plt.xlabel('Recall')\n",
    "plt.ylabel('Precision')\n",
    "plt.xlim([0.0, 1.0])\n",
    "plt.ylim([0.0, 1.0])\n",
    "plt.title('Occupancy = 1')\n",
    "plt.legend(loc=4, fontsize='medium')\n",
    "plt.show()"
   ]
  },
  {
   "cell_type": "markdown",
   "metadata": {},
   "source": [
    "ROC графики"
   ]
  },
  {
   "cell_type": "code",
   "execution_count": 24,
   "metadata": {},
   "outputs": [],
   "source": [
    "def addPlotRoc0(prob, label, test):\n",
    "    tpr, fpr, _ = roc_curve(test, prob[:, 0])\n",
    "    roc_auc  = auc(fpr, tpr)\n",
    "    plt.plot(fpr, tpr, label='%s ROC (area = %f)' % (label, roc_auc)) \n",
    "\n",
    "def addPlotRoc1(prob, label, test):\n",
    "    fpr, tpr, _ = roc_curve(test, prob[:, 1])\n",
    "    roc_auc  = auc(fpr, tpr)\n",
    "    plt.plot(fpr, tpr, label='%s ROC (area = %f)' % (label, roc_auc))"
   ]
  },
  {
   "cell_type": "code",
   "execution_count": 26,
   "metadata": {},
   "outputs": [
    {
     "data": {
      "image/png": "[encoded data removed]",
      "text/plain": [
       "<Figure size 720x576 with 1 Axes>"
      ]
     },
     "metadata": {
      "needs_background": "light"
     },
     "output_type": "display_data"
    }
   ],
   "source": [
    "plt.figure(figsize=(10,8))\n",
    "\n",
    "addPlotRoc0(prob_knn, 'KNeighbors', test_y)\n",
    "addPlotRoc0(prob_dtc, 'DecisionTree', test_y)\n",
    "\n",
    "plt.plot([0, 1], [0, 1], 'k--')\n",
    "plt.xlim([0.0, 1.0])\n",
    "plt.ylim([0.0, 1.0])\n",
    "plt.xlabel('False Positive Rate')\n",
    "plt.ylabel('True Positive Rate')\n",
    "plt.legend(loc=4, fontsize='medium')\n",
    "plt.title('Occupancy = 0')\n",
    "plt.show()"
   ]
  },
  {
   "cell_type": "code",
   "execution_count": 27,
   "metadata": {},
   "outputs": [
    {
     "data": {
      "image/png": "[encoded data removed]",
      "text/plain": [
       "<Figure size 720x576 with 1 Axes>"
      ]
     },
     "metadata": {
      "needs_background": "light"
     },
     "output_type": "display_data"
    }
   ],
   "source": [
    "plt.figure(figsize=(10,8))\n",
    "\n",
    "addPlotRoc1(prob_knn, 'KNeighbors', test_y)\n",
    "addPlotRoc1(prob_dtc, 'DecisionTree', test_y)\n",
    "\n",
    "plt.plot([0, 1], [0, 1], 'k--')\n",
    "plt.xlim([0.0, 1.0])\n",
    "plt.ylim([0.0, 1.0])\n",
    "plt.xlabel('False Positive Rate')\n",
    "plt.ylabel('True Positive Rate')\n",
    "plt.legend(loc=4, fontsize='medium')\n",
    "plt.title('Occupancy = 1')\n",
    "plt.show()"
   ]
  }
 ],
 "metadata": {
  "kernelspec": {
   "display_name": "Python 3",
   "language": "python",
   "name": "python3"
  },
  "language_info": {
   "codemirror_mode": {
    "name": "ipython",
    "version": 3
   },
   "file_extension": ".py",
   "mimetype": "text/x-python",
   "name": "python",
   "nbconvert_exporter": "python",
   "pygments_lexer": "ipython3",
   "version": "3.8.0"
  }
 },
 "nbformat": 4,
 "nbformat_minor": 2
}
