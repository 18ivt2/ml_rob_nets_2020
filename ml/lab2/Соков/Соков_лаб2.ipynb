{
 "cells": [
  {
   "cell_type": "markdown",
   "metadata": {},
   "source": [
    "## Лабораторная работа № 2 \"Методы классификации данных\""
   ]
  },
  {
   "cell_type": "markdown",
   "metadata": {},
   "source": [
    "### ФИО студента: Соков Сергей Алексеевич\n",
    "### Группа 18-ИВТ-2 Вариант 18\n",
    "#### Набор данных 6\n",
    "#### Классификаторы 1,3"
   ]
  },
  {
   "cell_type": "markdown",
   "metadata": {},
   "source": [
    "### Задание: occupancy\n",
    "1. Изучить набор данных. Создать описание набора данных на русском языке. Описать признаки, используемые в наборе данных (включить полученные описания в отчёт).\n",
    "2. Удалите дубликаты строк в наборе данных;приведите размер набора данных до и после данной операции;\n",
    "3. Оцените сбалансированность данных по классам (постройте гистограмму). Используйте полученную информацию при выборе метрики оценки качества классификации (PRили ROCкривая)\n",
    "4. Выполните масштабирование количественных признаков;Постройте диаграммы BoxPlotдля признаков до и после масштабирования. Выберите способ масштабирования (например, нормализацию или стандартизацию);\n",
    "5. Выполните замену категориальных признаков; выберите и обоснуйте способ замены;\n",
    "6. Оцените корреляцию между признаков и удалите те признаки, которые коррелируют с наибольшим числом других (удалять признаки нужно только для линейных методов классификации);\n",
    "7. Заполните пропущенные значения в данных;\n",
    "8. Решите поставленную задачу классификации в соответствии с заданием. При подборе параметров классификатора используйте метод GridSearchCVи перекрёстную проверку (изучите возможные для изменения параметры классификации). Определите схему построения многоклассового классификатора, используемую по умолчанию (опишите используемую схему кодирования, обоснуйте свой выбор). Постройте, если это возможно, многоклассовую классификацию на основе схем «один-против-всех» и «все-против-всех».Оцените точность классификации для каждой их схем. Постройте кривые PRи ROC (для каждого из классов должны быть построены отдельные кривые, а также кривые для микро и макроусреднения метрик качества).Для линейного классификатора используйте регуляризацию.\n",
    "9. Сравните кривые для классификаторов, указанных в задании, сделайте выводы."
   ]
  },
  {
   "cell_type": "markdown",
   "metadata": {},
   "source": [
    "### 1. Изучение набора данных \n"
   ]
  },
  {
   "cell_type": "markdown",
   "metadata": {},
   "source": [
    "date time year-month-day hour:minute:second __(Дата год-месяц-день час:минута:секунда)__\n",
    "\n",
    "Temperature, in Celsius __(Температура, в градусах цельсия)__\n",
    "\n",
    "Relative Humidity, % __(Относительная влажность)__\n",
    "\n",
    "Light, in Lux __(Освещенность)__\n",
    "\n",
    "CO2, in ppm __(Миллионная доля C02)__\n",
    "\n",
    "Humidity Ratio, Derived quantity from temperature and relative humidity, in kgwater-vapor/kg-air __(Коэффициент влажности)__\n",
    "\n",
    "Occupancy, 0 or 1, 0 for not occupied, 1 for occupied status __(Заполненность)__"
   ]
  },
  {
   "cell_type": "code",
   "execution_count": 130,
   "metadata": {},
   "outputs": [],
   "source": [
    "%matplotlib inline\n",
    "import pandas as pd\n",
    "import matplotlib.pyplot as plt\n",
    "import numpy as np\n",
    "import seaborn as sns\n",
    "import sklearn as skl\n",
    "from sklearn import preprocessing\n",
    "from sklearn.preprocessing import label_binarize\n",
    "from sklearn.metrics import accuracy_score, precision_recall_curve, average_precision_score, roc_curve, auc\n",
    "from sklearn.neighbors import KNeighborsClassifier\n",
    "from sklearn.model_selection import train_test_split\n",
    "from sklearn.model_selection import GridSearchCV\n",
    "from sklearn.calibration import CalibratedClassifierCV\n",
    "from sklearn.linear_model import Perceptron\n",
    "\n",
    "\n",
    "sns.set(style=\"darkgrid\")\n",
    "plt.style.use('ggplot')  "
   ]
  },
  {
   "cell_type": "code",
   "execution_count": 131,
   "metadata": {},
   "outputs": [
    {
     "data": {
      "text/html": [
       "<div>\n",
       "<style scoped>\n",
       "    .dataframe tbody tr th:only-of-type {\n",
       "        vertical-align: middle;\n",
       "    }\n",
       "\n",
       "    .dataframe tbody tr th {\n",
       "        vertical-align: top;\n",
       "    }\n",
       "\n",
       "    .dataframe thead th {\n",
       "        text-align: right;\n",
       "    }\n",
       "</style>\n",
       "<table border=\"1\" class=\"dataframe\">\n",
       "  <thead>\n",
       "    <tr style=\"text-align: right;\">\n",
       "      <th></th>\n",
       "      <th>date</th>\n",
       "      <th>Temperature</th>\n",
       "      <th>Humidity</th>\n",
       "      <th>Light</th>\n",
       "      <th>CO2</th>\n",
       "      <th>HumidityRatio</th>\n",
       "      <th>Occupancy</th>\n",
       "    </tr>\n",
       "  </thead>\n",
       "  <tbody>\n",
       "    <tr>\n",
       "      <th>1</th>\n",
       "      <td>2015-02-04 17:51:00</td>\n",
       "      <td>23.18</td>\n",
       "      <td>27.2720</td>\n",
       "      <td>426.0</td>\n",
       "      <td>721.250000</td>\n",
       "      <td>0.004793</td>\n",
       "      <td>1</td>\n",
       "    </tr>\n",
       "    <tr>\n",
       "      <th>2</th>\n",
       "      <td>2015-02-04 17:51:59</td>\n",
       "      <td>23.15</td>\n",
       "      <td>27.2675</td>\n",
       "      <td>429.5</td>\n",
       "      <td>714.000000</td>\n",
       "      <td>0.004783</td>\n",
       "      <td>1</td>\n",
       "    </tr>\n",
       "    <tr>\n",
       "      <th>3</th>\n",
       "      <td>2015-02-04 17:53:00</td>\n",
       "      <td>23.15</td>\n",
       "      <td>27.2450</td>\n",
       "      <td>426.0</td>\n",
       "      <td>713.500000</td>\n",
       "      <td>0.004779</td>\n",
       "      <td>1</td>\n",
       "    </tr>\n",
       "    <tr>\n",
       "      <th>4</th>\n",
       "      <td>2015-02-04 17:54:00</td>\n",
       "      <td>23.15</td>\n",
       "      <td>27.2000</td>\n",
       "      <td>426.0</td>\n",
       "      <td>708.250000</td>\n",
       "      <td>0.004772</td>\n",
       "      <td>1</td>\n",
       "    </tr>\n",
       "    <tr>\n",
       "      <th>5</th>\n",
       "      <td>2015-02-04 17:55:00</td>\n",
       "      <td>23.10</td>\n",
       "      <td>27.2000</td>\n",
       "      <td>426.0</td>\n",
       "      <td>704.500000</td>\n",
       "      <td>0.004757</td>\n",
       "      <td>1</td>\n",
       "    </tr>\n",
       "    <tr>\n",
       "      <th>...</th>\n",
       "      <td>...</td>\n",
       "      <td>...</td>\n",
       "      <td>...</td>\n",
       "      <td>...</td>\n",
       "      <td>...</td>\n",
       "      <td>...</td>\n",
       "      <td>...</td>\n",
       "    </tr>\n",
       "    <tr>\n",
       "      <th>8139</th>\n",
       "      <td>2015-02-10 09:29:00</td>\n",
       "      <td>21.05</td>\n",
       "      <td>36.0975</td>\n",
       "      <td>433.0</td>\n",
       "      <td>787.250000</td>\n",
       "      <td>0.005579</td>\n",
       "      <td>1</td>\n",
       "    </tr>\n",
       "    <tr>\n",
       "      <th>8140</th>\n",
       "      <td>2015-02-10 09:29:59</td>\n",
       "      <td>21.05</td>\n",
       "      <td>35.9950</td>\n",
       "      <td>433.0</td>\n",
       "      <td>789.500000</td>\n",
       "      <td>0.005563</td>\n",
       "      <td>1</td>\n",
       "    </tr>\n",
       "    <tr>\n",
       "      <th>8141</th>\n",
       "      <td>2015-02-10 09:30:59</td>\n",
       "      <td>21.10</td>\n",
       "      <td>36.0950</td>\n",
       "      <td>433.0</td>\n",
       "      <td>798.500000</td>\n",
       "      <td>0.005596</td>\n",
       "      <td>1</td>\n",
       "    </tr>\n",
       "    <tr>\n",
       "      <th>8142</th>\n",
       "      <td>2015-02-10 09:32:00</td>\n",
       "      <td>21.10</td>\n",
       "      <td>36.2600</td>\n",
       "      <td>433.0</td>\n",
       "      <td>820.333333</td>\n",
       "      <td>0.005621</td>\n",
       "      <td>1</td>\n",
       "    </tr>\n",
       "    <tr>\n",
       "      <th>8143</th>\n",
       "      <td>2015-02-10 09:33:00</td>\n",
       "      <td>21.10</td>\n",
       "      <td>36.2000</td>\n",
       "      <td>447.0</td>\n",
       "      <td>821.000000</td>\n",
       "      <td>0.005612</td>\n",
       "      <td>1</td>\n",
       "    </tr>\n",
       "  </tbody>\n",
       "</table>\n",
       "<p>8143 rows × 7 columns</p>\n",
       "</div>"
      ],
      "text/plain": [
       "                     date  Temperature  Humidity  Light         CO2  \\\n",
       "1     2015-02-04 17:51:00        23.18   27.2720  426.0  721.250000   \n",
       "2     2015-02-04 17:51:59        23.15   27.2675  429.5  714.000000   \n",
       "3     2015-02-04 17:53:00        23.15   27.2450  426.0  713.500000   \n",
       "4     2015-02-04 17:54:00        23.15   27.2000  426.0  708.250000   \n",
       "5     2015-02-04 17:55:00        23.10   27.2000  426.0  704.500000   \n",
       "...                   ...          ...       ...    ...         ...   \n",
       "8139  2015-02-10 09:29:00        21.05   36.0975  433.0  787.250000   \n",
       "8140  2015-02-10 09:29:59        21.05   35.9950  433.0  789.500000   \n",
       "8141  2015-02-10 09:30:59        21.10   36.0950  433.0  798.500000   \n",
       "8142  2015-02-10 09:32:00        21.10   36.2600  433.0  820.333333   \n",
       "8143  2015-02-10 09:33:00        21.10   36.2000  447.0  821.000000   \n",
       "\n",
       "      HumidityRatio  Occupancy  \n",
       "1          0.004793          1  \n",
       "2          0.004783          1  \n",
       "3          0.004779          1  \n",
       "4          0.004772          1  \n",
       "5          0.004757          1  \n",
       "...             ...        ...  \n",
       "8139       0.005579          1  \n",
       "8140       0.005563          1  \n",
       "8141       0.005596          1  \n",
       "8142       0.005621          1  \n",
       "8143       0.005612          1  \n",
       "\n",
       "[8143 rows x 7 columns]"
      ]
     },
     "execution_count": 131,
     "metadata": {},
     "output_type": "execute_result"
    }
   ],
   "source": [
    "occupancy_df = pd.read_csv('datatraining.txt')\n",
    "occupancy_df"
   ]
  },
  {
   "cell_type": "markdown",
   "metadata": {},
   "source": [
    "### 2.Удалите дубликаты строк в наборе данных; приведите размер набора данных до и после данной операции"
   ]
  },
  {
   "cell_type": "code",
   "execution_count": 132,
   "metadata": {},
   "outputs": [
    {
     "name": "stdout",
     "output_type": "stream",
     "text": [
      "Размер набора до удаления дубликатов: 8143\n"
     ]
    }
   ],
   "source": [
    "print(\"Размер набора до удаления дубликатов:\" ,occupancy_df.count().max())"
   ]
  },
  {
   "cell_type": "code",
   "execution_count": 133,
   "metadata": {},
   "outputs": [
    {
     "name": "stdout",
     "output_type": "stream",
     "text": [
      "Размер набора после дубликатов: 8143\n"
     ]
    }
   ],
   "source": [
    "occupancy_df.drop_duplicates(inplace = True)\n",
    "print(\"Размер набора после дубликатов:\" ,occupancy_df.count().max())"
   ]
  },
  {
   "cell_type": "markdown",
   "metadata": {},
   "source": [
    "Дубликатов не обнаружено"
   ]
  },
  {
   "cell_type": "markdown",
   "metadata": {},
   "source": [
    "### 3.Оцените сбалансированность данных по классам (постройте гистограмму). Используйте полученную информацию при выборе метрики оценки качества классификации (PR или ROC кривая)"
   ]
  },
  {
   "cell_type": "code",
   "execution_count": 134,
   "metadata": {},
   "outputs": [
    {
     "data": {
      "text/plain": [
       "<matplotlib.axes._subplots.AxesSubplot at 0x622d450>"
      ]
     },
     "execution_count": 134,
     "metadata": {},
     "output_type": "execute_result"
    },
    {
     "data": {
      "image/png": "[encoded data removed]",
      "text/plain": [
       "<Figure size 432x288 with 1 Axes>"
      ]
     },
     "metadata": {},
     "output_type": "display_data"
    }
   ],
   "source": [
    "occupancy_df.groupby([\"Occupancy\"])[\"Occupancy\"].count().plot(kind='bar')"
   ]
  },
  {
   "cell_type": "markdown",
   "metadata": {},
   "source": [
    "### 4. Выполните масштабирование количественных признаков"
   ]
  },
  {
   "cell_type": "code",
   "execution_count": 135,
   "metadata": {},
   "outputs": [
    {
     "name": "stdout",
     "output_type": "stream",
     "text": [
      "numerical:  ['Temperature', 'Humidity', 'Light', 'CO2', 'HumidityRatio']\n"
     ]
    }
   ],
   "source": [
    "numerical_columns = [i for i in occupancy_df.columns if occupancy_df[i].dtype.name != 'object' and occupancy_df[i].name != \"Occupancy\"]\n",
    "print('numerical: ', numerical_columns)"
   ]
  },
  {
   "cell_type": "code",
   "execution_count": 136,
   "metadata": {},
   "outputs": [
    {
     "data": {
      "text/plain": [
       "<matplotlib.axes._subplots.AxesSubplot at 0x63ca930>"
      ]
     },
     "execution_count": 136,
     "metadata": {},
     "output_type": "execute_result"
    },
    {
     "data": {
      "image/png": "[encoded data removed]",
      "text/plain": [
       "<Figure size 432x288 with 1 Axes>"
      ]
     },
     "metadata": {},
     "output_type": "display_data"
    }
   ],
   "source": [
    "sns.boxplot(data=occupancy_df[numerical_columns]) "
   ]
  },
  {
   "cell_type": "code",
   "execution_count": 137,
   "metadata": {},
   "outputs": [
    {
     "data": {
      "image/png": "[encoded data removed]",
      "text/plain": [
       "<Figure size 432x288 with 1 Axes>"
      ]
     },
     "metadata": {},
     "output_type": "display_data"
    }
   ],
   "source": [
    "scaler = preprocessing.MinMaxScaler()\n",
    "occupancy_df[numerical_columns] = scaler.fit_transform(occupancy_df[numerical_columns].values.astype(float))\n",
    "sns.boxplot(data=occupancy_df[numerical_columns])\n",
    "plt.show()"
   ]
  },
  {
   "cell_type": "code",
   "execution_count": 138,
   "metadata": {},
   "outputs": [
    {
     "data": {
      "text/html": [
       "<div>\n",
       "<style scoped>\n",
       "    .dataframe tbody tr th:only-of-type {\n",
       "        vertical-align: middle;\n",
       "    }\n",
       "\n",
       "    .dataframe tbody tr th {\n",
       "        vertical-align: top;\n",
       "    }\n",
       "\n",
       "    .dataframe thead th {\n",
       "        text-align: right;\n",
       "    }\n",
       "</style>\n",
       "<table border=\"1\" class=\"dataframe\">\n",
       "  <thead>\n",
       "    <tr style=\"text-align: right;\">\n",
       "      <th></th>\n",
       "      <th>date</th>\n",
       "      <th>Temperature</th>\n",
       "      <th>Humidity</th>\n",
       "      <th>Light</th>\n",
       "      <th>CO2</th>\n",
       "      <th>HumidityRatio</th>\n",
       "      <th>Occupancy</th>\n",
       "    </tr>\n",
       "  </thead>\n",
       "  <tbody>\n",
       "    <tr>\n",
       "      <th>1</th>\n",
       "      <td>2015-02-04 17:51:00</td>\n",
       "      <td>1.000000</td>\n",
       "      <td>0.470533</td>\n",
       "      <td>0.275490</td>\n",
       "      <td>0.190933</td>\n",
       "      <td>0.557318</td>\n",
       "      <td>1</td>\n",
       "    </tr>\n",
       "    <tr>\n",
       "      <th>2</th>\n",
       "      <td>2015-02-04 17:51:59</td>\n",
       "      <td>0.992823</td>\n",
       "      <td>0.470332</td>\n",
       "      <td>0.277754</td>\n",
       "      <td>0.186446</td>\n",
       "      <td>0.554807</td>\n",
       "      <td>1</td>\n",
       "    </tr>\n",
       "    <tr>\n",
       "      <th>3</th>\n",
       "      <td>2015-02-04 17:53:00</td>\n",
       "      <td>0.992823</td>\n",
       "      <td>0.469326</td>\n",
       "      <td>0.275490</td>\n",
       "      <td>0.186136</td>\n",
       "      <td>0.553761</td>\n",
       "      <td>1</td>\n",
       "    </tr>\n",
       "    <tr>\n",
       "      <th>4</th>\n",
       "      <td>2015-02-04 17:54:00</td>\n",
       "      <td>0.992823</td>\n",
       "      <td>0.467315</td>\n",
       "      <td>0.275490</td>\n",
       "      <td>0.182887</td>\n",
       "      <td>0.551669</td>\n",
       "      <td>1</td>\n",
       "    </tr>\n",
       "    <tr>\n",
       "      <th>5</th>\n",
       "      <td>2015-02-04 17:55:00</td>\n",
       "      <td>0.980861</td>\n",
       "      <td>0.467315</td>\n",
       "      <td>0.275490</td>\n",
       "      <td>0.180566</td>\n",
       "      <td>0.547851</td>\n",
       "      <td>1</td>\n",
       "    </tr>\n",
       "    <tr>\n",
       "      <th>...</th>\n",
       "      <td>...</td>\n",
       "      <td>...</td>\n",
       "      <td>...</td>\n",
       "      <td>...</td>\n",
       "      <td>...</td>\n",
       "      <td>...</td>\n",
       "      <td>...</td>\n",
       "    </tr>\n",
       "    <tr>\n",
       "      <th>8139</th>\n",
       "      <td>2015-02-10 09:29:00</td>\n",
       "      <td>0.490431</td>\n",
       "      <td>0.865013</td>\n",
       "      <td>0.280017</td>\n",
       "      <td>0.231781</td>\n",
       "      <td>0.763986</td>\n",
       "      <td>1</td>\n",
       "    </tr>\n",
       "    <tr>\n",
       "      <th>8140</th>\n",
       "      <td>2015-02-10 09:29:59</td>\n",
       "      <td>0.490431</td>\n",
       "      <td>0.860431</td>\n",
       "      <td>0.280017</td>\n",
       "      <td>0.233173</td>\n",
       "      <td>0.759782</td>\n",
       "      <td>1</td>\n",
       "    </tr>\n",
       "    <tr>\n",
       "      <th>8141</th>\n",
       "      <td>2015-02-10 09:30:59</td>\n",
       "      <td>0.502392</td>\n",
       "      <td>0.864901</td>\n",
       "      <td>0.280017</td>\n",
       "      <td>0.238744</td>\n",
       "      <td>0.768438</td>\n",
       "      <td>1</td>\n",
       "    </tr>\n",
       "    <tr>\n",
       "      <th>8142</th>\n",
       "      <td>2015-02-10 09:32:00</td>\n",
       "      <td>0.502392</td>\n",
       "      <td>0.872276</td>\n",
       "      <td>0.280017</td>\n",
       "      <td>0.252256</td>\n",
       "      <td>0.775226</td>\n",
       "      <td>1</td>\n",
       "    </tr>\n",
       "    <tr>\n",
       "      <th>8143</th>\n",
       "      <td>2015-02-10 09:33:00</td>\n",
       "      <td>0.502392</td>\n",
       "      <td>0.869594</td>\n",
       "      <td>0.289071</td>\n",
       "      <td>0.252669</td>\n",
       "      <td>0.772758</td>\n",
       "      <td>1</td>\n",
       "    </tr>\n",
       "  </tbody>\n",
       "</table>\n",
       "<p>8143 rows × 7 columns</p>\n",
       "</div>"
      ],
      "text/plain": [
       "                     date  Temperature  Humidity     Light       CO2  \\\n",
       "1     2015-02-04 17:51:00     1.000000  0.470533  0.275490  0.190933   \n",
       "2     2015-02-04 17:51:59     0.992823  0.470332  0.277754  0.186446   \n",
       "3     2015-02-04 17:53:00     0.992823  0.469326  0.275490  0.186136   \n",
       "4     2015-02-04 17:54:00     0.992823  0.467315  0.275490  0.182887   \n",
       "5     2015-02-04 17:55:00     0.980861  0.467315  0.275490  0.180566   \n",
       "...                   ...          ...       ...       ...       ...   \n",
       "8139  2015-02-10 09:29:00     0.490431  0.865013  0.280017  0.231781   \n",
       "8140  2015-02-10 09:29:59     0.490431  0.860431  0.280017  0.233173   \n",
       "8141  2015-02-10 09:30:59     0.502392  0.864901  0.280017  0.238744   \n",
       "8142  2015-02-10 09:32:00     0.502392  0.872276  0.280017  0.252256   \n",
       "8143  2015-02-10 09:33:00     0.502392  0.869594  0.289071  0.252669   \n",
       "\n",
       "      HumidityRatio  Occupancy  \n",
       "1          0.557318          1  \n",
       "2          0.554807          1  \n",
       "3          0.553761          1  \n",
       "4          0.551669          1  \n",
       "5          0.547851          1  \n",
       "...             ...        ...  \n",
       "8139       0.763986          1  \n",
       "8140       0.759782          1  \n",
       "8141       0.768438          1  \n",
       "8142       0.775226          1  \n",
       "8143       0.772758          1  \n",
       "\n",
       "[8143 rows x 7 columns]"
      ]
     },
     "execution_count": 138,
     "metadata": {},
     "output_type": "execute_result"
    }
   ],
   "source": [
    "occupancy_df"
   ]
  },
  {
   "cell_type": "markdown",
   "metadata": {},
   "source": [
    "### 5.\tВыполните замену категориальных признаков; выберите и обоснуйте способ замены;"
   ]
  },
  {
   "cell_type": "code",
   "execution_count": 139,
   "metadata": {},
   "outputs": [
    {
     "data": {
      "text/html": [
       "<div>\n",
       "<style scoped>\n",
       "    .dataframe tbody tr th:only-of-type {\n",
       "        vertical-align: middle;\n",
       "    }\n",
       "\n",
       "    .dataframe tbody tr th {\n",
       "        vertical-align: top;\n",
       "    }\n",
       "\n",
       "    .dataframe thead th {\n",
       "        text-align: right;\n",
       "    }\n",
       "</style>\n",
       "<table border=\"1\" class=\"dataframe\">\n",
       "  <thead>\n",
       "    <tr style=\"text-align: right;\">\n",
       "      <th></th>\n",
       "      <th>date</th>\n",
       "      <th>Temperature</th>\n",
       "      <th>Humidity</th>\n",
       "      <th>Light</th>\n",
       "      <th>CO2</th>\n",
       "      <th>HumidityRatio</th>\n",
       "      <th>Occupancy_0</th>\n",
       "      <th>Occupancy_1</th>\n",
       "    </tr>\n",
       "  </thead>\n",
       "  <tbody>\n",
       "    <tr>\n",
       "      <th>1</th>\n",
       "      <td>2015-02-04 17:51:00</td>\n",
       "      <td>1.000000</td>\n",
       "      <td>0.470533</td>\n",
       "      <td>0.275490</td>\n",
       "      <td>0.190933</td>\n",
       "      <td>0.557318</td>\n",
       "      <td>0</td>\n",
       "      <td>1</td>\n",
       "    </tr>\n",
       "    <tr>\n",
       "      <th>2</th>\n",
       "      <td>2015-02-04 17:51:59</td>\n",
       "      <td>0.992823</td>\n",
       "      <td>0.470332</td>\n",
       "      <td>0.277754</td>\n",
       "      <td>0.186446</td>\n",
       "      <td>0.554807</td>\n",
       "      <td>0</td>\n",
       "      <td>1</td>\n",
       "    </tr>\n",
       "    <tr>\n",
       "      <th>3</th>\n",
       "      <td>2015-02-04 17:53:00</td>\n",
       "      <td>0.992823</td>\n",
       "      <td>0.469326</td>\n",
       "      <td>0.275490</td>\n",
       "      <td>0.186136</td>\n",
       "      <td>0.553761</td>\n",
       "      <td>0</td>\n",
       "      <td>1</td>\n",
       "    </tr>\n",
       "    <tr>\n",
       "      <th>4</th>\n",
       "      <td>2015-02-04 17:54:00</td>\n",
       "      <td>0.992823</td>\n",
       "      <td>0.467315</td>\n",
       "      <td>0.275490</td>\n",
       "      <td>0.182887</td>\n",
       "      <td>0.551669</td>\n",
       "      <td>0</td>\n",
       "      <td>1</td>\n",
       "    </tr>\n",
       "    <tr>\n",
       "      <th>5</th>\n",
       "      <td>2015-02-04 17:55:00</td>\n",
       "      <td>0.980861</td>\n",
       "      <td>0.467315</td>\n",
       "      <td>0.275490</td>\n",
       "      <td>0.180566</td>\n",
       "      <td>0.547851</td>\n",
       "      <td>0</td>\n",
       "      <td>1</td>\n",
       "    </tr>\n",
       "    <tr>\n",
       "      <th>...</th>\n",
       "      <td>...</td>\n",
       "      <td>...</td>\n",
       "      <td>...</td>\n",
       "      <td>...</td>\n",
       "      <td>...</td>\n",
       "      <td>...</td>\n",
       "      <td>...</td>\n",
       "      <td>...</td>\n",
       "    </tr>\n",
       "    <tr>\n",
       "      <th>8139</th>\n",
       "      <td>2015-02-10 09:29:00</td>\n",
       "      <td>0.490431</td>\n",
       "      <td>0.865013</td>\n",
       "      <td>0.280017</td>\n",
       "      <td>0.231781</td>\n",
       "      <td>0.763986</td>\n",
       "      <td>0</td>\n",
       "      <td>1</td>\n",
       "    </tr>\n",
       "    <tr>\n",
       "      <th>8140</th>\n",
       "      <td>2015-02-10 09:29:59</td>\n",
       "      <td>0.490431</td>\n",
       "      <td>0.860431</td>\n",
       "      <td>0.280017</td>\n",
       "      <td>0.233173</td>\n",
       "      <td>0.759782</td>\n",
       "      <td>0</td>\n",
       "      <td>1</td>\n",
       "    </tr>\n",
       "    <tr>\n",
       "      <th>8141</th>\n",
       "      <td>2015-02-10 09:30:59</td>\n",
       "      <td>0.502392</td>\n",
       "      <td>0.864901</td>\n",
       "      <td>0.280017</td>\n",
       "      <td>0.238744</td>\n",
       "      <td>0.768438</td>\n",
       "      <td>0</td>\n",
       "      <td>1</td>\n",
       "    </tr>\n",
       "    <tr>\n",
       "      <th>8142</th>\n",
       "      <td>2015-02-10 09:32:00</td>\n",
       "      <td>0.502392</td>\n",
       "      <td>0.872276</td>\n",
       "      <td>0.280017</td>\n",
       "      <td>0.252256</td>\n",
       "      <td>0.775226</td>\n",
       "      <td>0</td>\n",
       "      <td>1</td>\n",
       "    </tr>\n",
       "    <tr>\n",
       "      <th>8143</th>\n",
       "      <td>2015-02-10 09:33:00</td>\n",
       "      <td>0.502392</td>\n",
       "      <td>0.869594</td>\n",
       "      <td>0.289071</td>\n",
       "      <td>0.252669</td>\n",
       "      <td>0.772758</td>\n",
       "      <td>0</td>\n",
       "      <td>1</td>\n",
       "    </tr>\n",
       "  </tbody>\n",
       "</table>\n",
       "<p>8143 rows × 8 columns</p>\n",
       "</div>"
      ],
      "text/plain": [
       "                     date  Temperature  Humidity     Light       CO2  \\\n",
       "1     2015-02-04 17:51:00     1.000000  0.470533  0.275490  0.190933   \n",
       "2     2015-02-04 17:51:59     0.992823  0.470332  0.277754  0.186446   \n",
       "3     2015-02-04 17:53:00     0.992823  0.469326  0.275490  0.186136   \n",
       "4     2015-02-04 17:54:00     0.992823  0.467315  0.275490  0.182887   \n",
       "5     2015-02-04 17:55:00     0.980861  0.467315  0.275490  0.180566   \n",
       "...                   ...          ...       ...       ...       ...   \n",
       "8139  2015-02-10 09:29:00     0.490431  0.865013  0.280017  0.231781   \n",
       "8140  2015-02-10 09:29:59     0.490431  0.860431  0.280017  0.233173   \n",
       "8141  2015-02-10 09:30:59     0.502392  0.864901  0.280017  0.238744   \n",
       "8142  2015-02-10 09:32:00     0.502392  0.872276  0.280017  0.252256   \n",
       "8143  2015-02-10 09:33:00     0.502392  0.869594  0.289071  0.252669   \n",
       "\n",
       "      HumidityRatio  Occupancy_0  Occupancy_1  \n",
       "1          0.557318            0            1  \n",
       "2          0.554807            0            1  \n",
       "3          0.553761            0            1  \n",
       "4          0.551669            0            1  \n",
       "5          0.547851            0            1  \n",
       "...             ...          ...          ...  \n",
       "8139       0.763986            0            1  \n",
       "8140       0.759782            0            1  \n",
       "8141       0.768438            0            1  \n",
       "8142       0.775226            0            1  \n",
       "8143       0.772758            0            1  \n",
       "\n",
       "[8143 rows x 8 columns]"
      ]
     },
     "execution_count": 139,
     "metadata": {},
     "output_type": "execute_result"
    }
   ],
   "source": [
    "occupancy_df = pd.get_dummies(occupancy_df,columns = ['Occupancy'])\n",
    "occupancy_df"
   ]
  },
  {
   "cell_type": "markdown",
   "metadata": {},
   "source": [
    "### 6. Оцените корреляцию между признаков и удалите те признаки, которые коррелируют с наибольшим числом других (удалять признаки нужно только для линейных методов классификации¶"
   ]
  },
  {
   "cell_type": "code",
   "execution_count": 140,
   "metadata": {},
   "outputs": [
    {
     "data": {
      "image/png": "[encoded data removed]",
      "text/plain": [
       "<Figure size 432x288 with 2 Axes>"
      ]
     },
     "metadata": {},
     "output_type": "display_data"
    }
   ],
   "source": [
    "sns.heatmap(occupancy_df.corr(),annot = True, fmt = '.1f', linewidths = .5);"
   ]
  },
  {
   "cell_type": "code",
   "execution_count": 141,
   "metadata": {},
   "outputs": [],
   "source": [
    "occupancy_df.drop(['HumidityRatio','date'], axis=1 ,inplace = True)"
   ]
  },
  {
   "cell_type": "markdown",
   "metadata": {},
   "source": [
    "### 7. Заполните пропущенные значения в данных;"
   ]
  },
  {
   "cell_type": "code",
   "execution_count": 142,
   "metadata": {},
   "outputs": [
    {
     "data": {
      "text/html": [
       "<div>\n",
       "<style scoped>\n",
       "    .dataframe tbody tr th:only-of-type {\n",
       "        vertical-align: middle;\n",
       "    }\n",
       "\n",
       "    .dataframe tbody tr th {\n",
       "        vertical-align: top;\n",
       "    }\n",
       "\n",
       "    .dataframe thead th {\n",
       "        text-align: right;\n",
       "    }\n",
       "</style>\n",
       "<table border=\"1\" class=\"dataframe\">\n",
       "  <thead>\n",
       "    <tr style=\"text-align: right;\">\n",
       "      <th></th>\n",
       "      <th>Temperature</th>\n",
       "      <th>Humidity</th>\n",
       "      <th>Light</th>\n",
       "      <th>CO2</th>\n",
       "      <th>Occupancy_0</th>\n",
       "      <th>Occupancy_1</th>\n",
       "    </tr>\n",
       "  </thead>\n",
       "  <tbody>\n",
       "    <tr>\n",
       "      <th>1</th>\n",
       "      <td>1.000000</td>\n",
       "      <td>0.470533</td>\n",
       "      <td>0.275490</td>\n",
       "      <td>0.190933</td>\n",
       "      <td>0</td>\n",
       "      <td>1</td>\n",
       "    </tr>\n",
       "    <tr>\n",
       "      <th>2</th>\n",
       "      <td>0.992823</td>\n",
       "      <td>0.470332</td>\n",
       "      <td>0.277754</td>\n",
       "      <td>0.186446</td>\n",
       "      <td>0</td>\n",
       "      <td>1</td>\n",
       "    </tr>\n",
       "    <tr>\n",
       "      <th>3</th>\n",
       "      <td>0.992823</td>\n",
       "      <td>0.469326</td>\n",
       "      <td>0.275490</td>\n",
       "      <td>0.186136</td>\n",
       "      <td>0</td>\n",
       "      <td>1</td>\n",
       "    </tr>\n",
       "    <tr>\n",
       "      <th>4</th>\n",
       "      <td>0.992823</td>\n",
       "      <td>0.467315</td>\n",
       "      <td>0.275490</td>\n",
       "      <td>0.182887</td>\n",
       "      <td>0</td>\n",
       "      <td>1</td>\n",
       "    </tr>\n",
       "    <tr>\n",
       "      <th>5</th>\n",
       "      <td>0.980861</td>\n",
       "      <td>0.467315</td>\n",
       "      <td>0.275490</td>\n",
       "      <td>0.180566</td>\n",
       "      <td>0</td>\n",
       "      <td>1</td>\n",
       "    </tr>\n",
       "    <tr>\n",
       "      <th>...</th>\n",
       "      <td>...</td>\n",
       "      <td>...</td>\n",
       "      <td>...</td>\n",
       "      <td>...</td>\n",
       "      <td>...</td>\n",
       "      <td>...</td>\n",
       "    </tr>\n",
       "    <tr>\n",
       "      <th>8139</th>\n",
       "      <td>0.490431</td>\n",
       "      <td>0.865013</td>\n",
       "      <td>0.280017</td>\n",
       "      <td>0.231781</td>\n",
       "      <td>0</td>\n",
       "      <td>1</td>\n",
       "    </tr>\n",
       "    <tr>\n",
       "      <th>8140</th>\n",
       "      <td>0.490431</td>\n",
       "      <td>0.860431</td>\n",
       "      <td>0.280017</td>\n",
       "      <td>0.233173</td>\n",
       "      <td>0</td>\n",
       "      <td>1</td>\n",
       "    </tr>\n",
       "    <tr>\n",
       "      <th>8141</th>\n",
       "      <td>0.502392</td>\n",
       "      <td>0.864901</td>\n",
       "      <td>0.280017</td>\n",
       "      <td>0.238744</td>\n",
       "      <td>0</td>\n",
       "      <td>1</td>\n",
       "    </tr>\n",
       "    <tr>\n",
       "      <th>8142</th>\n",
       "      <td>0.502392</td>\n",
       "      <td>0.872276</td>\n",
       "      <td>0.280017</td>\n",
       "      <td>0.252256</td>\n",
       "      <td>0</td>\n",
       "      <td>1</td>\n",
       "    </tr>\n",
       "    <tr>\n",
       "      <th>8143</th>\n",
       "      <td>0.502392</td>\n",
       "      <td>0.869594</td>\n",
       "      <td>0.289071</td>\n",
       "      <td>0.252669</td>\n",
       "      <td>0</td>\n",
       "      <td>1</td>\n",
       "    </tr>\n",
       "  </tbody>\n",
       "</table>\n",
       "<p>8143 rows × 6 columns</p>\n",
       "</div>"
      ],
      "text/plain": [
       "      Temperature  Humidity     Light       CO2  Occupancy_0  Occupancy_1\n",
       "1        1.000000  0.470533  0.275490  0.190933            0            1\n",
       "2        0.992823  0.470332  0.277754  0.186446            0            1\n",
       "3        0.992823  0.469326  0.275490  0.186136            0            1\n",
       "4        0.992823  0.467315  0.275490  0.182887            0            1\n",
       "5        0.980861  0.467315  0.275490  0.180566            0            1\n",
       "...           ...       ...       ...       ...          ...          ...\n",
       "8139     0.490431  0.865013  0.280017  0.231781            0            1\n",
       "8140     0.490431  0.860431  0.280017  0.233173            0            1\n",
       "8141     0.502392  0.864901  0.280017  0.238744            0            1\n",
       "8142     0.502392  0.872276  0.280017  0.252256            0            1\n",
       "8143     0.502392  0.869594  0.289071  0.252669            0            1\n",
       "\n",
       "[8143 rows x 6 columns]"
      ]
     },
     "execution_count": 142,
     "metadata": {},
     "output_type": "execute_result"
    }
   ],
   "source": [
    "occupancy_df.dropna()"
   ]
  },
  {
   "cell_type": "markdown",
   "metadata": {},
   "source": [
    "Нет пробелов в данных"
   ]
  },
  {
   "cell_type": "markdown",
   "metadata": {},
   "source": [
    "### 8. Решите поставленную задачу классификации в соответствии с заданием. При подборе параметров классификатора используйте метод GridSearchCV и перекрёстную проверку (изучите возможные для изменения параметры классификации). Определите схему построения многоклассового классификатора, используемую по умолчанию (опишите используемую схему кодирования, обоснуйте свой выбор). Постройте, если это возможно, многоклассовую классификацию на основе схем «один-против-всех» и «все-против-всех». Оцените точность классификации для каждой их схем. Постройте кривые PR и ROC (для каждого из классов должны быть построены отдельные кривые, а также кривые для микро и макроусреднения метрик качества). Для линейного классификатора используйте регуляризацию. "
   ]
  },
  {
   "cell_type": "code",
   "execution_count": 308,
   "metadata": {},
   "outputs": [
    {
     "name": "stdout",
     "output_type": "stream",
     "text": [
      "Index(['Temperature', 'Humidity', 'Light', 'CO2', 'Occupancy_0'], dtype='object')\n"
     ]
    }
   ],
   "source": [
    "x = occupancy_df.drop(('Occupancy_0'), axis=1)  # Выбрасываем столбец 'Occupancy_1'.\n",
    "y = occupancy_df['Occupancy_0']\n",
    "feature_names = X.columns\n",
    "print(feature_names)\n",
    "x_train, x_test, y_train, y_test = train_test_split(x, y, test_size = 0.3, random_state = 11)\n"
   ]
  },
  {
   "cell_type": "markdown",
   "metadata": {},
   "source": [
    "#### Классификатор K ближайших соседей (задаётся количество ближайших объектов)"
   ]
  },
  {
   "cell_type": "code",
   "execution_count": 309,
   "metadata": {},
   "outputs": [
    {
     "data": {
      "text/plain": [
       "KNeighborsClassifier(algorithm='auto', leaf_size=30, metric='minkowski',\n",
       "                     metric_params=None, n_jobs=None, n_neighbors=5, p=2,\n",
       "                     weights='uniform')"
      ]
     },
     "execution_count": 309,
     "metadata": {},
     "output_type": "execute_result"
    }
   ],
   "source": [
    "knn = KNeighborsClassifier()\n",
    "knn.fit(x_train, y_train)"
   ]
  },
  {
   "cell_type": "code",
   "execution_count": 310,
   "metadata": {},
   "outputs": [
    {
     "name": "stdout",
     "output_type": "stream",
     "text": [
      "best: 1.0, neighbors num: 1\n",
      "Accuracy knn: 1.00000\n"
     ]
    }
   ],
   "source": [
    "parameters = {'n_neighbors':[1,10,15]}\n",
    "grid = GridSearchCV(knn,parameters)\n",
    "grid = grid.fit(X_train,y_train)\n",
    "K = grid.best_estimator_.n_neighbors\n",
    "best = grid.best_score_\n",
    "print('best: ', best, ', neighbors num: ', K, sep='')\n",
    "\n",
    "knc = KNeighborsClassifier(n_neighbors = K)\n",
    "knc.fit(x_train,y_train)\n",
    "knc_predict = knc.predict(x_test)\n",
    "print('Accuracy knn: %.5f' % accuracy_score(y_test, knc_predict))"
   ]
  },
  {
   "cell_type": "markdown",
   "metadata": {},
   "source": [
    "#### Клинейный классификатор (персептрон);"
   ]
  },
  {
   "cell_type": "code",
   "execution_count": 311,
   "metadata": {},
   "outputs": [
    {
     "name": "stdout",
     "output_type": "stream",
     "text": [
      "accuracy: 1.0\n",
      "best: 1.0\n"
     ]
    }
   ],
   "source": [
    "ppn = Perceptron()\n",
    "parameters_pnn = {'alpha': np.linspace(0, 1, 50)[1:]}\n",
    "grid_ppn = GridSearchCV(ppn, parameters_pnn,cv = 3) \n",
    "grid_ppn.fit(X_train, y_train)\n",
    "alpha = grid_ppn.best_estimator_.alpha\n",
    "max_iter = grid_ppn.best_estimator_.max_iter\n",
    "\n",
    "ppn = Perceptron(alpha = alpha, max_iter = max_iter)\n",
    "ppn.fit(X_train, y_train)\n",
    "y_score = ppn.predict(X_test)\n",
    "\n",
    "print(\"accuracy:\", accuracy_score(y_test, y_score))\n",
    "print(\"best:\", grid_ppn.best_score_)"
   ]
  },
  {
   "cell_type": "markdown",
   "metadata": {},
   "source": [
    "### PR кривая"
   ]
  },
  {
   "cell_type": "code",
   "execution_count": 312,
   "metadata": {},
   "outputs": [],
   "source": [
    "knn_proba = knc.predict_proba(X_test)\n",
    "ppn_proba =  CalibratedClassifierCV(ppn).fit(x_train, y_train).predict_proba(X_test)"
   ]
  },
  {
   "cell_type": "code",
   "execution_count": 324,
   "metadata": {},
   "outputs": [
    {
     "data": {
      "image/png": "[encoded data removed]",
      "text/plain": [
       "<Figure size 720x576 with 1 Axes>"
      ]
     },
     "metadata": {},
     "output_type": "display_data"
    }
   ],
   "source": [
    "plt.figure(figsize=(10,8))\n",
    "\n",
    "# k соседей\n",
    "precision, recall, _ = precision_recall_curve(y_test, knn_proba[:, 0])\n",
    "aps = average_precision_score(y_test, knn_proba[:, 0])\n",
    "plt.plot(recall, precision, label='%s PR (area = %f)' % ('n_neighbors', aps))\n",
    "\n",
    "# Персептрон\n",
    "precision, recall, _ = precision_recall_curve(y_test, ppn_proba[:,0])\n",
    "aps = average_precision_score(y_test, ppn_proba[:, 0])\n",
    "plt.plot(recall, precision, label='%s PR (area, = %f)' % ('Perseptron', aps))\n",
    "\n",
    "\n",
    "plt.xlabel('Recall')\n",
    "plt.ylabel('Precision')\n",
    "plt.xlim([-0.05, 1.1])\n",
    "plt.ylim([0.0, 1.05])\n",
    "plt.title('not occupied')\n",
    "plt.legend(loc=4, fontsize='medium')\n",
    "plt.show()"
   ]
  },
  {
   "cell_type": "code",
   "execution_count": 325,
   "metadata": {},
   "outputs": [
    {
     "data": {
      "image/png": "[encoded data removed]",
      "text/plain": [
       "<Figure size 720x576 with 1 Axes>"
      ]
     },
     "metadata": {},
     "output_type": "display_data"
    }
   ],
   "source": [
    "plt.figure(figsize=(10,8))\n",
    "# К соседей\n",
    "\n",
    "precision, recall, _ = precision_recall_curve(y_test, knn_proba[:, 1])\n",
    "aps = average_precision_score(y_test, knn_proba[:, 1])\n",
    "plt.plot(recall, precision, label='%s PR (area = %f)' % ('n_neighbors', aps))\n",
    "\n",
    "#Персептрон\n",
    "precision, recall, _ = precision_recall_curve(y_test, ppn_proba[:,1])\n",
    "aps = average_precision_score(y_test, ppn_proba[:, 1])\n",
    "plt.plot(recall, precision, label='%s PR (area, = %f)' % ('Perseptron', aps))\n",
    "\n",
    "\n",
    "\n",
    "plt.xlabel('Recall')\n",
    "plt.ylabel('Precision')\n",
    "plt.xlim([0.0, 1.])\n",
    "plt.ylim([0.0, 1.1])\n",
    "plt.title('not occupied')\n",
    "plt.legend(loc=4, fontsize='medium')\n",
    "plt.show()"
   ]
  },
  {
   "cell_type": "markdown",
   "metadata": {},
   "source": [
    "#### ROC кривая"
   ]
  },
  {
   "cell_type": "code",
   "execution_count": 326,
   "metadata": {},
   "outputs": [
    {
     "data": {
      "image/png": "[encoded data removed]",
      "text/plain": [
       "<Figure size 720x576 with 1 Axes>"
      ]
     },
     "metadata": {},
     "output_type": "display_data"
    }
   ],
   "source": [
    "plt.figure(figsize=(10,8))\n",
    "\n",
    "# К соседей\n",
    "tpr, fpr, thresholds = roc_curve(y_test, knn_proba[:, 0])\n",
    "roc_auc  = auc(fpr, tpr)\n",
    "plt.plot(fpr, tpr, label='%s ROC curve (area, = %f)' % ('n_neighbors', roc_auc))\n",
    "\n",
    "# Персептрон\n",
    "\n",
    "tpr, fpr, thresholds = roc_curve(y_test, ppn_proba[:, 0])\n",
    "roc_auc  = auc(fpr, tpr)\n",
    "plt.plot(fpr, tpr, label='%s ROC curve (area, = %f)' % ('perseptron', roc_auc))\n",
    "\n",
    "plt.plot([0, 1], [0, 1], 'k--')\n",
    "plt.xlim([-0.05, 1.1])\n",
    "plt.ylim([-0.05, 1.05])\n",
    "plt.xlabel('False Positive Rate')\n",
    "plt.ylabel('Tree Positive Rate')\n",
    "plt.legend(loc=4, fontsize='medium')\n",
    "plt.title('not occupied')\n",
    "plt.show()"
   ]
  },
  {
   "cell_type": "code",
   "execution_count": 328,
   "metadata": {},
   "outputs": [
    {
     "data": {
      "image/png": "[encoded data removed]",
      "text/plain": [
       "<Figure size 720x576 with 1 Axes>"
      ]
     },
     "metadata": {},
     "output_type": "display_data"
    }
   ],
   "source": [
    "plt.figure(figsize=(10,8))\n",
    "# К соседей\n",
    "\n",
    "tpr, fpr, thresholds = roc_curve(y_test, knn_proba[:,1])\n",
    "roc_auc  = auc(fpr, tpr)\n",
    "plt.plot(fpr, tpr, label='%s ROC curve (area, = %f)' % ('n_neighbors', roc_auc))\n",
    "\n",
    "# Персептрон\n",
    "\n",
    "tpr, fpr, thresholds = roc_curve(y_test, ppn_proba[:,1])\n",
    "roc_auc  = auc(fpr, tpr)\n",
    "plt.plot(fpr, tpr, label='%s ROC curve (area, = %f)' % ('perseptron', roc_auc))\n",
    "\n",
    "plt.plot([0, 1], [0, 1], 'k--')\n",
    "plt.xlim([-0.05, 1.1])\n",
    "plt.ylim([-0.05, 1.1])\n",
    "plt.xlabel('False Positive Rate')\n",
    "plt.ylabel('Tree Positive Rate')\n",
    "plt.legend(loc=4, fontsize='medium')\n",
    "plt.title('occupied')\n",
    "plt.show()"
   ]
  },
  {
   "cell_type": "markdown",
   "metadata": {},
   "source": [
    "###  9.Сравните кривые для классификаторов, указанных в задании, сделайте выводы."
   ]
  },
  {
   "cell_type": "markdown",
   "metadata": {},
   "source": [
    "#### _Вывод: Классификатор персептрон показал лучшие результаты работы_"
   ]
  }
 ],
 "metadata": {
  "kernelspec": {
   "display_name": "Python 3",
   "language": "python",
   "name": "python3"
  },
  "language_info": {
   "codemirror_mode": {
    "name": "ipython",
    "version": 3
   },
   "file_extension": ".py",
   "mimetype": "text/x-python",
   "name": "python",
   "nbconvert_exporter": "python",
   "pygments_lexer": "ipython3",
   "version": "3.7.4"
  }
 },
 "nbformat": 4,
 "nbformat_minor": 4
}
