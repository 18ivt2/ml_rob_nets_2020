{
 "cells": [
  {
   "cell_type": "code",
   "execution_count": 2,
   "metadata": {},
   "outputs": [
    {
     "name": "stdout",
     "output_type": "stream",
     "text": [
      "hello world!\n"
     ]
    }
   ],
   "source": [
    "print ('hello world!')"
   ]
  },
  {
   "cell_type": "markdown",
   "metadata": {},
   "source": [
    "# Markdown\n",
    "\n",
    "## краткое руководство\n",
    "\n",
    "\n",
    "Абзацы создаются при помощи пустой строки. Если вокруг текста сверху и снизу  \n",
    "есть пустые строки, то текст превращается в абзац.\n",
    "\n",
    "Чтобы сделать перенос строки вместо абзаца,  \n",
    "нужно поставить два пробела в конце предыдущей строки.\n",
    "\n",
    "Заголовки отмечаются диезом '#' в начале строки, от одного до шести. Например:\n",
    "\n",
    "# Заголовок первого уровня #\n",
    "## Заголовок h2\n",
    "### Заголовок h3\n",
    "#### Заголовок h4\n",
    "##### Заголовок h5\n",
    "###### Заголовок h6\n",
    "\n",
    "В декоративных целях заголовок можно \"закрывать\" с обратной стороны."
   ]
  },
  {
   "cell_type": "markdown",
   "metadata": {},
   "source": [
    "* элемент1\n",
    "* элемент2\n",
    "* элемент3\n",
    "    * элемент3.1\n",
    "    * элемент 3.2\n",
    "    \n",
    "    \n",
    "    \n",
    "1. элемент1\n",
    "2. элемент2\n",
    "3. элемент3\n",
    "    1. элемент 1 вложеный\n",
    "    2. элемент 2 вложеный\n",
    "    \n",
    "0. элемент1\n",
    "0. элемент2\n",
    "0. элемент3"
   ]
  },
  {
   "cell_type": "markdown",
   "metadata": {},
   "source": [
    "***"
   ]
  },
  {
   "cell_type": "markdown",
   "metadata": {},
   "source": [
    "***"
   ]
  },
  {
   "cell_type": "markdown",
   "metadata": {},
   "source": [
    "~~hello~~"
   ]
  },
  {
   "cell_type": "markdown",
   "metadata": {},
   "source": [
    "_italic_  \n",
    "__strong__  \n",
    "***hello workd***"
   ]
  },
  {
   "cell_type": "markdown",
   "metadata": {},
   "source": [
    "встроенная ссылка [ссылка с title элементом](https://vk.com/audios167198602 \"я ссылка\")."
   ]
  },
  {
   "cell_type": "markdown",
   "metadata": {},
   "source": [
    "это без - [без title](https://vk.com/feed)."
   ]
  },
  {
   "cell_type": "code",
   "execution_count": null,
   "metadata": {},
   "outputs": [],
   "source": []
  }
 ],
 "metadata": {
  "kernelspec": {
   "display_name": "Python 3",
   "language": "python",
   "name": "python3"
  },
  "language_info": {
   "codemirror_mode": {
    "name": "ipython",
    "version": 3
   },
   "file_extension": ".py",
   "mimetype": "text/x-python",
   "name": "python",
   "nbconvert_exporter": "python",
   "pygments_lexer": "ipython3",
   "version": "3.8.0"
  }
 },
 "nbformat": 4,
 "nbformat_minor": 4
}
