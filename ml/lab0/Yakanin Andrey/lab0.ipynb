{
 "cells": [
  {
   "cell_type": "markdown",
   "metadata": {},
   "source": [
    "# Markdown\n",
    "# Заголовок 1\n",
    "## Заголовок 2\n",
    "\n",
    "### Списки:\n",
    "\n",
    "Не упорядоченный список:\n",
    "\n",
    "- Элемент 1\n",
    "- Элемент 2\n",
    "- Элемент 3\n",
    "    * Элемент 4\n",
    "    * Элемент 5\n",
    "    \n",
    "Упорядоченный список:\n",
    "    \n",
    "1. Элемент А\n",
    "2. Элемент В\n",
    "\n",
    "### Цитаты:\n",
    "\n",
    "> Цитата 1 \n",
    "> Цитата 2\n",
    "\n",
    "### Горизонтальная черта:\n",
    "***\n",
    "\n",
    "### Ссылки: \n",
    "Втроенная [Ссылка с title элементом](http://example.cpm/link \"Я ссылка\").\n",
    "Это - [Без title](http://example.cpm/link).\n",
    "\n"
   ]
  },
  {
   "cell_type": "code",
   "execution_count": null,
   "metadata": {},
   "outputs": [],
   "source": []
  }
 ],
 "metadata": {
  "kernelspec": {
   "display_name": "Python 3",
   "language": "python",
   "name": "python3"
  },
  "language_info": {
   "codemirror_mode": {
    "name": "ipython",
    "version": 3
   },
   "file_extension": ".py",
   "mimetype": "text/x-python",
   "name": "python",
   "nbconvert_exporter": "python",
   "pygments_lexer": "ipython3",
   "version": "3.6.2"
  }
 },
 "nbformat": 4,
 "nbformat_minor": 2
}
