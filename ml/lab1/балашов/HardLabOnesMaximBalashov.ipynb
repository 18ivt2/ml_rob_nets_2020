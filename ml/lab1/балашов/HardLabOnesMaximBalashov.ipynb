{
 "cells": [
  {
   "cell_type": "markdown",
   "metadata": {},
   "source": [
    "Лабораторная Работа №1"
   ]
  },
  {
   "cell_type": "markdown",
   "metadata": {},
   "source": [
    "# Выполнил: Балашов Максим Александрович"
   ]
  },
  {
   "cell_type": "markdown",
   "metadata": {},
   "source": [
    "## Группы: 18-Ивт-2\n"
   ]
  },
  {
   "cell_type": "markdown",
   "metadata": {},
   "source": [
    "### Вариант №2: Отмена рейсов"
   ]
  },
  {
   "cell_type": "code",
   "execution_count": 2,
   "metadata": {},
   "outputs": [],
   "source": [
    "import pandas as pd\n",
    "import numpy as np\n",
    "import matplotlib.pyplot as plt\n",
    "import seaborn as sns\n",
    "import sklearn as sk\n",
    "from scipy import stats\n",
    "from scipy.stats import pearsonr\n",
    "from scipy.stats import spearmanr\n",
    "from sklearn.preprocessing import LabelEncoder\n",
    "%matplotlib inline\n"
   ]
  },
  {
   "cell_type": "code",
   "execution_count": 418,
   "metadata": {},
   "outputs": [
    {
     "name": "stdout",
     "output_type": "stream",
     "text": [
      "flights\n",
      "   YEAR  MONTH  DAY  DAY_OF_WEEK AIRLINE  FLIGHT_NUMBER TAIL_NUMBER  \\\n",
      "0  2015      1    1            4      AS             98      N407AS   \n",
      "1  2015      1    1            4      AA           2336      N3KUAA   \n",
      "2  2015      1    1            4      US            840      N171US   \n",
      "3  2015      1    1            4      AA            258      N3HYAA   \n",
      "4  2015      1    1            4      AS            135      N527AS   \n",
      "\n",
      "  ORIGIN_AIRPORT DESTINATION_AIRPORT  SCHEDULED_DEPARTURE  ...  ARRIVAL_TIME  \\\n",
      "0            ANC                 SEA                    5  ...         408.0   \n",
      "1            LAX                 PBI                   10  ...         741.0   \n",
      "2            SFO                 CLT                   20  ...         811.0   \n",
      "3            LAX                 MIA                   20  ...         756.0   \n",
      "4            SEA                 ANC                   25  ...         259.0   \n",
      "\n",
      "   ARRIVAL_DELAY  DIVERTED  CANCELLED  CANCELLATION_REASON  AIR_SYSTEM_DELAY  \\\n",
      "0          -22.0         0          0                  NaN               NaN   \n",
      "1           -9.0         0          0                  NaN               NaN   \n",
      "2            5.0         0          0                  NaN               NaN   \n",
      "3           -9.0         0          0                  NaN               NaN   \n",
      "4          -21.0         0          0                  NaN               NaN   \n",
      "\n",
      "   SECURITY_DELAY  AIRLINE_DELAY  LATE_AIRCRAFT_DELAY  WEATHER_DELAY  \n",
      "0             NaN            NaN                  NaN            NaN  \n",
      "1             NaN            NaN                  NaN            NaN  \n",
      "2             NaN            NaN                  NaN            NaN  \n",
      "3             NaN            NaN                  NaN            NaN  \n",
      "4             NaN            NaN                  NaN            NaN  \n",
      "\n",
      "[5 rows x 31 columns]\n"
     ]
    }
   ],
   "source": [
    "flights_df = pd.read_csv ('flights.csv', nrows=1000000)\n",
    "print(\"flights\")\n",
    "print(flights_df.head())"
   ]
  },
  {
   "cell_type": "code",
   "execution_count": 159,
   "metadata": {},
   "outputs": [
    {
     "data": {
      "text/html": [
       "<div>\n",
       "<style scoped>\n",
       "    .dataframe tbody tr th:only-of-type {\n",
       "        vertical-align: middle;\n",
       "    }\n",
       "\n",
       "    .dataframe tbody tr th {\n",
       "        vertical-align: top;\n",
       "    }\n",
       "\n",
       "    .dataframe thead th {\n",
       "        text-align: right;\n",
       "    }\n",
       "</style>\n",
       "<table border=\"1\" class=\"dataframe\">\n",
       "  <thead>\n",
       "    <tr style=\"text-align: right;\">\n",
       "      <th></th>\n",
       "      <th>YEAR</th>\n",
       "      <th>MONTH</th>\n",
       "      <th>DAY</th>\n",
       "      <th>DAY_OF_WEEK</th>\n",
       "      <th>FLIGHT_NUMBER</th>\n",
       "      <th>SCHEDULED_DEPARTURE</th>\n",
       "      <th>DEPARTURE_TIME</th>\n",
       "      <th>DEPARTURE_DELAY</th>\n",
       "      <th>TAXI_OUT</th>\n",
       "      <th>WHEELS_OFF</th>\n",
       "      <th>...</th>\n",
       "      <th>SCHEDULED_ARRIVAL</th>\n",
       "      <th>ARRIVAL_TIME</th>\n",
       "      <th>ARRIVAL_DELAY</th>\n",
       "      <th>DIVERTED</th>\n",
       "      <th>CANCELLED</th>\n",
       "      <th>AIR_SYSTEM_DELAY</th>\n",
       "      <th>SECURITY_DELAY</th>\n",
       "      <th>AIRLINE_DELAY</th>\n",
       "      <th>LATE_AIRCRAFT_DELAY</th>\n",
       "      <th>WEATHER_DELAY</th>\n",
       "    </tr>\n",
       "  </thead>\n",
       "  <tbody>\n",
       "    <tr>\n",
       "      <th>count</th>\n",
       "      <td>1000000.0</td>\n",
       "      <td>1000000.000000</td>\n",
       "      <td>1000000.000000</td>\n",
       "      <td>1000000.000000</td>\n",
       "      <td>1000000.000000</td>\n",
       "      <td>1000000.000000</td>\n",
       "      <td>960842.000000</td>\n",
       "      <td>960842.000000</td>\n",
       "      <td>960145.000000</td>\n",
       "      <td>960145.000000</td>\n",
       "      <td>...</td>\n",
       "      <td>1000000.000000</td>\n",
       "      <td>959117.000000</td>\n",
       "      <td>957394.000000</td>\n",
       "      <td>1000000.000000</td>\n",
       "      <td>1000000.000000</td>\n",
       "      <td>221041.000000</td>\n",
       "      <td>221041.000000</td>\n",
       "      <td>221041.000000</td>\n",
       "      <td>221041.000000</td>\n",
       "      <td>221041.000000</td>\n",
       "    </tr>\n",
       "    <tr>\n",
       "      <th>mean</th>\n",
       "      <td>2015.0</td>\n",
       "      <td>1.630873</td>\n",
       "      <td>14.087290</td>\n",
       "      <td>3.942253</td>\n",
       "      <td>2259.305292</td>\n",
       "      <td>1322.605368</td>\n",
       "      <td>1333.892931</td>\n",
       "      <td>11.525092</td>\n",
       "      <td>16.735891</td>\n",
       "      <td>1357.706468</td>\n",
       "      <td>...</td>\n",
       "      <td>1505.500062</td>\n",
       "      <td>1492.772831</td>\n",
       "      <td>7.904573</td>\n",
       "      <td>0.002474</td>\n",
       "      <td>0.040132</td>\n",
       "      <td>13.879651</td>\n",
       "      <td>0.057921</td>\n",
       "      <td>18.040721</td>\n",
       "      <td>22.955108</td>\n",
       "      <td>3.631589</td>\n",
       "    </tr>\n",
       "    <tr>\n",
       "      <th>std</th>\n",
       "      <td>0.0</td>\n",
       "      <td>0.659208</td>\n",
       "      <td>8.846599</td>\n",
       "      <td>1.957458</td>\n",
       "      <td>1799.970834</td>\n",
       "      <td>470.183312</td>\n",
       "      <td>482.295869</td>\n",
       "      <td>39.451588</td>\n",
       "      <td>10.204402</td>\n",
       "      <td>482.567175</td>\n",
       "      <td>...</td>\n",
       "      <td>485.664098</td>\n",
       "      <td>506.662151</td>\n",
       "      <td>42.383991</td>\n",
       "      <td>0.049678</td>\n",
       "      <td>0.196269</td>\n",
       "      <td>25.747212</td>\n",
       "      <td>1.803159</td>\n",
       "      <td>46.037156</td>\n",
       "      <td>41.895492</td>\n",
       "      <td>23.792253</td>\n",
       "    </tr>\n",
       "    <tr>\n",
       "      <th>min</th>\n",
       "      <td>2015.0</td>\n",
       "      <td>1.000000</td>\n",
       "      <td>1.000000</td>\n",
       "      <td>1.000000</td>\n",
       "      <td>1.000000</td>\n",
       "      <td>5.000000</td>\n",
       "      <td>1.000000</td>\n",
       "      <td>-61.000000</td>\n",
       "      <td>1.000000</td>\n",
       "      <td>1.000000</td>\n",
       "      <td>...</td>\n",
       "      <td>1.000000</td>\n",
       "      <td>1.000000</td>\n",
       "      <td>-82.000000</td>\n",
       "      <td>0.000000</td>\n",
       "      <td>0.000000</td>\n",
       "      <td>0.000000</td>\n",
       "      <td>0.000000</td>\n",
       "      <td>0.000000</td>\n",
       "      <td>0.000000</td>\n",
       "      <td>0.000000</td>\n",
       "    </tr>\n",
       "    <tr>\n",
       "      <th>25%</th>\n",
       "      <td>2015.0</td>\n",
       "      <td>1.000000</td>\n",
       "      <td>6.000000</td>\n",
       "      <td>2.000000</td>\n",
       "      <td>756.000000</td>\n",
       "      <td>920.000000</td>\n",
       "      <td>929.000000</td>\n",
       "      <td>-5.000000</td>\n",
       "      <td>11.000000</td>\n",
       "      <td>944.000000</td>\n",
       "      <td>...</td>\n",
       "      <td>1121.000000</td>\n",
       "      <td>1116.000000</td>\n",
       "      <td>-12.000000</td>\n",
       "      <td>0.000000</td>\n",
       "      <td>0.000000</td>\n",
       "      <td>0.000000</td>\n",
       "      <td>0.000000</td>\n",
       "      <td>0.000000</td>\n",
       "      <td>0.000000</td>\n",
       "      <td>0.000000</td>\n",
       "    </tr>\n",
       "    <tr>\n",
       "      <th>50%</th>\n",
       "      <td>2015.0</td>\n",
       "      <td>2.000000</td>\n",
       "      <td>14.000000</td>\n",
       "      <td>4.000000</td>\n",
       "      <td>1727.000000</td>\n",
       "      <td>1320.000000</td>\n",
       "      <td>1329.000000</td>\n",
       "      <td>-1.000000</td>\n",
       "      <td>14.000000</td>\n",
       "      <td>1343.000000</td>\n",
       "      <td>...</td>\n",
       "      <td>1525.000000</td>\n",
       "      <td>1522.000000</td>\n",
       "      <td>-3.000000</td>\n",
       "      <td>0.000000</td>\n",
       "      <td>0.000000</td>\n",
       "      <td>4.000000</td>\n",
       "      <td>0.000000</td>\n",
       "      <td>2.000000</td>\n",
       "      <td>4.000000</td>\n",
       "      <td>0.000000</td>\n",
       "    </tr>\n",
       "    <tr>\n",
       "      <th>75%</th>\n",
       "      <td>2015.0</td>\n",
       "      <td>2.000000</td>\n",
       "      <td>22.000000</td>\n",
       "      <td>6.000000</td>\n",
       "      <td>3488.000000</td>\n",
       "      <td>1720.000000</td>\n",
       "      <td>1731.000000</td>\n",
       "      <td>11.000000</td>\n",
       "      <td>19.000000</td>\n",
       "      <td>1745.000000</td>\n",
       "      <td>...</td>\n",
       "      <td>1915.000000</td>\n",
       "      <td>1917.000000</td>\n",
       "      <td>12.000000</td>\n",
       "      <td>0.000000</td>\n",
       "      <td>0.000000</td>\n",
       "      <td>19.000000</td>\n",
       "      <td>0.000000</td>\n",
       "      <td>18.000000</td>\n",
       "      <td>29.000000</td>\n",
       "      <td>0.000000</td>\n",
       "    </tr>\n",
       "    <tr>\n",
       "      <th>max</th>\n",
       "      <td>2015.0</td>\n",
       "      <td>3.000000</td>\n",
       "      <td>31.000000</td>\n",
       "      <td>7.000000</td>\n",
       "      <td>9794.000000</td>\n",
       "      <td>2359.000000</td>\n",
       "      <td>2400.000000</td>\n",
       "      <td>1988.000000</td>\n",
       "      <td>225.000000</td>\n",
       "      <td>2400.000000</td>\n",
       "      <td>...</td>\n",
       "      <td>2359.000000</td>\n",
       "      <td>2400.000000</td>\n",
       "      <td>1971.000000</td>\n",
       "      <td>1.000000</td>\n",
       "      <td>1.000000</td>\n",
       "      <td>830.000000</td>\n",
       "      <td>241.000000</td>\n",
       "      <td>1971.000000</td>\n",
       "      <td>1313.000000</td>\n",
       "      <td>1152.000000</td>\n",
       "    </tr>\n",
       "  </tbody>\n",
       "</table>\n",
       "<p>8 rows × 26 columns</p>\n",
       "</div>"
      ],
      "text/plain": [
       "            YEAR           MONTH             DAY     DAY_OF_WEEK  \\\n",
       "count  1000000.0  1000000.000000  1000000.000000  1000000.000000   \n",
       "mean      2015.0        1.630873       14.087290        3.942253   \n",
       "std          0.0        0.659208        8.846599        1.957458   \n",
       "min       2015.0        1.000000        1.000000        1.000000   \n",
       "25%       2015.0        1.000000        6.000000        2.000000   \n",
       "50%       2015.0        2.000000       14.000000        4.000000   \n",
       "75%       2015.0        2.000000       22.000000        6.000000   \n",
       "max       2015.0        3.000000       31.000000        7.000000   \n",
       "\n",
       "        FLIGHT_NUMBER  SCHEDULED_DEPARTURE  DEPARTURE_TIME  DEPARTURE_DELAY  \\\n",
       "count  1000000.000000       1000000.000000   960842.000000    960842.000000   \n",
       "mean      2259.305292          1322.605368     1333.892931        11.525092   \n",
       "std       1799.970834           470.183312      482.295869        39.451588   \n",
       "min          1.000000             5.000000        1.000000       -61.000000   \n",
       "25%        756.000000           920.000000      929.000000        -5.000000   \n",
       "50%       1727.000000          1320.000000     1329.000000        -1.000000   \n",
       "75%       3488.000000          1720.000000     1731.000000        11.000000   \n",
       "max       9794.000000          2359.000000     2400.000000      1988.000000   \n",
       "\n",
       "            TAXI_OUT     WHEELS_OFF  ...  SCHEDULED_ARRIVAL   ARRIVAL_TIME  \\\n",
       "count  960145.000000  960145.000000  ...     1000000.000000  959117.000000   \n",
       "mean       16.735891    1357.706468  ...        1505.500062    1492.772831   \n",
       "std        10.204402     482.567175  ...         485.664098     506.662151   \n",
       "min         1.000000       1.000000  ...           1.000000       1.000000   \n",
       "25%        11.000000     944.000000  ...        1121.000000    1116.000000   \n",
       "50%        14.000000    1343.000000  ...        1525.000000    1522.000000   \n",
       "75%        19.000000    1745.000000  ...        1915.000000    1917.000000   \n",
       "max       225.000000    2400.000000  ...        2359.000000    2400.000000   \n",
       "\n",
       "       ARRIVAL_DELAY        DIVERTED       CANCELLED  AIR_SYSTEM_DELAY  \\\n",
       "count  957394.000000  1000000.000000  1000000.000000     221041.000000   \n",
       "mean        7.904573        0.002474        0.040132         13.879651   \n",
       "std        42.383991        0.049678        0.196269         25.747212   \n",
       "min       -82.000000        0.000000        0.000000          0.000000   \n",
       "25%       -12.000000        0.000000        0.000000          0.000000   \n",
       "50%        -3.000000        0.000000        0.000000          4.000000   \n",
       "75%        12.000000        0.000000        0.000000         19.000000   \n",
       "max      1971.000000        1.000000        1.000000        830.000000   \n",
       "\n",
       "       SECURITY_DELAY  AIRLINE_DELAY  LATE_AIRCRAFT_DELAY  WEATHER_DELAY  \n",
       "count   221041.000000  221041.000000        221041.000000  221041.000000  \n",
       "mean         0.057921      18.040721            22.955108       3.631589  \n",
       "std          1.803159      46.037156            41.895492      23.792253  \n",
       "min          0.000000       0.000000             0.000000       0.000000  \n",
       "25%          0.000000       0.000000             0.000000       0.000000  \n",
       "50%          0.000000       2.000000             4.000000       0.000000  \n",
       "75%          0.000000      18.000000            29.000000       0.000000  \n",
       "max        241.000000    1971.000000          1313.000000    1152.000000  \n",
       "\n",
       "[8 rows x 26 columns]"
      ]
     },
     "execution_count": 159,
     "metadata": {},
     "output_type": "execute_result"
    }
   ],
   "source": [
    "flights_df.describe()"
   ]
  },
  {
   "cell_type": "markdown",
   "metadata": {},
   "source": [
    "### 1. Подсчитайте количество отменённых рейсов."
   ]
  },
  {
   "cell_type": "code",
   "execution_count": 253,
   "metadata": {},
   "outputs": [
    {
     "name": "stdout",
     "output_type": "stream",
     "text": [
      "Количество отменённых рейсов = \n",
      "40132\n"
     ]
    }
   ],
   "source": [
    "print(\"Количество отменённых рейсов = \")\n",
    "print(flights_df[flights_df[\"CANCELLED\"] length=1000000].shape[0])"
   ]
  },
  {
   "cell_type": "markdown",
   "metadata": {},
   "source": [
    "\n",
    "### 2. Определите аэропорт, рейсы для которого отменяются наиболее часто."
   ]
  },
  {
   "cell_type": "code",
   "execution_count": 157,
   "metadata": {},
   "outputs": [
    {
     "name": "stdout",
     "output_type": "stream",
     "text": [
      "Аэропорт, рейсы для которого отменяются наиболее часто                 CANCELLED\n",
      "ORIGIN_AIRPORT           \n",
      "ATL                 63413\n"
     ]
    }
   ],
   "source": [
    "count = flights_df.groupby([\"ORIGIN_AIRPORT\"])[[\"CANCELLED\"]].count()\n",
    "print (\"Аэропорт, рейсы для которого отменяются наиболее часто\", count.sort_values(['CANCELLED'],ascending=False).head(1))"
   ]
  },
  {
   "cell_type": "markdown",
   "metadata": {},
   "source": [
    "### 9. Определите авиакомпанию с максимальными задержками рейсов по отправке и прибытию."
   ]
  },
  {
   "cell_type": "code",
   "execution_count": 282,
   "metadata": {},
   "outputs": [
    {
     "name": "stdout",
     "output_type": "stream",
     "text": [
      "Авиакомпания с максимальными задержками по отправке          DEPARTURE_DELAY\n",
      "AIRLINE                 \n",
      "WN                204472\n"
     ]
    }
   ],
   "source": [
    "count = flights_df.groupby([\"AIRLINE\"])[[\"DEPARTURE_DELAY\"]].count()\n",
    "print(\"Авиакомпания с максимальными задержками по отправке\", count.sort_values([\"DEPARTURE_DELAY\"], ascending=False).head(1))\n"
   ]
  },
  {
   "cell_type": "code",
   "execution_count": 155,
   "metadata": {},
   "outputs": [
    {
     "name": "stdout",
     "output_type": "stream",
     "text": [
      "Авиакомпания с максимальными задержками по отправке          ARRIVAL_DELAY\n",
      "AIRLINE               \n",
      "WN              203896\n"
     ]
    }
   ],
   "source": [
    "count = flights_df.groupby([\"AIRLINE\"])[[\"ARRIVAL_DELAY\"]].count()\n",
    "print(\"Авиакомпания с максимальными задержками по отправке\", count.sort_values([\"ARRIVAL_DELAY\"], ascending=False).head(1))"
   ]
  },
  {
   "cell_type": "markdown",
   "metadata": {},
   "source": [
    "### 4. Подсчитайте для трёх выбранных авиакомпаний: количество рейсов, количество отменённых рейсов, количество перенаправленных рейсов."
   ]
  },
  {
   "cell_type": "code",
   "execution_count": 200,
   "metadata": {},
   "outputs": [
    {
     "name": "stdout",
     "output_type": "stream",
     "text": [
      "Количество рейсов = NK  18698\n",
      "Количество отменённых рейсов = NK  460\n",
      "Количество перенаправленных рейсов = NK  24\n",
      "_____________________________________________________ \n",
      "Количество рейсов = UA  83514\n",
      "Количество отменённых рейсов = UA  2383\n",
      "Количество перенаправленных рейсов = UA  158\n",
      "_____________________________________________________ \n",
      "Количество рейсов = DL  140423\n",
      "Количество отменённых рейсов = DL  2858\n",
      "Количество перенаправленных рейсов = DL  244\n"
     ]
    }
   ],
   "source": [
    "print(\"Количество рейсов = NK \", flights_df[flights_df[\"AIRLINE\"] == \"NK\"][\"FLIGHT_NUMBER\"].shape[0]-1)\n",
    "print(\"Количество отменённых рейсов = NK \", flights_df[(flights_df[\"AIRLINE\"] == \"NK\") & (flights_df[\"CANCELLED\"] == 1)].shape[0]-1)\n",
    "print(\"Количество перенаправленных рейсов = NK \", flights_df[(flights_df[\"AIRLINE\"] == \"NK\") & (flights_df['DIVERTED'] == 1)].shape[0]-1)\n",
    "print(\"_____________________________________________________ \")\n",
    "print(\"Количество рейсов = UA \", flights_df[flights_df[\"AIRLINE\"] == \"UA\"][\"FLIGHT_NUMBER\"].shape[0]-1)\n",
    "print(\"Количество отменённых рейсов = UA \", flights_df[(flights_df[\"AIRLINE\"] == \"UA\") & (flights_df[\"CANCELLED\"] == 1)].shape[0]-1)\n",
    "print(\"Количество перенаправленных рейсов = UA \", flights_df[(flights_df[\"AIRLINE\"] == \"UA\") & (flights_df[\"DIVERTED\"] == 1)].shape[0]-1)\n",
    "print(\"_____________________________________________________ \")\n",
    "print(\"Количество рейсов = DL \", flights_df[flights_df[\"AIRLINE\"]==\"DL\"][\"FLIGHT_NUMBER\"].shape[0]-1)\n",
    "print(\"Количество отменённых рейсов = DL \", flights_df[(flights_df[\"AIRLINE\"] == \"DL\") & (flights_df[\"CANCELLED\"] == 1)].shape[0]-1)\n",
    "print(\"Количество перенаправленных рейсов = DL \", flights_df[(flights_df[\"AIRLINE\"] == \"DL\") & (flights_df[\"DIVERTED\"] == 1)].shape[0]-1)"
   ]
  },
  {
   "cell_type": "code",
   "execution_count": 160,
   "metadata": {},
   "outputs": [
    {
     "name": "stdout",
     "output_type": "stream",
     "text": [
      "<class 'pandas.core.frame.DataFrame'>\n",
      "RangeIndex: 1000000 entries, 0 to 999999\n",
      "Data columns (total 31 columns):\n",
      " #   Column               Non-Null Count    Dtype  \n",
      "---  ------               --------------    -----  \n",
      " 0   YEAR                 1000000 non-null  int64  \n",
      " 1   MONTH                1000000 non-null  int64  \n",
      " 2   DAY                  1000000 non-null  int64  \n",
      " 3   DAY_OF_WEEK          1000000 non-null  int64  \n",
      " 4   AIRLINE              1000000 non-null  object \n",
      " 5   FLIGHT_NUMBER        1000000 non-null  int64  \n",
      " 6   TAIL_NUMBER          992291 non-null   object \n",
      " 7   ORIGIN_AIRPORT       1000000 non-null  object \n",
      " 8   DESTINATION_AIRPORT  1000000 non-null  object \n",
      " 9   SCHEDULED_DEPARTURE  1000000 non-null  int64  \n",
      " 10  DEPARTURE_TIME       960842 non-null   float64\n",
      " 11  DEPARTURE_DELAY      960842 non-null   float64\n",
      " 12  TAXI_OUT             960145 non-null   float64\n",
      " 13  WHEELS_OFF           960145 non-null   float64\n",
      " 14  SCHEDULED_TIME       999998 non-null   float64\n",
      " 15  ELAPSED_TIME         957394 non-null   float64\n",
      " 16  AIR_TIME             957394 non-null   float64\n",
      " 17  DISTANCE             1000000 non-null  int64  \n",
      " 18  WHEELS_ON            959117 non-null   float64\n",
      " 19  TAXI_IN              959117 non-null   float64\n",
      " 20  SCHEDULED_ARRIVAL    1000000 non-null  int64  \n",
      " 21  ARRIVAL_TIME         959117 non-null   float64\n",
      " 22  ARRIVAL_DELAY        957394 non-null   float64\n",
      " 23  DIVERTED             1000000 non-null  int64  \n",
      " 24  CANCELLED            1000000 non-null  int64  \n",
      " 25  CANCELLATION_REASON  40132 non-null    object \n",
      " 26  AIR_SYSTEM_DELAY     221041 non-null   float64\n",
      " 27  SECURITY_DELAY       221041 non-null   float64\n",
      " 28  AIRLINE_DELAY        221041 non-null   float64\n",
      " 29  LATE_AIRCRAFT_DELAY  221041 non-null   float64\n",
      " 30  WEATHER_DELAY        221041 non-null   float64\n",
      "dtypes: float64(16), int64(10), object(5)\n",
      "memory usage: 236.5+ MB\n"
     ]
    }
   ],
   "source": [
    "flights_df.info()"
   ]
  },
  {
   "cell_type": "markdown",
   "metadata": {},
   "source": [
    "### 5. Определите скорость полёта для каждого рейса, скорость полёта среднюю для трёх выбранных авиакомпаний. "
   ]
  },
  {
   "cell_type": "code",
   "execution_count": 262,
   "metadata": {},
   "outputs": [
    {
     "data": {
      "text/html": [
       "<div>\n",
       "<style scoped>\n",
       "    .dataframe tbody tr th:only-of-type {\n",
       "        vertical-align: middle;\n",
       "    }\n",
       "\n",
       "    .dataframe tbody tr th {\n",
       "        vertical-align: top;\n",
       "    }\n",
       "\n",
       "    .dataframe thead th {\n",
       "        text-align: right;\n",
       "    }\n",
       "</style>\n",
       "<table border=\"1\" class=\"dataframe\">\n",
       "  <thead>\n",
       "    <tr style=\"text-align: right;\">\n",
       "      <th></th>\n",
       "      <th>YEAR</th>\n",
       "      <th>MONTH</th>\n",
       "      <th>DAY</th>\n",
       "      <th>DAY_OF_WEEK</th>\n",
       "      <th>AIRLINE</th>\n",
       "      <th>FLIGHT_NUMBER</th>\n",
       "      <th>TAIL_NUMBER</th>\n",
       "      <th>ORIGIN_AIRPORT</th>\n",
       "      <th>DESTINATION_AIRPORT</th>\n",
       "      <th>SCHEDULED_DEPARTURE</th>\n",
       "      <th>...</th>\n",
       "      <th>ARRIVAL_DELAY</th>\n",
       "      <th>DIVERTED</th>\n",
       "      <th>CANCELLED</th>\n",
       "      <th>CANCELLATION_REASON</th>\n",
       "      <th>AIR_SYSTEM_DELAY</th>\n",
       "      <th>SECURITY_DELAY</th>\n",
       "      <th>AIRLINE_DELAY</th>\n",
       "      <th>LATE_AIRCRAFT_DELAY</th>\n",
       "      <th>WEATHER_DELAY</th>\n",
       "      <th>flight_speed</th>\n",
       "    </tr>\n",
       "  </thead>\n",
       "  <tbody>\n",
       "    <tr>\n",
       "      <th>0</th>\n",
       "      <td>2015</td>\n",
       "      <td>1</td>\n",
       "      <td>1</td>\n",
       "      <td>4</td>\n",
       "      <td>AS</td>\n",
       "      <td>98</td>\n",
       "      <td>N407AS</td>\n",
       "      <td>ANC</td>\n",
       "      <td>SEA</td>\n",
       "      <td>5</td>\n",
       "      <td>...</td>\n",
       "      <td>-22.0</td>\n",
       "      <td>0</td>\n",
       "      <td>0</td>\n",
       "      <td>NaN</td>\n",
       "      <td>NaN</td>\n",
       "      <td>NaN</td>\n",
       "      <td>NaN</td>\n",
       "      <td>NaN</td>\n",
       "      <td>NaN</td>\n",
       "      <td>8.568047</td>\n",
       "    </tr>\n",
       "    <tr>\n",
       "      <th>1</th>\n",
       "      <td>2015</td>\n",
       "      <td>1</td>\n",
       "      <td>1</td>\n",
       "      <td>4</td>\n",
       "      <td>AA</td>\n",
       "      <td>2336</td>\n",
       "      <td>N3KUAA</td>\n",
       "      <td>LAX</td>\n",
       "      <td>PBI</td>\n",
       "      <td>10</td>\n",
       "      <td>...</td>\n",
       "      <td>-9.0</td>\n",
       "      <td>0</td>\n",
       "      <td>0</td>\n",
       "      <td>NaN</td>\n",
       "      <td>NaN</td>\n",
       "      <td>NaN</td>\n",
       "      <td>NaN</td>\n",
       "      <td>NaN</td>\n",
       "      <td>NaN</td>\n",
       "      <td>8.859316</td>\n",
       "    </tr>\n",
       "    <tr>\n",
       "      <th>2</th>\n",
       "      <td>2015</td>\n",
       "      <td>1</td>\n",
       "      <td>1</td>\n",
       "      <td>4</td>\n",
       "      <td>US</td>\n",
       "      <td>840</td>\n",
       "      <td>N171US</td>\n",
       "      <td>SFO</td>\n",
       "      <td>CLT</td>\n",
       "      <td>20</td>\n",
       "      <td>...</td>\n",
       "      <td>5.0</td>\n",
       "      <td>0</td>\n",
       "      <td>0</td>\n",
       "      <td>NaN</td>\n",
       "      <td>NaN</td>\n",
       "      <td>NaN</td>\n",
       "      <td>NaN</td>\n",
       "      <td>NaN</td>\n",
       "      <td>NaN</td>\n",
       "      <td>8.631579</td>\n",
       "    </tr>\n",
       "    <tr>\n",
       "      <th>3</th>\n",
       "      <td>2015</td>\n",
       "      <td>1</td>\n",
       "      <td>1</td>\n",
       "      <td>4</td>\n",
       "      <td>AA</td>\n",
       "      <td>258</td>\n",
       "      <td>N3HYAA</td>\n",
       "      <td>LAX</td>\n",
       "      <td>MIA</td>\n",
       "      <td>20</td>\n",
       "      <td>...</td>\n",
       "      <td>-9.0</td>\n",
       "      <td>0</td>\n",
       "      <td>0</td>\n",
       "      <td>NaN</td>\n",
       "      <td>NaN</td>\n",
       "      <td>NaN</td>\n",
       "      <td>NaN</td>\n",
       "      <td>NaN</td>\n",
       "      <td>NaN</td>\n",
       "      <td>9.077519</td>\n",
       "    </tr>\n",
       "    <tr>\n",
       "      <th>4</th>\n",
       "      <td>2015</td>\n",
       "      <td>1</td>\n",
       "      <td>1</td>\n",
       "      <td>4</td>\n",
       "      <td>AS</td>\n",
       "      <td>135</td>\n",
       "      <td>N527AS</td>\n",
       "      <td>SEA</td>\n",
       "      <td>ANC</td>\n",
       "      <td>25</td>\n",
       "      <td>...</td>\n",
       "      <td>-21.0</td>\n",
       "      <td>0</td>\n",
       "      <td>0</td>\n",
       "      <td>NaN</td>\n",
       "      <td>NaN</td>\n",
       "      <td>NaN</td>\n",
       "      <td>NaN</td>\n",
       "      <td>NaN</td>\n",
       "      <td>NaN</td>\n",
       "      <td>7.276382</td>\n",
       "    </tr>\n",
       "  </tbody>\n",
       "</table>\n",
       "<p>5 rows × 32 columns</p>\n",
       "</div>"
      ],
      "text/plain": [
       "   YEAR  MONTH  DAY  DAY_OF_WEEK AIRLINE  FLIGHT_NUMBER TAIL_NUMBER  \\\n",
       "0  2015      1    1            4      AS             98      N407AS   \n",
       "1  2015      1    1            4      AA           2336      N3KUAA   \n",
       "2  2015      1    1            4      US            840      N171US   \n",
       "3  2015      1    1            4      AA            258      N3HYAA   \n",
       "4  2015      1    1            4      AS            135      N527AS   \n",
       "\n",
       "  ORIGIN_AIRPORT DESTINATION_AIRPORT  SCHEDULED_DEPARTURE  ...  ARRIVAL_DELAY  \\\n",
       "0            ANC                 SEA                    5  ...          -22.0   \n",
       "1            LAX                 PBI                   10  ...           -9.0   \n",
       "2            SFO                 CLT                   20  ...            5.0   \n",
       "3            LAX                 MIA                   20  ...           -9.0   \n",
       "4            SEA                 ANC                   25  ...          -21.0   \n",
       "\n",
       "   DIVERTED  CANCELLED  CANCELLATION_REASON  AIR_SYSTEM_DELAY  SECURITY_DELAY  \\\n",
       "0         0          0                  NaN               NaN             NaN   \n",
       "1         0          0                  NaN               NaN             NaN   \n",
       "2         0          0                  NaN               NaN             NaN   \n",
       "3         0          0                  NaN               NaN             NaN   \n",
       "4         0          0                  NaN               NaN             NaN   \n",
       "\n",
       "   AIRLINE_DELAY  LATE_AIRCRAFT_DELAY  WEATHER_DELAY  flight_speed  \n",
       "0            NaN                  NaN            NaN      8.568047  \n",
       "1            NaN                  NaN            NaN      8.859316  \n",
       "2            NaN                  NaN            NaN      8.631579  \n",
       "3            NaN                  NaN            NaN      9.077519  \n",
       "4            NaN                  NaN            NaN      7.276382  \n",
       "\n",
       "[5 rows x 32 columns]"
      ]
     },
     "execution_count": 262,
     "metadata": {},
     "output_type": "execute_result"
    }
   ],
   "source": [
    "flights_df[\"flight_speed\"] = flights_df[\"DISTANCE\"] / flights_df[\"AIR_TIME\"]\n",
    "flights_df.head()"
   ]
  },
  {
   "cell_type": "code",
   "execution_count": 192,
   "metadata": {},
   "outputs": [
    {
     "name": "stdout",
     "output_type": "stream",
     "text": [
      "Средняя скорость полёта = AS  7.196521300088667\n",
      "Средняя скорость полёта = AA  7.185435287317874\n",
      "Средняя скорость полёта = US  6.798382283107063\n",
      "Средняя скорость полёта = DL  6.940139715820667\n",
      "Средняя скорость полёта = UA  7.407453722437658\n"
     ]
    }
   ],
   "source": [
    "print(\"Средняя скорость полёта = AS \", flights_df[(flights_df[\"AIRLINE\"] == \"AS\")][\"flight_speed\"].mean())\n",
    "print(\"Средняя скорость полёта = AA \", flights_df[(flights_df[\"AIRLINE\"] == \"AA\")][\"flight_speed\"].mean())\n",
    "print(\"Средняя скорость полёта = US \", flights_df[(flights_df[\"AIRLINE\"] == \"US\")][\"flight_speed\"].mean())\n",
    "print(\"Средняя скорость полёта = DL \", flights_df[(flights_df[\"AIRLINE\"] == \"DL\")][\"flight_speed\"].mean())\n",
    "print(\"Средняя скорость полёта = UA \", flights_df[(flights_df[\"AIRLINE\"] == \"UA\")][\"flight_speed\"].mean())"
   ]
  },
  {
   "cell_type": "markdown",
   "metadata": {},
   "source": [
    "### 3. Определите коэффициент корреляции Пирсона и Спирмена между отменой рейса и днём недели, месяцем, авиакомпанией, аэропортом. Оцените значение p-value. Постройте плотность распределения признаков."
   ]
  },
  {
   "cell_type": "code",
   "execution_count": 162,
   "metadata": {},
   "outputs": [
    {
     "name": "stdout",
     "output_type": "stream",
     "text": [
      "День недели\n",
      "Коэффициент корреляции Пирсона:  (-0.034625008244161155, 7.423572761791261e-263)\n",
      "Коэффициент корреляции Спирмена:  SpearmanrResult(correlation=-0.035746328621575174, pvalue=5.020553437595337e-280)\n",
      "p-value is good\n"
     ]
    }
   ],
   "source": [
    "Pearson_day = pearsonr(flights_df[\"CANCELLED\"],flights_df[\"DAY_OF_WEEK\"])\n",
    "Spearman_day = spearmanr(flights_df[\"CANCELLED\"],flights_df[\"DAY_OF_WEEK\"])\n",
    "\n",
    "print(\"День недели\")\n",
    "print(\"Коэффициент корреляции Пирсона: \",Pearson_day)\n",
    "print(\"Коэффициент корреляции Спирмена: \",Spearman_day)\n",
    "                          \n",
    "if (Spearman_day[1] < 0.05):\n",
    "    print(\"p-value is good\")\n",
    "else:\n",
    "    print(\"p-value is not good\")"
   ]
  },
  {
   "cell_type": "code",
   "execution_count": 321,
   "metadata": {},
   "outputs": [
    {
     "data": {
      "text/plain": [
       "<matplotlib.axes._subplots.AxesSubplot at 0x697a3148>"
      ]
     },
     "execution_count": 321,
     "metadata": {},
     "output_type": "execute_result"
    },
    {
     "data": {
      "image/png": "[encoded data removed]",
      "text/plain": [
       "<Figure size 432x288 with 1 Axes>"
      ]
     },
     "metadata": {
      "needs_background": "light"
     },
     "output_type": "display_data"
    }
   ],
   "source": [
    "flights_df[\"DAY_OF_WEEK\"].value_counts().plot()\n"
   ]
  },
  {
   "cell_type": "code",
   "execution_count": 164,
   "metadata": {},
   "outputs": [
    {
     "name": "stdout",
     "output_type": "stream",
     "text": [
      "Месяц\n",
      "Коэффициент корреляции Пирсона:  (0.08088313333310305, 0.0)\n",
      "Коэффициент корреляции Спирмена:  SpearmanrResult(correlation=0.07898743126884478, pvalue=0.0)\n",
      "p-value is good\n"
     ]
    }
   ],
   "source": [
    "Pearson_month = pearsonr(flights_df[\"CANCELLED\"],flights_df[\"MONTH\"])\n",
    "Spearman_month = spearmanr(flights_df[\"CANCELLED\"],flights_df[\"MONTH\"])\n",
    "\n",
    "print(\"Месяц\")\n",
    "print(\"Коэффициент корреляции Пирсона: \",Pearson_month)\n",
    "print(\"Коэффициент корреляции Спирмена: \",Spearman_month)\n",
    "      \n",
    "if (Spearman_day[1] < 0.05):\n",
    "    print(\"p-value is good\")\n",
    "else:\n",
    "    print(\"p-value is not good\")"
   ]
  },
  {
   "cell_type": "code",
   "execution_count": 320,
   "metadata": {},
   "outputs": [
    {
     "data": {
      "text/plain": [
       "<matplotlib.axes._subplots.AxesSubplot at 0x6972da08>"
      ]
     },
     "execution_count": 320,
     "metadata": {},
     "output_type": "execute_result"
    },
    {
     "data": {
      "image/png": "[encoded data removed]",
      "text/plain": [
       "<Figure size 432x288 with 1 Axes>"
      ]
     },
     "metadata": {
      "needs_background": "light"
     },
     "output_type": "display_data"
    }
   ],
   "source": [
    "flights_df[\"MONTH\"].value_counts().plot()"
   ]
  },
  {
   "cell_type": "code",
   "execution_count": 166,
   "metadata": {},
   "outputs": [
    {
     "name": "stdout",
     "output_type": "stream",
     "text": [
      "Авиакомпания\n",
      "Коэффициент корреляции Пирсона:  (-0.016440619615354913, 9.616646136757818e-61)\n",
      "Коэффициент корреляции Спирмена:  SpearmanrResult(correlation=-0.016110450084979345, pvalue=2.1190667409249646e-58)\n",
      "p-value is good\n"
     ]
    }
   ],
   "source": [
    "label_encoder = LabelEncoder()\n",
    "airlines = pd.Series(label_encoder.fit_transform(flights_df[\"AIRLINE\"]))\n",
    "\n",
    "Pearson_airlines = pearsonr(flights_df[\"CANCELLED\"],airlines)\n",
    "Spearman_airlines = spearmanr(flights_df[\"CANCELLED\"],airlines)\n",
    "\n",
    "print(\"Авиакомпания\")\n",
    "print(\"Коэффициент корреляции Пирсона: \",Pearson_airlines)\n",
    "print(\"Коэффициент корреляции Спирмена: \",Spearman_airlines)\n",
    "      \n",
    "if (Spearman_day[1] < 0.05):\n",
    "    print(\"p-value is good\")\n",
    "else:\n",
    "    print(\"p-value is not good\")"
   ]
  },
  {
   "cell_type": "code",
   "execution_count": 319,
   "metadata": {},
   "outputs": [
    {
     "data": {
      "text/plain": [
       "<matplotlib.axes._subplots.AxesSubplot at 0x696b9388>"
      ]
     },
     "execution_count": 319,
     "metadata": {},
     "output_type": "execute_result"
    },
    {
     "data": {
      "image/png": "[encoded data removed]",
      "text/plain": [
       "<Figure size 432x288 with 1 Axes>"
      ]
     },
     "metadata": {
      "needs_background": "light"
     },
     "output_type": "display_data"
    }
   ],
   "source": [
    "flights_df[\"AIRLINE\"].value_counts().plot()"
   ]
  },
  {
   "cell_type": "code",
   "execution_count": 169,
   "metadata": {},
   "outputs": [
    {
     "name": "stdout",
     "output_type": "stream",
     "text": [
      "Аэропорт\n",
      "Коэффициент корреляции Пирсона:  (-0.02875458339874719, 6.695821507745994e-182)\n",
      "Коэффициент корреляции Спирмена:  SpearmanrResult(correlation=-0.027344950266289834, pvalue=1.0790116605366485e-164)\n",
      "p-value is good\n"
     ]
    }
   ],
   "source": [
    "airport = pd.Series(label_encoder.fit_transform(flights_df[\"ORIGIN_AIRPORT\"]))\n",
    "\n",
    "Pearson_airport = pearsonr(flights_df[\"CANCELLED\"], airport)\n",
    "Spearman_airport = spearmanr(flights_df[\"CANCELLED\"], airport)\n",
    "\n",
    "print(\"Аэропорт\")\n",
    "print(\"Коэффициент корреляции Пирсона: \",Pearson_airport)\n",
    "print(\"Коэффициент корреляции Спирмена: \",Spearman_airport)\n",
    "       \n",
    "if (Spearman_day[1] < 0.05):\n",
    "    print(\"p-value is good\")\n",
    "else:\n",
    "    print(\"p-value is not good\")"
   ]
  },
  {
   "cell_type": "code",
   "execution_count": 323,
   "metadata": {},
   "outputs": [
    {
     "data": {
      "text/plain": [
       "<matplotlib.axes._subplots.AxesSubplot at 0x69830488>"
      ]
     },
     "execution_count": 323,
     "metadata": {},
     "output_type": "execute_result"
    },
    {
     "data": {
      "image/png": "[encoded data removed]",
      "text/plain": [
       "<Figure size 432x288 with 1 Axes>"
      ]
     },
     "metadata": {
      "needs_background": "light"
     },
     "output_type": "display_data"
    }
   ],
   "source": [
    "flights_df[\"ORIGIN_AIRPORT\"].value_counts().plot()"
   ]
  },
  {
   "cell_type": "markdown",
   "metadata": {},
   "source": [
    "### 6. Визуализируйте тепловую карту частоты отмены рейсов. По одной оси – дни, по другой оси – рейс (для двух аэропортов)."
   ]
  },
  {
   "cell_type": "code",
   "execution_count": 401,
   "metadata": {},
   "outputs": [],
   "source": [
    "flights_df = pd.read_csv ('flights.csv',nrows=100000)"
   ]
  },
  {
   "cell_type": "code",
   "execution_count": 402,
   "metadata": {},
   "outputs": [
    {
     "data": {
      "text/html": [
       "<div>\n",
       "<style scoped>\n",
       "    .dataframe tbody tr th:only-of-type {\n",
       "        vertical-align: middle;\n",
       "    }\n",
       "\n",
       "    .dataframe tbody tr th {\n",
       "        vertical-align: top;\n",
       "    }\n",
       "\n",
       "    .dataframe thead th {\n",
       "        text-align: right;\n",
       "    }\n",
       "</style>\n",
       "<table border=\"1\" class=\"dataframe\">\n",
       "  <thead>\n",
       "    <tr style=\"text-align: right;\">\n",
       "      <th></th>\n",
       "      <th>YEAR</th>\n",
       "      <th>MONTH</th>\n",
       "      <th>DAY</th>\n",
       "      <th>DAY_OF_WEEK</th>\n",
       "      <th>AIRLINE</th>\n",
       "      <th>FLIGHT_NUMBER</th>\n",
       "      <th>TAIL_NUMBER</th>\n",
       "      <th>ORIGIN_AIRPORT</th>\n",
       "      <th>DESTINATION_AIRPORT</th>\n",
       "      <th>SCHEDULED_DEPARTURE</th>\n",
       "      <th>...</th>\n",
       "      <th>ARRIVAL_TIME</th>\n",
       "      <th>ARRIVAL_DELAY</th>\n",
       "      <th>DIVERTED</th>\n",
       "      <th>CANCELLED</th>\n",
       "      <th>CANCELLATION_REASON</th>\n",
       "      <th>AIR_SYSTEM_DELAY</th>\n",
       "      <th>SECURITY_DELAY</th>\n",
       "      <th>AIRLINE_DELAY</th>\n",
       "      <th>LATE_AIRCRAFT_DELAY</th>\n",
       "      <th>WEATHER_DELAY</th>\n",
       "    </tr>\n",
       "  </thead>\n",
       "  <tbody>\n",
       "    <tr>\n",
       "      <th>0</th>\n",
       "      <td>2015</td>\n",
       "      <td>1</td>\n",
       "      <td>1</td>\n",
       "      <td>4</td>\n",
       "      <td>AS</td>\n",
       "      <td>98</td>\n",
       "      <td>N407AS</td>\n",
       "      <td>ANC</td>\n",
       "      <td>SEA</td>\n",
       "      <td>5</td>\n",
       "      <td>...</td>\n",
       "      <td>408.0</td>\n",
       "      <td>-22.0</td>\n",
       "      <td>0</td>\n",
       "      <td>0</td>\n",
       "      <td>NaN</td>\n",
       "      <td>NaN</td>\n",
       "      <td>NaN</td>\n",
       "      <td>NaN</td>\n",
       "      <td>NaN</td>\n",
       "      <td>NaN</td>\n",
       "    </tr>\n",
       "    <tr>\n",
       "      <th>1</th>\n",
       "      <td>2015</td>\n",
       "      <td>1</td>\n",
       "      <td>1</td>\n",
       "      <td>4</td>\n",
       "      <td>AA</td>\n",
       "      <td>2336</td>\n",
       "      <td>N3KUAA</td>\n",
       "      <td>LAX</td>\n",
       "      <td>PBI</td>\n",
       "      <td>10</td>\n",
       "      <td>...</td>\n",
       "      <td>741.0</td>\n",
       "      <td>-9.0</td>\n",
       "      <td>0</td>\n",
       "      <td>0</td>\n",
       "      <td>NaN</td>\n",
       "      <td>NaN</td>\n",
       "      <td>NaN</td>\n",
       "      <td>NaN</td>\n",
       "      <td>NaN</td>\n",
       "      <td>NaN</td>\n",
       "    </tr>\n",
       "    <tr>\n",
       "      <th>2</th>\n",
       "      <td>2015</td>\n",
       "      <td>1</td>\n",
       "      <td>1</td>\n",
       "      <td>4</td>\n",
       "      <td>US</td>\n",
       "      <td>840</td>\n",
       "      <td>N171US</td>\n",
       "      <td>SFO</td>\n",
       "      <td>CLT</td>\n",
       "      <td>20</td>\n",
       "      <td>...</td>\n",
       "      <td>811.0</td>\n",
       "      <td>5.0</td>\n",
       "      <td>0</td>\n",
       "      <td>0</td>\n",
       "      <td>NaN</td>\n",
       "      <td>NaN</td>\n",
       "      <td>NaN</td>\n",
       "      <td>NaN</td>\n",
       "      <td>NaN</td>\n",
       "      <td>NaN</td>\n",
       "    </tr>\n",
       "    <tr>\n",
       "      <th>3</th>\n",
       "      <td>2015</td>\n",
       "      <td>1</td>\n",
       "      <td>1</td>\n",
       "      <td>4</td>\n",
       "      <td>AA</td>\n",
       "      <td>258</td>\n",
       "      <td>N3HYAA</td>\n",
       "      <td>LAX</td>\n",
       "      <td>MIA</td>\n",
       "      <td>20</td>\n",
       "      <td>...</td>\n",
       "      <td>756.0</td>\n",
       "      <td>-9.0</td>\n",
       "      <td>0</td>\n",
       "      <td>0</td>\n",
       "      <td>NaN</td>\n",
       "      <td>NaN</td>\n",
       "      <td>NaN</td>\n",
       "      <td>NaN</td>\n",
       "      <td>NaN</td>\n",
       "      <td>NaN</td>\n",
       "    </tr>\n",
       "    <tr>\n",
       "      <th>4</th>\n",
       "      <td>2015</td>\n",
       "      <td>1</td>\n",
       "      <td>1</td>\n",
       "      <td>4</td>\n",
       "      <td>AS</td>\n",
       "      <td>135</td>\n",
       "      <td>N527AS</td>\n",
       "      <td>SEA</td>\n",
       "      <td>ANC</td>\n",
       "      <td>25</td>\n",
       "      <td>...</td>\n",
       "      <td>259.0</td>\n",
       "      <td>-21.0</td>\n",
       "      <td>0</td>\n",
       "      <td>0</td>\n",
       "      <td>NaN</td>\n",
       "      <td>NaN</td>\n",
       "      <td>NaN</td>\n",
       "      <td>NaN</td>\n",
       "      <td>NaN</td>\n",
       "      <td>NaN</td>\n",
       "    </tr>\n",
       "  </tbody>\n",
       "</table>\n",
       "<p>5 rows × 31 columns</p>\n",
       "</div>"
      ],
      "text/plain": [
       "   YEAR  MONTH  DAY  DAY_OF_WEEK AIRLINE  FLIGHT_NUMBER TAIL_NUMBER  \\\n",
       "0  2015      1    1            4      AS             98      N407AS   \n",
       "1  2015      1    1            4      AA           2336      N3KUAA   \n",
       "2  2015      1    1            4      US            840      N171US   \n",
       "3  2015      1    1            4      AA            258      N3HYAA   \n",
       "4  2015      1    1            4      AS            135      N527AS   \n",
       "\n",
       "  ORIGIN_AIRPORT DESTINATION_AIRPORT  SCHEDULED_DEPARTURE  ...  ARRIVAL_TIME  \\\n",
       "0            ANC                 SEA                    5  ...         408.0   \n",
       "1            LAX                 PBI                   10  ...         741.0   \n",
       "2            SFO                 CLT                   20  ...         811.0   \n",
       "3            LAX                 MIA                   20  ...         756.0   \n",
       "4            SEA                 ANC                   25  ...         259.0   \n",
       "\n",
       "   ARRIVAL_DELAY  DIVERTED  CANCELLED  CANCELLATION_REASON  AIR_SYSTEM_DELAY  \\\n",
       "0          -22.0         0          0                  NaN               NaN   \n",
       "1           -9.0         0          0                  NaN               NaN   \n",
       "2            5.0         0          0                  NaN               NaN   \n",
       "3           -9.0         0          0                  NaN               NaN   \n",
       "4          -21.0         0          0                  NaN               NaN   \n",
       "\n",
       "   SECURITY_DELAY  AIRLINE_DELAY  LATE_AIRCRAFT_DELAY  WEATHER_DELAY  \n",
       "0             NaN            NaN                  NaN            NaN  \n",
       "1             NaN            NaN                  NaN            NaN  \n",
       "2             NaN            NaN                  NaN            NaN  \n",
       "3             NaN            NaN                  NaN            NaN  \n",
       "4             NaN            NaN                  NaN            NaN  \n",
       "\n",
       "[5 rows x 31 columns]"
      ]
     },
     "execution_count": 402,
     "metadata": {},
     "output_type": "execute_result"
    }
   ],
   "source": [
    "flights_df.head()"
   ]
  },
  {
   "cell_type": "code",
   "execution_count": 403,
   "metadata": {
    "scrolled": true
   },
   "outputs": [
    {
     "data": {
      "image/png": "[encoded data removed]",
      "text/plain": [
       "<Figure size 432x288 with 2 Axes>"
      ]
     },
     "metadata": {
      "needs_background": "light"
     },
     "output_type": "display_data"
    }
   ],
   "source": [
    "sns.heatmap(flights_df.corr());\n",
    "\n"
   ]
  },
  {
   "cell_type": "code",
   "execution_count": 410,
   "metadata": {},
   "outputs": [
    {
     "data": {
      "image/png": "[encoded data removed]",
      "text/plain": [
       "<Figure size 432x288 with 2 Axes>"
      ]
     },
     "metadata": {
      "needs_background": "light"
     },
     "output_type": "display_data"
    }
   ],
   "source": [
    "flights_df[flights_df['ORIGIN_AIRPORT']=='ORD']\n",
    "flights_df = flights_df.pivot_table(values=\"CANCELLED\", index=\"FLIGHT_NUMBER\", columns=\"DAY\")\n",
    "sns.heatmap(flights_df);"
   ]
  },
  {
   "cell_type": "markdown",
   "metadata": {},
   "source": [
    "### 7. Визуализируйте время задержки отправки и прибытия по трём аэропортам."
   ]
  },
  {
   "cell_type": "code",
   "execution_count": 331,
   "metadata": {},
   "outputs": [
    {
     "data": {
      "image/png": "[encoded data removed]",
      "text/plain": [
       "<Figure size 432x288 with 1 Axes>"
      ]
     },
     "metadata": {
      "needs_background": "light"
     },
     "output_type": "display_data"
    }
   ],
   "source": [
    "time = flights_df[flights_df[\"ORIGIN_AIRPORT\"] == \"SFO\"]\n",
    "SFO = time[[\"DEPARTURE_DELAY\" , \"ARRIVAL_DELAY\"]].head().plot()"
   ]
  },
  {
   "cell_type": "code",
   "execution_count": 330,
   "metadata": {},
   "outputs": [
    {
     "data": {
      "image/png": "[encoded data removed]",
      "text/plain": [
       "<Figure size 432x288 with 1 Axes>"
      ]
     },
     "metadata": {
      "needs_background": "light"
     },
     "output_type": "display_data"
    }
   ],
   "source": [
    "time = flights_df[flights_df[\"ORIGIN_AIRPORT\"] == \"SEA\"]\n",
    "SEA = time[[\"DEPARTURE_DELAY\" , \"ARRIVAL_DELAY\"]].head().plot()\n"
   ]
  },
  {
   "cell_type": "code",
   "execution_count": 329,
   "metadata": {},
   "outputs": [
    {
     "data": {
      "image/png": "[encoded data removed]",
      "text/plain": [
       "<Figure size 432x288 with 1 Axes>"
      ]
     },
     "metadata": {
      "needs_background": "light"
     },
     "output_type": "display_data"
    }
   ],
   "source": [
    "time = flights_df[flights_df[\"ORIGIN_AIRPORT\"] == \"ANC\"]\n",
    "ANC = time[[\"DEPARTURE_DELAY\" , \"ARRIVAL_DELAY\"]].head().plot()"
   ]
  },
  {
   "cell_type": "markdown",
   "metadata": {},
   "source": [
    "### 8. Определите для трёх выбранных аэропортов и визуализируйте задержки по каждой причине."
   ]
  },
  {
   "cell_type": "code",
   "execution_count": 25,
   "metadata": {},
   "outputs": [
    {
     "name": "stdout",
     "output_type": "stream",
     "text": [
      "B    210\n",
      "C     14\n",
      "A     10\n",
      "Name: CANCELLATION_REASON, dtype: int64\n"
     ]
    },
    {
     "data": {
      "text/plain": [
       "<matplotlib.axes._subplots.AxesSubplot at 0xbdd8ac8>"
      ]
     },
     "execution_count": 25,
     "metadata": {},
     "output_type": "execute_result"
    },
    {
     "data": {
      "image/png": "[encoded data removed]",
      "text/plain": [
       "<Figure size 432x288 with 1 Axes>"
      ]
     },
     "metadata": {
      "needs_background": "light"
     },
     "output_type": "display_data"
    }
   ],
   "source": [
    "time = flights_df[flights_df[\"ORIGIN_AIRPORT\"] == \"PBI\"]\n",
    "reason = time[\"CANCELLATION_REASON\"].value_counts()\n",
    "print(reason)\n",
    "reason.plot()"
   ]
  },
  {
   "cell_type": "code",
   "execution_count": 19,
   "metadata": {},
   "outputs": [
    {
     "name": "stdout",
     "output_type": "stream",
     "text": [
      "flights\n",
      "   YEAR  MONTH  DAY  DAY_OF_WEEK AIRLINE  FLIGHT_NUMBER TAIL_NUMBER  \\\n",
      "0  2015      1    1            4      AS             98      N407AS   \n",
      "1  2015      1    1            4      AA           2336      N3KUAA   \n",
      "2  2015      1    1            4      US            840      N171US   \n",
      "3  2015      1    1            4      AA            258      N3HYAA   \n",
      "4  2015      1    1            4      AS            135      N527AS   \n",
      "\n",
      "  ORIGIN_AIRPORT DESTINATION_AIRPORT  SCHEDULED_DEPARTURE  ...  ARRIVAL_TIME  \\\n",
      "0            ANC                 SEA                    5  ...         408.0   \n",
      "1            LAX                 PBI                   10  ...         741.0   \n",
      "2            SFO                 CLT                   20  ...         811.0   \n",
      "3            LAX                 MIA                   20  ...         756.0   \n",
      "4            SEA                 ANC                   25  ...         259.0   \n",
      "\n",
      "   ARRIVAL_DELAY  DIVERTED  CANCELLED  CANCELLATION_REASON  AIR_SYSTEM_DELAY  \\\n",
      "0          -22.0         0          0                  NaN               NaN   \n",
      "1           -9.0         0          0                  NaN               NaN   \n",
      "2            5.0         0          0                  NaN               NaN   \n",
      "3           -9.0         0          0                  NaN               NaN   \n",
      "4          -21.0         0          0                  NaN               NaN   \n",
      "\n",
      "   SECURITY_DELAY  AIRLINE_DELAY  LATE_AIRCRAFT_DELAY  WEATHER_DELAY  \n",
      "0             NaN            NaN                  NaN            NaN  \n",
      "1             NaN            NaN                  NaN            NaN  \n",
      "2             NaN            NaN                  NaN            NaN  \n",
      "3             NaN            NaN                  NaN            NaN  \n",
      "4             NaN            NaN                  NaN            NaN  \n",
      "\n",
      "[5 rows x 31 columns]\n"
     ]
    }
   ],
   "source": [
    "flights_df = pd.read_csv ('flights.csv', nrows=1000000)\n",
    "print(\"flights\")\n",
    "print(flights_df.head())"
   ]
  },
  {
   "cell_type": "code",
   "execution_count": 24,
   "metadata": {},
   "outputs": [
    {
     "name": "stdout",
     "output_type": "stream",
     "text": [
      "B    210\n",
      "C     14\n",
      "A     10\n",
      "Name: CANCELLATION_REASON, dtype: int64\n"
     ]
    },
    {
     "data": {
      "text/plain": [
       "<matplotlib.axes._subplots.AxesSubplot at 0x6ef9308>"
      ]
     },
     "execution_count": 24,
     "metadata": {},
     "output_type": "execute_result"
    },
    {
     "data": {
      "image/png": "[encoded data removed]",
      "text/plain": [
       "<Figure size 432x288 with 1 Axes>"
      ]
     },
     "metadata": {
      "needs_background": "light"
     },
     "output_type": "display_data"
    }
   ],
   "source": [
    "time = flights_df[flights_df[\"ORIGIN_AIRPORT\"] == \"PBI\"]\n",
    "reason = time[\"CANCELLATION_REASON\"].value_counts()\n",
    "print(reason)\n",
    "reason.plot()"
   ]
  },
  {
   "cell_type": "code",
   "execution_count": 23,
   "metadata": {},
   "outputs": [
    {
     "name": "stdout",
     "output_type": "stream",
     "text": [
      "B    92\n",
      "A    38\n",
      "C     6\n",
      "Name: CANCELLATION_REASON, dtype: int64\n"
     ]
    },
    {
     "data": {
      "text/plain": [
       "<matplotlib.axes._subplots.AxesSubplot at 0xccb6288>"
      ]
     },
     "execution_count": 23,
     "metadata": {},
     "output_type": "execute_result"
    },
    {
     "data": {
      "image/png": "[encoded data removed]",
      "text/plain": [
       "<Figure size 432x288 with 1 Axes>"
      ]
     },
     "metadata": {
      "needs_background": "light"
     },
     "output_type": "display_data"
    }
   ],
   "source": [
    "time = flights_df[flights_df[\"ORIGIN_AIRPORT\"] == \"SEA\"]\n",
    "reason = time[\"CANCELLATION_REASON\"].value_counts()\n",
    "print(reason)\n",
    "reason.plot()"
   ]
  },
  {
   "cell_type": "code",
   "execution_count": 411,
   "metadata": {},
   "outputs": [
    {
     "name": "stdout",
     "output_type": "stream",
     "text": [
      "<class 'pandas.core.frame.DataFrame'>\n",
      "Int64Index: 6047 entries, 1 to 7438\n",
      "Data columns (total 7 columns):\n",
      " #   Column  Non-Null Count  Dtype  \n",
      "---  ------  --------------  -----  \n",
      " 0   1       5010 non-null   float64\n",
      " 1   2       5496 non-null   float64\n",
      " 2   3       5328 non-null   float64\n",
      " 3   4       5470 non-null   float64\n",
      " 4   5       5457 non-null   float64\n",
      " 5   6       5308 non-null   float64\n",
      " 6   7       3300 non-null   float64\n",
      "dtypes: float64(7)\n",
      "memory usage: 377.9 KB\n"
     ]
    }
   ],
   "source": [
    "flights_df.info()"
   ]
  }
 ],
 "metadata": {
  "kernelspec": {
   "display_name": "Python 3",
   "language": "python",
   "name": "python3"
  },
  "language_info": {
   "codemirror_mode": {
    "name": "ipython",
    "version": 3
   },
   "file_extension": ".py",
   "mimetype": "text/x-python",
   "name": "python",
   "nbconvert_exporter": "python",
   "pygments_lexer": "ipython3",
   "version": "3.7.6"
  }
 },
 "nbformat": 4,
 "nbformat_minor": 4
}
