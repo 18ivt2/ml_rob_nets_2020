{
 "cells": [
  {
   "cell_type": "markdown",
   "metadata": {},
   "source": [
    "# Лабораторная работа 1#"
   ]
  },
  {
   "cell_type": "markdown",
   "metadata": {},
   "source": [
    "# Сделал: Окунев Никита #"
   ]
  },
  {
   "cell_type": "markdown",
   "metadata": {},
   "source": [
    "# Группа: 18ивт-2 #"
   ]
  },
  {
   "cell_type": "markdown",
   "metadata": {},
   "source": [
    "# Вариант:2 #"
   ]
  },
  {
   "cell_type": "code",
   "execution_count": 46,
   "metadata": {},
   "outputs": [],
   "source": [
    "import pandas as pd\n",
    "import numpy as np\n",
    "import matplotlib.pyplot as plt\n",
    "import seaborn as sns\n",
    "import sklearn as sk\n",
    "from scipy import stats\n",
    "from scipy.stats import pearsonr\n",
    "from scipy.stats import spearmanr\n",
    "from sklearn.preprocessing import LabelEncoder\n",
    "%matplotlib inline"
   ]
  },
  {
   "cell_type": "code",
   "execution_count": 47,
   "metadata": {},
   "outputs": [
    {
     "name": "stdout",
     "output_type": "stream",
     "text": [
      "flights\n",
      "   YEAR  MONTH  DAY  DAY_OF_WEEK AIRLINE  FLIGHT_NUMBER TAIL_NUMBER  \\\n",
      "0  2015      1    1            4      AS             98      N407AS   \n",
      "1  2015      1    1            4      AA           2336      N3KUAA   \n",
      "2  2015      1    1            4      US            840      N171US   \n",
      "3  2015      1    1            4      AA            258      N3HYAA   \n",
      "4  2015      1    1            4      AS            135      N527AS   \n",
      "\n",
      "  ORIGIN_AIRPORT DESTINATION_AIRPORT  SCHEDULED_DEPARTURE      ...        \\\n",
      "0            ANC                 SEA                    5      ...         \n",
      "1            LAX                 PBI                   10      ...         \n",
      "2            SFO                 CLT                   20      ...         \n",
      "3            LAX                 MIA                   20      ...         \n",
      "4            SEA                 ANC                   25      ...         \n",
      "\n",
      "   ARRIVAL_TIME  ARRIVAL_DELAY  DIVERTED  CANCELLED  CANCELLATION_REASON  \\\n",
      "0         408.0          -22.0         0          0                  NaN   \n",
      "1         741.0           -9.0         0          0                  NaN   \n",
      "2         811.0            5.0         0          0                  NaN   \n",
      "3         756.0           -9.0         0          0                  NaN   \n",
      "4         259.0          -21.0         0          0                  NaN   \n",
      "\n",
      "   AIR_SYSTEM_DELAY  SECURITY_DELAY  AIRLINE_DELAY  LATE_AIRCRAFT_DELAY  \\\n",
      "0               NaN             NaN            NaN                  NaN   \n",
      "1               NaN             NaN            NaN                  NaN   \n",
      "2               NaN             NaN            NaN                  NaN   \n",
      "3               NaN             NaN            NaN                  NaN   \n",
      "4               NaN             NaN            NaN                  NaN   \n",
      "\n",
      "   WEATHER_DELAY  \n",
      "0            NaN  \n",
      "1            NaN  \n",
      "2            NaN  \n",
      "3            NaN  \n",
      "4            NaN  \n",
      "\n",
      "[5 rows x 31 columns]\n"
     ]
    }
   ],
   "source": [
    "flights_df = pd.read_csv ('flights.csv', nrows=1000000)\n",
    "print(\"flights\")\n",
    "print(flights_df.head())"
   ]
  },
  {
   "cell_type": "code",
   "execution_count": 24,
   "metadata": {},
   "outputs": [
    {
     "data": {
      "text/html": [
       "<div>\n",
       "<style>\n",
       "    .dataframe thead tr:only-child th {\n",
       "        text-align: right;\n",
       "    }\n",
       "\n",
       "    .dataframe thead th {\n",
       "        text-align: left;\n",
       "    }\n",
       "\n",
       "    .dataframe tbody tr th {\n",
       "        vertical-align: top;\n",
       "    }\n",
       "</style>\n",
       "<table border=\"1\" class=\"dataframe\">\n",
       "  <thead>\n",
       "    <tr style=\"text-align: right;\">\n",
       "      <th></th>\n",
       "      <th>YEAR</th>\n",
       "      <th>MONTH</th>\n",
       "      <th>DAY</th>\n",
       "      <th>DAY_OF_WEEK</th>\n",
       "      <th>FLIGHT_NUMBER</th>\n",
       "      <th>SCHEDULED_DEPARTURE</th>\n",
       "      <th>DEPARTURE_TIME</th>\n",
       "      <th>DEPARTURE_DELAY</th>\n",
       "      <th>TAXI_OUT</th>\n",
       "      <th>WHEELS_OFF</th>\n",
       "      <th>...</th>\n",
       "      <th>SCHEDULED_ARRIVAL</th>\n",
       "      <th>ARRIVAL_TIME</th>\n",
       "      <th>ARRIVAL_DELAY</th>\n",
       "      <th>DIVERTED</th>\n",
       "      <th>CANCELLED</th>\n",
       "      <th>AIR_SYSTEM_DELAY</th>\n",
       "      <th>SECURITY_DELAY</th>\n",
       "      <th>AIRLINE_DELAY</th>\n",
       "      <th>LATE_AIRCRAFT_DELAY</th>\n",
       "      <th>WEATHER_DELAY</th>\n",
       "    </tr>\n",
       "  </thead>\n",
       "  <tbody>\n",
       "    <tr>\n",
       "      <th>count</th>\n",
       "      <td>1000000.0</td>\n",
       "      <td>1000000.000000</td>\n",
       "      <td>1000000.000000</td>\n",
       "      <td>1000000.000000</td>\n",
       "      <td>1000000.000000</td>\n",
       "      <td>1000000.000000</td>\n",
       "      <td>960842.000000</td>\n",
       "      <td>960842.000000</td>\n",
       "      <td>960145.000000</td>\n",
       "      <td>960145.000000</td>\n",
       "      <td>...</td>\n",
       "      <td>1000000.000000</td>\n",
       "      <td>959117.000000</td>\n",
       "      <td>957394.000000</td>\n",
       "      <td>1000000.000000</td>\n",
       "      <td>1000000.000000</td>\n",
       "      <td>221041.000000</td>\n",
       "      <td>221041.000000</td>\n",
       "      <td>221041.000000</td>\n",
       "      <td>221041.000000</td>\n",
       "      <td>221041.000000</td>\n",
       "    </tr>\n",
       "    <tr>\n",
       "      <th>mean</th>\n",
       "      <td>2015.0</td>\n",
       "      <td>1.630873</td>\n",
       "      <td>14.087290</td>\n",
       "      <td>3.942253</td>\n",
       "      <td>2259.305292</td>\n",
       "      <td>1322.605368</td>\n",
       "      <td>1333.892931</td>\n",
       "      <td>11.525092</td>\n",
       "      <td>16.735891</td>\n",
       "      <td>1357.706468</td>\n",
       "      <td>...</td>\n",
       "      <td>1505.500062</td>\n",
       "      <td>1492.772831</td>\n",
       "      <td>7.904573</td>\n",
       "      <td>0.002474</td>\n",
       "      <td>0.040132</td>\n",
       "      <td>13.879651</td>\n",
       "      <td>0.057921</td>\n",
       "      <td>18.040721</td>\n",
       "      <td>22.955108</td>\n",
       "      <td>3.631589</td>\n",
       "    </tr>\n",
       "    <tr>\n",
       "      <th>std</th>\n",
       "      <td>0.0</td>\n",
       "      <td>0.659208</td>\n",
       "      <td>8.846599</td>\n",
       "      <td>1.957458</td>\n",
       "      <td>1799.970834</td>\n",
       "      <td>470.183312</td>\n",
       "      <td>482.295869</td>\n",
       "      <td>39.451588</td>\n",
       "      <td>10.204402</td>\n",
       "      <td>482.567175</td>\n",
       "      <td>...</td>\n",
       "      <td>485.664098</td>\n",
       "      <td>506.662151</td>\n",
       "      <td>42.383991</td>\n",
       "      <td>0.049678</td>\n",
       "      <td>0.196269</td>\n",
       "      <td>25.747212</td>\n",
       "      <td>1.803159</td>\n",
       "      <td>46.037156</td>\n",
       "      <td>41.895492</td>\n",
       "      <td>23.792253</td>\n",
       "    </tr>\n",
       "    <tr>\n",
       "      <th>min</th>\n",
       "      <td>2015.0</td>\n",
       "      <td>1.000000</td>\n",
       "      <td>1.000000</td>\n",
       "      <td>1.000000</td>\n",
       "      <td>1.000000</td>\n",
       "      <td>5.000000</td>\n",
       "      <td>1.000000</td>\n",
       "      <td>-61.000000</td>\n",
       "      <td>1.000000</td>\n",
       "      <td>1.000000</td>\n",
       "      <td>...</td>\n",
       "      <td>1.000000</td>\n",
       "      <td>1.000000</td>\n",
       "      <td>-82.000000</td>\n",
       "      <td>0.000000</td>\n",
       "      <td>0.000000</td>\n",
       "      <td>0.000000</td>\n",
       "      <td>0.000000</td>\n",
       "      <td>0.000000</td>\n",
       "      <td>0.000000</td>\n",
       "      <td>0.000000</td>\n",
       "    </tr>\n",
       "    <tr>\n",
       "      <th>25%</th>\n",
       "      <td>2015.0</td>\n",
       "      <td>1.000000</td>\n",
       "      <td>6.000000</td>\n",
       "      <td>2.000000</td>\n",
       "      <td>756.000000</td>\n",
       "      <td>920.000000</td>\n",
       "      <td>929.000000</td>\n",
       "      <td>-5.000000</td>\n",
       "      <td>11.000000</td>\n",
       "      <td>944.000000</td>\n",
       "      <td>...</td>\n",
       "      <td>1121.000000</td>\n",
       "      <td>1116.000000</td>\n",
       "      <td>-12.000000</td>\n",
       "      <td>0.000000</td>\n",
       "      <td>0.000000</td>\n",
       "      <td>0.000000</td>\n",
       "      <td>0.000000</td>\n",
       "      <td>0.000000</td>\n",
       "      <td>0.000000</td>\n",
       "      <td>0.000000</td>\n",
       "    </tr>\n",
       "    <tr>\n",
       "      <th>50%</th>\n",
       "      <td>2015.0</td>\n",
       "      <td>2.000000</td>\n",
       "      <td>14.000000</td>\n",
       "      <td>4.000000</td>\n",
       "      <td>1727.000000</td>\n",
       "      <td>1320.000000</td>\n",
       "      <td>1329.000000</td>\n",
       "      <td>-1.000000</td>\n",
       "      <td>14.000000</td>\n",
       "      <td>1343.000000</td>\n",
       "      <td>...</td>\n",
       "      <td>1525.000000</td>\n",
       "      <td>1522.000000</td>\n",
       "      <td>-3.000000</td>\n",
       "      <td>0.000000</td>\n",
       "      <td>0.000000</td>\n",
       "      <td>4.000000</td>\n",
       "      <td>0.000000</td>\n",
       "      <td>2.000000</td>\n",
       "      <td>4.000000</td>\n",
       "      <td>0.000000</td>\n",
       "    </tr>\n",
       "    <tr>\n",
       "      <th>75%</th>\n",
       "      <td>2015.0</td>\n",
       "      <td>2.000000</td>\n",
       "      <td>22.000000</td>\n",
       "      <td>6.000000</td>\n",
       "      <td>3488.000000</td>\n",
       "      <td>1720.000000</td>\n",
       "      <td>1731.000000</td>\n",
       "      <td>11.000000</td>\n",
       "      <td>19.000000</td>\n",
       "      <td>1745.000000</td>\n",
       "      <td>...</td>\n",
       "      <td>1915.000000</td>\n",
       "      <td>1917.000000</td>\n",
       "      <td>12.000000</td>\n",
       "      <td>0.000000</td>\n",
       "      <td>0.000000</td>\n",
       "      <td>19.000000</td>\n",
       "      <td>0.000000</td>\n",
       "      <td>18.000000</td>\n",
       "      <td>29.000000</td>\n",
       "      <td>0.000000</td>\n",
       "    </tr>\n",
       "    <tr>\n",
       "      <th>max</th>\n",
       "      <td>2015.0</td>\n",
       "      <td>3.000000</td>\n",
       "      <td>31.000000</td>\n",
       "      <td>7.000000</td>\n",
       "      <td>9794.000000</td>\n",
       "      <td>2359.000000</td>\n",
       "      <td>2400.000000</td>\n",
       "      <td>1988.000000</td>\n",
       "      <td>225.000000</td>\n",
       "      <td>2400.000000</td>\n",
       "      <td>...</td>\n",
       "      <td>2359.000000</td>\n",
       "      <td>2400.000000</td>\n",
       "      <td>1971.000000</td>\n",
       "      <td>1.000000</td>\n",
       "      <td>1.000000</td>\n",
       "      <td>830.000000</td>\n",
       "      <td>241.000000</td>\n",
       "      <td>1971.000000</td>\n",
       "      <td>1313.000000</td>\n",
       "      <td>1152.000000</td>\n",
       "    </tr>\n",
       "  </tbody>\n",
       "</table>\n",
       "<p>8 rows × 26 columns</p>\n",
       "</div>"
      ],
      "text/plain": [
       "            YEAR           MONTH             DAY     DAY_OF_WEEK  \\\n",
       "count  1000000.0  1000000.000000  1000000.000000  1000000.000000   \n",
       "mean      2015.0        1.630873       14.087290        3.942253   \n",
       "std          0.0        0.659208        8.846599        1.957458   \n",
       "min       2015.0        1.000000        1.000000        1.000000   \n",
       "25%       2015.0        1.000000        6.000000        2.000000   \n",
       "50%       2015.0        2.000000       14.000000        4.000000   \n",
       "75%       2015.0        2.000000       22.000000        6.000000   \n",
       "max       2015.0        3.000000       31.000000        7.000000   \n",
       "\n",
       "        FLIGHT_NUMBER  SCHEDULED_DEPARTURE  DEPARTURE_TIME  DEPARTURE_DELAY  \\\n",
       "count  1000000.000000       1000000.000000   960842.000000    960842.000000   \n",
       "mean      2259.305292          1322.605368     1333.892931        11.525092   \n",
       "std       1799.970834           470.183312      482.295869        39.451588   \n",
       "min          1.000000             5.000000        1.000000       -61.000000   \n",
       "25%        756.000000           920.000000      929.000000        -5.000000   \n",
       "50%       1727.000000          1320.000000     1329.000000        -1.000000   \n",
       "75%       3488.000000          1720.000000     1731.000000        11.000000   \n",
       "max       9794.000000          2359.000000     2400.000000      1988.000000   \n",
       "\n",
       "            TAXI_OUT     WHEELS_OFF      ...        SCHEDULED_ARRIVAL  \\\n",
       "count  960145.000000  960145.000000      ...           1000000.000000   \n",
       "mean       16.735891    1357.706468      ...              1505.500062   \n",
       "std        10.204402     482.567175      ...               485.664098   \n",
       "min         1.000000       1.000000      ...                 1.000000   \n",
       "25%        11.000000     944.000000      ...              1121.000000   \n",
       "50%        14.000000    1343.000000      ...              1525.000000   \n",
       "75%        19.000000    1745.000000      ...              1915.000000   \n",
       "max       225.000000    2400.000000      ...              2359.000000   \n",
       "\n",
       "        ARRIVAL_TIME  ARRIVAL_DELAY        DIVERTED       CANCELLED  \\\n",
       "count  959117.000000  957394.000000  1000000.000000  1000000.000000   \n",
       "mean     1492.772831       7.904573        0.002474        0.040132   \n",
       "std       506.662151      42.383991        0.049678        0.196269   \n",
       "min         1.000000     -82.000000        0.000000        0.000000   \n",
       "25%      1116.000000     -12.000000        0.000000        0.000000   \n",
       "50%      1522.000000      -3.000000        0.000000        0.000000   \n",
       "75%      1917.000000      12.000000        0.000000        0.000000   \n",
       "max      2400.000000    1971.000000        1.000000        1.000000   \n",
       "\n",
       "       AIR_SYSTEM_DELAY  SECURITY_DELAY  AIRLINE_DELAY  LATE_AIRCRAFT_DELAY  \\\n",
       "count     221041.000000   221041.000000  221041.000000        221041.000000   \n",
       "mean          13.879651        0.057921      18.040721            22.955108   \n",
       "std           25.747212        1.803159      46.037156            41.895492   \n",
       "min            0.000000        0.000000       0.000000             0.000000   \n",
       "25%            0.000000        0.000000       0.000000             0.000000   \n",
       "50%            4.000000        0.000000       2.000000             4.000000   \n",
       "75%           19.000000        0.000000      18.000000            29.000000   \n",
       "max          830.000000      241.000000    1971.000000          1313.000000   \n",
       "\n",
       "       WEATHER_DELAY  \n",
       "count  221041.000000  \n",
       "mean        3.631589  \n",
       "std        23.792253  \n",
       "min         0.000000  \n",
       "25%         0.000000  \n",
       "50%         0.000000  \n",
       "75%         0.000000  \n",
       "max      1152.000000  \n",
       "\n",
       "[8 rows x 26 columns]"
      ]
     },
     "execution_count": 24,
     "metadata": {},
     "output_type": "execute_result"
    }
   ],
   "source": [
    "flights_df.describe()"
   ]
  },
  {
   "cell_type": "markdown",
   "metadata": {},
   "source": [
    "### 1) Подсчитайте количество отмененных рейсов"
   ]
  },
  {
   "cell_type": "code",
   "execution_count": 25,
   "metadata": {},
   "outputs": [
    {
     "name": "stdout",
     "output_type": "stream",
     "text": [
      "Отменённые рейсы = 40132\n"
     ]
    }
   ],
   "source": [
    "print(\"Отменённые рейсы =\",flights_df[flights_df['CANCELLED']==1].shape[0])"
   ]
  },
  {
   "cell_type": "markdown",
   "metadata": {},
   "source": [
    "### 2) Определите аэропорт, рейсы для которого отменяются наиболее часто"
   ]
  },
  {
   "cell_type": "code",
   "execution_count": 26,
   "metadata": {},
   "outputs": [
    {
     "name": "stdout",
     "output_type": "stream",
     "text": [
      "Аэропорт, рейсы для которого отменяются наиболее часто                 CANCELLED\n",
      "ORIGIN_AIRPORT           \n",
      "ATL                 63413\n"
     ]
    }
   ],
   "source": [
    "count = flights_df.groupby([\"ORIGIN_AIRPORT\"])[[\"CANCELLED\"]].count()\n",
    "print (\"Аэропорт, рейсы для которого отменяются наиболее часто\", count.sort_values(['CANCELLED'],ascending=False).head(1))"
   ]
  },
  {
   "cell_type": "markdown",
   "metadata": {},
   "source": [
    "### 3) Определите коэффициент корреляции Пирсона и Спирмена между отменой рейса и днём недели, месяцем, авиакомпанией, аэропортом. Оцените значение p-value. Постройте плотность распределения признаков"
   ]
  },
  {
   "cell_type": "code",
   "execution_count": 27,
   "metadata": {},
   "outputs": [
    {
     "name": "stdout",
     "output_type": "stream",
     "text": [
      "День недели\n",
      "Коэффициент корреляции Пирсона:  (-0.03462500824415702, 7.4235727640661773e-263)\n",
      "Коэффициент корреляции Спирмена:  SpearmanrResult(correlation=-0.035746328621575174, pvalue=5.020553437595337e-280)\n",
      "p-value is good\n"
     ]
    }
   ],
   "source": [
    "Pearson_day = pearsonr(flights_df[\"CANCELLED\"],flights_df[\"DAY_OF_WEEK\"])\n",
    "Spearman_day = spearmanr(flights_df[\"CANCELLED\"],flights_df[\"DAY_OF_WEEK\"])\n",
    "\n",
    "print(\"День недели\")\n",
    "print(\"Коэффициент корреляции Пирсона: \",Pearson_day)\n",
    "print(\"Коэффициент корреляции Спирмена: \",Spearman_day)\n",
    "                          \n",
    "if (Spearman_day[1] < 0.05):\n",
    "    print(\"p-value is good\")\n",
    "else:\n",
    "    print(\"p-value is not good\")"
   ]
  },
  {
   "cell_type": "code",
   "execution_count": 53,
   "metadata": {
    "scrolled": true
   },
   "outputs": [
    {
     "data": {
      "text/plain": [
       "<matplotlib.axes._subplots.AxesSubplot at 0x968cb16908>"
      ]
     },
     "execution_count": 53,
     "metadata": {},
     "output_type": "execute_result"
    },
    {
     "data": {
      "image/png": "[encoded data removed]",
      "text/plain": [
       "<matplotlib.figure.Figure at 0x9683157ef0>"
      ]
     },
     "metadata": {},
     "output_type": "display_data"
    }
   ],
   "source": [
    "flights_df[\"DAY_OF_WEEK\"].value_counts().plot()"
   ]
  },
  {
   "cell_type": "code",
   "execution_count": 29,
   "metadata": {},
   "outputs": [
    {
     "name": "stdout",
     "output_type": "stream",
     "text": [
      "Месяц\n",
      "Коэффициент корреляции Пирсона:  (0.080883133333056731, 0.0)\n",
      "Коэффициент корреляции Спирмена:  SpearmanrResult(correlation=0.078987431268844777, pvalue=0.0)\n",
      "p-value is good\n"
     ]
    }
   ],
   "source": [
    "Pearson_month = pearsonr(flights_df[\"CANCELLED\"],flights_df[\"MONTH\"])\n",
    "Spearman_month = spearmanr(flights_df[\"CANCELLED\"],flights_df[\"MONTH\"])\n",
    "\n",
    "print(\"Месяц\")\n",
    "print(\"Коэффициент корреляции Пирсона: \",Pearson_month)\n",
    "print(\"Коэффициент корреляции Спирмена: \",Spearman_month)\n",
    "      \n",
    "if (Spearman_day[1] < 0.05):\n",
    "    print(\"p-value is good\")\n",
    "else:\n",
    "    print(\"p-value is not good\")"
   ]
  },
  {
   "cell_type": "code",
   "execution_count": 30,
   "metadata": {},
   "outputs": [
    {
     "data": {
      "text/plain": [
       "<matplotlib.axes._subplots.AxesSubplot at 0x96804bf710>"
      ]
     },
     "execution_count": 30,
     "metadata": {},
     "output_type": "execute_result"
    },
    {
     "data": {
      "image/png": "[encoded data removed]",
      "text/plain": [
       "<matplotlib.figure.Figure at 0x9680f07898>"
      ]
     },
     "metadata": {},
     "output_type": "display_data"
    }
   ],
   "source": [
    "flights_df[\"MONTH\"].value_counts().plot()"
   ]
  },
  {
   "cell_type": "code",
   "execution_count": 31,
   "metadata": {},
   "outputs": [
    {
     "name": "stdout",
     "output_type": "stream",
     "text": [
      "Авиакомпания\n",
      "Коэффициент корреляции Пирсона:  (-0.0164406196153562, 9.6166461386136889e-61)\n",
      "Коэффициент корреляции Спирмена:  SpearmanrResult(correlation=-0.016110450084979345, pvalue=2.1190667409249646e-58)\n",
      "p-value is good\n"
     ]
    }
   ],
   "source": [
    "label_encoder = LabelEncoder()\n",
    "airlines = pd.Series(label_encoder.fit_transform(flights_df[\"AIRLINE\"]))\n",
    "\n",
    "Pearson_airlines = pearsonr(flights_df[\"CANCELLED\"],airlines)\n",
    "Spearman_airlines = spearmanr(flights_df[\"CANCELLED\"],airlines)\n",
    "\n",
    "print(\"Авиакомпания\")\n",
    "print(\"Коэффициент корреляции Пирсона: \",Pearson_airlines)\n",
    "print(\"Коэффициент корреляции Спирмена: \",Spearman_airlines)\n",
    "      \n",
    "if (Spearman_day[1] < 0.05):\n",
    "    print(\"p-value is good\")\n",
    "else:\n",
    "    print(\"p-value is not good\")"
   ]
  },
  {
   "cell_type": "code",
   "execution_count": 32,
   "metadata": {},
   "outputs": [
    {
     "data": {
      "text/plain": [
       "<matplotlib.axes._subplots.AxesSubplot at 0x96dc8cc550>"
      ]
     },
     "execution_count": 32,
     "metadata": {},
     "output_type": "execute_result"
    },
    {
     "data": {
      "image/png": "[encoded data removed]",
      "text/plain": [
       "<matplotlib.figure.Figure at 0x9680f3e9e8>"
      ]
     },
     "metadata": {},
     "output_type": "display_data"
    }
   ],
   "source": [
    "flights_df[\"AIRLINE\"].value_counts().plot()"
   ]
  },
  {
   "cell_type": "code",
   "execution_count": 33,
   "metadata": {},
   "outputs": [
    {
     "name": "stdout",
     "output_type": "stream",
     "text": [
      "Аэропорт\n",
      "Коэффициент корреляции Пирсона:  (-0.028754583398742577, 6.6958215093350677e-182)\n",
      "Коэффициент корреляции Спирмена:  SpearmanrResult(correlation=-0.027344950266289834, pvalue=1.0790116605366485e-164)\n",
      "p-value is good\n"
     ]
    }
   ],
   "source": [
    "airport = pd.Series(label_encoder.fit_transform(flights_df[\"ORIGIN_AIRPORT\"]))\n",
    "\n",
    "Pearson_airport = pearsonr(flights_df[\"CANCELLED\"], airport)\n",
    "Spearman_airport = spearmanr(flights_df[\"CANCELLED\"], airport)\n",
    "\n",
    "print(\"Аэропорт\")\n",
    "print(\"Коэффициент корреляции Пирсона: \",Pearson_airport)\n",
    "print(\"Коэффициент корреляции Спирмена: \",Spearman_airport)\n",
    "       \n",
    "if (Spearman_day[1] < 0.05):\n",
    "    print(\"p-value is good\")\n",
    "else:\n",
    "    print(\"p-value is not good\")"
   ]
  },
  {
   "cell_type": "code",
   "execution_count": 34,
   "metadata": {},
   "outputs": [
    {
     "data": {
      "text/plain": [
       "<matplotlib.axes._subplots.AxesSubplot at 0x9680fc2a90>"
      ]
     },
     "execution_count": 34,
     "metadata": {},
     "output_type": "execute_result"
    },
    {
     "data": {
      "image/png": "[encoded data removed]",
      "text/plain": [
       "<matplotlib.figure.Figure at 0x9680fb3160>"
      ]
     },
     "metadata": {},
     "output_type": "display_data"
    }
   ],
   "source": [
    "flights_df[\"ORIGIN_AIRPORT\"].value_counts().plot()"
   ]
  },
  {
   "cell_type": "markdown",
   "metadata": {},
   "source": [
    "### 4) Подсчитайте для трёх выбранных авиакомпаний: количество рейсов, количество отменённых рейсов, количество перенаправленных рейсов"
   ]
  },
  {
   "cell_type": "code",
   "execution_count": 35,
   "metadata": {},
   "outputs": [
    {
     "name": "stdout",
     "output_type": "stream",
     "text": [
      "Количество рейсов = NK  18698\n",
      "Количество отменённых рейсов = NK  460\n",
      "Количество перенаправленных рейсов = NK  24\n"
     ]
    }
   ],
   "source": [
    "print(\"Количество рейсов = NK \", flights_df[flights_df[\"AIRLINE\"] == \"NK\"][\"FLIGHT_NUMBER\"].shape[0]-1)\n",
    "print(\"Количество отменённых рейсов = NK \", flights_df[(flights_df[\"AIRLINE\"] == \"NK\") & (flights_df[\"CANCELLED\"] == 1)].shape[0]-1)\n",
    "print(\"Количество перенаправленных рейсов = NK \", flights_df[(flights_df[\"AIRLINE\"] == \"NK\") & (flights_df['DIVERTED'] == 1)].shape[0]-1)"
   ]
  },
  {
   "cell_type": "code",
   "execution_count": 36,
   "metadata": {},
   "outputs": [
    {
     "name": "stdout",
     "output_type": "stream",
     "text": [
      "Количество рейсов = UA  83514\n",
      "Количество отменённых рейсов = UA  2383\n",
      "Количество перенаправленных рейсов = UA  158\n"
     ]
    }
   ],
   "source": [
    "print(\"Количество рейсов = UA \", flights_df[flights_df[\"AIRLINE\"] == \"UA\"][\"FLIGHT_NUMBER\"].shape[0]-1)\n",
    "print(\"Количество отменённых рейсов = UA \", flights_df[(flights_df[\"AIRLINE\"] == \"UA\") & (flights_df[\"CANCELLED\"] == 1)].shape[0]-1)\n",
    "print(\"Количество перенаправленных рейсов = UA \", flights_df[(flights_df[\"AIRLINE\"] == \"UA\") & (flights_df[\"DIVERTED\"] == 1)].shape[0]-1)"
   ]
  },
  {
   "cell_type": "code",
   "execution_count": 37,
   "metadata": {},
   "outputs": [
    {
     "name": "stdout",
     "output_type": "stream",
     "text": [
      "Количество рейсов = DL  140423\n",
      "Количество отменённых рейсов = DL  2858\n",
      "Количество перенаправленных рейсов = DL  244\n"
     ]
    }
   ],
   "source": [
    "print(\"Количество рейсов = DL \", flights_df[flights_df[\"AIRLINE\"]==\"DL\"][\"FLIGHT_NUMBER\"].shape[0]-1)\n",
    "print(\"Количество отменённых рейсов = DL \", flights_df[(flights_df[\"AIRLINE\"] == \"DL\") & (flights_df[\"CANCELLED\"] == 1)].shape[0]-1)\n",
    "print(\"Количество перенаправленных рейсов = DL \", flights_df[(flights_df[\"AIRLINE\"] == \"DL\") & (flights_df[\"DIVERTED\"] == 1)].shape[0]-1)"
   ]
  },
  {
   "cell_type": "markdown",
   "metadata": {},
   "source": [
    "### 5) Определите скорость полёта для каждого рейса, скорость полёта среднюю для трёх выбранных авиакомпаний"
   ]
  },
  {
   "cell_type": "code",
   "execution_count": 38,
   "metadata": {},
   "outputs": [
    {
     "data": {
      "text/html": [
       "<div>\n",
       "<style>\n",
       "    .dataframe thead tr:only-child th {\n",
       "        text-align: right;\n",
       "    }\n",
       "\n",
       "    .dataframe thead th {\n",
       "        text-align: left;\n",
       "    }\n",
       "\n",
       "    .dataframe tbody tr th {\n",
       "        vertical-align: top;\n",
       "    }\n",
       "</style>\n",
       "<table border=\"1\" class=\"dataframe\">\n",
       "  <thead>\n",
       "    <tr style=\"text-align: right;\">\n",
       "      <th></th>\n",
       "      <th>AIRLINE</th>\n",
       "      <th>FLIGHT_SPEED</th>\n",
       "    </tr>\n",
       "  </thead>\n",
       "  <tbody>\n",
       "    <tr>\n",
       "      <th>0</th>\n",
       "      <td>AS</td>\n",
       "      <td>8.568047</td>\n",
       "    </tr>\n",
       "    <tr>\n",
       "      <th>1</th>\n",
       "      <td>AA</td>\n",
       "      <td>8.859316</td>\n",
       "    </tr>\n",
       "    <tr>\n",
       "      <th>2</th>\n",
       "      <td>US</td>\n",
       "      <td>8.631579</td>\n",
       "    </tr>\n",
       "    <tr>\n",
       "      <th>3</th>\n",
       "      <td>AA</td>\n",
       "      <td>9.077519</td>\n",
       "    </tr>\n",
       "    <tr>\n",
       "      <th>4</th>\n",
       "      <td>AS</td>\n",
       "      <td>7.276382</td>\n",
       "    </tr>\n",
       "    <tr>\n",
       "      <th>5</th>\n",
       "      <td>DL</td>\n",
       "      <td>7.713592</td>\n",
       "    </tr>\n",
       "    <tr>\n",
       "      <th>6</th>\n",
       "      <td>NK</td>\n",
       "      <td>8.435065</td>\n",
       "    </tr>\n",
       "    <tr>\n",
       "      <th>7</th>\n",
       "      <td>US</td>\n",
       "      <td>9.320175</td>\n",
       "    </tr>\n",
       "    <tr>\n",
       "      <th>8</th>\n",
       "      <td>AA</td>\n",
       "      <td>8.462428</td>\n",
       "    </tr>\n",
       "    <tr>\n",
       "      <th>9</th>\n",
       "      <td>DL</td>\n",
       "      <td>9.392473</td>\n",
       "    </tr>\n",
       "    <tr>\n",
       "      <th>10</th>\n",
       "      <td>DL</td>\n",
       "      <td>9.015038</td>\n",
       "    </tr>\n",
       "    <tr>\n",
       "      <th>11</th>\n",
       "      <td>AA</td>\n",
       "      <td>9.134454</td>\n",
       "    </tr>\n",
       "    <tr>\n",
       "      <th>12</th>\n",
       "      <td>DL</td>\n",
       "      <td>8.164894</td>\n",
       "    </tr>\n",
       "    <tr>\n",
       "      <th>13</th>\n",
       "      <td>DL</td>\n",
       "      <td>9.034091</td>\n",
       "    </tr>\n",
       "    <tr>\n",
       "      <th>14</th>\n",
       "      <td>DL</td>\n",
       "      <td>8.427711</td>\n",
       "    </tr>\n",
       "    <tr>\n",
       "      <th>15</th>\n",
       "      <td>AS</td>\n",
       "      <td>8.369942</td>\n",
       "    </tr>\n",
       "    <tr>\n",
       "      <th>16</th>\n",
       "      <td>DL</td>\n",
       "      <td>8.467836</td>\n",
       "    </tr>\n",
       "    <tr>\n",
       "      <th>17</th>\n",
       "      <td>UA</td>\n",
       "      <td>8.216080</td>\n",
       "    </tr>\n",
       "    <tr>\n",
       "      <th>18</th>\n",
       "      <td>AS</td>\n",
       "      <td>8.245989</td>\n",
       "    </tr>\n",
       "    <tr>\n",
       "      <th>19</th>\n",
       "      <td>DL</td>\n",
       "      <td>8.339181</td>\n",
       "    </tr>\n",
       "    <tr>\n",
       "      <th>20</th>\n",
       "      <td>NK</td>\n",
       "      <td>8.898438</td>\n",
       "    </tr>\n",
       "    <tr>\n",
       "      <th>21</th>\n",
       "      <td>AA</td>\n",
       "      <td>8.758842</td>\n",
       "    </tr>\n",
       "    <tr>\n",
       "      <th>22</th>\n",
       "      <td>NK</td>\n",
       "      <td>8.242188</td>\n",
       "    </tr>\n",
       "    <tr>\n",
       "      <th>23</th>\n",
       "      <td>AA</td>\n",
       "      <td>9.184314</td>\n",
       "    </tr>\n",
       "    <tr>\n",
       "      <th>24</th>\n",
       "      <td>DL</td>\n",
       "      <td>8.660000</td>\n",
       "    </tr>\n",
       "    <tr>\n",
       "      <th>25</th>\n",
       "      <td>UA</td>\n",
       "      <td>8.839744</td>\n",
       "    </tr>\n",
       "    <tr>\n",
       "      <th>26</th>\n",
       "      <td>AS</td>\n",
       "      <td>8.241935</td>\n",
       "    </tr>\n",
       "    <tr>\n",
       "      <th>27</th>\n",
       "      <td>NK</td>\n",
       "      <td>8.957831</td>\n",
       "    </tr>\n",
       "    <tr>\n",
       "      <th>28</th>\n",
       "      <td>US</td>\n",
       "      <td>9.346341</td>\n",
       "    </tr>\n",
       "    <tr>\n",
       "      <th>29</th>\n",
       "      <td>AA</td>\n",
       "      <td>9.090426</td>\n",
       "    </tr>\n",
       "    <tr>\n",
       "      <th>...</th>\n",
       "      <td>...</td>\n",
       "      <td>...</td>\n",
       "    </tr>\n",
       "    <tr>\n",
       "      <th>999970</th>\n",
       "      <td>US</td>\n",
       "      <td>9.081197</td>\n",
       "    </tr>\n",
       "    <tr>\n",
       "      <th>999971</th>\n",
       "      <td>VX</td>\n",
       "      <td>8.586047</td>\n",
       "    </tr>\n",
       "    <tr>\n",
       "      <th>999972</th>\n",
       "      <td>VX</td>\n",
       "      <td>8.552000</td>\n",
       "    </tr>\n",
       "    <tr>\n",
       "      <th>999973</th>\n",
       "      <td>VX</td>\n",
       "      <td>5.914286</td>\n",
       "    </tr>\n",
       "    <tr>\n",
       "      <th>999974</th>\n",
       "      <td>WN</td>\n",
       "      <td>7.219512</td>\n",
       "    </tr>\n",
       "    <tr>\n",
       "      <th>999975</th>\n",
       "      <td>WN</td>\n",
       "      <td>6.821622</td>\n",
       "    </tr>\n",
       "    <tr>\n",
       "      <th>999976</th>\n",
       "      <td>WN</td>\n",
       "      <td>6.928571</td>\n",
       "    </tr>\n",
       "    <tr>\n",
       "      <th>999977</th>\n",
       "      <td>EV</td>\n",
       "      <td>4.960784</td>\n",
       "    </tr>\n",
       "    <tr>\n",
       "      <th>999978</th>\n",
       "      <td>EV</td>\n",
       "      <td>7.034014</td>\n",
       "    </tr>\n",
       "    <tr>\n",
       "      <th>999979</th>\n",
       "      <td>EV</td>\n",
       "      <td>5.289474</td>\n",
       "    </tr>\n",
       "    <tr>\n",
       "      <th>999980</th>\n",
       "      <td>EV</td>\n",
       "      <td>6.782609</td>\n",
       "    </tr>\n",
       "    <tr>\n",
       "      <th>999981</th>\n",
       "      <td>EV</td>\n",
       "      <td>6.011364</td>\n",
       "    </tr>\n",
       "    <tr>\n",
       "      <th>999982</th>\n",
       "      <td>EV</td>\n",
       "      <td>7.774436</td>\n",
       "    </tr>\n",
       "    <tr>\n",
       "      <th>999983</th>\n",
       "      <td>EV</td>\n",
       "      <td>6.542553</td>\n",
       "    </tr>\n",
       "    <tr>\n",
       "      <th>999984</th>\n",
       "      <td>EV</td>\n",
       "      <td>4.076923</td>\n",
       "    </tr>\n",
       "    <tr>\n",
       "      <th>999985</th>\n",
       "      <td>EV</td>\n",
       "      <td>6.590476</td>\n",
       "    </tr>\n",
       "    <tr>\n",
       "      <th>999986</th>\n",
       "      <td>HA</td>\n",
       "      <td>7.014245</td>\n",
       "    </tr>\n",
       "    <tr>\n",
       "      <th>999987</th>\n",
       "      <td>HA</td>\n",
       "      <td>4.636364</td>\n",
       "    </tr>\n",
       "    <tr>\n",
       "      <th>999988</th>\n",
       "      <td>MQ</td>\n",
       "      <td>4.944444</td>\n",
       "    </tr>\n",
       "    <tr>\n",
       "      <th>999989</th>\n",
       "      <td>MQ</td>\n",
       "      <td>6.638298</td>\n",
       "    </tr>\n",
       "    <tr>\n",
       "      <th>999990</th>\n",
       "      <td>MQ</td>\n",
       "      <td>3.914286</td>\n",
       "    </tr>\n",
       "    <tr>\n",
       "      <th>999991</th>\n",
       "      <td>NK</td>\n",
       "      <td>8.364641</td>\n",
       "    </tr>\n",
       "    <tr>\n",
       "      <th>999992</th>\n",
       "      <td>NK</td>\n",
       "      <td>6.796610</td>\n",
       "    </tr>\n",
       "    <tr>\n",
       "      <th>999993</th>\n",
       "      <td>OO</td>\n",
       "      <td>7.279570</td>\n",
       "    </tr>\n",
       "    <tr>\n",
       "      <th>999994</th>\n",
       "      <td>OO</td>\n",
       "      <td>6.000000</td>\n",
       "    </tr>\n",
       "    <tr>\n",
       "      <th>999995</th>\n",
       "      <td>OO</td>\n",
       "      <td>6.069767</td>\n",
       "    </tr>\n",
       "    <tr>\n",
       "      <th>999996</th>\n",
       "      <td>AA</td>\n",
       "      <td>7.106061</td>\n",
       "    </tr>\n",
       "    <tr>\n",
       "      <th>999997</th>\n",
       "      <td>MQ</td>\n",
       "      <td>6.782609</td>\n",
       "    </tr>\n",
       "    <tr>\n",
       "      <th>999998</th>\n",
       "      <td>OO</td>\n",
       "      <td>6.299145</td>\n",
       "    </tr>\n",
       "    <tr>\n",
       "      <th>999999</th>\n",
       "      <td>DL</td>\n",
       "      <td>8.036649</td>\n",
       "    </tr>\n",
       "  </tbody>\n",
       "</table>\n",
       "<p>1000000 rows × 2 columns</p>\n",
       "</div>"
      ],
      "text/plain": [
       "       AIRLINE  FLIGHT_SPEED\n",
       "0           AS      8.568047\n",
       "1           AA      8.859316\n",
       "2           US      8.631579\n",
       "3           AA      9.077519\n",
       "4           AS      7.276382\n",
       "5           DL      7.713592\n",
       "6           NK      8.435065\n",
       "7           US      9.320175\n",
       "8           AA      8.462428\n",
       "9           DL      9.392473\n",
       "10          DL      9.015038\n",
       "11          AA      9.134454\n",
       "12          DL      8.164894\n",
       "13          DL      9.034091\n",
       "14          DL      8.427711\n",
       "15          AS      8.369942\n",
       "16          DL      8.467836\n",
       "17          UA      8.216080\n",
       "18          AS      8.245989\n",
       "19          DL      8.339181\n",
       "20          NK      8.898438\n",
       "21          AA      8.758842\n",
       "22          NK      8.242188\n",
       "23          AA      9.184314\n",
       "24          DL      8.660000\n",
       "25          UA      8.839744\n",
       "26          AS      8.241935\n",
       "27          NK      8.957831\n",
       "28          US      9.346341\n",
       "29          AA      9.090426\n",
       "...        ...           ...\n",
       "999970      US      9.081197\n",
       "999971      VX      8.586047\n",
       "999972      VX      8.552000\n",
       "999973      VX      5.914286\n",
       "999974      WN      7.219512\n",
       "999975      WN      6.821622\n",
       "999976      WN      6.928571\n",
       "999977      EV      4.960784\n",
       "999978      EV      7.034014\n",
       "999979      EV      5.289474\n",
       "999980      EV      6.782609\n",
       "999981      EV      6.011364\n",
       "999982      EV      7.774436\n",
       "999983      EV      6.542553\n",
       "999984      EV      4.076923\n",
       "999985      EV      6.590476\n",
       "999986      HA      7.014245\n",
       "999987      HA      4.636364\n",
       "999988      MQ      4.944444\n",
       "999989      MQ      6.638298\n",
       "999990      MQ      3.914286\n",
       "999991      NK      8.364641\n",
       "999992      NK      6.796610\n",
       "999993      OO      7.279570\n",
       "999994      OO      6.000000\n",
       "999995      OO      6.069767\n",
       "999996      AA      7.106061\n",
       "999997      MQ      6.782609\n",
       "999998      OO      6.299145\n",
       "999999      DL      8.036649\n",
       "\n",
       "[1000000 rows x 2 columns]"
      ]
     },
     "execution_count": 38,
     "metadata": {},
     "output_type": "execute_result"
    }
   ],
   "source": [
    "flights_df['FLIGHT_SPEED'] = flights_df['DISTANCE']/flights_df['AIR_TIME']\n",
    "speed_df = flights_df[['AIRLINE', 'FLIGHT_SPEED']]\n",
    "speed_df"
   ]
  },
  {
   "cell_type": "code",
   "execution_count": 39,
   "metadata": {},
   "outputs": [
    {
     "data": {
      "text/plain": [
       "AIRLINE\n",
       "AA    7.185435\n",
       "AS    7.196521\n",
       "B6    6.943511\n",
       "Name: FLIGHT_SPEED, dtype: float64"
      ]
     },
     "execution_count": 39,
     "metadata": {},
     "output_type": "execute_result"
    }
   ],
   "source": [
    "avg_df = speed_df.groupby(['AIRLINE'])['FLIGHT_SPEED'].mean()\n",
    "avg_df.head(3)"
   ]
  },
  {
   "cell_type": "markdown",
   "metadata": {},
   "source": [
    "### 6) Визуализируйте тепловую карту частоты отмены рейсов. По одной оси – дни, по другой оси – рейс (для двух аэропортов)"
   ]
  },
  {
   "cell_type": "code",
   "execution_count": 40,
   "metadata": {},
   "outputs": [
    {
     "data": {
      "text/html": [
       "<div>\n",
       "<style>\n",
       "    .dataframe thead tr:only-child th {\n",
       "        text-align: right;\n",
       "    }\n",
       "\n",
       "    .dataframe thead th {\n",
       "        text-align: left;\n",
       "    }\n",
       "\n",
       "    .dataframe tbody tr th {\n",
       "        vertical-align: top;\n",
       "    }\n",
       "</style>\n",
       "<table border=\"1\" class=\"dataframe\">\n",
       "  <thead>\n",
       "    <tr style=\"text-align: right;\">\n",
       "      <th></th>\n",
       "      <th>YEAR</th>\n",
       "      <th>MONTH</th>\n",
       "      <th>DAY</th>\n",
       "      <th>DAY_OF_WEEK</th>\n",
       "      <th>AIRLINE</th>\n",
       "      <th>FLIGHT_NUMBER</th>\n",
       "      <th>TAIL_NUMBER</th>\n",
       "      <th>ORIGIN_AIRPORT</th>\n",
       "      <th>DESTINATION_AIRPORT</th>\n",
       "      <th>SCHEDULED_DEPARTURE</th>\n",
       "      <th>...</th>\n",
       "      <th>ARRIVAL_TIME</th>\n",
       "      <th>ARRIVAL_DELAY</th>\n",
       "      <th>DIVERTED</th>\n",
       "      <th>CANCELLED</th>\n",
       "      <th>CANCELLATION_REASON</th>\n",
       "      <th>AIR_SYSTEM_DELAY</th>\n",
       "      <th>SECURITY_DELAY</th>\n",
       "      <th>AIRLINE_DELAY</th>\n",
       "      <th>LATE_AIRCRAFT_DELAY</th>\n",
       "      <th>WEATHER_DELAY</th>\n",
       "    </tr>\n",
       "  </thead>\n",
       "  <tbody>\n",
       "    <tr>\n",
       "      <th>0</th>\n",
       "      <td>2015</td>\n",
       "      <td>1</td>\n",
       "      <td>1</td>\n",
       "      <td>4</td>\n",
       "      <td>AS</td>\n",
       "      <td>98</td>\n",
       "      <td>N407AS</td>\n",
       "      <td>ANC</td>\n",
       "      <td>SEA</td>\n",
       "      <td>5</td>\n",
       "      <td>...</td>\n",
       "      <td>408.0</td>\n",
       "      <td>-22.0</td>\n",
       "      <td>0</td>\n",
       "      <td>0</td>\n",
       "      <td>NaN</td>\n",
       "      <td>NaN</td>\n",
       "      <td>NaN</td>\n",
       "      <td>NaN</td>\n",
       "      <td>NaN</td>\n",
       "      <td>NaN</td>\n",
       "    </tr>\n",
       "    <tr>\n",
       "      <th>1</th>\n",
       "      <td>2015</td>\n",
       "      <td>1</td>\n",
       "      <td>1</td>\n",
       "      <td>4</td>\n",
       "      <td>AA</td>\n",
       "      <td>2336</td>\n",
       "      <td>N3KUAA</td>\n",
       "      <td>LAX</td>\n",
       "      <td>PBI</td>\n",
       "      <td>10</td>\n",
       "      <td>...</td>\n",
       "      <td>741.0</td>\n",
       "      <td>-9.0</td>\n",
       "      <td>0</td>\n",
       "      <td>0</td>\n",
       "      <td>NaN</td>\n",
       "      <td>NaN</td>\n",
       "      <td>NaN</td>\n",
       "      <td>NaN</td>\n",
       "      <td>NaN</td>\n",
       "      <td>NaN</td>\n",
       "    </tr>\n",
       "    <tr>\n",
       "      <th>2</th>\n",
       "      <td>2015</td>\n",
       "      <td>1</td>\n",
       "      <td>1</td>\n",
       "      <td>4</td>\n",
       "      <td>US</td>\n",
       "      <td>840</td>\n",
       "      <td>N171US</td>\n",
       "      <td>SFO</td>\n",
       "      <td>CLT</td>\n",
       "      <td>20</td>\n",
       "      <td>...</td>\n",
       "      <td>811.0</td>\n",
       "      <td>5.0</td>\n",
       "      <td>0</td>\n",
       "      <td>0</td>\n",
       "      <td>NaN</td>\n",
       "      <td>NaN</td>\n",
       "      <td>NaN</td>\n",
       "      <td>NaN</td>\n",
       "      <td>NaN</td>\n",
       "      <td>NaN</td>\n",
       "    </tr>\n",
       "    <tr>\n",
       "      <th>3</th>\n",
       "      <td>2015</td>\n",
       "      <td>1</td>\n",
       "      <td>1</td>\n",
       "      <td>4</td>\n",
       "      <td>AA</td>\n",
       "      <td>258</td>\n",
       "      <td>N3HYAA</td>\n",
       "      <td>LAX</td>\n",
       "      <td>MIA</td>\n",
       "      <td>20</td>\n",
       "      <td>...</td>\n",
       "      <td>756.0</td>\n",
       "      <td>-9.0</td>\n",
       "      <td>0</td>\n",
       "      <td>0</td>\n",
       "      <td>NaN</td>\n",
       "      <td>NaN</td>\n",
       "      <td>NaN</td>\n",
       "      <td>NaN</td>\n",
       "      <td>NaN</td>\n",
       "      <td>NaN</td>\n",
       "    </tr>\n",
       "    <tr>\n",
       "      <th>4</th>\n",
       "      <td>2015</td>\n",
       "      <td>1</td>\n",
       "      <td>1</td>\n",
       "      <td>4</td>\n",
       "      <td>AS</td>\n",
       "      <td>135</td>\n",
       "      <td>N527AS</td>\n",
       "      <td>SEA</td>\n",
       "      <td>ANC</td>\n",
       "      <td>25</td>\n",
       "      <td>...</td>\n",
       "      <td>259.0</td>\n",
       "      <td>-21.0</td>\n",
       "      <td>0</td>\n",
       "      <td>0</td>\n",
       "      <td>NaN</td>\n",
       "      <td>NaN</td>\n",
       "      <td>NaN</td>\n",
       "      <td>NaN</td>\n",
       "      <td>NaN</td>\n",
       "      <td>NaN</td>\n",
       "    </tr>\n",
       "  </tbody>\n",
       "</table>\n",
       "<p>5 rows × 31 columns</p>\n",
       "</div>"
      ],
      "text/plain": [
       "   YEAR  MONTH  DAY  DAY_OF_WEEK AIRLINE  FLIGHT_NUMBER TAIL_NUMBER  \\\n",
       "0  2015      1    1            4      AS             98      N407AS   \n",
       "1  2015      1    1            4      AA           2336      N3KUAA   \n",
       "2  2015      1    1            4      US            840      N171US   \n",
       "3  2015      1    1            4      AA            258      N3HYAA   \n",
       "4  2015      1    1            4      AS            135      N527AS   \n",
       "\n",
       "  ORIGIN_AIRPORT DESTINATION_AIRPORT  SCHEDULED_DEPARTURE      ...        \\\n",
       "0            ANC                 SEA                    5      ...         \n",
       "1            LAX                 PBI                   10      ...         \n",
       "2            SFO                 CLT                   20      ...         \n",
       "3            LAX                 MIA                   20      ...         \n",
       "4            SEA                 ANC                   25      ...         \n",
       "\n",
       "   ARRIVAL_TIME  ARRIVAL_DELAY  DIVERTED  CANCELLED  CANCELLATION_REASON  \\\n",
       "0         408.0          -22.0         0          0                  NaN   \n",
       "1         741.0           -9.0         0          0                  NaN   \n",
       "2         811.0            5.0         0          0                  NaN   \n",
       "3         756.0           -9.0         0          0                  NaN   \n",
       "4         259.0          -21.0         0          0                  NaN   \n",
       "\n",
       "   AIR_SYSTEM_DELAY  SECURITY_DELAY  AIRLINE_DELAY  LATE_AIRCRAFT_DELAY  \\\n",
       "0               NaN             NaN            NaN                  NaN   \n",
       "1               NaN             NaN            NaN                  NaN   \n",
       "2               NaN             NaN            NaN                  NaN   \n",
       "3               NaN             NaN            NaN                  NaN   \n",
       "4               NaN             NaN            NaN                  NaN   \n",
       "\n",
       "   WEATHER_DELAY  \n",
       "0            NaN  \n",
       "1            NaN  \n",
       "2            NaN  \n",
       "3            NaN  \n",
       "4            NaN  \n",
       "\n",
       "[5 rows x 31 columns]"
      ]
     },
     "execution_count": 40,
     "metadata": {},
     "output_type": "execute_result"
    }
   ],
   "source": [
    "flights_df = pd.read_csv ('flights.csv',nrows=100000)\n",
    "flights_df.head()"
   ]
  },
  {
   "cell_type": "code",
   "execution_count": 41,
   "metadata": {},
   "outputs": [
    {
     "data": {
      "image/png": "[encoded data removed]",
      "text/plain": [
       "<matplotlib.figure.Figure at 0x96804b1a58>"
      ]
     },
     "metadata": {},
     "output_type": "display_data"
    }
   ],
   "source": [
    "sns.heatmap(flights_df.corr());"
   ]
  },
  {
   "cell_type": "code",
   "execution_count": 42,
   "metadata": {},
   "outputs": [
    {
     "data": {
      "image/png": "[encoded data removed]",
      "text/plain": [
       "<matplotlib.figure.Figure at 0x9680f20d68>"
      ]
     },
     "metadata": {},
     "output_type": "display_data"
    }
   ],
   "source": [
    "flights_df[flights_df['ORIGIN_AIRPORT']=='ORD']\n",
    "flights_df = flights_df.pivot_table(values=\"CANCELLED\", index=\"FLIGHT_NUMBER\", columns=\"DAY\")\n",
    "sns.heatmap(flights_df);"
   ]
  },
  {
   "cell_type": "markdown",
   "metadata": {},
   "source": [
    "### 7) Визуализируйте время задержки отправки и прибытия по трём аэропортам"
   ]
  },
  {
   "cell_type": "code",
   "execution_count": 48,
   "metadata": {},
   "outputs": [
    {
     "data": {
      "image/png": "[encoded data removed]",
      "text/plain": [
       "<matplotlib.figure.Figure at 0x9681437f60>"
      ]
     },
     "metadata": {},
     "output_type": "display_data"
    }
   ],
   "source": [
    "time = flights_df[flights_df[\"ORIGIN_AIRPORT\"] == \"SFO\"]\n",
    "SFO = time[[\"DEPARTURE_DELAY\" , \"ARRIVAL_DELAY\"]].head().plot()"
   ]
  },
  {
   "cell_type": "code",
   "execution_count": 49,
   "metadata": {},
   "outputs": [
    {
     "data": {
      "image/png": "[encoded data removed]",
      "text/plain": [
       "<matplotlib.figure.Figure at 0x96dc230b38>"
      ]
     },
     "metadata": {},
     "output_type": "display_data"
    }
   ],
   "source": [
    "time = flights_df[flights_df[\"ORIGIN_AIRPORT\"] == \"SEA\"]\n",
    "SEA = time[[\"DEPARTURE_DELAY\" , \"ARRIVAL_DELAY\"]].head().plot()"
   ]
  },
  {
   "cell_type": "code",
   "execution_count": 50,
   "metadata": {},
   "outputs": [
    {
     "data": {
      "image/png": "[encoded data removed]",
      "text/plain": [
       "<matplotlib.figure.Figure at 0x96dcefc208>"
      ]
     },
     "metadata": {},
     "output_type": "display_data"
    }
   ],
   "source": [
    "time = flights_df[flights_df[\"ORIGIN_AIRPORT\"] == \"ANC\"]\n",
    "ANC = time[[\"DEPARTURE_DELAY\" , \"ARRIVAL_DELAY\"]].head().plot()"
   ]
  },
  {
   "cell_type": "markdown",
   "metadata": {},
   "source": [
    "### 8) Определите для трёх выбранных аэропортов и визуализируйте задержки по каждой причине\n"
   ]
  },
  {
   "cell_type": "code",
   "execution_count": 51,
   "metadata": {},
   "outputs": [
    {
     "name": "stdout",
     "output_type": "stream",
     "text": [
      "B    210\n",
      "C     14\n",
      "A     10\n",
      "Name: CANCELLATION_REASON, dtype: int64\n"
     ]
    },
    {
     "data": {
      "text/plain": [
       "<matplotlib.axes._subplots.AxesSubplot at 0x96dc7741d0>"
      ]
     },
     "execution_count": 51,
     "metadata": {},
     "output_type": "execute_result"
    },
    {
     "data": {
      "image/png": "[encoded data removed]",
      "text/plain": [
       "<matplotlib.figure.Figure at 0x96dc885a20>"
      ]
     },
     "metadata": {},
     "output_type": "display_data"
    }
   ],
   "source": [
    "time = flights_df[flights_df[\"ORIGIN_AIRPORT\"] == \"PBI\"]\n",
    "reason = time[\"CANCELLATION_REASON\"].value_counts()\n",
    "print(reason)\n",
    "reason.plot()"
   ]
  },
  {
   "cell_type": "code",
   "execution_count": 14,
   "metadata": {},
   "outputs": [
    {
     "name": "stdout",
     "output_type": "stream",
     "text": [
      "flights\n",
      "   YEAR  MONTH  DAY  DAY_OF_WEEK AIRLINE  FLIGHT_NUMBER TAIL_NUMBER  \\\n",
      "0  2015      1    1            4      AS             98      N407AS   \n",
      "1  2015      1    1            4      AA           2336      N3KUAA   \n",
      "2  2015      1    1            4      US            840      N171US   \n",
      "3  2015      1    1            4      AA            258      N3HYAA   \n",
      "4  2015      1    1            4      AS            135      N527AS   \n",
      "\n",
      "  ORIGIN_AIRPORT DESTINATION_AIRPORT  SCHEDULED_DEPARTURE      ...        \\\n",
      "0            ANC                 SEA                    5      ...         \n",
      "1            LAX                 PBI                   10      ...         \n",
      "2            SFO                 CLT                   20      ...         \n",
      "3            LAX                 MIA                   20      ...         \n",
      "4            SEA                 ANC                   25      ...         \n",
      "\n",
      "   ARRIVAL_TIME  ARRIVAL_DELAY  DIVERTED  CANCELLED  CANCELLATION_REASON  \\\n",
      "0         408.0          -22.0         0          0                  NaN   \n",
      "1         741.0           -9.0         0          0                  NaN   \n",
      "2         811.0            5.0         0          0                  NaN   \n",
      "3         756.0           -9.0         0          0                  NaN   \n",
      "4         259.0          -21.0         0          0                  NaN   \n",
      "\n",
      "   AIR_SYSTEM_DELAY  SECURITY_DELAY  AIRLINE_DELAY  LATE_AIRCRAFT_DELAY  \\\n",
      "0               NaN             NaN            NaN                  NaN   \n",
      "1               NaN             NaN            NaN                  NaN   \n",
      "2               NaN             NaN            NaN                  NaN   \n",
      "3               NaN             NaN            NaN                  NaN   \n",
      "4               NaN             NaN            NaN                  NaN   \n",
      "\n",
      "   WEATHER_DELAY  \n",
      "0            NaN  \n",
      "1            NaN  \n",
      "2            NaN  \n",
      "3            NaN  \n",
      "4            NaN  \n",
      "\n",
      "[5 rows x 31 columns]\n"
     ]
    }
   ],
   "source": [
    "flights_df = pd.read_csv ('flights.csv', nrows=1000000)\n",
    "print(\"flights\")\n",
    "print(flights_df.head())"
   ]
  },
  {
   "cell_type": "code",
   "execution_count": 52,
   "metadata": {},
   "outputs": [
    {
     "name": "stdout",
     "output_type": "stream",
     "text": [
      "B    210\n",
      "C     14\n",
      "A     10\n",
      "Name: CANCELLATION_REASON, dtype: int64\n"
     ]
    },
    {
     "data": {
      "text/plain": [
       "<matplotlib.axes._subplots.AxesSubplot at 0x9680228860>"
      ]
     },
     "execution_count": 52,
     "metadata": {},
     "output_type": "execute_result"
    },
    {
     "data": {
      "image/png": "[encoded data removed]",
      "text/plain": [
       "<matplotlib.figure.Figure at 0x96dc7842e8>"
      ]
     },
     "metadata": {},
     "output_type": "display_data"
    }
   ],
   "source": [
    "time = flights_df[flights_df[\"ORIGIN_AIRPORT\"] == \"PBI\"]\n",
    "reason = time[\"CANCELLATION_REASON\"].value_counts()\n",
    "print(reason)\n",
    "reason.plot()"
   ]
  },
  {
   "cell_type": "markdown",
   "metadata": {},
   "source": [
    "### 9) Определите авиакомпанию с максимальными задержками рейсов по отправке и прибытию"
   ]
  },
  {
   "cell_type": "code",
   "execution_count": 17,
   "metadata": {},
   "outputs": [],
   "source": [
    "max_arrival = flights_df.groupby(['AIRLINE'])[['ARRIVAL_DELAY']].max()\n",
    "max_arrival = max_arrival.sort_values(by=['ARRIVAL_DELAY'], ascending=False)"
   ]
  },
  {
   "cell_type": "code",
   "execution_count": 18,
   "metadata": {},
   "outputs": [
    {
     "name": "stdout",
     "output_type": "stream",
     "text": [
      "Максимальная задержка по прибытию:\n"
     ]
    },
    {
     "data": {
      "text/html": [
       "<div>\n",
       "<style>\n",
       "    .dataframe thead tr:only-child th {\n",
       "        text-align: right;\n",
       "    }\n",
       "\n",
       "    .dataframe thead th {\n",
       "        text-align: left;\n",
       "    }\n",
       "\n",
       "    .dataframe tbody tr th {\n",
       "        vertical-align: top;\n",
       "    }\n",
       "</style>\n",
       "<table border=\"1\" class=\"dataframe\">\n",
       "  <thead>\n",
       "    <tr style=\"text-align: right;\">\n",
       "      <th></th>\n",
       "      <th>ARRIVAL_DELAY</th>\n",
       "    </tr>\n",
       "    <tr>\n",
       "      <th>AIRLINE</th>\n",
       "      <th></th>\n",
       "    </tr>\n",
       "  </thead>\n",
       "  <tbody>\n",
       "    <tr>\n",
       "      <th>AA</th>\n",
       "      <td>1971.0</td>\n",
       "    </tr>\n",
       "  </tbody>\n",
       "</table>\n",
       "</div>"
      ],
      "text/plain": [
       "         ARRIVAL_DELAY\n",
       "AIRLINE               \n",
       "AA              1971.0"
      ]
     },
     "execution_count": 18,
     "metadata": {},
     "output_type": "execute_result"
    }
   ],
   "source": [
    "print('Максимальная задержка по прибытию:')\n",
    "max_arrival.head(1)"
   ]
  },
  {
   "cell_type": "code",
   "execution_count": 20,
   "metadata": {},
   "outputs": [],
   "source": [
    "max_departure = flights_df.groupby(['AIRLINE'])[['DEPARTURE_DELAY']].max()\n",
    "max_departure = max_departure.sort_values(by=['DEPARTURE_DELAY'], ascending=False)"
   ]
  },
  {
   "cell_type": "code",
   "execution_count": 21,
   "metadata": {},
   "outputs": [
    {
     "name": "stdout",
     "output_type": "stream",
     "text": [
      "Максимальная задержка по отправке:\n"
     ]
    },
    {
     "data": {
      "text/html": [
       "<div>\n",
       "<style>\n",
       "    .dataframe thead tr:only-child th {\n",
       "        text-align: right;\n",
       "    }\n",
       "\n",
       "    .dataframe thead th {\n",
       "        text-align: left;\n",
       "    }\n",
       "\n",
       "    .dataframe tbody tr th {\n",
       "        vertical-align: top;\n",
       "    }\n",
       "</style>\n",
       "<table border=\"1\" class=\"dataframe\">\n",
       "  <thead>\n",
       "    <tr style=\"text-align: right;\">\n",
       "      <th></th>\n",
       "      <th>DEPARTURE_DELAY</th>\n",
       "    </tr>\n",
       "    <tr>\n",
       "      <th>AIRLINE</th>\n",
       "      <th></th>\n",
       "    </tr>\n",
       "  </thead>\n",
       "  <tbody>\n",
       "    <tr>\n",
       "      <th>AA</th>\n",
       "      <td>1988.0</td>\n",
       "    </tr>\n",
       "  </tbody>\n",
       "</table>\n",
       "</div>"
      ],
      "text/plain": [
       "         DEPARTURE_DELAY\n",
       "AIRLINE                 \n",
       "AA                1988.0"
      ]
     },
     "execution_count": 21,
     "metadata": {},
     "output_type": "execute_result"
    }
   ],
   "source": [
    "print('Максимальная задержка по отправке:')\n",
    "max_departure.head(1)"
   ]
  }
 ],
 "metadata": {
  "kernelspec": {
   "display_name": "Python 3",
   "language": "python",
   "name": "python3"
  },
  "language_info": {
   "codemirror_mode": {
    "name": "ipython",
    "version": 3
   },
   "file_extension": ".py",
   "mimetype": "text/x-python",
   "name": "python",
   "nbconvert_exporter": "python",
   "pygments_lexer": "ipython3",
   "version": "3.6.2"
  }
 },
 "nbformat": 4,
 "nbformat_minor": 2
}
