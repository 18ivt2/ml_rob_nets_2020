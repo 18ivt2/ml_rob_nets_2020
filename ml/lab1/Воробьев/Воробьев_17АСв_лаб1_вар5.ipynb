{
 "cells": [
  {
   "cell_type": "code",
   "execution_count": 1,
   "metadata": {},
   "outputs": [],
   "source": [
    "import numpy as np\n",
    "import pandas as pd\n",
    "import matplotlib.pyplot as plt\n",
    "from mpl_toolkits.mplot3d import Axes3D\n",
    "%matplotlib inline"
   ]
  },
  {
   "cell_type": "code",
   "execution_count": 2,
   "metadata": {
    "scrolled": true
   },
   "outputs": [
    {
     "data": {
      "text/html": [
       "<div>\n",
       "<style scoped>\n",
       "    .dataframe tbody tr th:only-of-type {\n",
       "        vertical-align: middle;\n",
       "    }\n",
       "\n",
       "    .dataframe tbody tr th {\n",
       "        vertical-align: top;\n",
       "    }\n",
       "\n",
       "    .dataframe thead th {\n",
       "        text-align: right;\n",
       "    }\n",
       "</style>\n",
       "<table border=\"1\" class=\"dataframe\">\n",
       "  <thead>\n",
       "    <tr style=\"text-align: right;\">\n",
       "      <th></th>\n",
       "      <th>Peak Brightness Date/Time (UT)</th>\n",
       "      <th>Latitude (deg.)</th>\n",
       "      <th>Longitude (deg.)</th>\n",
       "      <th>Altitude (km)</th>\n",
       "      <th>Velocity (km/s)</th>\n",
       "      <th>vx</th>\n",
       "      <th>vy</th>\n",
       "      <th>vz</th>\n",
       "      <th>Total Radiated Energy (J)</th>\n",
       "      <th>Calculated Total Impact Energy (kt)</th>\n",
       "    </tr>\n",
       "  </thead>\n",
       "  <tbody>\n",
       "    <tr>\n",
       "      <th>0</th>\n",
       "      <td>2017-07-31 22:01:35</td>\n",
       "      <td>24.7N</td>\n",
       "      <td>118.5W</td>\n",
       "      <td>NaN</td>\n",
       "      <td>NaN</td>\n",
       "      <td>NaN</td>\n",
       "      <td>NaN</td>\n",
       "      <td>NaN</td>\n",
       "      <td>5.800000e+10</td>\n",
       "      <td>0.19</td>\n",
       "    </tr>\n",
       "    <tr>\n",
       "      <th>1</th>\n",
       "      <td>2017-07-23 06:12:38</td>\n",
       "      <td>6.6S</td>\n",
       "      <td>69.7W</td>\n",
       "      <td>38.0</td>\n",
       "      <td>17.2</td>\n",
       "      <td>-0.4</td>\n",
       "      <td>8.7</td>\n",
       "      <td>-14.8</td>\n",
       "      <td>3.500000e+10</td>\n",
       "      <td>0.12</td>\n",
       "    </tr>\n",
       "    <tr>\n",
       "      <th>2</th>\n",
       "      <td>2017-07-13 09:30:36</td>\n",
       "      <td>23.1N</td>\n",
       "      <td>60.7E</td>\n",
       "      <td>35.0</td>\n",
       "      <td>13.7</td>\n",
       "      <td>-10.0</td>\n",
       "      <td>-6.5</td>\n",
       "      <td>-6.8</td>\n",
       "      <td>7.300000e+10</td>\n",
       "      <td>0.23</td>\n",
       "    </tr>\n",
       "    <tr>\n",
       "      <th>3</th>\n",
       "      <td>2017-06-30 14:26:45</td>\n",
       "      <td>34.3S</td>\n",
       "      <td>134.5E</td>\n",
       "      <td>20.0</td>\n",
       "      <td>15.2</td>\n",
       "      <td>10.9</td>\n",
       "      <td>-9.7</td>\n",
       "      <td>4.2</td>\n",
       "      <td>9.400000e+10</td>\n",
       "      <td>0.29</td>\n",
       "    </tr>\n",
       "    <tr>\n",
       "      <th>4</th>\n",
       "      <td>2017-06-23 20:21:55</td>\n",
       "      <td>57.0N</td>\n",
       "      <td>143.7E</td>\n",
       "      <td>35.1</td>\n",
       "      <td>24.3</td>\n",
       "      <td>17.7</td>\n",
       "      <td>13.1</td>\n",
       "      <td>-10.3</td>\n",
       "      <td>1.840000e+11</td>\n",
       "      <td>0.52</td>\n",
       "    </tr>\n",
       "  </tbody>\n",
       "</table>\n",
       "</div>"
      ],
      "text/plain": [
       "  Peak Brightness Date/Time (UT) Latitude (deg.) Longitude (deg.)  \\\n",
       "0            2017-07-31 22:01:35           24.7N           118.5W   \n",
       "1            2017-07-23 06:12:38            6.6S            69.7W   \n",
       "2            2017-07-13 09:30:36           23.1N            60.7E   \n",
       "3            2017-06-30 14:26:45           34.3S           134.5E   \n",
       "4            2017-06-23 20:21:55           57.0N           143.7E   \n",
       "\n",
       "   Altitude (km)  Velocity (km/s)    vx    vy    vz  \\\n",
       "0            NaN              NaN   NaN   NaN   NaN   \n",
       "1           38.0             17.2  -0.4   8.7 -14.8   \n",
       "2           35.0             13.7 -10.0  -6.5  -6.8   \n",
       "3           20.0             15.2  10.9  -9.7   4.2   \n",
       "4           35.1             24.3  17.7  13.1 -10.3   \n",
       "\n",
       "   Total Radiated Energy (J)  Calculated Total Impact Energy (kt)  \n",
       "0               5.800000e+10                                 0.19  \n",
       "1               3.500000e+10                                 0.12  \n",
       "2               7.300000e+10                                 0.23  \n",
       "3               9.400000e+10                                 0.29  \n",
       "4               1.840000e+11                                 0.52  "
      ]
     },
     "execution_count": 2,
     "metadata": {},
     "output_type": "execute_result"
    }
   ],
   "source": [
    "df = pd.read_csv('fireballs.csv')\n",
    "df.head()"
   ]
  },
  {
   "cell_type": "code",
   "execution_count": 3,
   "metadata": {},
   "outputs": [
    {
     "data": {
      "text/plain": [
       "Index(['Peak Brightness Date/Time (UT)', 'Latitude (deg.)', 'Longitude (deg.)',\n",
       "       'Altitude (km)', 'Velocity (km/s)', 'vx', 'vy', 'vz',\n",
       "       'Total Radiated Energy (J)', 'Calculated Total Impact Energy (kt)'],\n",
       "      dtype='object')"
      ]
     },
     "execution_count": 3,
     "metadata": {},
     "output_type": "execute_result"
    }
   ],
   "source": [
    "df.columns"
   ]
  },
  {
   "cell_type": "code",
   "execution_count": 4,
   "metadata": {},
   "outputs": [
    {
     "data": {
      "text/html": [
       "<div>\n",
       "<style scoped>\n",
       "    .dataframe tbody tr th:only-of-type {\n",
       "        vertical-align: middle;\n",
       "    }\n",
       "\n",
       "    .dataframe tbody tr th {\n",
       "        vertical-align: top;\n",
       "    }\n",
       "\n",
       "    .dataframe thead th {\n",
       "        text-align: right;\n",
       "    }\n",
       "</style>\n",
       "<table border=\"1\" class=\"dataframe\">\n",
       "  <thead>\n",
       "    <tr style=\"text-align: right;\">\n",
       "      <th></th>\n",
       "      <th>Longitude (deg.)</th>\n",
       "      <th>Latitude (deg.)</th>\n",
       "    </tr>\n",
       "  </thead>\n",
       "  <tbody>\n",
       "    <tr>\n",
       "      <th>146</th>\n",
       "      <td>61.1E</td>\n",
       "      <td>54.8N</td>\n",
       "    </tr>\n",
       "  </tbody>\n",
       "</table>\n",
       "</div>"
      ],
      "text/plain": [
       "    Longitude (deg.) Latitude (deg.)\n",
       "146            61.1E           54.8N"
      ]
     },
     "execution_count": 4,
     "metadata": {},
     "output_type": "execute_result"
    }
   ],
   "source": [
    "ex = df.sort_values(by = 'Total Radiated Energy (J)', ascending = False).head()\n",
    "ex[['Longitude (deg.)', 'Latitude (deg.)']].head(1)"
   ]
  },
  {
   "cell_type": "code",
   "execution_count": 5,
   "metadata": {},
   "outputs": [
    {
     "data": {
      "text/html": [
       "<div>\n",
       "<style scoped>\n",
       "    .dataframe tbody tr th:only-of-type {\n",
       "        vertical-align: middle;\n",
       "    }\n",
       "\n",
       "    .dataframe tbody tr th {\n",
       "        vertical-align: top;\n",
       "    }\n",
       "\n",
       "    .dataframe thead th {\n",
       "        text-align: right;\n",
       "    }\n",
       "</style>\n",
       "<table border=\"1\" class=\"dataframe\">\n",
       "  <thead>\n",
       "    <tr style=\"text-align: right;\">\n",
       "      <th></th>\n",
       "      <th>Peak Brightness Date/Time (UT)</th>\n",
       "      <th>Latitude (deg.)</th>\n",
       "      <th>Longitude (deg.)</th>\n",
       "      <th>Altitude (km)</th>\n",
       "      <th>Velocity (km/s)</th>\n",
       "      <th>vx</th>\n",
       "      <th>vy</th>\n",
       "      <th>vz</th>\n",
       "      <th>Total Radiated Energy (J)</th>\n",
       "      <th>Calculated Total Impact Energy (kt)</th>\n",
       "    </tr>\n",
       "  </thead>\n",
       "  <tbody>\n",
       "    <tr>\n",
       "      <th>67</th>\n",
       "      <td>2015-07-04 01:40:11</td>\n",
       "      <td>38.6N</td>\n",
       "      <td>103.1E</td>\n",
       "      <td>46.3</td>\n",
       "      <td>49.0</td>\n",
       "      <td>0.9</td>\n",
       "      <td>-40.4</td>\n",
       "      <td>-27.7</td>\n",
       "      <td>5.600000e+10</td>\n",
       "      <td>0.18</td>\n",
       "    </tr>\n",
       "  </tbody>\n",
       "</table>\n",
       "</div>"
      ],
      "text/plain": [
       "   Peak Brightness Date/Time (UT) Latitude (deg.) Longitude (deg.)  \\\n",
       "67            2015-07-04 01:40:11           38.6N           103.1E   \n",
       "\n",
       "    Altitude (km)  Velocity (km/s)   vx    vy    vz  \\\n",
       "67           46.3             49.0  0.9 -40.4 -27.7   \n",
       "\n",
       "    Total Radiated Energy (J)  Calculated Total Impact Energy (kt)  \n",
       "67               5.600000e+10                                 0.18  "
      ]
     },
     "execution_count": 5,
     "metadata": {},
     "output_type": "execute_result"
    }
   ],
   "source": [
    "df.sort_values(by = 'Velocity (km/s)', ascending = False).head(1)"
   ]
  },
  {
   "cell_type": "code",
   "execution_count": 6,
   "metadata": {},
   "outputs": [
    {
     "data": {
      "text/html": [
       "<div>\n",
       "<style scoped>\n",
       "    .dataframe tbody tr th:only-of-type {\n",
       "        vertical-align: middle;\n",
       "    }\n",
       "\n",
       "    .dataframe tbody tr th {\n",
       "        vertical-align: top;\n",
       "    }\n",
       "\n",
       "    .dataframe thead th {\n",
       "        text-align: right;\n",
       "    }\n",
       "</style>\n",
       "<table border=\"1\" class=\"dataframe\">\n",
       "  <thead>\n",
       "    <tr style=\"text-align: right;\">\n",
       "      <th></th>\n",
       "      <th>Peak Brightness Date/Time (UT)</th>\n",
       "      <th>Latitude (deg.)</th>\n",
       "      <th>Longitude (deg.)</th>\n",
       "      <th>Altitude (km)</th>\n",
       "      <th>Velocity (km/s)</th>\n",
       "      <th>vx</th>\n",
       "      <th>vy</th>\n",
       "      <th>vz</th>\n",
       "      <th>Total Radiated Energy (J)</th>\n",
       "      <th>Calculated Total Impact Energy (kt)</th>\n",
       "    </tr>\n",
       "  </thead>\n",
       "  <tbody>\n",
       "    <tr>\n",
       "      <th>300</th>\n",
       "      <td>2008-07-01 17:40:19</td>\n",
       "      <td>37.1N</td>\n",
       "      <td>115.7W</td>\n",
       "      <td>36.1</td>\n",
       "      <td>9.8</td>\n",
       "      <td>2.8</td>\n",
       "      <td>1.7</td>\n",
       "      <td>-9.2</td>\n",
       "      <td>3.600000e+10</td>\n",
       "      <td>0.12</td>\n",
       "    </tr>\n",
       "  </tbody>\n",
       "</table>\n",
       "</div>"
      ],
      "text/plain": [
       "    Peak Brightness Date/Time (UT) Latitude (deg.) Longitude (deg.)  \\\n",
       "300            2008-07-01 17:40:19           37.1N           115.7W   \n",
       "\n",
       "     Altitude (km)  Velocity (km/s)   vx   vy   vz  Total Radiated Energy (J)  \\\n",
       "300           36.1              9.8  2.8  1.7 -9.2               3.600000e+10   \n",
       "\n",
       "     Calculated Total Impact Energy (kt)  \n",
       "300                                 0.12  "
      ]
     },
     "execution_count": 6,
     "metadata": {},
     "output_type": "execute_result"
    }
   ],
   "source": [
    "df.sort_values(by = 'Velocity (km/s)', ascending = True).head(1)"
   ]
  },
  {
   "cell_type": "code",
   "execution_count": 12,
   "metadata": {},
   "outputs": [
    {
     "data": {
      "text/plain": [
       "(719, 10)"
      ]
     },
     "execution_count": 12,
     "metadata": {},
     "output_type": "execute_result"
    }
   ],
   "source": [
    "df.shape"
   ]
  },
  {
   "cell_type": "code",
   "execution_count": 13,
   "metadata": {},
   "outputs": [
    {
     "data": {
      "text/plain": [
       "(157, 10)"
      ]
     },
     "execution_count": 13,
     "metadata": {},
     "output_type": "execute_result"
    }
   ],
   "source": [
    "ex = df.dropna(subset = ['Velocity (km/s)'])\n",
    "ex.shape"
   ]
  },
  {
   "cell_type": "code",
   "execution_count": 15,
   "metadata": {
    "scrolled": true
   },
   "outputs": [
    {
     "data": {
      "text/html": [
       "<div>\n",
       "<style scoped>\n",
       "    .dataframe tbody tr th:only-of-type {\n",
       "        vertical-align: middle;\n",
       "    }\n",
       "\n",
       "    .dataframe tbody tr th {\n",
       "        vertical-align: top;\n",
       "    }\n",
       "\n",
       "    .dataframe thead th {\n",
       "        text-align: right;\n",
       "    }\n",
       "</style>\n",
       "<table border=\"1\" class=\"dataframe\">\n",
       "  <thead>\n",
       "    <tr style=\"text-align: right;\">\n",
       "      <th></th>\n",
       "      <th>Peak</th>\n",
       "      <th>Latitude (deg.)</th>\n",
       "      <th>Longitude (deg.)</th>\n",
       "      <th>Altitude (km)</th>\n",
       "      <th>Velocity (km/s)</th>\n",
       "      <th>vx</th>\n",
       "      <th>vy</th>\n",
       "      <th>vz</th>\n",
       "      <th>Total Radiated Energy (J)</th>\n",
       "      <th>Calculated Total Impact Energy (kt)</th>\n",
       "    </tr>\n",
       "  </thead>\n",
       "  <tbody>\n",
       "    <tr>\n",
       "      <th>0</th>\n",
       "      <td>2017-07-31 22:01:35</td>\n",
       "      <td>24.7N</td>\n",
       "      <td>118.5W</td>\n",
       "      <td>NaN</td>\n",
       "      <td>NaN</td>\n",
       "      <td>NaN</td>\n",
       "      <td>NaN</td>\n",
       "      <td>NaN</td>\n",
       "      <td>5.800000e+10</td>\n",
       "      <td>0.19</td>\n",
       "    </tr>\n",
       "    <tr>\n",
       "      <th>1</th>\n",
       "      <td>2017-07-23 06:12:38</td>\n",
       "      <td>6.6S</td>\n",
       "      <td>69.7W</td>\n",
       "      <td>38.0</td>\n",
       "      <td>17.2</td>\n",
       "      <td>-0.4</td>\n",
       "      <td>8.7</td>\n",
       "      <td>-14.8</td>\n",
       "      <td>3.500000e+10</td>\n",
       "      <td>0.12</td>\n",
       "    </tr>\n",
       "    <tr>\n",
       "      <th>2</th>\n",
       "      <td>2017-07-13 09:30:36</td>\n",
       "      <td>23.1N</td>\n",
       "      <td>60.7E</td>\n",
       "      <td>35.0</td>\n",
       "      <td>13.7</td>\n",
       "      <td>-10.0</td>\n",
       "      <td>-6.5</td>\n",
       "      <td>-6.8</td>\n",
       "      <td>7.300000e+10</td>\n",
       "      <td>0.23</td>\n",
       "    </tr>\n",
       "    <tr>\n",
       "      <th>3</th>\n",
       "      <td>2017-06-30 14:26:45</td>\n",
       "      <td>34.3S</td>\n",
       "      <td>134.5E</td>\n",
       "      <td>20.0</td>\n",
       "      <td>15.2</td>\n",
       "      <td>10.9</td>\n",
       "      <td>-9.7</td>\n",
       "      <td>4.2</td>\n",
       "      <td>9.400000e+10</td>\n",
       "      <td>0.29</td>\n",
       "    </tr>\n",
       "    <tr>\n",
       "      <th>4</th>\n",
       "      <td>2017-06-23 20:21:55</td>\n",
       "      <td>57.0N</td>\n",
       "      <td>143.7E</td>\n",
       "      <td>35.1</td>\n",
       "      <td>24.3</td>\n",
       "      <td>17.7</td>\n",
       "      <td>13.1</td>\n",
       "      <td>-10.3</td>\n",
       "      <td>1.840000e+11</td>\n",
       "      <td>0.52</td>\n",
       "    </tr>\n",
       "  </tbody>\n",
       "</table>\n",
       "</div>"
      ],
      "text/plain": [
       "                  Peak Latitude (deg.) Longitude (deg.)  Altitude (km)  \\\n",
       "0  2017-07-31 22:01:35           24.7N           118.5W            NaN   \n",
       "1  2017-07-23 06:12:38            6.6S            69.7W           38.0   \n",
       "2  2017-07-13 09:30:36           23.1N            60.7E           35.0   \n",
       "3  2017-06-30 14:26:45           34.3S           134.5E           20.0   \n",
       "4  2017-06-23 20:21:55           57.0N           143.7E           35.1   \n",
       "\n",
       "   Velocity (km/s)    vx    vy    vz  Total Radiated Energy (J)  \\\n",
       "0              NaN   NaN   NaN   NaN               5.800000e+10   \n",
       "1             17.2  -0.4   8.7 -14.8               3.500000e+10   \n",
       "2             13.7 -10.0  -6.5  -6.8               7.300000e+10   \n",
       "3             15.2  10.9  -9.7   4.2               9.400000e+10   \n",
       "4             24.3  17.7  13.1 -10.3               1.840000e+11   \n",
       "\n",
       "   Calculated Total Impact Energy (kt)  \n",
       "0                                 0.19  \n",
       "1                                 0.12  \n",
       "2                                 0.23  \n",
       "3                                 0.29  \n",
       "4                                 0.52  "
      ]
     },
     "execution_count": 15,
     "metadata": {},
     "output_type": "execute_result"
    }
   ],
   "source": [
    "df.rename(columns = {'Peak Brightness Date/Time (UT)': 'Peak'}, inplace=True)\n",
    "df.head()"
   ]
  },
  {
   "cell_type": "code",
   "execution_count": 6,
   "metadata": {},
   "outputs": [
    {
     "data": {
      "text/plain": [
       "<matplotlib.axes._subplots.AxesSubplot at 0x225f9f7dbc8>"
      ]
     },
     "execution_count": 6,
     "metadata": {},
     "output_type": "execute_result"
    },
    {
     "data": {
      "image/png": "[encoded data removed]",
      "text/plain": [
       "<Figure size 432x288 with 1 Axes>"
      ]
     },
     "metadata": {
      "needs_background": "light"
     },
     "output_type": "display_data"
    }
   ],
   "source": [
    "def get_data(Peak):\n",
    "    return Peak.split('-')[0].strip()\n",
    "\n",
    "year = df['Peak'].apply(get_data)\n",
    "df['year'] = year\n",
    "ex1 = df.groupby('year')['Peak'].count()\n",
    "ex1.plot()"
   ]
  },
  {
   "cell_type": "code",
   "execution_count": 20,
   "metadata": {},
   "outputs": [
    {
     "data": {
      "text/plain": [
       "<matplotlib.axes._subplots.AxesSubplot at 0x225fa448448>"
      ]
     },
     "execution_count": 20,
     "metadata": {},
     "output_type": "execute_result"
    },
    {
     "data": {
      "image/png": "[encoded data removed]",
      "text/plain": [
       "<Figure size 432x288 with 1 Axes>"
      ]
     },
     "metadata": {
      "needs_background": "light"
     },
     "output_type": "display_data"
    }
   ],
   "source": [
    "def get_data(Peak):\n",
    "    return Peak.split(':')[0].strip()\n",
    "\n",
    "def get_data1(time1):\n",
    "    return time1.split(' ')[1].strip()\n",
    "\n",
    "time1 = df['Peak'].apply(get_data)\n",
    "df['time1'] = time1\n",
    "time = df['time1'].apply(get_data1)\n",
    "df['time'] = time\n",
    "df.drop(['time1'], axis = 'columns', inplace = True)\n",
    "ex2 = df.groupby('time')['Peak'].count()\n",
    "ex2.plot()"
   ]
  },
  {
   "cell_type": "code",
   "execution_count": 42,
   "metadata": {
    "scrolled": true
   },
   "outputs": [
    {
     "data": {
      "text/plain": [
       "<matplotlib.axes._subplots.AxesSubplot at 0x296f4e77908>"
      ]
     },
     "execution_count": 42,
     "metadata": {},
     "output_type": "execute_result"
    },
    {
     "data": {
      "image/png": "[encoded data removed]",
      "text/plain": [
       "<Figure size 432x288 with 1 Axes>"
      ]
     },
     "metadata": {
      "needs_background": "light"
     },
     "output_type": "display_data"
    }
   ],
   "source": [
    "def get_data(Peak):\n",
    "    return Peak.split('-')[1].strip()\n",
    "\n",
    "month = df['Peak'].apply(get_data)\n",
    "df['month'] = month\n",
    "ex3 = df.groupby('month')['Peak'].count()\n",
    "ex3.plot()"
   ]
  },
  {
   "cell_type": "code",
   "execution_count": 51,
   "metadata": {},
   "outputs": [
    {
     "data": {
      "text/plain": [
       "714   NaN\n",
       "715   NaN\n",
       "716   NaN\n",
       "717   NaN\n",
       "718   NaN\n",
       "Name: Velocity (km/s), dtype: float64"
      ]
     },
     "execution_count": 51,
     "metadata": {},
     "output_type": "execute_result"
    }
   ],
   "source": [
    "df['Velocity (km/s)'].tail()"
   ]
  },
  {
   "cell_type": "code",
   "execution_count": 50,
   "metadata": {},
   "outputs": [
    {
     "data": {
      "text/plain": [
       "714    0.0\n",
       "715    0.0\n",
       "716    0.0\n",
       "717    0.0\n",
       "718    0.0\n",
       "Name: Velocity (km/s), dtype: float64"
      ]
     },
     "execution_count": 50,
     "metadata": {},
     "output_type": "execute_result"
    }
   ],
   "source": [
    "ex4 = df['Velocity (km/s)'].fillna(0)\n",
    "ex4.tail()"
   ]
  },
  {
   "cell_type": "code",
   "execution_count": 33,
   "metadata": {},
   "outputs": [
    {
     "data": {
      "text/plain": [
       "<matplotlib.axes._subplots.AxesSubplot at 0x225fc885b08>"
      ]
     },
     "execution_count": 33,
     "metadata": {},
     "output_type": "execute_result"
    },
    {
     "data": {
      "image/png": "[encoded data removed]",
      "text/plain": [
       "<Figure size 432x288 with 1 Axes>"
      ]
     },
     "metadata": {
      "needs_background": "light"
     },
     "output_type": "display_data"
    }
   ],
   "source": [
    "ex5 = df['Altitude (km)'].corr(df['Total Radiated Energy (J)'])\n",
    "ex6 = df['Altitude (km)'].corr(df['Total Radiated Energy (J)'], method = 'spearman')\n",
    "ms = pd.DataFrame({\n",
    "    'col': ['pir', 'spr'],\n",
    "    'val': [ex5, ex6]\n",
    "})\n",
    "ms.plot.bar()"
   ]
  },
  {
   "cell_type": "code",
   "execution_count": 42,
   "metadata": {},
   "outputs": [
    {
     "data": {
      "text/plain": [
       "<mpl_toolkits.mplot3d.art3d.Path3DCollection at 0x225fc933108>"
      ]
     },
     "execution_count": 42,
     "metadata": {},
     "output_type": "execute_result"
    },
    {
     "data": {
      "image/png": "[encoded data removed]",
      "text/plain": [
       "<Figure size 432x288 with 1 Axes>"
      ]
     },
     "metadata": {
      "needs_background": "light"
     },
     "output_type": "display_data"
    }
   ],
   "source": [
    "ex8 = df[['vx', 'vy', 'vz']]\n",
    "x = np.array([ex8['vx']])\n",
    "y = np.array([ex8['vy']])\n",
    "z = np.array([ex8['vz']])\n",
    "s = np.random.randint(1, 10, 20)\n",
    "\n",
    "fig = plt.figure()\n",
    "ax = fig.add_subplot(111, projection = '3d')\n",
    "ax.scatter(x, y, z, s = s)"
   ]
  },
  {
   "cell_type": "code",
   "execution_count": 47,
   "metadata": {},
   "outputs": [
    {
     "data": {
      "text/plain": [
       "(13, 10)"
      ]
     },
     "execution_count": 47,
     "metadata": {},
     "output_type": "execute_result"
    }
   ],
   "source": [
    "ix = df.dropna(subset = ['vx', 'vy', 'vz'])\n",
    "ix1 = ix[['vx', 'vy', 'vz']]\n",
    "ix1[(ix1.vx >= 0) &\n",
    "    (ix1.vy >=0) &\n",
    "    (ix1.vz >=0)].shape #(18, 3)\n",
    "ix1[(ix1.vx >= 0) &\n",
    "    (ix1.vy >=0) &\n",
    "    (ix1.vz <=0)].shape #(12, 3)\n",
    "ix1[(ix1.vx >= 0) &\n",
    "    (ix1.vy <=0) &\n",
    "    (ix1.vz >=0)].shape #(23, 3)\n",
    "ix1[(ix1.vx >= 0) &\n",
    "    (ix1.vy <=0) &\n",
    "    (ix1.vz <=0)].shape #(26, 3)\n",
    "ix1[(ix1.vx <= 0) &\n",
    "    (ix1.vy <=0) &\n",
    "    (ix1.vz <=0)].shape #(24, 3)\n",
    "ix1[(ix1.vx <= 0) &\n",
    "    (ix1.vy <=0) &\n",
    "    (ix1.vz >=0)].shape #(18, 3)\n",
    "ix1[(ix1.vx <= 0) &\n",
    "    (ix1.vy >=0) &\n",
    "    (ix1.vz >=0)].shape #(23, 3)\n",
    "ix1[(ix1.vx <= 0) &\n",
    "    (ix1.vy >=0) &\n",
    "    (ix1.vz <=0)].shape #(13, 3)"
   ]
  },
  {
   "cell_type": "code",
   "execution_count": 3,
   "metadata": {},
   "outputs": [],
   "source": []
  },
  {
   "cell_type": "code",
   "execution_count": null,
   "metadata": {},
   "outputs": [],
   "source": []
  }
 ],
 "metadata": {
  "kernelspec": {
   "display_name": "Python 3",
   "language": "python",
   "name": "python3"
  },
  "language_info": {
   "codemirror_mode": {
    "name": "ipython",
    "version": 3
   },
   "file_extension": ".py",
   "mimetype": "text/x-python",
   "name": "python",
   "nbconvert_exporter": "python",
   "pygments_lexer": "ipython3",
   "version": "3.7.6"
  }
 },
 "nbformat": 4,
 "nbformat_minor": 4
}
