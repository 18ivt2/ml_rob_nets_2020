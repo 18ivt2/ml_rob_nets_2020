{
 "cells": [
  {
   "cell_type": "markdown",
   "metadata": {},
   "source": [
    "# Лабораторная работа 1\n",
    "# Вариант 5\n",
    "## Румянков Дмитрий Сергеевич\n",
    "## 17 ВМв\n",
    "\n",
    "## Метеоритная защита земли\n",
    "\n",
    "1. Определите местоположение появления метеорита с наибольшим количеством высвободившейся энергии.\n",
    "2. Определите метеорит с максимальной и минимальной скоростью.\n",
    "3. Определите место максимальной концентрации метеоритов.\n",
    "4. Определите время года, в которое вероятность появления метеоритов максимальна. Постройте график.\n",
    "5. Удалите строки данных, в которых для метеоритов не указана скорость. Выведите размер набора данных до и после удаления.\n",
    "6. Построить график, на котором по оси ОХ отложено время суток, по OY – частота появления метеоритов.\n",
    "7. Заполните строки в которых для метеоритов не указана скорость.\n",
    "8. Определите месяц года, для которого появление метеоритов наиболее вероятно (постройте необходимые графики).\n",
    "9. Вычислите корреляцию Пирсона и Спирмена между признаками Altitude и Total Radiated Energy. Сравните полученные величины корреляции. Постройте гистограммы для указанных признаков. Оцените значение p-value.\n",
    "\n",
    "\n",
    "### Импорт"
   ]
  },
  {
   "cell_type": "code",
   "execution_count": 1,
   "metadata": {},
   "outputs": [],
   "source": [
    "import pandas as pd\n",
    "import re\n",
    "import seaborn as sns\n",
    "import datetime\n",
    "from scipy import stats\n",
    "df=pd.read_csv('cneos_fireball_data.csv')"
   ]
  },
  {
   "cell_type": "markdown",
   "metadata": {},
   "source": [
    "### 1. Определите местоположение появления метеорита с наибольшим количеством высвободившейся энергии."
   ]
  },
  {
   "cell_type": "code",
   "execution_count": 2,
   "metadata": {},
   "outputs": [
    {
     "data": {
      "text/html": [
       "<div>\n",
       "<style scoped>\n",
       "    .dataframe tbody tr th:only-of-type {\n",
       "        vertical-align: middle;\n",
       "    }\n",
       "\n",
       "    .dataframe tbody tr th {\n",
       "        vertical-align: top;\n",
       "    }\n",
       "\n",
       "    .dataframe thead th {\n",
       "        text-align: right;\n",
       "    }\n",
       "</style>\n",
       "<table border=\"1\" class=\"dataframe\">\n",
       "  <thead>\n",
       "    <tr style=\"text-align: right;\">\n",
       "      <th></th>\n",
       "      <th>Latitude (deg.)</th>\n",
       "      <th>Longitude (deg.)</th>\n",
       "      <th>Altitude (km)</th>\n",
       "    </tr>\n",
       "  </thead>\n",
       "  <tbody>\n",
       "    <tr>\n",
       "      <th>146</th>\n",
       "      <td>54.8N</td>\n",
       "      <td>61.1E</td>\n",
       "      <td>23.3</td>\n",
       "    </tr>\n",
       "  </tbody>\n",
       "</table>\n",
       "</div>"
      ],
      "text/plain": [
       "    Latitude (deg.) Longitude (deg.)  Altitude (km)\n",
       "146           54.8N            61.1E           23.3"
      ]
     },
     "execution_count": 2,
     "metadata": {},
     "output_type": "execute_result"
    }
   ],
   "source": [
    "df[df[\"Total Radiated Energy (J)\"]==df['Total Radiated Energy (J)'].dropna().max()][['Latitude (deg.)','Longitude (deg.)','Altitude (km)']]"
   ]
  },
  {
   "cell_type": "markdown",
   "metadata": {},
   "source": [
    "### 2. Определите метеорит с максимальной и минимальной скоростью."
   ]
  },
  {
   "cell_type": "code",
   "execution_count": 3,
   "metadata": {},
   "outputs": [
    {
     "data": {
      "text/html": [
       "<div>\n",
       "<style scoped>\n",
       "    .dataframe tbody tr th:only-of-type {\n",
       "        vertical-align: middle;\n",
       "    }\n",
       "\n",
       "    .dataframe tbody tr th {\n",
       "        vertical-align: top;\n",
       "    }\n",
       "\n",
       "    .dataframe thead th {\n",
       "        text-align: right;\n",
       "    }\n",
       "</style>\n",
       "<table border=\"1\" class=\"dataframe\">\n",
       "  <thead>\n",
       "    <tr style=\"text-align: right;\">\n",
       "      <th></th>\n",
       "      <th>Peak Brightness Date/Time (UT)</th>\n",
       "      <th>Latitude (deg.)</th>\n",
       "      <th>Longitude (deg.)</th>\n",
       "      <th>Altitude (km)</th>\n",
       "      <th>Velocity (km/s)</th>\n",
       "      <th>vx</th>\n",
       "      <th>vy</th>\n",
       "      <th>vz</th>\n",
       "      <th>Total Radiated Energy (J)</th>\n",
       "      <th>Calculated Total Impact Energy (kt)</th>\n",
       "    </tr>\n",
       "  </thead>\n",
       "  <tbody>\n",
       "    <tr>\n",
       "      <th>67</th>\n",
       "      <td>2015-07-04 01:40:11</td>\n",
       "      <td>38.6N</td>\n",
       "      <td>103.1E</td>\n",
       "      <td>46.3</td>\n",
       "      <td>49.0</td>\n",
       "      <td>0.9</td>\n",
       "      <td>-40.4</td>\n",
       "      <td>-27.7</td>\n",
       "      <td>5.600000e+10</td>\n",
       "      <td>0.18</td>\n",
       "    </tr>\n",
       "  </tbody>\n",
       "</table>\n",
       "</div>"
      ],
      "text/plain": [
       "   Peak Brightness Date/Time (UT) Latitude (deg.) Longitude (deg.)  \\\n",
       "67            2015-07-04 01:40:11           38.6N           103.1E   \n",
       "\n",
       "    Altitude (km)  Velocity (km/s)   vx    vy    vz  \\\n",
       "67           46.3             49.0  0.9 -40.4 -27.7   \n",
       "\n",
       "    Total Radiated Energy (J)  Calculated Total Impact Energy (kt)  \n",
       "67               5.600000e+10                                 0.18  "
      ]
     },
     "execution_count": 3,
     "metadata": {},
     "output_type": "execute_result"
    }
   ],
   "source": [
    "df[df[\"Velocity (km/s)\"] == df[\"Velocity (km/s)\"].max()]"
   ]
  },
  {
   "cell_type": "code",
   "execution_count": 4,
   "metadata": {},
   "outputs": [
    {
     "data": {
      "text/html": [
       "<div>\n",
       "<style scoped>\n",
       "    .dataframe tbody tr th:only-of-type {\n",
       "        vertical-align: middle;\n",
       "    }\n",
       "\n",
       "    .dataframe tbody tr th {\n",
       "        vertical-align: top;\n",
       "    }\n",
       "\n",
       "    .dataframe thead th {\n",
       "        text-align: right;\n",
       "    }\n",
       "</style>\n",
       "<table border=\"1\" class=\"dataframe\">\n",
       "  <thead>\n",
       "    <tr style=\"text-align: right;\">\n",
       "      <th></th>\n",
       "      <th>Peak Brightness Date/Time (UT)</th>\n",
       "      <th>Latitude (deg.)</th>\n",
       "      <th>Longitude (deg.)</th>\n",
       "      <th>Altitude (km)</th>\n",
       "      <th>Velocity (km/s)</th>\n",
       "      <th>vx</th>\n",
       "      <th>vy</th>\n",
       "      <th>vz</th>\n",
       "      <th>Total Radiated Energy (J)</th>\n",
       "      <th>Calculated Total Impact Energy (kt)</th>\n",
       "    </tr>\n",
       "  </thead>\n",
       "  <tbody>\n",
       "    <tr>\n",
       "      <th>300</th>\n",
       "      <td>2008-07-01 17:40:19</td>\n",
       "      <td>37.1N</td>\n",
       "      <td>115.7W</td>\n",
       "      <td>36.1</td>\n",
       "      <td>9.8</td>\n",
       "      <td>2.8</td>\n",
       "      <td>1.7</td>\n",
       "      <td>-9.2</td>\n",
       "      <td>3.600000e+10</td>\n",
       "      <td>0.12</td>\n",
       "    </tr>\n",
       "  </tbody>\n",
       "</table>\n",
       "</div>"
      ],
      "text/plain": [
       "    Peak Brightness Date/Time (UT) Latitude (deg.) Longitude (deg.)  \\\n",
       "300            2008-07-01 17:40:19           37.1N           115.7W   \n",
       "\n",
       "     Altitude (km)  Velocity (km/s)   vx   vy   vz  Total Radiated Energy (J)  \\\n",
       "300           36.1              9.8  2.8  1.7 -9.2               3.600000e+10   \n",
       "\n",
       "     Calculated Total Impact Energy (kt)  \n",
       "300                                 0.12  "
      ]
     },
     "execution_count": 4,
     "metadata": {},
     "output_type": "execute_result"
    }
   ],
   "source": [
    "df[df[\"Velocity (km/s)\"] == df[\"Velocity (km/s)\"].min()]"
   ]
  },
  {
   "cell_type": "markdown",
   "metadata": {},
   "source": [
    "### 3. Определите место максимальной концентрации метеоритов."
   ]
  },
  {
   "cell_type": "code",
   "execution_count": 5,
   "metadata": {},
   "outputs": [
    {
     "data": {
      "image/png": "[encoded data removed]",
      "text/plain": [
       "<Figure size 432x288 with 1 Axes>"
      ]
     },
     "metadata": {
      "needs_background": "light"
     },
     "output_type": "display_data"
    }
   ],
   "source": [
    "format1 = lambda x: re.sub('.*N',str(x),str(x).replace('N',''))\n",
    "format2 =lambda x: re.sub('.*S',str(x),'-'+str(x).replace('S',''))\n",
    "format3 = lambda x: re.sub('.*W',str(x),str(x).replace('W',''))\n",
    "format4 =lambda x: re.sub('.*E',str(x),'-'+str(x).replace('E',''))\n",
    "to_float = lambda x: float(x)\n",
    "column1=df['Latitude (deg.)'].apply(format1).apply(format2).apply(to_float)\n",
    "column2=df['Longitude (deg.)'].apply(format3).apply(format4).apply(to_float)\n",
    "d = {'Latitude (deg.)':column1,'Longitude (deg.)':column2}\n",
    "new_df=pd.DataFrame(d)\n",
    "new_df\n",
    "cmap = sns.cubehelix_palette(rot=-.2, as_cmap=True)\n",
    "ax = sns.scatterplot(x=\"Latitude (deg.)\", y=\"Longitude (deg.)\",\n",
    "                     palette=cmap,\n",
    "                     data=new_df)"
   ]
  },
  {
   "cell_type": "markdown",
   "metadata": {},
   "source": [
    "### 4. Определите время года, в которое вероятность появления метеоритов максимальна. Постройте график."
   ]
  },
  {
   "cell_type": "code",
   "execution_count": 6,
   "metadata": {},
   "outputs": [
    {
     "data": {
      "text/plain": [
       "array([[<matplotlib.axes._subplots.AxesSubplot object at 0x0000017B649A8488>]],\n",
       "      dtype=object)"
      ]
     },
     "execution_count": 6,
     "metadata": {},
     "output_type": "execute_result"
    },
    {
     "data": {
      "image/png": "[encoded data removed]",
      "text/plain": [
       "<Figure size 432x288 with 1 Axes>"
      ]
     },
     "metadata": {
      "needs_background": "light"
     },
     "output_type": "display_data"
    }
   ],
   "source": [
    "format=lambda x: datetime.datetime.strptime(x, \"%Y-%m-%d %H:%M:%S\").month\n",
    "df2=pd.DataFrame(df['Peak Brightness Date/Time (UT)'].apply(format),columns=['Peak Brightness Date/Time (UT)'])\n",
    "df2.hist(bins=20)"
   ]
  },
  {
   "cell_type": "code",
   "execution_count": 7,
   "metadata": {},
   "outputs": [
    {
     "data": {
      "text/plain": [
       "Peak Brightness Date/Time (UT)    188\n",
       "dtype: int64"
      ]
     },
     "execution_count": 7,
     "metadata": {},
     "output_type": "execute_result"
    }
   ],
   "source": [
    "df2[df2['Peak Brightness Date/Time (UT)']>9].count()"
   ]
  },
  {
   "cell_type": "code",
   "execution_count": 8,
   "metadata": {},
   "outputs": [
    {
     "data": {
      "text/plain": [
       "Peak Brightness Date/Time (UT)    171\n",
       "dtype: int64"
      ]
     },
     "execution_count": 8,
     "metadata": {},
     "output_type": "execute_result"
    }
   ],
   "source": [
    "df2[(df2['Peak Brightness Date/Time (UT)']>6) & (df2['Peak Brightness Date/Time (UT)']<10)].count()"
   ]
  },
  {
   "cell_type": "code",
   "execution_count": 9,
   "metadata": {},
   "outputs": [
    {
     "data": {
      "text/plain": [
       "Peak Brightness Date/Time (UT)    178\n",
       "dtype: int64"
      ]
     },
     "execution_count": 9,
     "metadata": {},
     "output_type": "execute_result"
    }
   ],
   "source": [
    "df2[(df2['Peak Brightness Date/Time (UT)']>3) & (df2['Peak Brightness Date/Time (UT)']<7)].count()"
   ]
  },
  {
   "cell_type": "code",
   "execution_count": 10,
   "metadata": {},
   "outputs": [
    {
     "data": {
      "text/plain": [
       "Peak Brightness Date/Time (UT)    182\n",
       "dtype: int64"
      ]
     },
     "execution_count": 10,
     "metadata": {},
     "output_type": "execute_result"
    }
   ],
   "source": [
    "df2[df2['Peak Brightness Date/Time (UT)']<4].count()"
   ]
  },
  {
   "cell_type": "markdown",
   "metadata": {},
   "source": [
    "### 5. Удалите строки данных, в которых для метеоритов не указана скорость. Выведите размер набора данных до и после удаления."
   ]
  },
  {
   "cell_type": "code",
   "execution_count": 11,
   "metadata": {},
   "outputs": [
    {
     "data": {
      "text/plain": [
       "0       NaN\n",
       "1      17.2\n",
       "2      13.7\n",
       "3      15.2\n",
       "4      24.3\n",
       "       ... \n",
       "714     NaN\n",
       "715     NaN\n",
       "716     NaN\n",
       "717     NaN\n",
       "718     NaN\n",
       "Name: Velocity (km/s), Length: 719, dtype: float64"
      ]
     },
     "execution_count": 11,
     "metadata": {},
     "output_type": "execute_result"
    }
   ],
   "source": [
    "df['Velocity (km/s)']"
   ]
  },
  {
   "cell_type": "code",
   "execution_count": 12,
   "metadata": {},
   "outputs": [
    {
     "data": {
      "text/html": [
       "<div>\n",
       "<style scoped>\n",
       "    .dataframe tbody tr th:only-of-type {\n",
       "        vertical-align: middle;\n",
       "    }\n",
       "\n",
       "    .dataframe tbody tr th {\n",
       "        vertical-align: top;\n",
       "    }\n",
       "\n",
       "    .dataframe thead th {\n",
       "        text-align: right;\n",
       "    }\n",
       "</style>\n",
       "<table border=\"1\" class=\"dataframe\">\n",
       "  <thead>\n",
       "    <tr style=\"text-align: right;\">\n",
       "      <th></th>\n",
       "      <th>Peak Brightness Date/Time (UT)</th>\n",
       "      <th>Latitude (deg.)</th>\n",
       "      <th>Longitude (deg.)</th>\n",
       "      <th>Altitude (km)</th>\n",
       "      <th>Velocity (km/s)</th>\n",
       "      <th>vx</th>\n",
       "      <th>vy</th>\n",
       "      <th>vz</th>\n",
       "      <th>Total Radiated Energy (J)</th>\n",
       "      <th>Calculated Total Impact Energy (kt)</th>\n",
       "    </tr>\n",
       "  </thead>\n",
       "  <tbody>\n",
       "    <tr>\n",
       "      <th>1</th>\n",
       "      <td>2017-07-23 06:12:38</td>\n",
       "      <td>6.6S</td>\n",
       "      <td>69.7W</td>\n",
       "      <td>38.0</td>\n",
       "      <td>17.2</td>\n",
       "      <td>-0.4</td>\n",
       "      <td>8.7</td>\n",
       "      <td>-14.8</td>\n",
       "      <td>3.500000e+10</td>\n",
       "      <td>0.12</td>\n",
       "    </tr>\n",
       "    <tr>\n",
       "      <th>2</th>\n",
       "      <td>2017-07-13 09:30:36</td>\n",
       "      <td>23.1N</td>\n",
       "      <td>60.7E</td>\n",
       "      <td>35.0</td>\n",
       "      <td>13.7</td>\n",
       "      <td>-10.0</td>\n",
       "      <td>-6.5</td>\n",
       "      <td>-6.8</td>\n",
       "      <td>7.300000e+10</td>\n",
       "      <td>0.23</td>\n",
       "    </tr>\n",
       "    <tr>\n",
       "      <th>3</th>\n",
       "      <td>2017-06-30 14:26:45</td>\n",
       "      <td>34.3S</td>\n",
       "      <td>134.5E</td>\n",
       "      <td>20.0</td>\n",
       "      <td>15.2</td>\n",
       "      <td>10.9</td>\n",
       "      <td>-9.7</td>\n",
       "      <td>4.2</td>\n",
       "      <td>9.400000e+10</td>\n",
       "      <td>0.29</td>\n",
       "    </tr>\n",
       "    <tr>\n",
       "      <th>4</th>\n",
       "      <td>2017-06-23 20:21:55</td>\n",
       "      <td>57.0N</td>\n",
       "      <td>143.7E</td>\n",
       "      <td>35.1</td>\n",
       "      <td>24.3</td>\n",
       "      <td>17.7</td>\n",
       "      <td>13.1</td>\n",
       "      <td>-10.3</td>\n",
       "      <td>1.840000e+11</td>\n",
       "      <td>0.52</td>\n",
       "    </tr>\n",
       "    <tr>\n",
       "      <th>5</th>\n",
       "      <td>2017-06-20 13:41:32</td>\n",
       "      <td>54.2S</td>\n",
       "      <td>133.0E</td>\n",
       "      <td>33.3</td>\n",
       "      <td>13.6</td>\n",
       "      <td>8.7</td>\n",
       "      <td>-5.7</td>\n",
       "      <td>8.8</td>\n",
       "      <td>6.360000e+11</td>\n",
       "      <td>1.60</td>\n",
       "    </tr>\n",
       "    <tr>\n",
       "      <th>...</th>\n",
       "      <td>...</td>\n",
       "      <td>...</td>\n",
       "      <td>...</td>\n",
       "      <td>...</td>\n",
       "      <td>...</td>\n",
       "      <td>...</td>\n",
       "      <td>...</td>\n",
       "      <td>...</td>\n",
       "      <td>...</td>\n",
       "      <td>...</td>\n",
       "    </tr>\n",
       "    <tr>\n",
       "      <th>450</th>\n",
       "      <td>2004-04-22 04:21:49</td>\n",
       "      <td>44.3S</td>\n",
       "      <td>83.3E</td>\n",
       "      <td>29.6</td>\n",
       "      <td>16.3</td>\n",
       "      <td>8.5</td>\n",
       "      <td>-12.1</td>\n",
       "      <td>-6.8</td>\n",
       "      <td>6.240000e+11</td>\n",
       "      <td>1.50</td>\n",
       "    </tr>\n",
       "    <tr>\n",
       "      <th>451</th>\n",
       "      <td>2004-04-06 03:24:49</td>\n",
       "      <td>12.0S</td>\n",
       "      <td>162.8E</td>\n",
       "      <td>35.0</td>\n",
       "      <td>25.6</td>\n",
       "      <td>10.5</td>\n",
       "      <td>-23.2</td>\n",
       "      <td>-2.9</td>\n",
       "      <td>4.330000e+11</td>\n",
       "      <td>1.10</td>\n",
       "    </tr>\n",
       "    <tr>\n",
       "      <th>462</th>\n",
       "      <td>2003-11-10 13:54:06</td>\n",
       "      <td>64.5S</td>\n",
       "      <td>136.2E</td>\n",
       "      <td>23.0</td>\n",
       "      <td>20.1</td>\n",
       "      <td>14.8</td>\n",
       "      <td>-8.7</td>\n",
       "      <td>10.4</td>\n",
       "      <td>5.180000e+11</td>\n",
       "      <td>1.30</td>\n",
       "    </tr>\n",
       "    <tr>\n",
       "      <th>467</th>\n",
       "      <td>2003-09-27 12:59:02</td>\n",
       "      <td>21.0N</td>\n",
       "      <td>86.6E</td>\n",
       "      <td>26.0</td>\n",
       "      <td>18.2</td>\n",
       "      <td>-1.0</td>\n",
       "      <td>-5.4</td>\n",
       "      <td>-17.3</td>\n",
       "      <td>2.150000e+12</td>\n",
       "      <td>4.60</td>\n",
       "    </tr>\n",
       "    <tr>\n",
       "      <th>626</th>\n",
       "      <td>1998-01-04 23:00:27</td>\n",
       "      <td>35.1S</td>\n",
       "      <td>33.4E</td>\n",
       "      <td>30.0</td>\n",
       "      <td>17.1</td>\n",
       "      <td>6.0</td>\n",
       "      <td>-10.6</td>\n",
       "      <td>12.0</td>\n",
       "      <td>7.400000e+10</td>\n",
       "      <td>0.23</td>\n",
       "    </tr>\n",
       "  </tbody>\n",
       "</table>\n",
       "<p>157 rows × 10 columns</p>\n",
       "</div>"
      ],
      "text/plain": [
       "    Peak Brightness Date/Time (UT) Latitude (deg.) Longitude (deg.)  \\\n",
       "1              2017-07-23 06:12:38            6.6S            69.7W   \n",
       "2              2017-07-13 09:30:36           23.1N            60.7E   \n",
       "3              2017-06-30 14:26:45           34.3S           134.5E   \n",
       "4              2017-06-23 20:21:55           57.0N           143.7E   \n",
       "5              2017-06-20 13:41:32           54.2S           133.0E   \n",
       "..                             ...             ...              ...   \n",
       "450            2004-04-22 04:21:49           44.3S            83.3E   \n",
       "451            2004-04-06 03:24:49           12.0S           162.8E   \n",
       "462            2003-11-10 13:54:06           64.5S           136.2E   \n",
       "467            2003-09-27 12:59:02           21.0N            86.6E   \n",
       "626            1998-01-04 23:00:27           35.1S            33.4E   \n",
       "\n",
       "     Altitude (km)  Velocity (km/s)    vx    vy    vz  \\\n",
       "1             38.0             17.2  -0.4   8.7 -14.8   \n",
       "2             35.0             13.7 -10.0  -6.5  -6.8   \n",
       "3             20.0             15.2  10.9  -9.7   4.2   \n",
       "4             35.1             24.3  17.7  13.1 -10.3   \n",
       "5             33.3             13.6   8.7  -5.7   8.8   \n",
       "..             ...              ...   ...   ...   ...   \n",
       "450           29.6             16.3   8.5 -12.1  -6.8   \n",
       "451           35.0             25.6  10.5 -23.2  -2.9   \n",
       "462           23.0             20.1  14.8  -8.7  10.4   \n",
       "467           26.0             18.2  -1.0  -5.4 -17.3   \n",
       "626           30.0             17.1   6.0 -10.6  12.0   \n",
       "\n",
       "     Total Radiated Energy (J)  Calculated Total Impact Energy (kt)  \n",
       "1                 3.500000e+10                                 0.12  \n",
       "2                 7.300000e+10                                 0.23  \n",
       "3                 9.400000e+10                                 0.29  \n",
       "4                 1.840000e+11                                 0.52  \n",
       "5                 6.360000e+11                                 1.60  \n",
       "..                         ...                                  ...  \n",
       "450               6.240000e+11                                 1.50  \n",
       "451               4.330000e+11                                 1.10  \n",
       "462               5.180000e+11                                 1.30  \n",
       "467               2.150000e+12                                 4.60  \n",
       "626               7.400000e+10                                 0.23  \n",
       "\n",
       "[157 rows x 10 columns]"
      ]
     },
     "execution_count": 12,
     "metadata": {},
     "output_type": "execute_result"
    }
   ],
   "source": [
    "df[df['Velocity (km/s)'].notnull()]"
   ]
  },
  {
   "cell_type": "code",
   "execution_count": 13,
   "metadata": {},
   "outputs": [],
   "source": [
    "df=pd.read_csv('cneos_fireball_data.csv')"
   ]
  },
  {
   "cell_type": "markdown",
   "metadata": {},
   "source": [
    "### 6. Построить график, на котором по оси ОХ отложено время суток, по OY – частота появления метеоритов."
   ]
  },
  {
   "cell_type": "code",
   "execution_count": 14,
   "metadata": {},
   "outputs": [
    {
     "data": {
      "text/plain": [
       "<matplotlib.axes._subplots.AxesSubplot at 0x17b64a66508>"
      ]
     },
     "execution_count": 14,
     "metadata": {},
     "output_type": "execute_result"
    },
    {
     "data": {
      "image/png": "[encoded data removed]",
      "text/plain": [
       "<Figure size 432x288 with 1 Axes>"
      ]
     },
     "metadata": {
      "needs_background": "light"
     },
     "output_type": "display_data"
    }
   ],
   "source": [
    "format=lambda x: datetime.datetime.strptime(x, \"%Y-%m-%d %H:%M:%S\").time().replace(second=0, microsecond=0)\n",
    "df3=pd.DataFrame(df['Peak Brightness Date/Time (UT)'].apply(format),columns=['Peak Brightness Date/Time (UT)'])\n",
    "df3['Peak Brightness Date/Time (UT)'].value_counts().plot()"
   ]
  },
  {
   "cell_type": "markdown",
   "metadata": {},
   "source": [
    "### 7. Заполните строки в которых для метеоритов не указана скорость."
   ]
  },
  {
   "cell_type": "code",
   "execution_count": 16,
   "metadata": {},
   "outputs": [
    {
     "data": {
      "text/html": [
       "<div>\n",
       "<style scoped>\n",
       "    .dataframe tbody tr th:only-of-type {\n",
       "        vertical-align: middle;\n",
       "    }\n",
       "\n",
       "    .dataframe tbody tr th {\n",
       "        vertical-align: top;\n",
       "    }\n",
       "\n",
       "    .dataframe thead th {\n",
       "        text-align: right;\n",
       "    }\n",
       "</style>\n",
       "<table border=\"1\" class=\"dataframe\">\n",
       "  <thead>\n",
       "    <tr style=\"text-align: right;\">\n",
       "      <th></th>\n",
       "      <th>Peak Brightness Date/Time (UT)</th>\n",
       "      <th>Latitude (deg.)</th>\n",
       "      <th>Longitude (deg.)</th>\n",
       "      <th>Altitude (km)</th>\n",
       "      <th>Velocity (km/s)</th>\n",
       "      <th>vx</th>\n",
       "      <th>vy</th>\n",
       "      <th>vz</th>\n",
       "      <th>Total Radiated Energy (J)</th>\n",
       "      <th>Calculated Total Impact Energy (kt)</th>\n",
       "    </tr>\n",
       "  </thead>\n",
       "  <tbody>\n",
       "  </tbody>\n",
       "</table>\n",
       "</div>"
      ],
      "text/plain": [
       "Empty DataFrame\n",
       "Columns: [Peak Brightness Date/Time (UT), Latitude (deg.), Longitude (deg.), Altitude (km), Velocity (km/s), vx, vy, vz, Total Radiated Energy (J), Calculated Total Impact Energy (kt)]\n",
       "Index: []"
      ]
     },
     "execution_count": 16,
     "metadata": {},
     "output_type": "execute_result"
    }
   ],
   "source": [
    "df[df['Velocity (km/s)'].isnull()]=100\n",
    "df[df['Velocity (km/s)'].isnull()]"
   ]
  },
  {
   "cell_type": "code",
   "execution_count": 17,
   "metadata": {},
   "outputs": [],
   "source": [
    "df=pd.read_csv('cneos_fireball_data.csv')"
   ]
  },
  {
   "cell_type": "markdown",
   "metadata": {},
   "source": [
    "### 8. Определите месяц года, для которого появление метеоритов наиболее вероятно (постройте необходимые графики)."
   ]
  },
  {
   "cell_type": "code",
   "execution_count": 18,
   "metadata": {},
   "outputs": [
    {
     "data": {
      "text/plain": [
       "array([[<matplotlib.axes._subplots.AxesSubplot object at 0x0000017B64A95F88>]],\n",
       "      dtype=object)"
      ]
     },
     "execution_count": 18,
     "metadata": {},
     "output_type": "execute_result"
    },
    {
     "data": {
      "image/png": "[encoded data removed]",
      "text/plain": [
       "<Figure size 432x288 with 1 Axes>"
      ]
     },
     "metadata": {
      "needs_background": "light"
     },
     "output_type": "display_data"
    }
   ],
   "source": [
    "df2['Peak Brightness Date/Time (UT)'].value_counts()\n",
    "df2.hist(bins=20)"
   ]
  },
  {
   "cell_type": "markdown",
   "metadata": {},
   "source": [
    "### 9. Вычислите корреляцию Пирсона и Спирмена между признаками Altitude и Total Radiated Energy. Сравните полученные величины корреляции. Постройте гистограммы для указанных признаков. Оцените значение p-value."
   ]
  },
  {
   "cell_type": "code",
   "execution_count": 21,
   "metadata": {},
   "outputs": [
    {
     "data": {
      "text/plain": [
       "SpearmanrResult(correlation=-0.12671041939219074, pvalue=0.026415728610676672)"
      ]
     },
     "execution_count": 21,
     "metadata": {},
     "output_type": "execute_result"
    }
   ],
   "source": [
    "stats.spearmanr(df['Altitude (km)'], df['Total Radiated Energy (J)'], nan_policy = 'omit')"
   ]
  },
  {
   "cell_type": "code",
   "execution_count": 47,
   "metadata": {},
   "outputs": [
    {
     "data": {
      "text/plain": [
       "array([[nan, nan],\n",
       "       [nan,  1.]])"
      ]
     },
     "execution_count": 47,
     "metadata": {},
     "output_type": "execute_result"
    }
   ],
   "source": [
    "import numpy as np\n",
    "np.corrcoef(df['Altitude (km)'], df['Total Radiated Energy (J)'])"
   ]
  },
  {
   "cell_type": "code",
   "execution_count": 57,
   "metadata": {},
   "outputs": [
    {
     "data": {
      "text/plain": [
       "<matplotlib.axes._subplots.AxesSubplot at 0x17b65a2c248>"
      ]
     },
     "execution_count": 57,
     "metadata": {},
     "output_type": "execute_result"
    },
    {
     "data": {
      "image/png": "[encoded data removed]",
      "text/plain": [
       "<Figure size 432x288 with 1 Axes>"
      ]
     },
     "metadata": {
      "needs_background": "light"
     },
     "output_type": "display_data"
    }
   ],
   "source": [
    "column=df['Altitude (km)'].apply(format1).apply(format2).apply(to_float)\n",
    "d = {'Altitude (km)':column}\n",
    "check=pd.DataFrame(d)\n",
    "check=check[check['Altitude (km)'].notnull()]\n",
    "sns.distplot(check['Altitude (km)'])"
   ]
  },
  {
   "cell_type": "code",
   "execution_count": 58,
   "metadata": {},
   "outputs": [
    {
     "data": {
      "text/plain": [
       "<matplotlib.axes._subplots.AxesSubplot at 0x17b65ac6388>"
      ]
     },
     "execution_count": 58,
     "metadata": {},
     "output_type": "execute_result"
    },
    {
     "data": {
      "image/png": "[encoded data removed]",
      "text/plain": [
       "<Figure size 432x288 with 1 Axes>"
      ]
     },
     "metadata": {
      "needs_background": "light"
     },
     "output_type": "display_data"
    }
   ],
   "source": [
    "column=df['Total Radiated Energy (J)'].apply(format1).apply(format2).apply(to_float)\n",
    "d = {'Total Radiated Energy (J)':column}\n",
    "check=pd.DataFrame(d)\n",
    "check=check[check['Total Radiated Energy (J)'].notnull()]\n",
    "sns.distplot(check['Total Radiated Energy (J)'])"
   ]
  },
  {
   "cell_type": "code",
   "execution_count": null,
   "metadata": {},
   "outputs": [],
   "source": []
  }
 ],
 "metadata": {
  "kernelspec": {
   "display_name": "Python 3",
   "language": "python",
   "name": "python3"
  },
  "language_info": {
   "codemirror_mode": {
    "name": "ipython",
    "version": 3
   },
   "file_extension": ".py",
   "mimetype": "text/x-python",
   "name": "python",
   "nbconvert_exporter": "python",
   "pygments_lexer": "ipython3",
   "version": "3.7.6"
  }
 },
 "nbformat": 4,
 "nbformat_minor": 2
}
