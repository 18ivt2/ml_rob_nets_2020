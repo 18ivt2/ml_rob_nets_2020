{
 "cells": [
  {
   "cell_type": "markdown",
   "metadata": {},
   "source": [
    "# Розно К.В. 3 Вариант #"
   ]
  },
  {
   "cell_type": "markdown",
   "metadata": {},
   "source": [
    "##    3.  Вторичный рынок машин\n",
    "(Использовал в лабораторной фаил с решением из папки \"myhelp\")"
   ]
  },
  {
   "cell_type": "markdown",
   "metadata": {},
   "source": [
    "## 1. Удалите столбцы, ценность которых для оценки стоимости машины низка."
   ]
  },
  {
   "cell_type": "code",
   "execution_count": 165,
   "metadata": {
    "scrolled": true
   },
   "outputs": [
    {
     "name": "stdout",
     "output_type": "stream",
     "text": [
      "                dateCrawled                                          name  \\\n",
      "0       2016-03-24 11:52:17                                    Golf_3_1.6   \n",
      "1       2016-03-24 10:58:45                          A5_Sportback_2.7_Tdi   \n",
      "2       2016-03-14 12:52:21                Jeep_Grand_Cherokee_\"Overland\"   \n",
      "3       2016-03-17 16:54:04                            GOLF_4_1_4__3TÜRER   \n",
      "4       2016-03-31 17:25:20                Skoda_Fabia_1.4_TDI_PD_Classic   \n",
      "...                     ...                                           ...   \n",
      "371523  2016-03-14 17:48:27                    Suche_t4___vito_ab_6_sitze   \n",
      "371524  2016-03-05 19:56:21         Smart_smart_leistungssteigerung_100ps   \n",
      "371525  2016-03-19 18:57:12            Volkswagen_Multivan_T4_TDI_7DC_UY2   \n",
      "371526  2016-03-20 19:41:08                        VW_Golf_Kombi_1_9l_TDI   \n",
      "371527  2016-03-07 19:39:19  BMW_M135i_vollausgestattet_NP_52.720____Euro   \n",
      "\n",
      "        seller offerType  price   abtest vehicleType  yearOfRegistration  \\\n",
      "0       privat   Angebot    480     test         NaN                1993   \n",
      "1       privat   Angebot  18300     test       coupe                2011   \n",
      "2       privat   Angebot   9800     test         suv                2004   \n",
      "3       privat   Angebot   1500     test  kleinwagen                2001   \n",
      "4       privat   Angebot   3600     test  kleinwagen                2008   \n",
      "...        ...       ...    ...      ...         ...                 ...   \n",
      "371523  privat   Angebot   2200     test         NaN                2005   \n",
      "371524  privat   Angebot   1199     test      cabrio                2000   \n",
      "371525  privat   Angebot   9200     test         bus                1996   \n",
      "371526  privat   Angebot   3400     test       kombi                2002   \n",
      "371527  privat   Angebot  28990  control   limousine                2013   \n",
      "\n",
      "          gearbox  powerPS        model  kilometer  monthOfRegistration  \\\n",
      "0         manuell        0         golf     150000                    0   \n",
      "1         manuell      190          NaN     125000                    5   \n",
      "2       automatik      163        grand     125000                    8   \n",
      "3         manuell       75         golf     150000                    6   \n",
      "4         manuell       69        fabia      90000                    7   \n",
      "...           ...      ...          ...        ...                  ...   \n",
      "371523        NaN        0          NaN      20000                    1   \n",
      "371524  automatik      101       fortwo     125000                    3   \n",
      "371525    manuell      102  transporter     150000                    3   \n",
      "371526    manuell      100         golf     150000                    6   \n",
      "371527    manuell      320      m_reihe      50000                    8   \n",
      "\n",
      "       fuelType           brand notRepairedDamage          dateCreated  \\\n",
      "0        benzin      volkswagen               NaN  2016-03-24 00:00:00   \n",
      "1        diesel            audi                ja  2016-03-24 00:00:00   \n",
      "2        diesel            jeep               NaN  2016-03-14 00:00:00   \n",
      "3        benzin      volkswagen              nein  2016-03-17 00:00:00   \n",
      "4        diesel           skoda              nein  2016-03-31 00:00:00   \n",
      "...         ...             ...               ...                  ...   \n",
      "371523      NaN  sonstige_autos               NaN  2016-03-14 00:00:00   \n",
      "371524   benzin           smart              nein  2016-03-05 00:00:00   \n",
      "371525   diesel      volkswagen              nein  2016-03-19 00:00:00   \n",
      "371526   diesel      volkswagen               NaN  2016-03-20 00:00:00   \n",
      "371527   benzin             bmw              nein  2016-03-07 00:00:00   \n",
      "\n",
      "        nrOfPictures  postalCode             lastSeen  \n",
      "0                  0       70435  2016-04-07 03:16:57  \n",
      "1                  0       66954  2016-04-07 01:46:50  \n",
      "2                  0       90480  2016-04-05 12:47:46  \n",
      "3                  0       91074  2016-03-17 17:40:17  \n",
      "4                  0       60437  2016-04-06 10:17:21  \n",
      "...              ...         ...                  ...  \n",
      "371523             0       39576  2016-04-06 00:46:52  \n",
      "371524             0       26135  2016-03-11 18:17:12  \n",
      "371525             0       87439  2016-04-07 07:15:26  \n",
      "371526             0       40764  2016-03-24 12:45:21  \n",
      "371527             0       73326  2016-03-22 03:17:10  \n",
      "\n",
      "[371528 rows x 20 columns]\n"
     ]
    }
   ],
   "source": [
    "import pandas as pd \n",
    "import matplotlib.pyplot as plt\n",
    "import numpy as np \n",
    "import matplotlib\n",
    "import seaborn as sns \n",
    "from sklearn import datasets, linear_model, preprocessing, svm \n",
    "from sklearn.preprocessing import StandardScaler, Normalizer \n",
    " \n",
    "%matplotlib inline\n",
    "\n",
    "autolist_df = pd.read_csv('autos.csv', encoding='iso-8859-1')\n",
    "print(autolist_df)"
   ]
  },
  {
   "cell_type": "code",
   "execution_count": 166,
   "metadata": {},
   "outputs": [
    {
     "name": "stdout",
     "output_type": "stream",
     "text": [
      "                                                name  seller  price  \\\n",
      "0                                         Golf_3_1.6  privat    480   \n",
      "1                               A5_Sportback_2.7_Tdi  privat  18300   \n",
      "2                     Jeep_Grand_Cherokee_\"Overland\"  privat   9800   \n",
      "3                                 GOLF_4_1_4__3TÜRER  privat   1500   \n",
      "4                     Skoda_Fabia_1.4_TDI_PD_Classic  privat   3600   \n",
      "...                                              ...     ...    ...   \n",
      "371523                    Suche_t4___vito_ab_6_sitze  privat   2200   \n",
      "371524         Smart_smart_leistungssteigerung_100ps  privat   1199   \n",
      "371525            Volkswagen_Multivan_T4_TDI_7DC_UY2  privat   9200   \n",
      "371526                        VW_Golf_Kombi_1_9l_TDI  privat   3400   \n",
      "371527  BMW_M135i_vollausgestattet_NP_52.720____Euro  privat  28990   \n",
      "\n",
      "       vehicleType  yearOfRegistration    gearbox  powerPS        model  \\\n",
      "0              NaN                1993    manuell        0         golf   \n",
      "1            coupe                2011    manuell      190          NaN   \n",
      "2              suv                2004  automatik      163        grand   \n",
      "3       kleinwagen                2001    manuell       75         golf   \n",
      "4       kleinwagen                2008    manuell       69        fabia   \n",
      "...            ...                 ...        ...      ...          ...   \n",
      "371523         NaN                2005        NaN        0          NaN   \n",
      "371524      cabrio                2000  automatik      101       fortwo   \n",
      "371525         bus                1996    manuell      102  transporter   \n",
      "371526       kombi                2002    manuell      100         golf   \n",
      "371527   limousine                2013    manuell      320      m_reihe   \n",
      "\n",
      "        kilometer  monthOfRegistration fuelType           brand  \\\n",
      "0          150000                    0   benzin      volkswagen   \n",
      "1          125000                    5   diesel            audi   \n",
      "2          125000                    8   diesel            jeep   \n",
      "3          150000                    6   benzin      volkswagen   \n",
      "4           90000                    7   diesel           skoda   \n",
      "...           ...                  ...      ...             ...   \n",
      "371523      20000                    1      NaN  sonstige_autos   \n",
      "371524     125000                    3   benzin           smart   \n",
      "371525     150000                    3   diesel      volkswagen   \n",
      "371526     150000                    6   diesel      volkswagen   \n",
      "371527      50000                    8   benzin             bmw   \n",
      "\n",
      "       notRepairedDamage  \n",
      "0                    NaN  \n",
      "1                     ja  \n",
      "2                    NaN  \n",
      "3                   nein  \n",
      "4                   nein  \n",
      "...                  ...  \n",
      "371523               NaN  \n",
      "371524              nein  \n",
      "371525              nein  \n",
      "371526               NaN  \n",
      "371527              nein  \n",
      "\n",
      "[371528 rows x 13 columns]\n"
     ]
    }
   ],
   "source": [
    "UpdAutolist = autolist_df.drop(['dateCrawled', 'offerType', 'abtest', 'dateCreated', 'nrOfPictures', 'postalCode', 'lastSeen'], axis='columns')\n",
    "print (UpdAutolist)"
   ]
  },
  {
   "cell_type": "markdown",
   "metadata": {},
   "source": [
    "## 2. Удалите повторяющиеся строки, строки содержащие пропуски в данных. Выведите размер набора данных до и после удаления."
   ]
  },
  {
   "cell_type": "code",
   "execution_count": 167,
   "metadata": {},
   "outputs": [
    {
     "name": "stdout",
     "output_type": "stream",
     "text": [
      "Количество автомобилей до:  371528\n"
     ]
    }
   ],
   "source": [
    "print (\"Количество автомобилей до: \",autolist_df.shape[0])"
   ]
  },
  {
   "cell_type": "code",
   "execution_count": 168,
   "metadata": {},
   "outputs": [
    {
     "name": "stdout",
     "output_type": "stream",
     "text": [
      "                                                name  seller  price  \\\n",
      "0                                         Golf_3_1.6  privat    480   \n",
      "1                               A5_Sportback_2.7_Tdi  privat  18300   \n",
      "2                     Jeep_Grand_Cherokee_\"Overland\"  privat   9800   \n",
      "3                                 GOLF_4_1_4__3TÜRER  privat   1500   \n",
      "4                     Skoda_Fabia_1.4_TDI_PD_Classic  privat   3600   \n",
      "...                                              ...     ...    ...   \n",
      "371523                    Suche_t4___vito_ab_6_sitze  privat   2200   \n",
      "371524         Smart_smart_leistungssteigerung_100ps  privat   1199   \n",
      "371525            Volkswagen_Multivan_T4_TDI_7DC_UY2  privat   9200   \n",
      "371526                        VW_Golf_Kombi_1_9l_TDI  privat   3400   \n",
      "371527  BMW_M135i_vollausgestattet_NP_52.720____Euro  privat  28990   \n",
      "\n",
      "       vehicleType  yearOfRegistration    gearbox  powerPS        model  \\\n",
      "0              NaN                1993    manuell        0         golf   \n",
      "1            coupe                2011    manuell      190          NaN   \n",
      "2              suv                2004  automatik      163        grand   \n",
      "3       kleinwagen                2001    manuell       75         golf   \n",
      "4       kleinwagen                2008    manuell       69        fabia   \n",
      "...            ...                 ...        ...      ...          ...   \n",
      "371523         NaN                2005        NaN        0          NaN   \n",
      "371524      cabrio                2000  automatik      101       fortwo   \n",
      "371525         bus                1996    manuell      102  transporter   \n",
      "371526       kombi                2002    manuell      100         golf   \n",
      "371527   limousine                2013    manuell      320      m_reihe   \n",
      "\n",
      "        kilometer  monthOfRegistration fuelType           brand  \\\n",
      "0          150000                    0   benzin      volkswagen   \n",
      "1          125000                    5   diesel            audi   \n",
      "2          125000                    8   diesel            jeep   \n",
      "3          150000                    6   benzin      volkswagen   \n",
      "4           90000                    7   diesel           skoda   \n",
      "...           ...                  ...      ...             ...   \n",
      "371523      20000                    1      NaN  sonstige_autos   \n",
      "371524     125000                    3   benzin           smart   \n",
      "371525     150000                    3   diesel      volkswagen   \n",
      "371526     150000                    6   diesel      volkswagen   \n",
      "371527      50000                    8   benzin             bmw   \n",
      "\n",
      "       notRepairedDamage  \n",
      "0                    NaN  \n",
      "1                     ja  \n",
      "2                    NaN  \n",
      "3                   nein  \n",
      "4                   nein  \n",
      "...                  ...  \n",
      "371523               NaN  \n",
      "371524              nein  \n",
      "371525              nein  \n",
      "371526               NaN  \n",
      "371527              nein  \n",
      "\n",
      "[362770 rows x 13 columns]\n"
     ]
    }
   ],
   "source": [
    "Updautolistv2 = UpdAutolist.drop_duplicates(['name','price','vehicleType','yearOfRegistration'\n",
    "                         ,'gearbox','powerPS','model','kilometer','monthOfRegistration','fuelType'\n",
    "                         ,'notRepairedDamage', 'seller'])\n",
    "print (Updautolistv2)"
   ]
  },
  {
   "cell_type": "code",
   "execution_count": 169,
   "metadata": {},
   "outputs": [
    {
     "name": "stdout",
     "output_type": "stream",
     "text": [
      "Количество автомобилей после удаления повторяющихся строк 362770\n"
     ]
    }
   ],
   "source": [
    "print (\"Количество автомобилей после удаления повторяющихся строк\", Updautolistv2.shape[0])"
   ]
  },
  {
   "cell_type": "code",
   "execution_count": 170,
   "metadata": {},
   "outputs": [
    {
     "name": "stdout",
     "output_type": "stream",
     "text": [
      "                                                     name  seller  price  \\\n",
      "3                                      GOLF_4_1_4__3TÜRER  privat   1500   \n",
      "4                          Skoda_Fabia_1.4_TDI_PD_Classic  privat   3600   \n",
      "5       BMW_316i___e36_Limousine___Bastlerfahrzeug__Ex...  privat    650   \n",
      "6                             Peugeot_206_CC_110_Platinum  privat   2200   \n",
      "7                            VW_Derby_Bj_80__Scheunenfund  privat      0   \n",
      "...                                                   ...     ...    ...   \n",
      "371518                          Bmw_320_D_DPF_Touring_!!!  privat   3999   \n",
      "371520                                       turbo_defekt  privat   3200   \n",
      "371524              Smart_smart_leistungssteigerung_100ps  privat   1199   \n",
      "371525                 Volkswagen_Multivan_T4_TDI_7DC_UY2  privat   9200   \n",
      "371527       BMW_M135i_vollausgestattet_NP_52.720____Euro  privat  28990   \n",
      "\n",
      "       vehicleType  yearOfRegistration    gearbox  powerPS        model  \\\n",
      "3       kleinwagen                2001    manuell       75         golf   \n",
      "4       kleinwagen                2008    manuell       69        fabia   \n",
      "5        limousine                1995    manuell      102          3er   \n",
      "6           cabrio                2004    manuell      109      2_reihe   \n",
      "7        limousine                1980    manuell       50       andere   \n",
      "...            ...                 ...        ...      ...          ...   \n",
      "371518       kombi                2005    manuell        3          3er   \n",
      "371520   limousine                2004    manuell      225         leon   \n",
      "371524      cabrio                2000  automatik      101       fortwo   \n",
      "371525         bus                1996    manuell      102  transporter   \n",
      "371527   limousine                2013    manuell      320      m_reihe   \n",
      "\n",
      "        kilometer  monthOfRegistration fuelType       brand notRepairedDamage  \n",
      "3          150000                    6   benzin  volkswagen              nein  \n",
      "4           90000                    7   diesel       skoda              nein  \n",
      "5          150000                   10   benzin         bmw                ja  \n",
      "6          150000                    8   benzin     peugeot              nein  \n",
      "7           40000                    7   benzin  volkswagen              nein  \n",
      "...           ...                  ...      ...         ...               ...  \n",
      "371518     150000                    5   diesel         bmw              nein  \n",
      "371520     150000                    5   benzin        seat                ja  \n",
      "371524     125000                    3   benzin       smart              nein  \n",
      "371525     150000                    3   diesel  volkswagen              nein  \n",
      "371527      50000                    8   benzin         bmw              nein  \n",
      "\n",
      "[254921 rows x 13 columns]\n"
     ]
    }
   ],
   "source": [
    "Updautolistv3 = Updautolistv2.dropna()\n",
    "print (Updautolistv3)"
   ]
  },
  {
   "cell_type": "code",
   "execution_count": 171,
   "metadata": {},
   "outputs": [
    {
     "name": "stdout",
     "output_type": "stream",
     "text": [
      "Количество автомобилей после удаления повторяющихся строк и строк содержащих пропуски 254921\n"
     ]
    }
   ],
   "source": [
    "print (\"Количество автомобилей после удаления повторяющихся строк и строк содержащих пропуски\", Updautolistv3.shape[0])"
   ]
  },
  {
   "cell_type": "markdown",
   "metadata": {},
   "source": [
    "## 3. Удалите данные в строках, выходящие за некоторые пределы (год регистрации, цена, мощность двигателя). Выведите размер набора данных до и после удаления. Для оценки диапазонов значений признаков используйте BoxPlot."
   ]
  },
  {
   "cell_type": "code",
   "execution_count": 172,
   "metadata": {},
   "outputs": [
    {
     "data": {
      "image/png": "[encoded data removed]",
      "text/plain": [
       "<Figure size 432x288 with 1 Axes>"
      ]
     },
     "metadata": {
      "needs_background": "light"
     },
     "output_type": "display_data"
    }
   ],
   "source": [
    "boxplotyear = Updautolistv3.boxplot(column=['yearOfRegistration'])"
   ]
  },
  {
   "cell_type": "code",
   "execution_count": 173,
   "metadata": {},
   "outputs": [
    {
     "data": {
      "image/png": "[encoded data removed]",
      "text/plain": [
       "<Figure size 432x288 with 1 Axes>"
      ]
     },
     "metadata": {
      "needs_background": "light"
     },
     "output_type": "display_data"
    }
   ],
   "source": [
    "boxplotprice = Updautolistv3.boxplot(column=['price'])"
   ]
  },
  {
   "cell_type": "code",
   "execution_count": 174,
   "metadata": {},
   "outputs": [
    {
     "data": {
      "image/png": "[encoded data removed]",
      "text/plain": [
       "<Figure size 432x288 with 1 Axes>"
      ]
     },
     "metadata": {
      "needs_background": "light"
     },
     "output_type": "display_data"
    }
   ],
   "source": [
    "boxplotPS = Updautolistv3.boxplot(column=['powerPS'])"
   ]
  },
  {
   "cell_type": "code",
   "execution_count": 175,
   "metadata": {},
   "outputs": [
    {
     "name": "stdout",
     "output_type": "stream",
     "text": [
      "Количество автомобилей до сортировки 254921\n"
     ]
    }
   ],
   "source": [
    "print (\"Количество автомобилей до сортировки\", Updautolistv3.shape[0])"
   ]
  },
  {
   "cell_type": "code",
   "execution_count": 176,
   "metadata": {},
   "outputs": [
    {
     "name": "stdout",
     "output_type": "stream",
     "text": [
      "                                                     name  seller  price  \\\n",
      "3                                      GOLF_4_1_4__3TÜRER  privat   1500   \n",
      "4                          Skoda_Fabia_1.4_TDI_PD_Classic  privat   3600   \n",
      "5       BMW_316i___e36_Limousine___Bastlerfahrzeug__Ex...  privat    650   \n",
      "6                             Peugeot_206_CC_110_Platinum  privat   2200   \n",
      "10                                      Mazda_3_1.6_Sport  privat   2000   \n",
      "...                                                   ...     ...    ...   \n",
      "371517                   Volkswagen_Golf_2.0_TDI_DPF_Team  privat   7900   \n",
      "371520                                       turbo_defekt  privat   3200   \n",
      "371524              Smart_smart_leistungssteigerung_100ps  privat   1199   \n",
      "371525                 Volkswagen_Multivan_T4_TDI_7DC_UY2  privat   9200   \n",
      "371527       BMW_M135i_vollausgestattet_NP_52.720____Euro  privat  28990   \n",
      "\n",
      "       vehicleType  yearOfRegistration    gearbox  powerPS        model  \\\n",
      "3       kleinwagen                2001    manuell       75         golf   \n",
      "4       kleinwagen                2008    manuell       69        fabia   \n",
      "5        limousine                1995    manuell      102          3er   \n",
      "6           cabrio                2004    manuell      109      2_reihe   \n",
      "10       limousine                2004    manuell      105      3_reihe   \n",
      "...            ...                 ...        ...      ...          ...   \n",
      "371517   limousine                2010    manuell      140         golf   \n",
      "371520   limousine                2004    manuell      225         leon   \n",
      "371524      cabrio                2000  automatik      101       fortwo   \n",
      "371525         bus                1996    manuell      102  transporter   \n",
      "371527   limousine                2013    manuell      320      m_reihe   \n",
      "\n",
      "        kilometer  monthOfRegistration fuelType       brand notRepairedDamage  \n",
      "3          150000                    6   benzin  volkswagen              nein  \n",
      "4           90000                    7   diesel       skoda              nein  \n",
      "5          150000                   10   benzin         bmw                ja  \n",
      "6          150000                    8   benzin     peugeot              nein  \n",
      "10         150000                   12   benzin       mazda              nein  \n",
      "...           ...                  ...      ...         ...               ...  \n",
      "371517     150000                    7   diesel  volkswagen              nein  \n",
      "371520     150000                    5   benzin        seat                ja  \n",
      "371524     125000                    3   benzin       smart              nein  \n",
      "371525     150000                    3   diesel  volkswagen              nein  \n",
      "371527      50000                    8   benzin         bmw              nein  \n",
      "\n",
      "[241387 rows x 13 columns]\n"
     ]
    }
   ],
   "source": [
    "Updautolistv4 = Updautolistv3[\n",
    "        (Updautolistv3.yearOfRegistration <= 2016) \n",
    "      & (Updautolistv3.yearOfRegistration >= 1950) \n",
    "      & (Updautolistv3.price >= 100) \n",
    "      & (Updautolistv3.price <= 150000) \n",
    "      & (Updautolistv3.powerPS >= 10) \n",
    "      & (Updautolistv3.powerPS <= 500)]\n",
    "\n",
    "print (Updautolistv4)"
   ]
  },
  {
   "cell_type": "code",
   "execution_count": 177,
   "metadata": {},
   "outputs": [
    {
     "name": "stdout",
     "output_type": "stream",
     "text": [
      "Количество автомобилей после сортировки 241387\n"
     ]
    }
   ],
   "source": [
    "print (\"Количество автомобилей после сортировки\", Updautolistv4.shape[0])"
   ]
  },
  {
   "cell_type": "markdown",
   "metadata": {},
   "source": [
    "## 4. Заполнить пропущенные данные в строковых полях."
   ]
  },
  {
   "cell_type": "markdown",
   "metadata": {},
   "source": [
    "Заполним во всех 13 колонках пропуски"
   ]
  },
  {
   "cell_type": "code",
   "execution_count": 178,
   "metadata": {},
   "outputs": [
    {
     "name": "stderr",
     "output_type": "stream",
     "text": [
      "c:\\users\\stlak\\appdata\\local\\programs\\python\\python38\\lib\\site-packages\\pandas\\core\\generic.py:6245: SettingWithCopyWarning: \n",
      "A value is trying to be set on a copy of a slice from a DataFrame\n",
      "\n",
      "See the caveats in the documentation: https://pandas.pydata.org/pandas-docs/stable/user_guide/indexing.html#returning-a-view-versus-a-copy\n",
      "  self._update_inplace(new_data)\n"
     ]
    }
   ],
   "source": [
    "Updautolistv4['name'].fillna(value='N/D', inplace=True)\n",
    "Updautolistv4['seller'].fillna(value='N/D', inplace=True)\n",
    "Updautolistv4['price'].fillna(value='N/D', inplace=True)\n",
    "Updautolistv4['vehicleType'].fillna(value='N/D', inplace=True)\n",
    "Updautolistv4['yearOfRegistration'].fillna(value='N/D', inplace=True)\n",
    "Updautolistv4['gearbox'].fillna(value='N/D', inplace=True)\n",
    "Updautolistv4['powerPS'].fillna(value='N/D', inplace=True)\n",
    "Updautolistv4['model'].fillna(value='N/D', inplace=True)\n",
    "Updautolistv4['kilometer'].fillna(value='N/D', inplace=True)\n",
    "Updautolistv4['monthOfRegistration'].fillna(value='N/D', inplace=True)\n",
    "Updautolistv4['fuelType'].fillna(value='N/D', inplace=True)\n",
    "Updautolistv4['brand'].fillna(value='N/D', inplace=True)\n",
    "Updautolistv4['notRepairedDamage'].fillna(value='N/D', inplace=True)\n"
   ]
  },
  {
   "cell_type": "code",
   "execution_count": 179,
   "metadata": {},
   "outputs": [
    {
     "data": {
      "text/plain": [
       "name                   0\n",
       "seller                 0\n",
       "price                  0\n",
       "vehicleType            0\n",
       "yearOfRegistration     0\n",
       "gearbox                0\n",
       "powerPS                0\n",
       "model                  0\n",
       "kilometer              0\n",
       "monthOfRegistration    0\n",
       "fuelType               0\n",
       "brand                  0\n",
       "notRepairedDamage      0\n",
       "dtype: int64"
      ]
     },
     "execution_count": 179,
     "metadata": {},
     "output_type": "execute_result"
    }
   ],
   "source": [
    "Updautolistv4.isnull().sum()"
   ]
  },
  {
   "cell_type": "markdown",
   "metadata": {},
   "source": [
    "## 5. Постройте гистограмму по маркам автомобилей, типам кузова и используемому топливу."
   ]
  },
  {
   "cell_type": "code",
   "execution_count": 180,
   "metadata": {},
   "outputs": [
    {
     "name": "stdout",
     "output_type": "stream",
     "text": [
      "brand\n",
      "volkswagen       50502\n",
      "bmw              28364\n",
      "mercedes_benz    24831\n",
      "opel             23940\n",
      "audi             23168\n",
      "Name: brand, dtype: int64\n"
     ]
    },
    {
     "data": {
      "image/png": "[encoded data removed]",
      "text/plain": [
       "<Figure size 360x216 with 1 Axes>"
      ]
     },
     "metadata": {
      "needs_background": "light"
     },
     "output_type": "display_data"
    },
    {
     "name": "stdout",
     "output_type": "stream",
     "text": [
      "vehicleType\n",
      "limousine     70970\n",
      "kleinwagen    53772\n",
      "kombi         49571\n",
      "bus           23314\n",
      "cabrio        17623\n",
      "Name: vehicleType, dtype: int64\n"
     ]
    },
    {
     "data": {
      "image/png": "[encoded data removed]",
      "text/plain": [
       "<Figure size 360x216 with 1 Axes>"
      ]
     },
     "metadata": {
      "needs_background": "light"
     },
     "output_type": "display_data"
    },
    {
     "name": "stdout",
     "output_type": "stream",
     "text": [
      "fuelType\n",
      "benzin    155911\n",
      "diesel     81122\n",
      "lpg         3639\n",
      "cng          419\n",
      "hybrid       196\n",
      "Name: fuelType, dtype: int64\n"
     ]
    },
    {
     "data": {
      "image/png": "[encoded data removed]",
      "text/plain": [
       "<Figure size 360x216 with 1 Axes>"
      ]
     },
     "metadata": {
      "needs_background": "light"
     },
     "output_type": "display_data"
    }
   ],
   "source": [
    "gistogram = ['brand', 'vehicleType', 'fuelType']\n",
    "for i, c in enumerate(gistogram):\n",
    "    v = Updautolistv4[c].unique()\n",
    "    g = Updautolistv4.groupby(by=c)[c].count().sort_values(ascending=False)\n",
    "    r = range(min(len(v), 5))\n",
    "    print( g.head())\n",
    "    plt.figure(figsize=(5,3))\n",
    "    plt.bar(r, g.head())\n",
    "    plt.xticks(r, g.index)\n",
    "    plt.show()"
   ]
  },
  {
   "cell_type": "markdown",
   "metadata": {},
   "source": [
    "## 6. Добавьте в данные новый признак, который представляет собой длину названия автомобиля."
   ]
  },
  {
   "cell_type": "code",
   "execution_count": 181,
   "metadata": {},
   "outputs": [
    {
     "name": "stderr",
     "output_type": "stream",
     "text": [
      "<ipython-input-181-42fd450d4b13>:1: SettingWithCopyWarning: \n",
      "A value is trying to be set on a copy of a slice from a DataFrame.\n",
      "Try using .loc[row_indexer,col_indexer] = value instead\n",
      "\n",
      "See the caveats in the documentation: https://pandas.pydata.org/pandas-docs/stable/user_guide/indexing.html#returning-a-view-versus-a-copy\n",
      "  Updautolistv4['Carlength'] = None\n"
     ]
    }
   ],
   "source": [
    "Updautolistv4['Carlength'] = None"
   ]
  },
  {
   "cell_type": "code",
   "execution_count": 182,
   "metadata": {},
   "outputs": [
    {
     "name": "stdout",
     "output_type": "stream",
     "text": [
      "                                                     name  seller  price  \\\n",
      "3                                      GOLF_4_1_4__3TÜRER  privat   1500   \n",
      "4                          Skoda_Fabia_1.4_TDI_PD_Classic  privat   3600   \n",
      "5       BMW_316i___e36_Limousine___Bastlerfahrzeug__Ex...  privat    650   \n",
      "6                             Peugeot_206_CC_110_Platinum  privat   2200   \n",
      "10                                      Mazda_3_1.6_Sport  privat   2000   \n",
      "...                                                   ...     ...    ...   \n",
      "371517                   Volkswagen_Golf_2.0_TDI_DPF_Team  privat   7900   \n",
      "371520                                       turbo_defekt  privat   3200   \n",
      "371524              Smart_smart_leistungssteigerung_100ps  privat   1199   \n",
      "371525                 Volkswagen_Multivan_T4_TDI_7DC_UY2  privat   9200   \n",
      "371527       BMW_M135i_vollausgestattet_NP_52.720____Euro  privat  28990   \n",
      "\n",
      "       vehicleType  yearOfRegistration    gearbox  powerPS        model  \\\n",
      "3       kleinwagen                2001    manuell       75         golf   \n",
      "4       kleinwagen                2008    manuell       69        fabia   \n",
      "5        limousine                1995    manuell      102          3er   \n",
      "6           cabrio                2004    manuell      109      2_reihe   \n",
      "10       limousine                2004    manuell      105      3_reihe   \n",
      "...            ...                 ...        ...      ...          ...   \n",
      "371517   limousine                2010    manuell      140         golf   \n",
      "371520   limousine                2004    manuell      225         leon   \n",
      "371524      cabrio                2000  automatik      101       fortwo   \n",
      "371525         bus                1996    manuell      102  transporter   \n",
      "371527   limousine                2013    manuell      320      m_reihe   \n",
      "\n",
      "        kilometer  monthOfRegistration fuelType       brand notRepairedDamage  \\\n",
      "3          150000                    6   benzin  volkswagen              nein   \n",
      "4           90000                    7   diesel       skoda              nein   \n",
      "5          150000                   10   benzin         bmw                ja   \n",
      "6          150000                    8   benzin     peugeot              nein   \n",
      "10         150000                   12   benzin       mazda              nein   \n",
      "...           ...                  ...      ...         ...               ...   \n",
      "371517     150000                    7   diesel  volkswagen              nein   \n",
      "371520     150000                    5   benzin        seat                ja   \n",
      "371524     125000                    3   benzin       smart              nein   \n",
      "371525     150000                    3   diesel  volkswagen              nein   \n",
      "371527      50000                    8   benzin         bmw              nein   \n",
      "\n",
      "       Carlength  \n",
      "3           None  \n",
      "4           None  \n",
      "5           None  \n",
      "6           None  \n",
      "10          None  \n",
      "...          ...  \n",
      "371517      None  \n",
      "371520      None  \n",
      "371524      None  \n",
      "371525      None  \n",
      "371527      None  \n",
      "\n",
      "[241387 rows x 14 columns]\n"
     ]
    }
   ],
   "source": [
    "print(Updautolistv4)"
   ]
  },
  {
   "cell_type": "markdown",
   "metadata": {},
   "source": [
    "## 7. Постройте карту корреляций между признаками. Выведите также числовые значения признаков."
   ]
  },
  {
   "cell_type": "code",
   "execution_count": 183,
   "metadata": {},
   "outputs": [
    {
     "data": {
      "image/png": "[encoded data removed]",
      "text/plain": [
       "<Figure size 1500x1500 with 2 Axes>"
      ]
     },
     "metadata": {
      "needs_background": "light"
     },
     "output_type": "display_data"
    },
    {
     "data": {
      "text/html": [
       "<div>\n",
       "<style scoped>\n",
       "    .dataframe tbody tr th:only-of-type {\n",
       "        vertical-align: middle;\n",
       "    }\n",
       "\n",
       "    .dataframe tbody tr th {\n",
       "        vertical-align: top;\n",
       "    }\n",
       "\n",
       "    .dataframe thead th {\n",
       "        text-align: right;\n",
       "    }\n",
       "</style>\n",
       "<table border=\"1\" class=\"dataframe\">\n",
       "  <thead>\n",
       "    <tr style=\"text-align: right;\">\n",
       "      <th></th>\n",
       "      <th>price</th>\n",
       "      <th>yearOfRegistration</th>\n",
       "      <th>powerPS</th>\n",
       "      <th>kilometer</th>\n",
       "      <th>monthOfRegistration</th>\n",
       "    </tr>\n",
       "  </thead>\n",
       "  <tbody>\n",
       "    <tr>\n",
       "      <th>price</th>\n",
       "      <td>1.000000</td>\n",
       "      <td>0.451642</td>\n",
       "      <td>0.575839</td>\n",
       "      <td>-0.461691</td>\n",
       "      <td>0.016608</td>\n",
       "    </tr>\n",
       "    <tr>\n",
       "      <th>yearOfRegistration</th>\n",
       "      <td>0.451642</td>\n",
       "      <td>1.000000</td>\n",
       "      <td>0.208924</td>\n",
       "      <td>-0.417308</td>\n",
       "      <td>0.021489</td>\n",
       "    </tr>\n",
       "    <tr>\n",
       "      <th>powerPS</th>\n",
       "      <td>0.575839</td>\n",
       "      <td>0.208924</td>\n",
       "      <td>1.000000</td>\n",
       "      <td>-0.008716</td>\n",
       "      <td>0.021354</td>\n",
       "    </tr>\n",
       "    <tr>\n",
       "      <th>kilometer</th>\n",
       "      <td>-0.461691</td>\n",
       "      <td>-0.417308</td>\n",
       "      <td>-0.008716</td>\n",
       "      <td>1.000000</td>\n",
       "      <td>-0.002982</td>\n",
       "    </tr>\n",
       "    <tr>\n",
       "      <th>monthOfRegistration</th>\n",
       "      <td>0.016608</td>\n",
       "      <td>0.021489</td>\n",
       "      <td>0.021354</td>\n",
       "      <td>-0.002982</td>\n",
       "      <td>1.000000</td>\n",
       "    </tr>\n",
       "  </tbody>\n",
       "</table>\n",
       "</div>"
      ],
      "text/plain": [
       "                        price  yearOfRegistration   powerPS  kilometer  \\\n",
       "price                1.000000            0.451642  0.575839  -0.461691   \n",
       "yearOfRegistration   0.451642            1.000000  0.208924  -0.417308   \n",
       "powerPS              0.575839            0.208924  1.000000  -0.008716   \n",
       "kilometer           -0.461691           -0.417308 -0.008716   1.000000   \n",
       "monthOfRegistration  0.016608            0.021489  0.021354  -0.002982   \n",
       "\n",
       "                     monthOfRegistration  \n",
       "price                           0.016608  \n",
       "yearOfRegistration              0.021489  \n",
       "powerPS                         0.021354  \n",
       "kilometer                      -0.002982  \n",
       "monthOfRegistration             1.000000  "
      ]
     },
     "execution_count": 183,
     "metadata": {},
     "output_type": "execute_result"
    }
   ],
   "source": [
    "# Взял из https://habr.com/ru/post/468295/\n",
    "plt.figure(figsize=(15,15), dpi= 100)\n",
    "sns.heatmap(Updautolistv4.corr(), xticklabels=Updautolistv4.corr().columns, yticklabels=Updautolistv4.corr().columns, cmap='PuBuGn', center=0, annot=True)\n",
    "\n",
    "\n",
    "plt.title('Correlogram of cars', fontsize=30)\n",
    "plt.xticks(fontsize=14)\n",
    "plt.yticks(fontsize=14)\n",
    "plt.show()\n",
    "\n",
    "Updautolistv4.corr()"
   ]
  },
  {
   "cell_type": "markdown",
   "metadata": {},
   "source": [
    "## 9. Добавьте в набор данных признак, являющийся суммой двух других признаков."
   ]
  },
  {
   "cell_type": "code",
   "execution_count": 184,
   "metadata": {},
   "outputs": [
    {
     "name": "stdout",
     "output_type": "stream",
     "text": [
      "                                                     name  seller  price  \\\n",
      "3                                      GOLF_4_1_4__3TÜRER  privat   1500   \n",
      "4                          Skoda_Fabia_1.4_TDI_PD_Classic  privat   3600   \n",
      "5       BMW_316i___e36_Limousine___Bastlerfahrzeug__Ex...  privat    650   \n",
      "6                             Peugeot_206_CC_110_Platinum  privat   2200   \n",
      "10                                      Mazda_3_1.6_Sport  privat   2000   \n",
      "...                                                   ...     ...    ...   \n",
      "371517                   Volkswagen_Golf_2.0_TDI_DPF_Team  privat   7900   \n",
      "371520                                       turbo_defekt  privat   3200   \n",
      "371524              Smart_smart_leistungssteigerung_100ps  privat   1199   \n",
      "371525                 Volkswagen_Multivan_T4_TDI_7DC_UY2  privat   9200   \n",
      "371527       BMW_M135i_vollausgestattet_NP_52.720____Euro  privat  28990   \n",
      "\n",
      "       vehicleType  yearOfRegistration    gearbox  powerPS        model  \\\n",
      "3       kleinwagen                2001    manuell       75         golf   \n",
      "4       kleinwagen                2008    manuell       69        fabia   \n",
      "5        limousine                1995    manuell      102          3er   \n",
      "6           cabrio                2004    manuell      109      2_reihe   \n",
      "10       limousine                2004    manuell      105      3_reihe   \n",
      "...            ...                 ...        ...      ...          ...   \n",
      "371517   limousine                2010    manuell      140         golf   \n",
      "371520   limousine                2004    manuell      225         leon   \n",
      "371524      cabrio                2000  automatik      101       fortwo   \n",
      "371525         bus                1996    manuell      102  transporter   \n",
      "371527   limousine                2013    manuell      320      m_reihe   \n",
      "\n",
      "        kilometer  monthOfRegistration fuelType       brand notRepairedDamage  \\\n",
      "3          150000                    6   benzin  volkswagen              nein   \n",
      "4           90000                    7   diesel       skoda              nein   \n",
      "5          150000                   10   benzin         bmw                ja   \n",
      "6          150000                    8   benzin     peugeot              nein   \n",
      "10         150000                   12   benzin       mazda              nein   \n",
      "...           ...                  ...      ...         ...               ...   \n",
      "371517     150000                    7   diesel  volkswagen              nein   \n",
      "371520     150000                    5   benzin        seat                ja   \n",
      "371524     125000                    3   benzin       smart              nein   \n",
      "371525     150000                    3   diesel  volkswagen              nein   \n",
      "371527      50000                    8   benzin         bmw              nein   \n",
      "\n",
      "       Carlength              brief info  \n",
      "3           None         volkswagen golf  \n",
      "4           None             skoda fabia  \n",
      "5           None                 bmw 3er  \n",
      "6           None         peugeot 2_reihe  \n",
      "10          None           mazda 3_reihe  \n",
      "...          ...                     ...  \n",
      "371517      None         volkswagen golf  \n",
      "371520      None               seat leon  \n",
      "371524      None            smart fortwo  \n",
      "371525      None  volkswagen transporter  \n",
      "371527      None             bmw m_reihe  \n",
      "\n",
      "[241387 rows x 15 columns]\n"
     ]
    },
    {
     "name": "stderr",
     "output_type": "stream",
     "text": [
      "<ipython-input-184-42aed08a2ca0>:1: SettingWithCopyWarning: \n",
      "A value is trying to be set on a copy of a slice from a DataFrame.\n",
      "Try using .loc[row_indexer,col_indexer] = value instead\n",
      "\n",
      "See the caveats in the documentation: https://pandas.pydata.org/pandas-docs/stable/user_guide/indexing.html#returning-a-view-versus-a-copy\n",
      "  Updautolistv4['brief info'] = Updautolistv4['brand'] + \" \" + Updautolistv4['model']\n"
     ]
    }
   ],
   "source": [
    "Updautolistv4['brief info'] = Updautolistv4['brand'] + \" \" + Updautolistv4['model']\n",
    "print (Updautolistv4)"
   ]
  },
  {
   "cell_type": "markdown",
   "metadata": {},
   "source": [
    "## 8. Определите коэффициент корреляции Пирсона и Спирмена между стоимостью автомобиля и типом кузова. Оцените значение p-value. Постройте плотность распределения признаков.\n"
   ]
  },
  {
   "cell_type": "code",
   "execution_count": 185,
   "metadata": {},
   "outputs": [],
   "source": [
    "from scipy.stats import pearsonr\n",
    "from scipy.stats import spearmanr\n",
    "from sklearn.preprocessing import LabelEncoder"
   ]
  },
  {
   "cell_type": "code",
   "execution_count": 186,
   "metadata": {},
   "outputs": [],
   "source": [
    "label_encoder = LabelEncoder()\n",
    "vehicleCoder = pd.Series(label_encoder.fit_transform(Updautolistv4['vehicleType']))\n",
    "coefficientpearson = pearsonr(Updautolistv4['price'],vehicleCoder)\n",
    "coefficientspearman = spearmanr(Updautolistv4['price'],vehicleCoder)"
   ]
  },
  {
   "cell_type": "code",
   "execution_count": 187,
   "metadata": {},
   "outputs": [
    {
     "name": "stdout",
     "output_type": "stream",
     "text": [
      "Коэффициент корреляции Пирсона:  (-0.010069549164327769, 7.521703626189887e-07)\n"
     ]
    }
   ],
   "source": [
    "print(\"Коэффициент корреляции Пирсона: \",coefficientpearson)\n"
   ]
  },
  {
   "cell_type": "code",
   "execution_count": 188,
   "metadata": {},
   "outputs": [
    {
     "name": "stdout",
     "output_type": "stream",
     "text": [
      "Коэффициент корреляции Спирмена:  SpearmanrResult(correlation=0.03672933039006128, pvalue=7.672166486775973e-73)\n"
     ]
    }
   ],
   "source": [
    "print(\"Коэффициент корреляции Спирмена: \",coefficientspearman)\n"
   ]
  },
  {
   "cell_type": "code",
   "execution_count": 189,
   "metadata": {},
   "outputs": [
    {
     "data": {
      "text/plain": [
       "<matplotlib.axes._subplots.AxesSubplot at 0x23643606a30>"
      ]
     },
     "execution_count": 189,
     "metadata": {},
     "output_type": "execute_result"
    },
    {
     "data": {
      "image/png": "[encoded data removed]",
      "text/plain": [
       "<Figure size 432x288 with 1 Axes>"
      ]
     },
     "metadata": {
      "needs_background": "light"
     },
     "output_type": "display_data"
    }
   ],
   "source": [
    "sPrice = pd.Series(Updautolistv4['price'])\n",
    "sPrice.plot.kde()"
   ]
  },
  {
   "cell_type": "code",
   "execution_count": 190,
   "metadata": {},
   "outputs": [
    {
     "name": "stdout",
     "output_type": "stream",
     "text": [
      "p-value удовлетворительное\n"
     ]
    }
   ],
   "source": [
    "if (coefficientspearman[1]<0.05):\n",
    "    print(\"p-value удовлетворительное\")\n",
    "else:\n",
    "    print(\"p-value неудовлетворительное\")"
   ]
  },
  {
   "cell_type": "code",
   "execution_count": 191,
   "metadata": {},
   "outputs": [
    {
     "data": {
      "text/plain": [
       "<matplotlib.axes._subplots.AxesSubplot at 0x2363728ec70>"
      ]
     },
     "execution_count": 191,
     "metadata": {},
     "output_type": "execute_result"
    },
    {
     "data": {
      "image/png": "[encoded data removed]",
      "text/plain": [
       "<Figure size 432x288 with 1 Axes>"
      ]
     },
     "metadata": {
      "needs_background": "light"
     },
     "output_type": "display_data"
    }
   ],
   "source": [
    "Updautolistv4['vehicleType'].value_counts().plot.barh()"
   ]
  },
  {
   "cell_type": "code",
   "execution_count": null,
   "metadata": {},
   "outputs": [],
   "source": []
  },
  {
   "cell_type": "code",
   "execution_count": null,
   "metadata": {},
   "outputs": [],
   "source": []
  }
 ],
 "metadata": {
  "kernelspec": {
   "display_name": "Python 3",
   "language": "python",
   "name": "python3"
  },
  "language_info": {
   "codemirror_mode": {
    "name": "ipython",
    "version": 3
   },
   "file_extension": ".py",
   "mimetype": "text/x-python",
   "name": "python",
   "nbconvert_exporter": "python",
   "pygments_lexer": "ipython3",
   "version": "3.8.2"
  }
 },
 "nbformat": 4,
 "nbformat_minor": 4
}
