{
 "cells": [
  {
   "cell_type": "code",
   "execution_count": 29,
   "metadata": {},
   "outputs": [],
   "source": [
    "import pandas as pd\n",
    "import numpy as np\n",
    "from scipy import stats\n",
    "from sklearn.preprocessing import LabelEncoder\n",
    "from scipy.stats import pearsonr\n",
    "from scipy.stats import spearmanr\n",
    "import matplotlib.pyplot as plt\n",
    "%matplotlib inline\n",
    "import seaborn as sns\n"
   ]
  },
  {
   "cell_type": "code",
   "execution_count": 30,
   "metadata": {
    "scrolled": true
   },
   "outputs": [],
   "source": [
    "flights_tb = pd.read_csv('flights.csv', nrows=999999)"
   ]
  },
  {
   "cell_type": "code",
   "execution_count": 31,
   "metadata": {},
   "outputs": [
    {
     "data": {
      "text/html": [
       "<div>\n",
       "<style scoped>\n",
       "    .dataframe tbody tr th:only-of-type {\n",
       "        vertical-align: middle;\n",
       "    }\n",
       "\n",
       "    .dataframe tbody tr th {\n",
       "        vertical-align: top;\n",
       "    }\n",
       "\n",
       "    .dataframe thead th {\n",
       "        text-align: right;\n",
       "    }\n",
       "</style>\n",
       "<table border=\"1\" class=\"dataframe\">\n",
       "  <thead>\n",
       "    <tr style=\"text-align: right;\">\n",
       "      <th></th>\n",
       "      <th>YEAR</th>\n",
       "      <th>MONTH</th>\n",
       "      <th>DAY</th>\n",
       "      <th>DAY_OF_WEEK</th>\n",
       "      <th>AIRLINE</th>\n",
       "      <th>FLIGHT_NUMBER</th>\n",
       "      <th>TAIL_NUMBER</th>\n",
       "      <th>ORIGIN_AIRPORT</th>\n",
       "      <th>DESTINATION_AIRPORT</th>\n",
       "      <th>SCHEDULED_DEPARTURE</th>\n",
       "      <th>...</th>\n",
       "      <th>ARRIVAL_TIME</th>\n",
       "      <th>ARRIVAL_DELAY</th>\n",
       "      <th>DIVERTED</th>\n",
       "      <th>CANCELLED</th>\n",
       "      <th>CANCELLATION_REASON</th>\n",
       "      <th>AIR_SYSTEM_DELAY</th>\n",
       "      <th>SECURITY_DELAY</th>\n",
       "      <th>AIRLINE_DELAY</th>\n",
       "      <th>LATE_AIRCRAFT_DELAY</th>\n",
       "      <th>WEATHER_DELAY</th>\n",
       "    </tr>\n",
       "  </thead>\n",
       "  <tbody>\n",
       "    <tr>\n",
       "      <th>0</th>\n",
       "      <td>2015</td>\n",
       "      <td>1</td>\n",
       "      <td>1</td>\n",
       "      <td>4</td>\n",
       "      <td>AS</td>\n",
       "      <td>98</td>\n",
       "      <td>N407AS</td>\n",
       "      <td>ANC</td>\n",
       "      <td>SEA</td>\n",
       "      <td>5</td>\n",
       "      <td>...</td>\n",
       "      <td>408.0</td>\n",
       "      <td>-22.0</td>\n",
       "      <td>0</td>\n",
       "      <td>0</td>\n",
       "      <td>NaN</td>\n",
       "      <td>NaN</td>\n",
       "      <td>NaN</td>\n",
       "      <td>NaN</td>\n",
       "      <td>NaN</td>\n",
       "      <td>NaN</td>\n",
       "    </tr>\n",
       "    <tr>\n",
       "      <th>1</th>\n",
       "      <td>2015</td>\n",
       "      <td>1</td>\n",
       "      <td>1</td>\n",
       "      <td>4</td>\n",
       "      <td>AA</td>\n",
       "      <td>2336</td>\n",
       "      <td>N3KUAA</td>\n",
       "      <td>LAX</td>\n",
       "      <td>PBI</td>\n",
       "      <td>10</td>\n",
       "      <td>...</td>\n",
       "      <td>741.0</td>\n",
       "      <td>-9.0</td>\n",
       "      <td>0</td>\n",
       "      <td>0</td>\n",
       "      <td>NaN</td>\n",
       "      <td>NaN</td>\n",
       "      <td>NaN</td>\n",
       "      <td>NaN</td>\n",
       "      <td>NaN</td>\n",
       "      <td>NaN</td>\n",
       "    </tr>\n",
       "    <tr>\n",
       "      <th>2</th>\n",
       "      <td>2015</td>\n",
       "      <td>1</td>\n",
       "      <td>1</td>\n",
       "      <td>4</td>\n",
       "      <td>US</td>\n",
       "      <td>840</td>\n",
       "      <td>N171US</td>\n",
       "      <td>SFO</td>\n",
       "      <td>CLT</td>\n",
       "      <td>20</td>\n",
       "      <td>...</td>\n",
       "      <td>811.0</td>\n",
       "      <td>5.0</td>\n",
       "      <td>0</td>\n",
       "      <td>0</td>\n",
       "      <td>NaN</td>\n",
       "      <td>NaN</td>\n",
       "      <td>NaN</td>\n",
       "      <td>NaN</td>\n",
       "      <td>NaN</td>\n",
       "      <td>NaN</td>\n",
       "    </tr>\n",
       "    <tr>\n",
       "      <th>3</th>\n",
       "      <td>2015</td>\n",
       "      <td>1</td>\n",
       "      <td>1</td>\n",
       "      <td>4</td>\n",
       "      <td>AA</td>\n",
       "      <td>258</td>\n",
       "      <td>N3HYAA</td>\n",
       "      <td>LAX</td>\n",
       "      <td>MIA</td>\n",
       "      <td>20</td>\n",
       "      <td>...</td>\n",
       "      <td>756.0</td>\n",
       "      <td>-9.0</td>\n",
       "      <td>0</td>\n",
       "      <td>0</td>\n",
       "      <td>NaN</td>\n",
       "      <td>NaN</td>\n",
       "      <td>NaN</td>\n",
       "      <td>NaN</td>\n",
       "      <td>NaN</td>\n",
       "      <td>NaN</td>\n",
       "    </tr>\n",
       "    <tr>\n",
       "      <th>4</th>\n",
       "      <td>2015</td>\n",
       "      <td>1</td>\n",
       "      <td>1</td>\n",
       "      <td>4</td>\n",
       "      <td>AS</td>\n",
       "      <td>135</td>\n",
       "      <td>N527AS</td>\n",
       "      <td>SEA</td>\n",
       "      <td>ANC</td>\n",
       "      <td>25</td>\n",
       "      <td>...</td>\n",
       "      <td>259.0</td>\n",
       "      <td>-21.0</td>\n",
       "      <td>0</td>\n",
       "      <td>0</td>\n",
       "      <td>NaN</td>\n",
       "      <td>NaN</td>\n",
       "      <td>NaN</td>\n",
       "      <td>NaN</td>\n",
       "      <td>NaN</td>\n",
       "      <td>NaN</td>\n",
       "    </tr>\n",
       "    <tr>\n",
       "      <th>5</th>\n",
       "      <td>2015</td>\n",
       "      <td>1</td>\n",
       "      <td>1</td>\n",
       "      <td>4</td>\n",
       "      <td>DL</td>\n",
       "      <td>806</td>\n",
       "      <td>N3730B</td>\n",
       "      <td>SFO</td>\n",
       "      <td>MSP</td>\n",
       "      <td>25</td>\n",
       "      <td>...</td>\n",
       "      <td>610.0</td>\n",
       "      <td>8.0</td>\n",
       "      <td>0</td>\n",
       "      <td>0</td>\n",
       "      <td>NaN</td>\n",
       "      <td>NaN</td>\n",
       "      <td>NaN</td>\n",
       "      <td>NaN</td>\n",
       "      <td>NaN</td>\n",
       "      <td>NaN</td>\n",
       "    </tr>\n",
       "    <tr>\n",
       "      <th>6</th>\n",
       "      <td>2015</td>\n",
       "      <td>1</td>\n",
       "      <td>1</td>\n",
       "      <td>4</td>\n",
       "      <td>NK</td>\n",
       "      <td>612</td>\n",
       "      <td>N635NK</td>\n",
       "      <td>LAS</td>\n",
       "      <td>MSP</td>\n",
       "      <td>25</td>\n",
       "      <td>...</td>\n",
       "      <td>509.0</td>\n",
       "      <td>-17.0</td>\n",
       "      <td>0</td>\n",
       "      <td>0</td>\n",
       "      <td>NaN</td>\n",
       "      <td>NaN</td>\n",
       "      <td>NaN</td>\n",
       "      <td>NaN</td>\n",
       "      <td>NaN</td>\n",
       "      <td>NaN</td>\n",
       "    </tr>\n",
       "    <tr>\n",
       "      <th>7</th>\n",
       "      <td>2015</td>\n",
       "      <td>1</td>\n",
       "      <td>1</td>\n",
       "      <td>4</td>\n",
       "      <td>US</td>\n",
       "      <td>2013</td>\n",
       "      <td>N584UW</td>\n",
       "      <td>LAX</td>\n",
       "      <td>CLT</td>\n",
       "      <td>30</td>\n",
       "      <td>...</td>\n",
       "      <td>753.0</td>\n",
       "      <td>-10.0</td>\n",
       "      <td>0</td>\n",
       "      <td>0</td>\n",
       "      <td>NaN</td>\n",
       "      <td>NaN</td>\n",
       "      <td>NaN</td>\n",
       "      <td>NaN</td>\n",
       "      <td>NaN</td>\n",
       "      <td>NaN</td>\n",
       "    </tr>\n",
       "    <tr>\n",
       "      <th>8</th>\n",
       "      <td>2015</td>\n",
       "      <td>1</td>\n",
       "      <td>1</td>\n",
       "      <td>4</td>\n",
       "      <td>AA</td>\n",
       "      <td>1112</td>\n",
       "      <td>N3LAAA</td>\n",
       "      <td>SFO</td>\n",
       "      <td>DFW</td>\n",
       "      <td>30</td>\n",
       "      <td>...</td>\n",
       "      <td>532.0</td>\n",
       "      <td>-13.0</td>\n",
       "      <td>0</td>\n",
       "      <td>0</td>\n",
       "      <td>NaN</td>\n",
       "      <td>NaN</td>\n",
       "      <td>NaN</td>\n",
       "      <td>NaN</td>\n",
       "      <td>NaN</td>\n",
       "      <td>NaN</td>\n",
       "    </tr>\n",
       "    <tr>\n",
       "      <th>9</th>\n",
       "      <td>2015</td>\n",
       "      <td>1</td>\n",
       "      <td>1</td>\n",
       "      <td>4</td>\n",
       "      <td>DL</td>\n",
       "      <td>1173</td>\n",
       "      <td>N826DN</td>\n",
       "      <td>LAS</td>\n",
       "      <td>ATL</td>\n",
       "      <td>30</td>\n",
       "      <td>...</td>\n",
       "      <td>656.0</td>\n",
       "      <td>-15.0</td>\n",
       "      <td>0</td>\n",
       "      <td>0</td>\n",
       "      <td>NaN</td>\n",
       "      <td>NaN</td>\n",
       "      <td>NaN</td>\n",
       "      <td>NaN</td>\n",
       "      <td>NaN</td>\n",
       "      <td>NaN</td>\n",
       "    </tr>\n",
       "    <tr>\n",
       "      <th>10</th>\n",
       "      <td>2015</td>\n",
       "      <td>1</td>\n",
       "      <td>1</td>\n",
       "      <td>4</td>\n",
       "      <td>DL</td>\n",
       "      <td>2336</td>\n",
       "      <td>N958DN</td>\n",
       "      <td>DEN</td>\n",
       "      <td>ATL</td>\n",
       "      <td>30</td>\n",
       "      <td>...</td>\n",
       "      <td>453.0</td>\n",
       "      <td>-30.0</td>\n",
       "      <td>0</td>\n",
       "      <td>0</td>\n",
       "      <td>NaN</td>\n",
       "      <td>NaN</td>\n",
       "      <td>NaN</td>\n",
       "      <td>NaN</td>\n",
       "      <td>NaN</td>\n",
       "      <td>NaN</td>\n",
       "    </tr>\n",
       "    <tr>\n",
       "      <th>11</th>\n",
       "      <td>2015</td>\n",
       "      <td>1</td>\n",
       "      <td>1</td>\n",
       "      <td>4</td>\n",
       "      <td>AA</td>\n",
       "      <td>1674</td>\n",
       "      <td>N853AA</td>\n",
       "      <td>LAS</td>\n",
       "      <td>MIA</td>\n",
       "      <td>35</td>\n",
       "      <td>...</td>\n",
       "      <td>753.0</td>\n",
       "      <td>-10.0</td>\n",
       "      <td>0</td>\n",
       "      <td>0</td>\n",
       "      <td>NaN</td>\n",
       "      <td>NaN</td>\n",
       "      <td>NaN</td>\n",
       "      <td>NaN</td>\n",
       "      <td>NaN</td>\n",
       "      <td>NaN</td>\n",
       "    </tr>\n",
       "    <tr>\n",
       "      <th>12</th>\n",
       "      <td>2015</td>\n",
       "      <td>1</td>\n",
       "      <td>1</td>\n",
       "      <td>4</td>\n",
       "      <td>DL</td>\n",
       "      <td>1434</td>\n",
       "      <td>N547US</td>\n",
       "      <td>LAX</td>\n",
       "      <td>MSP</td>\n",
       "      <td>35</td>\n",
       "      <td>...</td>\n",
       "      <td>605.0</td>\n",
       "      <td>-4.0</td>\n",
       "      <td>0</td>\n",
       "      <td>0</td>\n",
       "      <td>NaN</td>\n",
       "      <td>NaN</td>\n",
       "      <td>NaN</td>\n",
       "      <td>NaN</td>\n",
       "      <td>NaN</td>\n",
       "      <td>NaN</td>\n",
       "    </tr>\n",
       "    <tr>\n",
       "      <th>13</th>\n",
       "      <td>2015</td>\n",
       "      <td>1</td>\n",
       "      <td>1</td>\n",
       "      <td>4</td>\n",
       "      <td>DL</td>\n",
       "      <td>2324</td>\n",
       "      <td>N3751B</td>\n",
       "      <td>SLC</td>\n",
       "      <td>ATL</td>\n",
       "      <td>40</td>\n",
       "      <td>...</td>\n",
       "      <td>553.0</td>\n",
       "      <td>-22.0</td>\n",
       "      <td>0</td>\n",
       "      <td>0</td>\n",
       "      <td>NaN</td>\n",
       "      <td>NaN</td>\n",
       "      <td>NaN</td>\n",
       "      <td>NaN</td>\n",
       "      <td>NaN</td>\n",
       "      <td>NaN</td>\n",
       "    </tr>\n",
       "    <tr>\n",
       "      <th>14</th>\n",
       "      <td>2015</td>\n",
       "      <td>1</td>\n",
       "      <td>1</td>\n",
       "      <td>4</td>\n",
       "      <td>DL</td>\n",
       "      <td>2440</td>\n",
       "      <td>N651DL</td>\n",
       "      <td>SEA</td>\n",
       "      <td>MSP</td>\n",
       "      <td>40</td>\n",
       "      <td>...</td>\n",
       "      <td>557.0</td>\n",
       "      <td>8.0</td>\n",
       "      <td>0</td>\n",
       "      <td>0</td>\n",
       "      <td>NaN</td>\n",
       "      <td>NaN</td>\n",
       "      <td>NaN</td>\n",
       "      <td>NaN</td>\n",
       "      <td>NaN</td>\n",
       "      <td>NaN</td>\n",
       "    </tr>\n",
       "    <tr>\n",
       "      <th>15</th>\n",
       "      <td>2015</td>\n",
       "      <td>1</td>\n",
       "      <td>1</td>\n",
       "      <td>4</td>\n",
       "      <td>AS</td>\n",
       "      <td>108</td>\n",
       "      <td>N309AS</td>\n",
       "      <td>ANC</td>\n",
       "      <td>SEA</td>\n",
       "      <td>45</td>\n",
       "      <td>...</td>\n",
       "      <td>455.0</td>\n",
       "      <td>-14.0</td>\n",
       "      <td>0</td>\n",
       "      <td>0</td>\n",
       "      <td>NaN</td>\n",
       "      <td>NaN</td>\n",
       "      <td>NaN</td>\n",
       "      <td>NaN</td>\n",
       "      <td>NaN</td>\n",
       "      <td>NaN</td>\n",
       "    </tr>\n",
       "    <tr>\n",
       "      <th>16</th>\n",
       "      <td>2015</td>\n",
       "      <td>1</td>\n",
       "      <td>1</td>\n",
       "      <td>4</td>\n",
       "      <td>DL</td>\n",
       "      <td>1560</td>\n",
       "      <td>N3743H</td>\n",
       "      <td>ANC</td>\n",
       "      <td>SEA</td>\n",
       "      <td>45</td>\n",
       "      <td>...</td>\n",
       "      <td>451.0</td>\n",
       "      <td>-24.0</td>\n",
       "      <td>0</td>\n",
       "      <td>0</td>\n",
       "      <td>NaN</td>\n",
       "      <td>NaN</td>\n",
       "      <td>NaN</td>\n",
       "      <td>NaN</td>\n",
       "      <td>NaN</td>\n",
       "      <td>NaN</td>\n",
       "    </tr>\n",
       "    <tr>\n",
       "      <th>17</th>\n",
       "      <td>2015</td>\n",
       "      <td>1</td>\n",
       "      <td>1</td>\n",
       "      <td>4</td>\n",
       "      <td>UA</td>\n",
       "      <td>1197</td>\n",
       "      <td>N78448</td>\n",
       "      <td>SFO</td>\n",
       "      <td>IAH</td>\n",
       "      <td>48</td>\n",
       "      <td>...</td>\n",
       "      <td>619.0</td>\n",
       "      <td>-7.0</td>\n",
       "      <td>0</td>\n",
       "      <td>0</td>\n",
       "      <td>NaN</td>\n",
       "      <td>NaN</td>\n",
       "      <td>NaN</td>\n",
       "      <td>NaN</td>\n",
       "      <td>NaN</td>\n",
       "      <td>NaN</td>\n",
       "    </tr>\n",
       "    <tr>\n",
       "      <th>18</th>\n",
       "      <td>2015</td>\n",
       "      <td>1</td>\n",
       "      <td>1</td>\n",
       "      <td>4</td>\n",
       "      <td>AS</td>\n",
       "      <td>122</td>\n",
       "      <td>N413AS</td>\n",
       "      <td>ANC</td>\n",
       "      <td>PDX</td>\n",
       "      <td>50</td>\n",
       "      <td>...</td>\n",
       "      <td>507.0</td>\n",
       "      <td>-18.0</td>\n",
       "      <td>0</td>\n",
       "      <td>0</td>\n",
       "      <td>NaN</td>\n",
       "      <td>NaN</td>\n",
       "      <td>NaN</td>\n",
       "      <td>NaN</td>\n",
       "      <td>NaN</td>\n",
       "      <td>NaN</td>\n",
       "    </tr>\n",
       "    <tr>\n",
       "      <th>19</th>\n",
       "      <td>2015</td>\n",
       "      <td>1</td>\n",
       "      <td>1</td>\n",
       "      <td>4</td>\n",
       "      <td>DL</td>\n",
       "      <td>1670</td>\n",
       "      <td>N806DN</td>\n",
       "      <td>PDX</td>\n",
       "      <td>MSP</td>\n",
       "      <td>50</td>\n",
       "      <td>...</td>\n",
       "      <td>551.0</td>\n",
       "      <td>-12.0</td>\n",
       "      <td>0</td>\n",
       "      <td>0</td>\n",
       "      <td>NaN</td>\n",
       "      <td>NaN</td>\n",
       "      <td>NaN</td>\n",
       "      <td>NaN</td>\n",
       "      <td>NaN</td>\n",
       "      <td>NaN</td>\n",
       "    </tr>\n",
       "    <tr>\n",
       "      <th>20</th>\n",
       "      <td>2015</td>\n",
       "      <td>1</td>\n",
       "      <td>1</td>\n",
       "      <td>4</td>\n",
       "      <td>NK</td>\n",
       "      <td>520</td>\n",
       "      <td>N525NK</td>\n",
       "      <td>LAS</td>\n",
       "      <td>MCI</td>\n",
       "      <td>55</td>\n",
       "      <td>...</td>\n",
       "      <td>543.0</td>\n",
       "      <td>6.0</td>\n",
       "      <td>0</td>\n",
       "      <td>0</td>\n",
       "      <td>NaN</td>\n",
       "      <td>NaN</td>\n",
       "      <td>NaN</td>\n",
       "      <td>NaN</td>\n",
       "      <td>NaN</td>\n",
       "      <td>NaN</td>\n",
       "    </tr>\n",
       "    <tr>\n",
       "      <th>21</th>\n",
       "      <td>2015</td>\n",
       "      <td>1</td>\n",
       "      <td>1</td>\n",
       "      <td>4</td>\n",
       "      <td>AA</td>\n",
       "      <td>371</td>\n",
       "      <td>N3GXAA</td>\n",
       "      <td>SEA</td>\n",
       "      <td>MIA</td>\n",
       "      <td>100</td>\n",
       "      <td>...</td>\n",
       "      <td>939.0</td>\n",
       "      <td>1.0</td>\n",
       "      <td>0</td>\n",
       "      <td>0</td>\n",
       "      <td>NaN</td>\n",
       "      <td>NaN</td>\n",
       "      <td>NaN</td>\n",
       "      <td>NaN</td>\n",
       "      <td>NaN</td>\n",
       "      <td>NaN</td>\n",
       "    </tr>\n",
       "    <tr>\n",
       "      <th>22</th>\n",
       "      <td>2015</td>\n",
       "      <td>1</td>\n",
       "      <td>1</td>\n",
       "      <td>4</td>\n",
       "      <td>NK</td>\n",
       "      <td>214</td>\n",
       "      <td>N632NK</td>\n",
       "      <td>LAS</td>\n",
       "      <td>DFW</td>\n",
       "      <td>103</td>\n",
       "      <td>...</td>\n",
       "      <td>529.0</td>\n",
       "      <td>-1.0</td>\n",
       "      <td>0</td>\n",
       "      <td>0</td>\n",
       "      <td>NaN</td>\n",
       "      <td>NaN</td>\n",
       "      <td>NaN</td>\n",
       "      <td>NaN</td>\n",
       "      <td>NaN</td>\n",
       "      <td>NaN</td>\n",
       "    </tr>\n",
       "    <tr>\n",
       "      <th>23</th>\n",
       "      <td>2015</td>\n",
       "      <td>1</td>\n",
       "      <td>1</td>\n",
       "      <td>4</td>\n",
       "      <td>AA</td>\n",
       "      <td>115</td>\n",
       "      <td>N3CTAA</td>\n",
       "      <td>LAX</td>\n",
       "      <td>MIA</td>\n",
       "      <td>105</td>\n",
       "      <td>...</td>\n",
       "      <td>839.0</td>\n",
       "      <td>-12.0</td>\n",
       "      <td>0</td>\n",
       "      <td>0</td>\n",
       "      <td>NaN</td>\n",
       "      <td>NaN</td>\n",
       "      <td>NaN</td>\n",
       "      <td>NaN</td>\n",
       "      <td>NaN</td>\n",
       "      <td>NaN</td>\n",
       "    </tr>\n",
       "    <tr>\n",
       "      <th>24</th>\n",
       "      <td>2015</td>\n",
       "      <td>1</td>\n",
       "      <td>1</td>\n",
       "      <td>4</td>\n",
       "      <td>DL</td>\n",
       "      <td>1450</td>\n",
       "      <td>N671DN</td>\n",
       "      <td>LAS</td>\n",
       "      <td>MSP</td>\n",
       "      <td>105</td>\n",
       "      <td>...</td>\n",
       "      <td>545.0</td>\n",
       "      <td>-23.0</td>\n",
       "      <td>0</td>\n",
       "      <td>0</td>\n",
       "      <td>NaN</td>\n",
       "      <td>NaN</td>\n",
       "      <td>NaN</td>\n",
       "      <td>NaN</td>\n",
       "      <td>NaN</td>\n",
       "      <td>NaN</td>\n",
       "    </tr>\n",
       "  </tbody>\n",
       "</table>\n",
       "<p>25 rows × 31 columns</p>\n",
       "</div>"
      ],
      "text/plain": [
       "    YEAR  MONTH  DAY  DAY_OF_WEEK AIRLINE  FLIGHT_NUMBER TAIL_NUMBER  \\\n",
       "0   2015      1    1            4      AS             98      N407AS   \n",
       "1   2015      1    1            4      AA           2336      N3KUAA   \n",
       "2   2015      1    1            4      US            840      N171US   \n",
       "3   2015      1    1            4      AA            258      N3HYAA   \n",
       "4   2015      1    1            4      AS            135      N527AS   \n",
       "5   2015      1    1            4      DL            806      N3730B   \n",
       "6   2015      1    1            4      NK            612      N635NK   \n",
       "7   2015      1    1            4      US           2013      N584UW   \n",
       "8   2015      1    1            4      AA           1112      N3LAAA   \n",
       "9   2015      1    1            4      DL           1173      N826DN   \n",
       "10  2015      1    1            4      DL           2336      N958DN   \n",
       "11  2015      1    1            4      AA           1674      N853AA   \n",
       "12  2015      1    1            4      DL           1434      N547US   \n",
       "13  2015      1    1            4      DL           2324      N3751B   \n",
       "14  2015      1    1            4      DL           2440      N651DL   \n",
       "15  2015      1    1            4      AS            108      N309AS   \n",
       "16  2015      1    1            4      DL           1560      N3743H   \n",
       "17  2015      1    1            4      UA           1197      N78448   \n",
       "18  2015      1    1            4      AS            122      N413AS   \n",
       "19  2015      1    1            4      DL           1670      N806DN   \n",
       "20  2015      1    1            4      NK            520      N525NK   \n",
       "21  2015      1    1            4      AA            371      N3GXAA   \n",
       "22  2015      1    1            4      NK            214      N632NK   \n",
       "23  2015      1    1            4      AA            115      N3CTAA   \n",
       "24  2015      1    1            4      DL           1450      N671DN   \n",
       "\n",
       "   ORIGIN_AIRPORT DESTINATION_AIRPORT  SCHEDULED_DEPARTURE  ...  ARRIVAL_TIME  \\\n",
       "0             ANC                 SEA                    5  ...         408.0   \n",
       "1             LAX                 PBI                   10  ...         741.0   \n",
       "2             SFO                 CLT                   20  ...         811.0   \n",
       "3             LAX                 MIA                   20  ...         756.0   \n",
       "4             SEA                 ANC                   25  ...         259.0   \n",
       "5             SFO                 MSP                   25  ...         610.0   \n",
       "6             LAS                 MSP                   25  ...         509.0   \n",
       "7             LAX                 CLT                   30  ...         753.0   \n",
       "8             SFO                 DFW                   30  ...         532.0   \n",
       "9             LAS                 ATL                   30  ...         656.0   \n",
       "10            DEN                 ATL                   30  ...         453.0   \n",
       "11            LAS                 MIA                   35  ...         753.0   \n",
       "12            LAX                 MSP                   35  ...         605.0   \n",
       "13            SLC                 ATL                   40  ...         553.0   \n",
       "14            SEA                 MSP                   40  ...         557.0   \n",
       "15            ANC                 SEA                   45  ...         455.0   \n",
       "16            ANC                 SEA                   45  ...         451.0   \n",
       "17            SFO                 IAH                   48  ...         619.0   \n",
       "18            ANC                 PDX                   50  ...         507.0   \n",
       "19            PDX                 MSP                   50  ...         551.0   \n",
       "20            LAS                 MCI                   55  ...         543.0   \n",
       "21            SEA                 MIA                  100  ...         939.0   \n",
       "22            LAS                 DFW                  103  ...         529.0   \n",
       "23            LAX                 MIA                  105  ...         839.0   \n",
       "24            LAS                 MSP                  105  ...         545.0   \n",
       "\n",
       "    ARRIVAL_DELAY  DIVERTED  CANCELLED  CANCELLATION_REASON  AIR_SYSTEM_DELAY  \\\n",
       "0           -22.0         0          0                  NaN               NaN   \n",
       "1            -9.0         0          0                  NaN               NaN   \n",
       "2             5.0         0          0                  NaN               NaN   \n",
       "3            -9.0         0          0                  NaN               NaN   \n",
       "4           -21.0         0          0                  NaN               NaN   \n",
       "5             8.0         0          0                  NaN               NaN   \n",
       "6           -17.0         0          0                  NaN               NaN   \n",
       "7           -10.0         0          0                  NaN               NaN   \n",
       "8           -13.0         0          0                  NaN               NaN   \n",
       "9           -15.0         0          0                  NaN               NaN   \n",
       "10          -30.0         0          0                  NaN               NaN   \n",
       "11          -10.0         0          0                  NaN               NaN   \n",
       "12           -4.0         0          0                  NaN               NaN   \n",
       "13          -22.0         0          0                  NaN               NaN   \n",
       "14            8.0         0          0                  NaN               NaN   \n",
       "15          -14.0         0          0                  NaN               NaN   \n",
       "16          -24.0         0          0                  NaN               NaN   \n",
       "17           -7.0         0          0                  NaN               NaN   \n",
       "18          -18.0         0          0                  NaN               NaN   \n",
       "19          -12.0         0          0                  NaN               NaN   \n",
       "20            6.0         0          0                  NaN               NaN   \n",
       "21            1.0         0          0                  NaN               NaN   \n",
       "22           -1.0         0          0                  NaN               NaN   \n",
       "23          -12.0         0          0                  NaN               NaN   \n",
       "24          -23.0         0          0                  NaN               NaN   \n",
       "\n",
       "    SECURITY_DELAY  AIRLINE_DELAY  LATE_AIRCRAFT_DELAY  WEATHER_DELAY  \n",
       "0              NaN            NaN                  NaN            NaN  \n",
       "1              NaN            NaN                  NaN            NaN  \n",
       "2              NaN            NaN                  NaN            NaN  \n",
       "3              NaN            NaN                  NaN            NaN  \n",
       "4              NaN            NaN                  NaN            NaN  \n",
       "5              NaN            NaN                  NaN            NaN  \n",
       "6              NaN            NaN                  NaN            NaN  \n",
       "7              NaN            NaN                  NaN            NaN  \n",
       "8              NaN            NaN                  NaN            NaN  \n",
       "9              NaN            NaN                  NaN            NaN  \n",
       "10             NaN            NaN                  NaN            NaN  \n",
       "11             NaN            NaN                  NaN            NaN  \n",
       "12             NaN            NaN                  NaN            NaN  \n",
       "13             NaN            NaN                  NaN            NaN  \n",
       "14             NaN            NaN                  NaN            NaN  \n",
       "15             NaN            NaN                  NaN            NaN  \n",
       "16             NaN            NaN                  NaN            NaN  \n",
       "17             NaN            NaN                  NaN            NaN  \n",
       "18             NaN            NaN                  NaN            NaN  \n",
       "19             NaN            NaN                  NaN            NaN  \n",
       "20             NaN            NaN                  NaN            NaN  \n",
       "21             NaN            NaN                  NaN            NaN  \n",
       "22             NaN            NaN                  NaN            NaN  \n",
       "23             NaN            NaN                  NaN            NaN  \n",
       "24             NaN            NaN                  NaN            NaN  \n",
       "\n",
       "[25 rows x 31 columns]"
      ]
     },
     "execution_count": 31,
     "metadata": {},
     "output_type": "execute_result"
    }
   ],
   "source": [
    "flights_tb.head(25)"
   ]
  },
  {
   "cell_type": "code",
   "execution_count": 24,
   "metadata": {},
   "outputs": [
    {
     "name": "stdout",
     "output_type": "stream",
     "text": [
      "Отменённые рейсы = 40132\n"
     ]
    }
   ],
   "source": [
    "#--------------------1----------------------#\n",
    "\n",
    "print(\"Отменённые рейсы =\",flights_tb[flights_tb['CANCELLED']==1].shape[0])\n",
    "\n",
    "#-------------------------------------------#"
   ]
  },
  {
   "cell_type": "code",
   "execution_count": 27,
   "metadata": {},
   "outputs": [
    {
     "name": "stdout",
     "output_type": "stream",
     "text": [
      "                CANCELLED\n",
      "ORIGIN_AIRPORT           \n",
      "ATL                 63413\n",
      "ORD                 50494\n",
      "DFW                 48665\n"
     ]
    }
   ],
   "source": [
    "#--------------------2-----------------------#\n",
    "\n",
    "temp = flights_tb.groupby('ORIGIN_AIRPORT')[['CANCELLED']].count()\n",
    "port = temp.sort_values(by=['CANCELLED'], ascending=False).head(3)\n",
    "print(port)\n",
    "\n",
    "#--------------------------------------------#"
   ]
  },
  {
   "cell_type": "code",
   "execution_count": 34,
   "metadata": {},
   "outputs": [
    {
     "name": "stdout",
     "output_type": "stream",
     "text": [
      "День недели\n",
      "Пирсон:  (-0.03462481314864562, 7.47848049493915e-263)\n",
      "Спирмен:  SpearmanrResult(correlation=-0.03574618487537239, pvalue=5.04970054947827e-280)\n",
      "p-value is good\n"
     ]
    }
   ],
   "source": [
    "#--------------------3-----------------------#\n",
    "pears_d = pearsonr(flights_tb['CANCELLED'],flights_tb['DAY_OF_WEEK'])\n",
    "spearm_d = spearmanr(flights_tb['CANCELLED'],flights_tb['DAY_OF_WEEK'])\n",
    "\n",
    "print(\"День недели\")\n",
    "print(\"Пирсон: \",pears_d)\n",
    "print(\"Спирмен: \",spearm_d)\n",
    "                          \n",
    "if (spearm_d[1]<0.05):\n",
    "    print(\"p-value is good\")\n",
    "else:\n",
    "    print(\"p-value is not good\")\n"
   ]
  },
  {
   "cell_type": "code",
   "execution_count": 35,
   "metadata": {},
   "outputs": [
    {
     "name": "stdout",
     "output_type": "stream",
     "text": [
      "Месяц\n",
      "Пирсон:  (0.08088373415576963, 0.0)\n",
      "Спирмен:  SpearmanrResult(correlation=0.07898789409294106, pvalue=0.0)\n",
      "p-value is good\n"
     ]
    }
   ],
   "source": [
    "pears_m = pearsonr(flights_tb['CANCELLED'],flights_tb['MONTH'])\n",
    "spearm_m = spearmanr(flights_tb['CANCELLED'],flights_tb['MONTH'])\n",
    "\n",
    "print(\"Месяц\")\n",
    "print(\"Пирсон: \",pears_m)\n",
    "print(\"Спирмен: \",spearm_m)\n",
    "      \n",
    "if (spearm_d[1]<0.05):\n",
    "    print(\"p-value is good\")\n",
    "else:\n",
    "    print(\"p-value is not good\")\n"
   ]
  },
  {
   "cell_type": "code",
   "execution_count": 36,
   "metadata": {},
   "outputs": [
    {
     "name": "stdout",
     "output_type": "stream",
     "text": [
      "Авиакомпания\n",
      "Пирсон:  (-0.016440813665511707, 9.587194846529798e-61)\n",
      "Спирмен:  SpearmanrResult(correlation=-0.016110673601673193, pvalue=2.1116938310421653e-58)\n",
      "p-value is good\n"
     ]
    }
   ],
   "source": [
    "label_encoder = LabelEncoder()\n",
    "air = pd.Series(label_encoder.fit_transform(flights_tb['AIRLINE']))\n",
    "\n",
    "pears_a = pearsonr(flights_tb['CANCELLED'],air)\n",
    "spearm_a = spearmanr(flights_tb['CANCELLED'],air)\n",
    "\n",
    "print(\"Авиакомпания\")\n",
    "print(\"Пирсон: \",pears_a)\n",
    "print(\"Спирмен: \",spearm_a)\n",
    "      \n",
    "if (spearm_d[1]<0.05):\n",
    "    print(\"p-value is good\")\n",
    "else:\n",
    "    print(\"p-value is not good\")"
   ]
  },
  {
   "cell_type": "code",
   "execution_count": 38,
   "metadata": {},
   "outputs": [
    {
     "name": "stdout",
     "output_type": "stream",
     "text": [
      "Аэропорт\n",
      "Пирсон:  (-0.028754458960066676, 6.72265524217414e-182)\n",
      "Спирмен:  SpearmanrResult(correlation=-0.027344831090472043, pvalue=1.0829465681278831e-164)\n",
      "p-value is good\n"
     ]
    }
   ],
   "source": [
    "port = pd.Series(label_encoder.fit_transform(flights_tb['ORIGIN_AIRPORT']))\n",
    "\n",
    "pears_p = pearsonr(flights_tb['CANCELLED'], port)\n",
    "spearm_p = spearmanr(flights_tb['CANCELLED'], port)\n",
    "\n",
    "print(\"Аэропорт\")\n",
    "print(\"Пирсон: \",pears_p)\n",
    "print(\"Спирмен: \",spearm_p)\n",
    "       \n",
    "if (spearm_d[1]<0.05):\n",
    "    print(\"p-value is good\")\n",
    "else:\n",
    "    print(\"p-value is not good\")"
   ]
  },
  {
   "cell_type": "code",
   "execution_count": 39,
   "metadata": {},
   "outputs": [
    {
     "data": {
      "text/plain": [
       "<matplotlib.axes._subplots.AxesSubplot at 0x2ab80ad8670>"
      ]
     },
     "execution_count": 39,
     "metadata": {},
     "output_type": "execute_result"
    },
    {
     "data": {
      "image/png": "[encoded data removed]",
      "text/plain": [
       "<Figure size 432x288 with 1 Axes>"
      ]
     },
     "metadata": {
      "needs_background": "light"
     },
     "output_type": "display_data"
    }
   ],
   "source": [
    "flights_tb['DAY_OF_WEEK'].value_counts().plot.barh()"
   ]
  },
  {
   "cell_type": "code",
   "execution_count": 40,
   "metadata": {},
   "outputs": [
    {
     "data": {
      "text/plain": [
       "<matplotlib.axes._subplots.AxesSubplot at 0x2ab81645a30>"
      ]
     },
     "execution_count": 40,
     "metadata": {},
     "output_type": "execute_result"
    },
    {
     "data": {
      "image/png": "[encoded data removed]",
      "text/plain": [
       "<Figure size 432x288 with 1 Axes>"
      ]
     },
     "metadata": {
      "needs_background": "light"
     },
     "output_type": "display_data"
    }
   ],
   "source": [
    "flights_tb['MONTH'].value_counts().plot.barh()"
   ]
  },
  {
   "cell_type": "code",
   "execution_count": 42,
   "metadata": {},
   "outputs": [
    {
     "data": {
      "text/plain": [
       "<matplotlib.axes._subplots.AxesSubplot at 0x2ab816a1940>"
      ]
     },
     "execution_count": 42,
     "metadata": {},
     "output_type": "execute_result"
    },
    {
     "data": {
      "image/png": "[encoded data removed]",
      "text/plain": [
       "<Figure size 432x288 with 1 Axes>"
      ]
     },
     "metadata": {
      "needs_background": "light"
     },
     "output_type": "display_data"
    }
   ],
   "source": [
    "flights_tb['AIRLINE'].value_counts().plot.barh()"
   ]
  },
  {
   "cell_type": "code",
   "execution_count": 45,
   "metadata": {},
   "outputs": [
    {
     "data": {
      "text/plain": [
       "<matplotlib.axes._subplots.AxesSubplot at 0x2ab822162e0>"
      ]
     },
     "execution_count": 45,
     "metadata": {},
     "output_type": "execute_result"
    },
    {
     "data": {
      "image/png": "[encoded data removed]",
      "text/plain": [
       "<Figure size 432x288 with 1 Axes>"
      ]
     },
     "metadata": {
      "needs_background": "light"
     },
     "output_type": "display_data"
    }
   ],
   "source": [
    "flights_tb['ORIGIN_AIRPORT'].value_counts().plot.barh()\n",
    "\n",
    "#--------------------------------------------#"
   ]
  },
  {
   "cell_type": "code",
   "execution_count": 48,
   "metadata": {},
   "outputs": [
    {
     "name": "stdout",
     "output_type": "stream",
     "text": [
      "Для AA\n",
      "Количество рейсов = 93013\n",
      "Отменённых рейсы = 4627\n",
      "Перенаправленные рейсы = 226\n",
      "Для WN\n",
      "Количество рейсов = 210935\n",
      "Отменённых рейсы = 6553\n",
      "Перенаправленные рейсы = 486\n",
      "Для VX\n",
      "Количество рейсов = 9956\n",
      "Отменённых рейсы = 274\n",
      "Перенаправленные рейсы = 35\n"
     ]
    }
   ],
   "source": [
    "#--------------------4-----------------------#\n",
    "\n",
    "print(\"Для AA\")\n",
    "print(\"Количество рейсов =\", flights_tb[flights_tb['AIRLINE']=='AA']['FLIGHT_NUMBER'].count())\n",
    "print(\"Отменённых рейсы =\",flights_tb[(flights_tb['AIRLINE']=='AA') & (flights_tb['CANCELLED']==1)].shape[0])\n",
    "print(\"Перенаправленные рейсы =\",flights_tb[(flights_tb['AIRLINE']=='AA') & (flights_tb['DIVERTED']==1)].shape[0])\n",
    "print(\"Для WN\")\n",
    "print(\"Количество рейсов =\", flights_tb[flights_tb['AIRLINE']=='WN']['FLIGHT_NUMBER'].count())\n",
    "print(\"Отменённых рейсы =\",flights_tb[(flights_tb['AIRLINE']=='WN') & (flights_tb['CANCELLED']==1)].shape[0])\n",
    "print(\"Перенаправленные рейсы =\",flights_tb[(flights_tb['AIRLINE']=='WN') & (flights_tb['DIVERTED']==1)].shape[0])\n",
    "print(\"Для VX\")\n",
    "print(\"Количество рейсов =\", flights_tb[flights_tb['AIRLINE']=='VX']['FLIGHT_NUMBER'].count())\n",
    "print(\"Отменённых рейсы =\",flights_tb[(flights_tb['AIRLINE']=='VX') & (flights_tb['CANCELLED']==1)].shape[0])\n",
    "print(\"Перенаправленные рейсы =\",flights_tb[(flights_tb['AIRLINE']=='VX') & (flights_tb['DIVERTED']==1)].shape[0])\n",
    "\n",
    "#--------------------------------------------#\n"
   ]
  },
  {
   "cell_type": "code",
   "execution_count": 54,
   "metadata": {},
   "outputs": [
    {
     "data": {
      "text/html": [
       "<div>\n",
       "<style scoped>\n",
       "    .dataframe tbody tr th:only-of-type {\n",
       "        vertical-align: middle;\n",
       "    }\n",
       "\n",
       "    .dataframe tbody tr th {\n",
       "        vertical-align: top;\n",
       "    }\n",
       "\n",
       "    .dataframe thead th {\n",
       "        text-align: right;\n",
       "    }\n",
       "</style>\n",
       "<table border=\"1\" class=\"dataframe\">\n",
       "  <thead>\n",
       "    <tr style=\"text-align: right;\">\n",
       "      <th></th>\n",
       "      <th>AIRLINE</th>\n",
       "      <th>DISTANCE</th>\n",
       "      <th>AIR_TIME</th>\n",
       "      <th>SPEED</th>\n",
       "    </tr>\n",
       "  </thead>\n",
       "  <tbody>\n",
       "    <tr>\n",
       "      <th>0</th>\n",
       "      <td>AS</td>\n",
       "      <td>1448</td>\n",
       "      <td>169.0</td>\n",
       "      <td>8.568047</td>\n",
       "    </tr>\n",
       "    <tr>\n",
       "      <th>1</th>\n",
       "      <td>AA</td>\n",
       "      <td>2330</td>\n",
       "      <td>263.0</td>\n",
       "      <td>8.859316</td>\n",
       "    </tr>\n",
       "    <tr>\n",
       "      <th>2</th>\n",
       "      <td>US</td>\n",
       "      <td>2296</td>\n",
       "      <td>266.0</td>\n",
       "      <td>8.631579</td>\n",
       "    </tr>\n",
       "    <tr>\n",
       "      <th>3</th>\n",
       "      <td>AA</td>\n",
       "      <td>2342</td>\n",
       "      <td>258.0</td>\n",
       "      <td>9.077519</td>\n",
       "    </tr>\n",
       "    <tr>\n",
       "      <th>4</th>\n",
       "      <td>AS</td>\n",
       "      <td>1448</td>\n",
       "      <td>199.0</td>\n",
       "      <td>7.276382</td>\n",
       "    </tr>\n",
       "  </tbody>\n",
       "</table>\n",
       "</div>"
      ],
      "text/plain": [
       "  AIRLINE  DISTANCE  AIR_TIME     SPEED\n",
       "0      AS      1448     169.0  8.568047\n",
       "1      AA      2330     263.0  8.859316\n",
       "2      US      2296     266.0  8.631579\n",
       "3      AA      2342     258.0  9.077519\n",
       "4      AS      1448     199.0  7.276382"
      ]
     },
     "execution_count": 54,
     "metadata": {},
     "output_type": "execute_result"
    }
   ],
   "source": [
    "#---------------------5----------------------#\n",
    "\n",
    "flights_tb['SPEED'] = flights_tb['DISTANCE']/flights_tb['AIR_TIME']\n",
    "flights_tb[['AIRLINE','DISTANCE' , 'AIR_TIME', 'SPEED']].head()"
   ]
  },
  {
   "cell_type": "code",
   "execution_count": 55,
   "metadata": {},
   "outputs": [
    {
     "name": "stdout",
     "output_type": "stream",
     "text": [
      "Средняя скорость полёта для AS =  7.196521300088667\n",
      "Средняя скорость полёта для AA =  7.185435287317874\n",
      "Средняя скорость полёта для US =  6.798382283107063\n"
     ]
    }
   ],
   "source": [
    "print(\"Средняя скорость полёта для AS = \", flights_tb[(flights_tb['AIRLINE']=='AS')]['SPEED'].mean())\n",
    "print(\"Средняя скорость полёта для AA = \", flights_tb[(flights_tb['AIRLINE']=='AA')]['SPEED'].mean())\n",
    "print(\"Средняя скорость полёта для US = \", flights_tb[(flights_tb['AIRLINE']=='US')]['SPEED'].mean())\n",
    "\n",
    "#--------------------------------------------#"
   ]
  },
  {
   "cell_type": "code",
   "execution_count": 57,
   "metadata": {},
   "outputs": [
    {
     "data": {
      "text/plain": [
       "<matplotlib.axes._subplots.AxesSubplot at 0x2ab83123460>"
      ]
     },
     "execution_count": 57,
     "metadata": {},
     "output_type": "execute_result"
    },
    {
     "data": {
      "image/png": "[encoded data removed]",
      "text/plain": [
       "<Figure size 432x288 with 2 Axes>"
      ]
     },
     "metadata": {
      "needs_background": "light"
     },
     "output_type": "display_data"
    }
   ],
   "source": [
    "#----------------------6---------------------#\n",
    "\n",
    "frame = flights_tb[flights_tb['ORIGIN_AIRPORT']=='ATL']\n",
    "count = frame.groupby('DAY')[['CANCELLED']].count()\n",
    "sns.heatmap(count)"
   ]
  },
  {
   "cell_type": "code",
   "execution_count": 58,
   "metadata": {},
   "outputs": [
    {
     "data": {
      "text/plain": [
       "<matplotlib.axes._subplots.AxesSubplot at 0x2ab98b19dc0>"
      ]
     },
     "execution_count": 58,
     "metadata": {},
     "output_type": "execute_result"
    },
    {
     "data": {
      "image/png": "[encoded data removed]",
      "text/plain": [
       "<Figure size 432x288 with 2 Axes>"
      ]
     },
     "metadata": {
      "needs_background": "light"
     },
     "output_type": "display_data"
    }
   ],
   "source": [
    "frame = flights_tb[flights_tb['ORIGIN_AIRPORT']=='ORD']\n",
    "count = frame.groupby('DAY')[['CANCELLED']].count()\n",
    "sns.heatmap(count)"
   ]
  },
  {
   "cell_type": "code",
   "execution_count": 59,
   "metadata": {},
   "outputs": [
    {
     "data": {
      "text/plain": [
       "<matplotlib.axes._subplots.AxesSubplot at 0x2ab98b8aa60>"
      ]
     },
     "execution_count": 59,
     "metadata": {},
     "output_type": "execute_result"
    },
    {
     "data": {
      "image/png": "[encoded data removed]",
      "text/plain": [
       "<Figure size 432x288 with 2 Axes>"
      ]
     },
     "metadata": {
      "needs_background": "light"
     },
     "output_type": "display_data"
    }
   ],
   "source": [
    "frame = flights_tb[flights_tb['ORIGIN_AIRPORT']=='DFW']\n",
    "count = frame.groupby('DAY')[['CANCELLED']].count()\n",
    "sns.heatmap(count)\n",
    "\n",
    "#--------------------------------------------#"
   ]
  },
  {
   "cell_type": "code",
   "execution_count": 63,
   "metadata": {},
   "outputs": [
    {
     "name": "stdout",
     "output_type": "stream",
     "text": [
      "    DEPARTURE_DELAY  ARRIVAL_DELAY\n",
      "1              -8.0           -9.0\n",
      "3              -5.0           -9.0\n",
      "7              14.0          -10.0\n",
      "12              0.0           -4.0\n",
      "23             -2.0          -12.0\n"
     ]
    },
    {
     "data": {
      "text/plain": [
       "<matplotlib.axes._subplots.AxesSubplot at 0x2ab988ac2e0>"
      ]
     },
     "execution_count": 63,
     "metadata": {},
     "output_type": "execute_result"
    },
    {
     "data": {
      "image/png": "[encoded data removed]",
      "text/plain": [
       "<Figure size 432x288 with 1 Axes>"
      ]
     },
     "metadata": {
      "needs_background": "light"
     },
     "output_type": "display_data"
    }
   ],
   "source": [
    "#----------------------7----------------------#\n",
    "\n",
    "frame = flights_tb[flights_tb['ORIGIN_AIRPORT']=='LAX'].head()\n",
    "LAX = frame[['DEPARTURE_DELAY' , 'ARRIVAL_DELAY']].head(20)\n",
    "print(LAX)\n",
    "LAX.plot()"
   ]
  },
  {
   "cell_type": "code",
   "execution_count": 61,
   "metadata": {},
   "outputs": [
    {
     "name": "stdout",
     "output_type": "stream",
     "text": [
      "    DEPARTURE_DELAY  ARRIVAL_DELAY\n",
      "0             -11.0          -22.0\n",
      "15             -4.0          -14.0\n",
      "16            -14.0          -24.0\n",
      "18             -4.0          -18.0\n",
      "32              NaN            NaN\n"
     ]
    },
    {
     "data": {
      "text/plain": [
       "<matplotlib.axes._subplots.AxesSubplot at 0x2ab98410970>"
      ]
     },
     "execution_count": 61,
     "metadata": {},
     "output_type": "execute_result"
    },
    {
     "data": {
      "image/png": "[encoded data removed]",
      "text/plain": [
       "<Figure size 432x288 with 1 Axes>"
      ]
     },
     "metadata": {
      "needs_background": "light"
     },
     "output_type": "display_data"
    }
   ],
   "source": [
    "frame = flights_tb[flights_tb['ORIGIN_AIRPORT']=='ANC'].head()\n",
    "ANC = frame[['DEPARTURE_DELAY' , 'ARRIVAL_DELAY']].head(20)\n",
    "print(ANC)\n",
    "ANC.plot()"
   ]
  },
  {
   "cell_type": "code",
   "execution_count": 62,
   "metadata": {},
   "outputs": [
    {
     "name": "stdout",
     "output_type": "stream",
     "text": [
      "    DEPARTURE_DELAY  ARRIVAL_DELAY\n",
      "2              -2.0            5.0\n",
      "5              -5.0            8.0\n",
      "8             -11.0          -13.0\n",
      "17             -6.0           -7.0\n",
      "92             19.0           26.0\n"
     ]
    },
    {
     "data": {
      "text/plain": [
       "<matplotlib.axes._subplots.AxesSubplot at 0x2ab984a6430>"
      ]
     },
     "execution_count": 62,
     "metadata": {},
     "output_type": "execute_result"
    },
    {
     "data": {
      "image/png": "[encoded data removed]",
      "text/plain": [
       "<Figure size 432x288 with 1 Axes>"
      ]
     },
     "metadata": {
      "needs_background": "light"
     },
     "output_type": "display_data"
    }
   ],
   "source": [
    "frame = flights_tb[flights_tb['ORIGIN_AIRPORT']=='SFO'].head()\n",
    "SFO = frame[['DEPARTURE_DELAY' , 'ARRIVAL_DELAY']].head(20)\n",
    "print(SFO)\n",
    "SFO.plot()\n",
    "\n",
    "#--------------------------------------------#"
   ]
  },
  {
   "cell_type": "code",
   "execution_count": null,
   "metadata": {},
   "outputs": [],
   "source": []
  },
  {
   "cell_type": "code",
   "execution_count": 66,
   "metadata": {},
   "outputs": [
    {
     "name": "stdout",
     "output_type": "stream",
     "text": [
      "B    1142\n",
      "A     210\n",
      "C      43\n",
      "Name: CANCELLATION_REASON, dtype: int64\n"
     ]
    },
    {
     "data": {
      "text/plain": [
       "<matplotlib.axes._subplots.AxesSubplot at 0x2ab9879f190>"
      ]
     },
     "execution_count": 66,
     "metadata": {},
     "output_type": "execute_result"
    },
    {
     "data": {
      "image/png": "[encoded data removed]",
      "text/plain": [
       "<Figure size 432x288 with 1 Axes>"
      ]
     },
     "metadata": {
      "needs_background": "light"
     },
     "output_type": "display_data"
    }
   ],
   "source": [
    "#----------------------8----------------------#\n",
    "\n",
    "frame = flights_tb[flights_tb['ORIGIN_AIRPORT']=='ATL']\n",
    "rea = frame['CANCELLATION_REASON'].value_counts()\n",
    "print(rea)\n",
    "rea.plot.barh()"
   ]
  },
  {
   "cell_type": "code",
   "execution_count": 72,
   "metadata": {},
   "outputs": [
    {
     "name": "stdout",
     "output_type": "stream",
     "text": [
      "B    2013\n",
      "C     792\n",
      "A     425\n",
      "Name: CANCELLATION_REASON, dtype: int64\n"
     ]
    },
    {
     "data": {
      "text/plain": [
       "<matplotlib.axes._subplots.AxesSubplot at 0x2ab98626d60>"
      ]
     },
     "execution_count": 72,
     "metadata": {},
     "output_type": "execute_result"
    },
    {
     "data": {
      "image/png": "[encoded data removed]",
      "text/plain": [
       "<Figure size 432x288 with 1 Axes>"
      ]
     },
     "metadata": {
      "needs_background": "light"
     },
     "output_type": "display_data"
    }
   ],
   "source": [
    "frame = flights_tb[flights_tb['ORIGIN_AIRPORT']=='ORD']\n",
    "rea = frame['CANCELLATION_REASON'].value_counts()\n",
    "print(rea)\n",
    "rea.plot.barh()"
   ]
  },
  {
   "cell_type": "code",
   "execution_count": 71,
   "metadata": {},
   "outputs": [
    {
     "name": "stdout",
     "output_type": "stream",
     "text": [
      "B    2929\n",
      "A     567\n",
      "C      33\n",
      "Name: CANCELLATION_REASON, dtype: int64\n"
     ]
    },
    {
     "data": {
      "text/plain": [
       "<matplotlib.axes._subplots.AxesSubplot at 0x2ab985c8a60>"
      ]
     },
     "execution_count": 71,
     "metadata": {},
     "output_type": "execute_result"
    },
    {
     "data": {
      "image/png": "[encoded data removed]",
      "text/plain": [
       "<Figure size 432x288 with 1 Axes>"
      ]
     },
     "metadata": {
      "needs_background": "light"
     },
     "output_type": "display_data"
    }
   ],
   "source": [
    "frame = flights_tb[flights_tb['ORIGIN_AIRPORT']=='DFW']\n",
    "rea = frame['CANCELLATION_REASON'].value_counts()\n",
    "print(rea)\n",
    "rea.plot.barh()\n",
    "\n",
    "#---------------------------------------------#"
   ]
  },
  {
   "cell_type": "code",
   "execution_count": 75,
   "metadata": {},
   "outputs": [
    {
     "name": "stdout",
     "output_type": "stream",
     "text": [
      "Авиакомпания с максимальной задержкой по отправке\n",
      "         DEPARTURE_DELAY\n",
      "AIRLINE                 \n",
      "AA                1988.0\n"
     ]
    }
   ],
   "source": [
    "#----------------------9----------------------#\n",
    "\n",
    "count = df.groupby('AIRLINE')[['DEPARTURE_DELAY']].max()\n",
    "port = count.sort_values(by=['DEPARTURE_DELAY'], ascending=False).head(1)\n",
    "print(\"Авиакомпания с максимальной задержкой по отправке\")\n",
    "print(port)"
   ]
  },
  {
   "cell_type": "code",
   "execution_count": 77,
   "metadata": {},
   "outputs": [
    {
     "name": "stdout",
     "output_type": "stream",
     "text": [
      "Авиакомания с максимальной задержкой по прибытию\n",
      "         ARRIVAL_DELAY\n",
      "AIRLINE               \n",
      "AA              1971.0\n"
     ]
    }
   ],
   "source": [
    "count = df.groupby('AIRLINE')[['ARRIVAL_DELAY']].max()\n",
    "port = count.sort_values(by=['ARRIVAL_DELAY'], ascending=False).head(1)\n",
    "print(\"Авиакомания с максимальной задержкой по прибытию\")\n",
    "print(port)\n",
    "\n",
    "#---------------------------------------------#"
   ]
  },
  {
   "cell_type": "code",
   "execution_count": null,
   "metadata": {},
   "outputs": [],
   "source": []
  }
 ],
 "metadata": {
  "kernelspec": {
   "display_name": "Python 3",
   "language": "python",
   "name": "python3"
  },
  "language_info": {
   "codemirror_mode": {
    "name": "ipython",
    "version": 3
   },
   "file_extension": ".py",
   "mimetype": "text/x-python",
   "name": "python",
   "nbconvert_exporter": "python",
   "pygments_lexer": "ipython3",
   "version": "3.8.2"
  }
 },
 "nbformat": 4,
 "nbformat_minor": 2
}
