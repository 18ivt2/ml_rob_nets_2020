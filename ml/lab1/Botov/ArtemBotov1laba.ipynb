{
 "cells": [
  {
   "cell_type": "markdown",
   "metadata": {},
   "source": [
    "###  Ботов А.В. 17-АС ###\n",
    "### Вариант 5. ###\n",
    "\n",
    "Метеоритная защита земли.\n",
    "1. Определите местоположение появления метеорита с наибольшим количеством высвободившейся энергии.\n",
    "2. Определите метеорит с максимальной и минимальной скоростью.\n",
    "3. Определите место максимальной концентрации метеоритов.\n",
    "4. Определите время года, в которое вероятность появления метеоритов максимальна. Постройте график.\n",
    "5. Удалите строки данных, в которых для метеоритов не указана скорость. Выведите размер набора данных до и после удаления.\n",
    "6. Построить график, на котором по оси ОХ отложено время суток, по OY–частота появления метеоритов.\n",
    "7. Заполните строки в которых для метеоритов не указана скорость.\n",
    "8. Определите месяц года, для которого появление метеоритов наиболее вероятно (постройте необходимые графики).\n",
    "9. Вычислите корреляцию Пирсона и Спирмена между признаками Altitude и TotalRadiatedEnergy. Сравните полученные величины корреляции. Постройте гистограммы для указанных признаков. Оцените значение p-value."
   ]
  },
  {
   "cell_type": "code",
   "execution_count": 1,
   "metadata": {},
   "outputs": [],
   "source": [
    "import numpy as np\n",
    "import pandas as pd\n",
    "import matplotlib.pyplot as plt\n",
    "%matplotlib inline"
   ]
  },
  {
   "cell_type": "code",
   "execution_count": 20,
   "metadata": {},
   "outputs": [
    {
     "data": {
      "text/html": [
       "<div>\n",
       "<style scoped>\n",
       "    .dataframe tbody tr th:only-of-type {\n",
       "        vertical-align: middle;\n",
       "    }\n",
       "\n",
       "    .dataframe tbody tr th {\n",
       "        vertical-align: top;\n",
       "    }\n",
       "\n",
       "    .dataframe thead th {\n",
       "        text-align: right;\n",
       "    }\n",
       "</style>\n",
       "<table border=\"1\" class=\"dataframe\">\n",
       "  <thead>\n",
       "    <tr style=\"text-align: right;\">\n",
       "      <th></th>\n",
       "      <th>date_time</th>\n",
       "      <th>latitude</th>\n",
       "      <th>longitude</th>\n",
       "      <th>altitude</th>\n",
       "      <th>velocity</th>\n",
       "      <th>vx</th>\n",
       "      <th>vy</th>\n",
       "      <th>vz</th>\n",
       "      <th>total_radiated_energy</th>\n",
       "      <th>calculated_total_impact_energy</th>\n",
       "    </tr>\n",
       "  </thead>\n",
       "  <tbody>\n",
       "    <tr>\n",
       "      <td>0</td>\n",
       "      <td>2017-07-31 22:01:35</td>\n",
       "      <td>24.7N</td>\n",
       "      <td>118.5W</td>\n",
       "      <td>NaN</td>\n",
       "      <td>NaN</td>\n",
       "      <td>NaN</td>\n",
       "      <td>NaN</td>\n",
       "      <td>NaN</td>\n",
       "      <td>5.800000e+10</td>\n",
       "      <td>0.190</td>\n",
       "    </tr>\n",
       "    <tr>\n",
       "      <td>1</td>\n",
       "      <td>2017-07-23 06:12:38</td>\n",
       "      <td>6.6S</td>\n",
       "      <td>69.7W</td>\n",
       "      <td>38.0</td>\n",
       "      <td>17.2</td>\n",
       "      <td>-0.4</td>\n",
       "      <td>8.7</td>\n",
       "      <td>-14.8</td>\n",
       "      <td>3.500000e+10</td>\n",
       "      <td>0.120</td>\n",
       "    </tr>\n",
       "    <tr>\n",
       "      <td>2</td>\n",
       "      <td>2017-07-13 09:30:36</td>\n",
       "      <td>23.1N</td>\n",
       "      <td>60.7E</td>\n",
       "      <td>35.0</td>\n",
       "      <td>13.7</td>\n",
       "      <td>-10.0</td>\n",
       "      <td>-6.5</td>\n",
       "      <td>-6.8</td>\n",
       "      <td>7.300000e+10</td>\n",
       "      <td>0.230</td>\n",
       "    </tr>\n",
       "    <tr>\n",
       "      <td>3</td>\n",
       "      <td>2017-06-30 14:26:45</td>\n",
       "      <td>34.3S</td>\n",
       "      <td>134.5E</td>\n",
       "      <td>20.0</td>\n",
       "      <td>15.2</td>\n",
       "      <td>10.9</td>\n",
       "      <td>-9.7</td>\n",
       "      <td>4.2</td>\n",
       "      <td>9.400000e+10</td>\n",
       "      <td>0.290</td>\n",
       "    </tr>\n",
       "    <tr>\n",
       "      <td>4</td>\n",
       "      <td>2017-06-23 20:21:55</td>\n",
       "      <td>57.0N</td>\n",
       "      <td>143.7E</td>\n",
       "      <td>35.1</td>\n",
       "      <td>24.3</td>\n",
       "      <td>17.7</td>\n",
       "      <td>13.1</td>\n",
       "      <td>-10.3</td>\n",
       "      <td>1.840000e+11</td>\n",
       "      <td>0.520</td>\n",
       "    </tr>\n",
       "    <tr>\n",
       "      <td>...</td>\n",
       "      <td>...</td>\n",
       "      <td>...</td>\n",
       "      <td>...</td>\n",
       "      <td>...</td>\n",
       "      <td>...</td>\n",
       "      <td>...</td>\n",
       "      <td>...</td>\n",
       "      <td>...</td>\n",
       "      <td>...</td>\n",
       "      <td>...</td>\n",
       "    </tr>\n",
       "    <tr>\n",
       "      <td>714</td>\n",
       "      <td>1993-11-29 17:48:41</td>\n",
       "      <td>26.5N</td>\n",
       "      <td>78.3E</td>\n",
       "      <td>NaN</td>\n",
       "      <td>NaN</td>\n",
       "      <td>NaN</td>\n",
       "      <td>NaN</td>\n",
       "      <td>NaN</td>\n",
       "      <td>2.600000e+10</td>\n",
       "      <td>0.092</td>\n",
       "    </tr>\n",
       "    <tr>\n",
       "      <td>715</td>\n",
       "      <td>1993-10-31 03:39:27</td>\n",
       "      <td>51.3N</td>\n",
       "      <td>100.9W</td>\n",
       "      <td>NaN</td>\n",
       "      <td>NaN</td>\n",
       "      <td>NaN</td>\n",
       "      <td>NaN</td>\n",
       "      <td>NaN</td>\n",
       "      <td>4.000000e+10</td>\n",
       "      <td>0.130</td>\n",
       "    </tr>\n",
       "    <tr>\n",
       "      <td>716</td>\n",
       "      <td>1991-10-04 09:22:47</td>\n",
       "      <td>78.7N</td>\n",
       "      <td>6.3E</td>\n",
       "      <td>NaN</td>\n",
       "      <td>NaN</td>\n",
       "      <td>NaN</td>\n",
       "      <td>NaN</td>\n",
       "      <td>NaN</td>\n",
       "      <td>5.500000e+11</td>\n",
       "      <td>1.400</td>\n",
       "    </tr>\n",
       "    <tr>\n",
       "      <td>717</td>\n",
       "      <td>1990-10-01 03:51:47</td>\n",
       "      <td>7.5N</td>\n",
       "      <td>142.8E</td>\n",
       "      <td>NaN</td>\n",
       "      <td>NaN</td>\n",
       "      <td>NaN</td>\n",
       "      <td>NaN</td>\n",
       "      <td>NaN</td>\n",
       "      <td>2.500000e+12</td>\n",
       "      <td>5.200</td>\n",
       "    </tr>\n",
       "    <tr>\n",
       "      <td>718</td>\n",
       "      <td>1988-04-15 03:03:10</td>\n",
       "      <td>4.1S</td>\n",
       "      <td>124.3E</td>\n",
       "      <td>NaN</td>\n",
       "      <td>NaN</td>\n",
       "      <td>NaN</td>\n",
       "      <td>NaN</td>\n",
       "      <td>NaN</td>\n",
       "      <td>7.580000e+12</td>\n",
       "      <td>14.000</td>\n",
       "    </tr>\n",
       "  </tbody>\n",
       "</table>\n",
       "<p>719 rows × 10 columns</p>\n",
       "</div>"
      ],
      "text/plain": [
       "               date_time latitude longitude  altitude  velocity    vx    vy  \\\n",
       "0    2017-07-31 22:01:35    24.7N    118.5W       NaN       NaN   NaN   NaN   \n",
       "1    2017-07-23 06:12:38     6.6S     69.7W      38.0      17.2  -0.4   8.7   \n",
       "2    2017-07-13 09:30:36    23.1N     60.7E      35.0      13.7 -10.0  -6.5   \n",
       "3    2017-06-30 14:26:45    34.3S    134.5E      20.0      15.2  10.9  -9.7   \n",
       "4    2017-06-23 20:21:55    57.0N    143.7E      35.1      24.3  17.7  13.1   \n",
       "..                   ...      ...       ...       ...       ...   ...   ...   \n",
       "714  1993-11-29 17:48:41    26.5N     78.3E       NaN       NaN   NaN   NaN   \n",
       "715  1993-10-31 03:39:27    51.3N    100.9W       NaN       NaN   NaN   NaN   \n",
       "716  1991-10-04 09:22:47    78.7N      6.3E       NaN       NaN   NaN   NaN   \n",
       "717  1990-10-01 03:51:47     7.5N    142.8E       NaN       NaN   NaN   NaN   \n",
       "718  1988-04-15 03:03:10     4.1S    124.3E       NaN       NaN   NaN   NaN   \n",
       "\n",
       "       vz  total_radiated_energy  calculated_total_impact_energy  \n",
       "0     NaN           5.800000e+10                           0.190  \n",
       "1   -14.8           3.500000e+10                           0.120  \n",
       "2    -6.8           7.300000e+10                           0.230  \n",
       "3     4.2           9.400000e+10                           0.290  \n",
       "4   -10.3           1.840000e+11                           0.520  \n",
       "..    ...                    ...                             ...  \n",
       "714   NaN           2.600000e+10                           0.092  \n",
       "715   NaN           4.000000e+10                           0.130  \n",
       "716   NaN           5.500000e+11                           1.400  \n",
       "717   NaN           2.500000e+12                           5.200  \n",
       "718   NaN           7.580000e+12                          14.000  \n",
       "\n",
       "[719 rows x 10 columns]"
      ]
     },
     "execution_count": 20,
     "metadata": {},
     "output_type": "execute_result"
    }
   ],
   "source": [
    "fireball=pd.read_csv(\"cneos_fireball_data.csv\", header=0, names=[\"date_time\",\"latitude\",\"longitude\",\"altitude\",\"velocity\",\"vx\",\"vy\",\"vz\",\"total_radiated_energy\",\"calculated_total_impact_energy\"])\n",
    "fireball"
   ]
  },
  {
   "cell_type": "markdown",
   "metadata": {},
   "source": [
    "**1.Определите местоположение появления метеорита с наибольшим количеством высвободившейся энергии.**"
   ]
  },
  {
   "cell_type": "code",
   "execution_count": 3,
   "metadata": {},
   "outputs": [
    {
     "data": {
      "text/html": [
       "<div>\n",
       "<style scoped>\n",
       "    .dataframe tbody tr th:only-of-type {\n",
       "        vertical-align: middle;\n",
       "    }\n",
       "\n",
       "    .dataframe tbody tr th {\n",
       "        vertical-align: top;\n",
       "    }\n",
       "\n",
       "    .dataframe thead th {\n",
       "        text-align: right;\n",
       "    }\n",
       "</style>\n",
       "<table border=\"1\" class=\"dataframe\">\n",
       "  <thead>\n",
       "    <tr style=\"text-align: right;\">\n",
       "      <th></th>\n",
       "      <th>date_time</th>\n",
       "      <th>latitude</th>\n",
       "      <th>longitude</th>\n",
       "      <th>altitude</th>\n",
       "      <th>velocity</th>\n",
       "      <th>vx</th>\n",
       "      <th>vy</th>\n",
       "      <th>vz</th>\n",
       "      <th>total_radiated_energy</th>\n",
       "      <th>calculated_total_impact_energy</th>\n",
       "    </tr>\n",
       "  </thead>\n",
       "  <tbody>\n",
       "    <tr>\n",
       "      <td>146</td>\n",
       "      <td>2013-02-15 03:20:33</td>\n",
       "      <td>54.8N</td>\n",
       "      <td>61.1E</td>\n",
       "      <td>23.3</td>\n",
       "      <td>18.6</td>\n",
       "      <td>12.8</td>\n",
       "      <td>-13.3</td>\n",
       "      <td>-2.4</td>\n",
       "      <td>3.750000e+14</td>\n",
       "      <td>440.0</td>\n",
       "    </tr>\n",
       "  </tbody>\n",
       "</table>\n",
       "</div>"
      ],
      "text/plain": [
       "               date_time latitude longitude  altitude  velocity    vx    vy  \\\n",
       "146  2013-02-15 03:20:33    54.8N     61.1E      23.3      18.6  12.8 -13.3   \n",
       "\n",
       "      vz  total_radiated_energy  calculated_total_impact_energy  \n",
       "146 -2.4           3.750000e+14                           440.0  "
      ]
     },
     "execution_count": 3,
     "metadata": {},
     "output_type": "execute_result"
    }
   ],
   "source": [
    "fireball.nlargest(1, ['total_radiated_energy']).head()"
   ]
  },
  {
   "cell_type": "code",
   "execution_count": 4,
   "metadata": {},
   "outputs": [
    {
     "name": "stderr",
     "output_type": "stream",
     "text": [
      "C:\\Users\\Temab\\Anaconda3\\lib\\site-packages\\ipykernel_launcher.py:1: FutureWarning: Interpreting tuple 'by' as a list of keys, rather than a single key. Use 'by=[...]' instead of 'by=(...)'. In the future, a tuple will always mean a single key.\n",
      "  \"\"\"Entry point for launching an IPython kernel.\n"
     ]
    },
    {
     "data": {
      "text/plain": [
       "latitude  longitude\n",
       "54.8N     61.1E        3.750000e+14\n",
       "Name: total_radiated_energy, dtype: float64"
      ]
     },
     "execution_count": 4,
     "metadata": {},
     "output_type": "execute_result"
    }
   ],
   "source": [
    "n=fireball.groupby(('latitude','longitude'))['total_radiated_energy'].max()\n",
    "n.nlargest(1)"
   ]
  },
  {
   "cell_type": "markdown",
   "metadata": {},
   "source": [
    "**2. Определите метеорит с максимальной и минимальной скоростью.**"
   ]
  },
  {
   "cell_type": "code",
   "execution_count": 10,
   "metadata": {},
   "outputs": [
    {
     "name": "stdout",
     "output_type": "stream",
     "text": [
      "Fireball with max velocity:\n"
     ]
    },
    {
     "data": {
      "text/html": [
       "<div>\n",
       "<style scoped>\n",
       "    .dataframe tbody tr th:only-of-type {\n",
       "        vertical-align: middle;\n",
       "    }\n",
       "\n",
       "    .dataframe tbody tr th {\n",
       "        vertical-align: top;\n",
       "    }\n",
       "\n",
       "    .dataframe thead th {\n",
       "        text-align: right;\n",
       "    }\n",
       "</style>\n",
       "<table border=\"1\" class=\"dataframe\">\n",
       "  <thead>\n",
       "    <tr style=\"text-align: right;\">\n",
       "      <th></th>\n",
       "      <th>date_time</th>\n",
       "      <th>latitude</th>\n",
       "      <th>longitude</th>\n",
       "      <th>altitude</th>\n",
       "      <th>velocity</th>\n",
       "      <th>vx</th>\n",
       "      <th>vy</th>\n",
       "      <th>vz</th>\n",
       "      <th>total_radiated_energy</th>\n",
       "      <th>calculated_total_impact_energy</th>\n",
       "    </tr>\n",
       "  </thead>\n",
       "  <tbody>\n",
       "    <tr>\n",
       "      <td>67</td>\n",
       "      <td>2015-07-04 01:40:11</td>\n",
       "      <td>38.6N</td>\n",
       "      <td>103.1E</td>\n",
       "      <td>46.3</td>\n",
       "      <td>49.0</td>\n",
       "      <td>0.9</td>\n",
       "      <td>-40.4</td>\n",
       "      <td>-27.7</td>\n",
       "      <td>5.600000e+10</td>\n",
       "      <td>0.18</td>\n",
       "    </tr>\n",
       "  </tbody>\n",
       "</table>\n",
       "</div>"
      ],
      "text/plain": [
       "              date_time latitude longitude  altitude  velocity   vx    vy  \\\n",
       "67  2015-07-04 01:40:11    38.6N    103.1E      46.3      49.0  0.9 -40.4   \n",
       "\n",
       "      vz  total_radiated_energy  calculated_total_impact_energy  \n",
       "67 -27.7           5.600000e+10                            0.18  "
      ]
     },
     "execution_count": 10,
     "metadata": {},
     "output_type": "execute_result"
    }
   ],
   "source": [
    "print(\"Fireball with max velocity:\")\n",
    "fireball.nlargest(1, ['velocity']).head()"
   ]
  },
  {
   "cell_type": "code",
   "execution_count": 11,
   "metadata": {},
   "outputs": [
    {
     "name": "stdout",
     "output_type": "stream",
     "text": [
      "\n",
      "Fireball with min velocity:\n"
     ]
    },
    {
     "data": {
      "text/html": [
       "<div>\n",
       "<style scoped>\n",
       "    .dataframe tbody tr th:only-of-type {\n",
       "        vertical-align: middle;\n",
       "    }\n",
       "\n",
       "    .dataframe tbody tr th {\n",
       "        vertical-align: top;\n",
       "    }\n",
       "\n",
       "    .dataframe thead th {\n",
       "        text-align: right;\n",
       "    }\n",
       "</style>\n",
       "<table border=\"1\" class=\"dataframe\">\n",
       "  <thead>\n",
       "    <tr style=\"text-align: right;\">\n",
       "      <th></th>\n",
       "      <th>date_time</th>\n",
       "      <th>latitude</th>\n",
       "      <th>longitude</th>\n",
       "      <th>altitude</th>\n",
       "      <th>velocity</th>\n",
       "      <th>vx</th>\n",
       "      <th>vy</th>\n",
       "      <th>vz</th>\n",
       "      <th>total_radiated_energy</th>\n",
       "      <th>calculated_total_impact_energy</th>\n",
       "    </tr>\n",
       "  </thead>\n",
       "  <tbody>\n",
       "    <tr>\n",
       "      <td>300</td>\n",
       "      <td>2008-07-01 17:40:19</td>\n",
       "      <td>37.1N</td>\n",
       "      <td>115.7W</td>\n",
       "      <td>36.1</td>\n",
       "      <td>9.8</td>\n",
       "      <td>2.8</td>\n",
       "      <td>1.7</td>\n",
       "      <td>-9.2</td>\n",
       "      <td>3.600000e+10</td>\n",
       "      <td>0.12</td>\n",
       "    </tr>\n",
       "  </tbody>\n",
       "</table>\n",
       "</div>"
      ],
      "text/plain": [
       "               date_time latitude longitude  altitude  velocity   vx   vy  \\\n",
       "300  2008-07-01 17:40:19    37.1N    115.7W      36.1       9.8  2.8  1.7   \n",
       "\n",
       "      vz  total_radiated_energy  calculated_total_impact_energy  \n",
       "300 -9.2           3.600000e+10                            0.12  "
      ]
     },
     "execution_count": 11,
     "metadata": {},
     "output_type": "execute_result"
    }
   ],
   "source": [
    "print(\"\\nFireball with min velocity:\")\n",
    "fireball.nsmallest(1, ['velocity']).head()"
   ]
  },
  {
   "cell_type": "markdown",
   "metadata": {},
   "source": [
    "**3. Определите место максимальной концентрации метеоритов.**"
   ]
  },
  {
   "cell_type": "code",
   "execution_count": 14,
   "metadata": {},
   "outputs": [
    {
     "data": {
      "image/png": "[encoded data removed]",
      "text/plain": [
       "<Figure size 1080x720 with 1 Axes>"
      ]
     },
     "metadata": {
      "needs_background": "light"
     },
     "output_type": "display_data"
    }
   ],
   "source": [
    "df_copy = fireball.dropna(subset=['latitude', 'longitude'])\n",
    "latitude = df_copy['latitude'].apply(\n",
    "    lambda lat: np.pi / 2 - np.radians(float(lat[:-1]) * (1 if lat[-1] == 'N' else -1)))\n",
    "lat_bins = np.linspace(0, np.pi, 25)\n",
    "lat_frequences, lat_bins = np.histogram(latitude, lat_bins)\n",
    "lat_bins = (lat_bins[1:] + lat_bins[:-1])/2\n",
    "\n",
    "longitude = df_copy['longitude'].apply(\n",
    "    lambda lon: np.radians(float(lon[:-1]) * (1 if lon[-1] == 'W' else -1)))\n",
    "lon_bins = np.linspace(-np.pi, np.pi, 25)\n",
    "lon_frequences, lon_bins = np.histogram(longitude, lon_bins)\n",
    "lon_bins = (lon_bins[1:] + lon_bins[:-1])/2\n",
    "\n",
    "fig = plt.figure(figsize=(15,10))\n",
    "ax = fig.gca()\n",
    "ax.set_xticks(lat_bins)\n",
    "ax.set_yticks(lon_bins)\n",
    "plt.scatter(latitude, longitude, marker='x')\n",
    "plt.grid()\n",
    "plt.show()"
   ]
  },
  {
   "cell_type": "markdown",
   "metadata": {},
   "source": [
    "**4. Определите время года, в которое вероятность появления метеоритов максимальна. Постройте график.**"
   ]
  },
  {
   "cell_type": "code",
   "execution_count": 15,
   "metadata": {},
   "outputs": [
    {
     "name": "stdout",
     "output_type": "stream",
     "text": [
      "autumn    0.253129\n",
      "spring    0.250348\n",
      "winter    0.248957\n",
      "summer    0.247566\n",
      "Name: season, dtype: float64\n",
      "autumn is the time of year when probability of a meteorites is max\n"
     ]
    },
    {
     "data": {
      "text/plain": [
       "<matplotlib.axes._subplots.AxesSubplot at 0x20be845fbc8>"
      ]
     },
     "execution_count": 15,
     "metadata": {},
     "output_type": "execute_result"
    },
    {
     "data": {
      "image/png": "[encoded data removed]",
      "text/plain": [
       "<Figure size 432x288 with 1 Axes>"
      ]
     },
     "metadata": {
      "needs_background": "light"
     },
     "output_type": "display_data"
    }
   ],
   "source": [
    "import re\n",
    "def determine_season(date_time):\n",
    "    \n",
    "    month=int(re.search(r'-\\d+-',date_time).group().strip(\"-\"))\n",
    "    return \"winter\" if month in [12,1,2] \\\n",
    "            else \"spring\" if month in [3,4,5] \\\n",
    "            else \"summer\" if month in [6,7,8] \\\n",
    "            else  \"autumn\"\n",
    "\n",
    "fireball[\"season\"]=fireball[\"date_time\"].apply(determine_season)\n",
    "probabilitys_series=fireball.season.value_counts(normalize=True)\n",
    "print(probabilitys_series)\n",
    "print(\"{} is the time of year when probability of a meteorites is max\".format( \\\n",
    "    probabilitys_series.idxmax()))\n",
    "probabilitys_series.plot(kind='bar', ylim=(probabilitys_series.min()*0.99, probabilitys_series.max()*1.01))"
   ]
  },
  {
   "cell_type": "markdown",
   "metadata": {},
   "source": [
    "**5. Удалите строки данных, в которых для метеоритов не указана скорость. Выведите размер набора данных до и после удаления.**"
   ]
  },
  {
   "cell_type": "code",
   "execution_count": 21,
   "metadata": {},
   "outputs": [
    {
     "name": "stdout",
     "output_type": "stream",
     "text": [
      "(719, 10)\n",
      "(157, 10)\n"
     ]
    }
   ],
   "source": [
    "print(fireball.shape)\n",
    "copy_fireball=fireball.dropna(axis=0,subset=[\"velocity\"])\n",
    "print(copy_fireball.shape)"
   ]
  },
  {
   "cell_type": "markdown",
   "metadata": {},
   "source": [
    "**6. Построить график, на котором по оси ОХ отложено время суток, по OY–частота появления метеоритов.**"
   ]
  },
  {
   "cell_type": "code",
   "execution_count": 22,
   "metadata": {},
   "outputs": [
    {
     "data": {
      "text/plain": [
       "<matplotlib.axes._subplots.AxesSubplot at 0x20be8c53088>"
      ]
     },
     "execution_count": 22,
     "metadata": {},
     "output_type": "execute_result"
    },
    {
     "data": {
      "image/png": "[encoded data removed]",
      "text/plain": [
       "<Figure size 432x288 with 1 Axes>"
      ]
     },
     "metadata": {
      "needs_background": "light"
     },
     "output_type": "display_data"
    }
   ],
   "source": [
    "new_df=fireball.copy()\n",
    "new_df[\"hour\"]=new_df.date_time.apply(lambda dt: re.search(r' \\d+:', dt).group().strip(':'))\n",
    "\n",
    "graf_1=pd.DataFrame({'frequency': \n",
    "                   new_df.hour.value_counts(normalize=True),\n",
    "                  'time': new_df.hour.value_counts(normalize=True).index})\n",
    "graf_1.sort_values(by=['time'], inplace=True)\n",
    "graf_1.plot(kind='bar', x='time', y='frequency')"
   ]
  },
  {
   "cell_type": "markdown",
   "metadata": {},
   "source": [
    "**7. Заполните строки в которых для метеоритов не указана скорость.**"
   ]
  },
  {
   "cell_type": "code",
   "execution_count": 24,
   "metadata": {},
   "outputs": [
    {
     "data": {
      "text/html": [
       "<div>\n",
       "<style scoped>\n",
       "    .dataframe tbody tr th:only-of-type {\n",
       "        vertical-align: middle;\n",
       "    }\n",
       "\n",
       "    .dataframe tbody tr th {\n",
       "        vertical-align: top;\n",
       "    }\n",
       "\n",
       "    .dataframe thead th {\n",
       "        text-align: right;\n",
       "    }\n",
       "</style>\n",
       "<table border=\"1\" class=\"dataframe\">\n",
       "  <thead>\n",
       "    <tr style=\"text-align: right;\">\n",
       "      <th></th>\n",
       "      <th>date_time</th>\n",
       "      <th>latitude</th>\n",
       "      <th>longitude</th>\n",
       "      <th>altitude</th>\n",
       "      <th>velocity</th>\n",
       "      <th>vx</th>\n",
       "      <th>vy</th>\n",
       "      <th>vz</th>\n",
       "      <th>total_radiated_energy</th>\n",
       "      <th>calculated_total_impact_energy</th>\n",
       "    </tr>\n",
       "  </thead>\n",
       "  <tbody>\n",
       "    <tr>\n",
       "      <td>0</td>\n",
       "      <td>2017-07-31 22:01:35</td>\n",
       "      <td>24.7N</td>\n",
       "      <td>118.5W</td>\n",
       "      <td>NaN</td>\n",
       "      <td>51.465451</td>\n",
       "      <td>17.617455</td>\n",
       "      <td>-40.940288</td>\n",
       "      <td>25.733456</td>\n",
       "      <td>5.800000e+10</td>\n",
       "      <td>0.190</td>\n",
       "    </tr>\n",
       "    <tr>\n",
       "      <td>1</td>\n",
       "      <td>2017-07-23 06:12:38</td>\n",
       "      <td>6.6S</td>\n",
       "      <td>69.7W</td>\n",
       "      <td>38.0</td>\n",
       "      <td>17.200000</td>\n",
       "      <td>-0.400000</td>\n",
       "      <td>8.700000</td>\n",
       "      <td>-14.800000</td>\n",
       "      <td>3.500000e+10</td>\n",
       "      <td>0.120</td>\n",
       "    </tr>\n",
       "    <tr>\n",
       "      <td>2</td>\n",
       "      <td>2017-07-13 09:30:36</td>\n",
       "      <td>23.1N</td>\n",
       "      <td>60.7E</td>\n",
       "      <td>35.0</td>\n",
       "      <td>13.700000</td>\n",
       "      <td>-10.000000</td>\n",
       "      <td>-6.500000</td>\n",
       "      <td>-6.800000</td>\n",
       "      <td>7.300000e+10</td>\n",
       "      <td>0.230</td>\n",
       "    </tr>\n",
       "    <tr>\n",
       "      <td>3</td>\n",
       "      <td>2017-06-30 14:26:45</td>\n",
       "      <td>34.3S</td>\n",
       "      <td>134.5E</td>\n",
       "      <td>20.0</td>\n",
       "      <td>15.200000</td>\n",
       "      <td>10.900000</td>\n",
       "      <td>-9.700000</td>\n",
       "      <td>4.200000</td>\n",
       "      <td>9.400000e+10</td>\n",
       "      <td>0.290</td>\n",
       "    </tr>\n",
       "    <tr>\n",
       "      <td>4</td>\n",
       "      <td>2017-06-23 20:21:55</td>\n",
       "      <td>57.0N</td>\n",
       "      <td>143.7E</td>\n",
       "      <td>35.1</td>\n",
       "      <td>24.300000</td>\n",
       "      <td>17.700000</td>\n",
       "      <td>13.100000</td>\n",
       "      <td>-10.300000</td>\n",
       "      <td>1.840000e+11</td>\n",
       "      <td>0.520</td>\n",
       "    </tr>\n",
       "    <tr>\n",
       "      <td>...</td>\n",
       "      <td>...</td>\n",
       "      <td>...</td>\n",
       "      <td>...</td>\n",
       "      <td>...</td>\n",
       "      <td>...</td>\n",
       "      <td>...</td>\n",
       "      <td>...</td>\n",
       "      <td>...</td>\n",
       "      <td>...</td>\n",
       "      <td>...</td>\n",
       "    </tr>\n",
       "    <tr>\n",
       "      <td>714</td>\n",
       "      <td>1993-11-29 17:48:41</td>\n",
       "      <td>26.5N</td>\n",
       "      <td>78.3E</td>\n",
       "      <td>NaN</td>\n",
       "      <td>51.465451</td>\n",
       "      <td>17.617455</td>\n",
       "      <td>-40.940288</td>\n",
       "      <td>25.733456</td>\n",
       "      <td>2.600000e+10</td>\n",
       "      <td>0.092</td>\n",
       "    </tr>\n",
       "    <tr>\n",
       "      <td>715</td>\n",
       "      <td>1993-10-31 03:39:27</td>\n",
       "      <td>51.3N</td>\n",
       "      <td>100.9W</td>\n",
       "      <td>NaN</td>\n",
       "      <td>51.465451</td>\n",
       "      <td>17.617455</td>\n",
       "      <td>-40.940288</td>\n",
       "      <td>25.733456</td>\n",
       "      <td>4.000000e+10</td>\n",
       "      <td>0.130</td>\n",
       "    </tr>\n",
       "    <tr>\n",
       "      <td>716</td>\n",
       "      <td>1991-10-04 09:22:47</td>\n",
       "      <td>78.7N</td>\n",
       "      <td>6.3E</td>\n",
       "      <td>NaN</td>\n",
       "      <td>51.465451</td>\n",
       "      <td>17.617455</td>\n",
       "      <td>-40.940288</td>\n",
       "      <td>25.733456</td>\n",
       "      <td>5.500000e+11</td>\n",
       "      <td>1.400</td>\n",
       "    </tr>\n",
       "    <tr>\n",
       "      <td>717</td>\n",
       "      <td>1990-10-01 03:51:47</td>\n",
       "      <td>7.5N</td>\n",
       "      <td>142.8E</td>\n",
       "      <td>NaN</td>\n",
       "      <td>51.465451</td>\n",
       "      <td>17.617455</td>\n",
       "      <td>-40.940288</td>\n",
       "      <td>25.733456</td>\n",
       "      <td>2.500000e+12</td>\n",
       "      <td>5.200</td>\n",
       "    </tr>\n",
       "    <tr>\n",
       "      <td>718</td>\n",
       "      <td>1988-04-15 03:03:10</td>\n",
       "      <td>4.1S</td>\n",
       "      <td>124.3E</td>\n",
       "      <td>NaN</td>\n",
       "      <td>51.465451</td>\n",
       "      <td>17.617455</td>\n",
       "      <td>-40.940288</td>\n",
       "      <td>25.733456</td>\n",
       "      <td>7.580000e+12</td>\n",
       "      <td>14.000</td>\n",
       "    </tr>\n",
       "  </tbody>\n",
       "</table>\n",
       "<p>719 rows × 10 columns</p>\n",
       "</div>"
      ],
      "text/plain": [
       "               date_time latitude longitude  altitude   velocity         vx  \\\n",
       "0    2017-07-31 22:01:35    24.7N    118.5W       NaN  51.465451  17.617455   \n",
       "1    2017-07-23 06:12:38     6.6S     69.7W      38.0  17.200000  -0.400000   \n",
       "2    2017-07-13 09:30:36    23.1N     60.7E      35.0  13.700000 -10.000000   \n",
       "3    2017-06-30 14:26:45    34.3S    134.5E      20.0  15.200000  10.900000   \n",
       "4    2017-06-23 20:21:55    57.0N    143.7E      35.1  24.300000  17.700000   \n",
       "..                   ...      ...       ...       ...        ...        ...   \n",
       "714  1993-11-29 17:48:41    26.5N     78.3E       NaN  51.465451  17.617455   \n",
       "715  1993-10-31 03:39:27    51.3N    100.9W       NaN  51.465451  17.617455   \n",
       "716  1991-10-04 09:22:47    78.7N      6.3E       NaN  51.465451  17.617455   \n",
       "717  1990-10-01 03:51:47     7.5N    142.8E       NaN  51.465451  17.617455   \n",
       "718  1988-04-15 03:03:10     4.1S    124.3E       NaN  51.465451  17.617455   \n",
       "\n",
       "            vy         vz  total_radiated_energy  \\\n",
       "0   -40.940288  25.733456           5.800000e+10   \n",
       "1     8.700000 -14.800000           3.500000e+10   \n",
       "2    -6.500000  -6.800000           7.300000e+10   \n",
       "3    -9.700000   4.200000           9.400000e+10   \n",
       "4    13.100000 -10.300000           1.840000e+11   \n",
       "..         ...        ...                    ...   \n",
       "714 -40.940288  25.733456           2.600000e+10   \n",
       "715 -40.940288  25.733456           4.000000e+10   \n",
       "716 -40.940288  25.733456           5.500000e+11   \n",
       "717 -40.940288  25.733456           2.500000e+12   \n",
       "718 -40.940288  25.733456           7.580000e+12   \n",
       "\n",
       "     calculated_total_impact_energy  \n",
       "0                             0.190  \n",
       "1                             0.120  \n",
       "2                             0.230  \n",
       "3                             0.290  \n",
       "4                             0.520  \n",
       "..                              ...  \n",
       "714                           0.092  \n",
       "715                           0.130  \n",
       "716                           1.400  \n",
       "717                           5.200  \n",
       "718                          14.000  \n",
       "\n",
       "[719 rows x 10 columns]"
      ]
     },
     "execution_count": 24,
     "metadata": {},
     "output_type": "execute_result"
    }
   ],
   "source": [
    "max_component=max(fireball.vx.max(), fireball.vy.max(), fireball.vz.max())\n",
    "min_component=min(fireball.vx.min(), fireball.vy.min(), fireball.vz.min())\n",
    "\n",
    "fireball.vx.fillna((max_component - min_component) * np.random.random_sample() + min_component,\n",
    "                              inplace=True)\n",
    "fireball.vy.fillna((max_component - min_component) * np.random.random_sample() + min_component,\n",
    "                              inplace=True)\n",
    "fireball.vz.fillna((max_component - min_component) * np.random.random_sample() + min_component,\n",
    "                              inplace=True)\n",
    "\n",
    "fireball.velocity.fillna(np.sqrt(fireball[fireball.velocity.isnull()].vx**2+\\\n",
    "                             fireball[fireball.velocity.isnull()].vy**2+\\\n",
    "                             fireball[fireball.velocity.isnull()].vz**2), inplace=True)\n",
    "fireball"
   ]
  },
  {
   "cell_type": "markdown",
   "metadata": {},
   "source": [
    "**8. Определите месяц года, для которого появление метеоритов наиболее вероятно (постройте необходимые графики).**"
   ]
  },
  {
   "cell_type": "code",
   "execution_count": 26,
   "metadata": {},
   "outputs": [
    {
     "name": "stdout",
     "output_type": "stream",
     "text": [
      "October is the month of the year for which meteorites are most likely\n",
      "Probability - 0.09040333796940195\n"
     ]
    },
    {
     "data": {
      "text/plain": [
       "<matplotlib.axes._subplots.AxesSubplot at 0x20bea063788>"
      ]
     },
     "execution_count": 26,
     "metadata": {},
     "output_type": "execute_result"
    },
    {
     "data": {
      "image/png": "[encoded data removed]",
      "text/plain": [
       "<Figure size 432x288 with 1 Axes>"
      ]
     },
     "metadata": {
      "needs_background": "light"
     },
     "output_type": "display_data"
    }
   ],
   "source": [
    "new_df=fireball.copy()\n",
    "months={ 1:'January',\n",
    "         2:'February',\n",
    "         3:'March',\n",
    "         4:'April',\n",
    "         5:'May',\n",
    "         6:'June',\n",
    "         7:'July',\n",
    "         8:'Auqust',\n",
    "         9:'September',\n",
    "         10:'October',\n",
    "         11:'Nobember',\n",
    "         12:'December',}\n",
    "new_df[\"month\"]=new_df.date_time.apply(lambda dt: re.search(r'-\\d+-',dt).group().strip(\"-\"))\n",
    "\n",
    "series=new_df.groupby(by=['month'])['month'].count()\n",
    "print('{} is the month of the year for which meteorites are most likely'.format(months[int(series.idxmax())]))\n",
    "print('Probability - {}'.format(series.max()/fireball.shape[0]))\n",
    "graf=pd.DataFrame(series.values/fireball.shape[0], columns=['frequency'], index=series.index)\n",
    "\n",
    "graf.plot(kind='bar')"
   ]
  },
  {
   "cell_type": "markdown",
   "metadata": {},
   "source": [
    "**9. Вычислите корреляцию Пирсона и Спирмена между признаками Altitude и TotalRadiatedEnergy. Сравните полученные величины корреляции. Постройте гистограммы для указанных признаков. Оцените значение p-value.**"
   ]
  },
  {
   "cell_type": "code",
   "execution_count": 31,
   "metadata": {},
   "outputs": [
    {
     "name": "stdout",
     "output_type": "stream",
     "text": [
      "correlation  -0.08578656525823586\n",
      "pvalue  0.13368269878711372\n"
     ]
    }
   ],
   "source": [
    "from scipy.stats import pearsonr as prs\n",
    "fireball.dropna(subset=['altitude','total_radiated_energy'], inplace=True)\n",
    "prs_corr, prs_pvalue = prs(fireball.altitude, fireball.total_radiated_energy)\n",
    "print('correlation  {}\\npvalue  {}'.format(prs_corr,prs_pvalue))"
   ]
  },
  {
   "cell_type": "code",
   "execution_count": 32,
   "metadata": {},
   "outputs": [
    {
     "name": "stdout",
     "output_type": "stream",
     "text": [
      "correlation  -0.12671041939219074\n",
      "pvalue  0.026415728610676672\n"
     ]
    }
   ],
   "source": [
    "from scipy.stats import spearmanr as spr\n",
    "spr_corr, spr_pvalue = spr(fireball.altitude, fireball.total_radiated_energy)\n",
    "print('correlation  {}\\npvalue  {}'.format(spr_corr,spr_pvalue))"
   ]
  },
  {
   "cell_type": "code",
   "execution_count": 33,
   "metadata": {},
   "outputs": [
    {
     "data": {
      "text/plain": [
       "<matplotlib.axes._subplots.AxesSubplot at 0x20beac68fc8>"
      ]
     },
     "execution_count": 33,
     "metadata": {},
     "output_type": "execute_result"
    },
    {
     "data": {
      "image/png": "[encoded data removed]",
      "text/plain": [
       "<Figure size 432x288 with 1 Axes>"
      ]
     },
     "metadata": {
      "needs_background": "light"
     },
     "output_type": "display_data"
    }
   ],
   "source": [
    "fireball.altitude.hist()"
   ]
  },
  {
   "cell_type": "code",
   "execution_count": 34,
   "metadata": {},
   "outputs": [
    {
     "data": {
      "text/plain": [
       "<matplotlib.axes._subplots.AxesSubplot at 0x20bea0e2a48>"
      ]
     },
     "execution_count": 34,
     "metadata": {},
     "output_type": "execute_result"
    },
    {
     "data": {
      "image/png": "[encoded data removed]",
      "text/plain": [
       "<Figure size 432x288 with 1 Axes>"
      ]
     },
     "metadata": {
      "needs_background": "light"
     },
     "output_type": "display_data"
    }
   ],
   "source": [
    "fireball.total_radiated_energy.hist()"
   ]
  },
  {
   "cell_type": "code",
   "execution_count": null,
   "metadata": {},
   "outputs": [],
   "source": []
  }
 ],
 "metadata": {
  "kernelspec": {
   "display_name": "Python 3",
   "language": "python",
   "name": "python3"
  },
  "language_info": {
   "codemirror_mode": {
    "name": "ipython",
    "version": 3
   },
   "file_extension": ".py",
   "mimetype": "text/x-python",
   "name": "python",
   "nbconvert_exporter": "python",
   "pygments_lexer": "ipython3",
   "version": "3.7.4"
  }
 },
 "nbformat": 4,
 "nbformat_minor": 2
}
