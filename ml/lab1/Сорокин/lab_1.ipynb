{
 "cells": [
  {
   "cell_type": "markdown",
   "metadata": {},
   "source": [
    "## Сорокин Евгений\n",
    "\n",
    "# 5. Метеоритная защита земли\n",
    "1. Определите местоположение появления метеорита с наибольшим количеством высвободившейся энергии.\n",
    "2. Определите метеорит с максимальной и минимальной скоростью.\n",
    "3. Определите место максимальной концентрации метеоритов.\n",
    "4. Определите время года, в которое вероятность появления метеоритов максимальна. Постройте график.\n",
    "5. Удалите строки данных, в которых для метеоритов не указана скорость. Выведите размер набора данных до и после удаления.\n",
    "6. Построить график, на котором по оси ОХ отложено время суток, по OY – частота появления метеоритов.\n",
    "7. Заполните строки в которых для метеоритов не указана скорость.\n",
    "8. Определите месяц года, для которого появление метеоритов наиболее вероятно (постройте необходимые графики).\n",
    "9. Вычислите корреляцию Пирсона и Спирмена между признаками Altitude и Total Radiated Energy. Сравните полученные величины корреляции. Постройте гистограммы для указанных признаков. Оцените значение p-value.\n"
   ]
  },
  {
   "cell_type": "code",
   "execution_count": 4,
   "metadata": {},
   "outputs": [],
   "source": [
    "%matplotlib inline\n",
    "\n",
    "import pandas as pd\n",
    "import matplotlib.pyplot as plt\n",
    "import seaborn as sns\n",
    "sns.set(style=\"darkgrid\")\n",
    "plt.style.use('ggplot')  # Красивые графики"
   ]
  },
  {
   "cell_type": "code",
   "execution_count": 5,
   "metadata": {},
   "outputs": [
    {
     "name": "stdout",
     "output_type": "stream",
     "text": [
      "  Peak Brightness Date/Time (UT) Latitude (deg.) Longitude (deg.)  \\\n",
      "0            2017-07-31 22:01:35           24.7N           118.5W   \n",
      "1            2017-07-23 06:12:38            6.6S            69.7W   \n",
      "2            2017-07-13 09:30:36           23.1N            60.7E   \n",
      "3            2017-06-30 14:26:45           34.3S           134.5E   \n",
      "4            2017-06-23 20:21:55           57.0N           143.7E   \n",
      "\n",
      "   Altitude (km)  Velocity (km/s)    vx    vy    vz  \\\n",
      "0            NaN              NaN   NaN   NaN   NaN   \n",
      "1           38.0             17.2  -0.4   8.7 -14.8   \n",
      "2           35.0             13.7 -10.0  -6.5  -6.8   \n",
      "3           20.0             15.2  10.9  -9.7   4.2   \n",
      "4           35.1             24.3  17.7  13.1 -10.3   \n",
      "\n",
      "   Total Radiated Energy (J)  Calculated Total Impact Energy (kt)  \n",
      "0               5.800000e+10                                 0.19  \n",
      "1               3.500000e+10                                 0.12  \n",
      "2               7.300000e+10                                 0.23  \n",
      "3               9.400000e+10                                 0.29  \n",
      "4               1.840000e+11                                 0.52  \n"
     ]
    }
   ],
   "source": [
    "fireball_df = pd.read_csv('cneos_fireball_data.csv') # загрузил данные в объект fireball_df\n",
    "print(fireball_df.head())"
   ]
  },
  {
   "cell_type": "code",
   "execution_count": 6,
   "metadata": {},
   "outputs": [
    {
     "data": {
      "text/html": [
       "<div>\n",
       "<style scoped>\n",
       "    .dataframe tbody tr th:only-of-type {\n",
       "        vertical-align: middle;\n",
       "    }\n",
       "\n",
       "    .dataframe tbody tr th {\n",
       "        vertical-align: top;\n",
       "    }\n",
       "\n",
       "    .dataframe thead th {\n",
       "        text-align: right;\n",
       "    }\n",
       "</style>\n",
       "<table border=\"1\" class=\"dataframe\">\n",
       "  <thead>\n",
       "    <tr style=\"text-align: right;\">\n",
       "      <th></th>\n",
       "      <th>Peak Brightness Date/Time (UT)</th>\n",
       "      <th>Latitude (deg.)</th>\n",
       "      <th>Longitude (deg.)</th>\n",
       "      <th>Altitude (km)</th>\n",
       "      <th>Velocity (km/s)</th>\n",
       "      <th>vx</th>\n",
       "      <th>vy</th>\n",
       "      <th>vz</th>\n",
       "      <th>Total Radiated Energy (J)</th>\n",
       "      <th>Calculated Total Impact Energy (kt)</th>\n",
       "    </tr>\n",
       "  </thead>\n",
       "  <tbody>\n",
       "    <tr>\n",
       "      <th>0</th>\n",
       "      <td>2017-07-31 22:01:35</td>\n",
       "      <td>24.7N</td>\n",
       "      <td>118.5W</td>\n",
       "      <td>NaN</td>\n",
       "      <td>NaN</td>\n",
       "      <td>NaN</td>\n",
       "      <td>NaN</td>\n",
       "      <td>NaN</td>\n",
       "      <td>5.800000e+10</td>\n",
       "      <td>0.190</td>\n",
       "    </tr>\n",
       "    <tr>\n",
       "      <th>1</th>\n",
       "      <td>2017-07-23 06:12:38</td>\n",
       "      <td>6.6S</td>\n",
       "      <td>69.7W</td>\n",
       "      <td>38.0</td>\n",
       "      <td>17.2</td>\n",
       "      <td>-0.4</td>\n",
       "      <td>8.7</td>\n",
       "      <td>-14.8</td>\n",
       "      <td>3.500000e+10</td>\n",
       "      <td>0.120</td>\n",
       "    </tr>\n",
       "    <tr>\n",
       "      <th>2</th>\n",
       "      <td>2017-07-13 09:30:36</td>\n",
       "      <td>23.1N</td>\n",
       "      <td>60.7E</td>\n",
       "      <td>35.0</td>\n",
       "      <td>13.7</td>\n",
       "      <td>-10.0</td>\n",
       "      <td>-6.5</td>\n",
       "      <td>-6.8</td>\n",
       "      <td>7.300000e+10</td>\n",
       "      <td>0.230</td>\n",
       "    </tr>\n",
       "    <tr>\n",
       "      <th>3</th>\n",
       "      <td>2017-06-30 14:26:45</td>\n",
       "      <td>34.3S</td>\n",
       "      <td>134.5E</td>\n",
       "      <td>20.0</td>\n",
       "      <td>15.2</td>\n",
       "      <td>10.9</td>\n",
       "      <td>-9.7</td>\n",
       "      <td>4.2</td>\n",
       "      <td>9.400000e+10</td>\n",
       "      <td>0.290</td>\n",
       "    </tr>\n",
       "    <tr>\n",
       "      <th>4</th>\n",
       "      <td>2017-06-23 20:21:55</td>\n",
       "      <td>57.0N</td>\n",
       "      <td>143.7E</td>\n",
       "      <td>35.1</td>\n",
       "      <td>24.3</td>\n",
       "      <td>17.7</td>\n",
       "      <td>13.1</td>\n",
       "      <td>-10.3</td>\n",
       "      <td>1.840000e+11</td>\n",
       "      <td>0.520</td>\n",
       "    </tr>\n",
       "    <tr>\n",
       "      <th>...</th>\n",
       "      <td>...</td>\n",
       "      <td>...</td>\n",
       "      <td>...</td>\n",
       "      <td>...</td>\n",
       "      <td>...</td>\n",
       "      <td>...</td>\n",
       "      <td>...</td>\n",
       "      <td>...</td>\n",
       "      <td>...</td>\n",
       "      <td>...</td>\n",
       "    </tr>\n",
       "    <tr>\n",
       "      <th>714</th>\n",
       "      <td>1993-11-29 17:48:41</td>\n",
       "      <td>26.5N</td>\n",
       "      <td>78.3E</td>\n",
       "      <td>NaN</td>\n",
       "      <td>NaN</td>\n",
       "      <td>NaN</td>\n",
       "      <td>NaN</td>\n",
       "      <td>NaN</td>\n",
       "      <td>2.600000e+10</td>\n",
       "      <td>0.092</td>\n",
       "    </tr>\n",
       "    <tr>\n",
       "      <th>715</th>\n",
       "      <td>1993-10-31 03:39:27</td>\n",
       "      <td>51.3N</td>\n",
       "      <td>100.9W</td>\n",
       "      <td>NaN</td>\n",
       "      <td>NaN</td>\n",
       "      <td>NaN</td>\n",
       "      <td>NaN</td>\n",
       "      <td>NaN</td>\n",
       "      <td>4.000000e+10</td>\n",
       "      <td>0.130</td>\n",
       "    </tr>\n",
       "    <tr>\n",
       "      <th>716</th>\n",
       "      <td>1991-10-04 09:22:47</td>\n",
       "      <td>78.7N</td>\n",
       "      <td>6.3E</td>\n",
       "      <td>NaN</td>\n",
       "      <td>NaN</td>\n",
       "      <td>NaN</td>\n",
       "      <td>NaN</td>\n",
       "      <td>NaN</td>\n",
       "      <td>5.500000e+11</td>\n",
       "      <td>1.400</td>\n",
       "    </tr>\n",
       "    <tr>\n",
       "      <th>717</th>\n",
       "      <td>1990-10-01 03:51:47</td>\n",
       "      <td>7.5N</td>\n",
       "      <td>142.8E</td>\n",
       "      <td>NaN</td>\n",
       "      <td>NaN</td>\n",
       "      <td>NaN</td>\n",
       "      <td>NaN</td>\n",
       "      <td>NaN</td>\n",
       "      <td>2.500000e+12</td>\n",
       "      <td>5.200</td>\n",
       "    </tr>\n",
       "    <tr>\n",
       "      <th>718</th>\n",
       "      <td>1988-04-15 03:03:10</td>\n",
       "      <td>4.1S</td>\n",
       "      <td>124.3E</td>\n",
       "      <td>NaN</td>\n",
       "      <td>NaN</td>\n",
       "      <td>NaN</td>\n",
       "      <td>NaN</td>\n",
       "      <td>NaN</td>\n",
       "      <td>7.580000e+12</td>\n",
       "      <td>14.000</td>\n",
       "    </tr>\n",
       "  </tbody>\n",
       "</table>\n",
       "<p>719 rows × 10 columns</p>\n",
       "</div>"
      ],
      "text/plain": [
       "    Peak Brightness Date/Time (UT) Latitude (deg.) Longitude (deg.)  \\\n",
       "0              2017-07-31 22:01:35           24.7N           118.5W   \n",
       "1              2017-07-23 06:12:38            6.6S            69.7W   \n",
       "2              2017-07-13 09:30:36           23.1N            60.7E   \n",
       "3              2017-06-30 14:26:45           34.3S           134.5E   \n",
       "4              2017-06-23 20:21:55           57.0N           143.7E   \n",
       "..                             ...             ...              ...   \n",
       "714            1993-11-29 17:48:41           26.5N            78.3E   \n",
       "715            1993-10-31 03:39:27           51.3N           100.9W   \n",
       "716            1991-10-04 09:22:47           78.7N             6.3E   \n",
       "717            1990-10-01 03:51:47            7.5N           142.8E   \n",
       "718            1988-04-15 03:03:10            4.1S           124.3E   \n",
       "\n",
       "     Altitude (km)  Velocity (km/s)    vx    vy    vz  \\\n",
       "0              NaN              NaN   NaN   NaN   NaN   \n",
       "1             38.0             17.2  -0.4   8.7 -14.8   \n",
       "2             35.0             13.7 -10.0  -6.5  -6.8   \n",
       "3             20.0             15.2  10.9  -9.7   4.2   \n",
       "4             35.1             24.3  17.7  13.1 -10.3   \n",
       "..             ...              ...   ...   ...   ...   \n",
       "714            NaN              NaN   NaN   NaN   NaN   \n",
       "715            NaN              NaN   NaN   NaN   NaN   \n",
       "716            NaN              NaN   NaN   NaN   NaN   \n",
       "717            NaN              NaN   NaN   NaN   NaN   \n",
       "718            NaN              NaN   NaN   NaN   NaN   \n",
       "\n",
       "     Total Radiated Energy (J)  Calculated Total Impact Energy (kt)  \n",
       "0                 5.800000e+10                                0.190  \n",
       "1                 3.500000e+10                                0.120  \n",
       "2                 7.300000e+10                                0.230  \n",
       "3                 9.400000e+10                                0.290  \n",
       "4                 1.840000e+11                                0.520  \n",
       "..                         ...                                  ...  \n",
       "714               2.600000e+10                                0.092  \n",
       "715               4.000000e+10                                0.130  \n",
       "716               5.500000e+11                                1.400  \n",
       "717               2.500000e+12                                5.200  \n",
       "718               7.580000e+12                               14.000  \n",
       "\n",
       "[719 rows x 10 columns]"
      ]
     },
     "execution_count": 6,
     "metadata": {},
     "output_type": "execute_result"
    }
   ],
   "source": [
    "fireball_df"
   ]
  },
  {
   "cell_type": "code",
   "execution_count": 155,
   "metadata": {},
   "outputs": [
    {
     "data": {
      "text/plain": [
       "74.0"
      ]
     },
     "execution_count": 155,
     "metadata": {},
     "output_type": "execute_result"
    }
   ],
   "source": [
    "fireball_df['Altitude (km)'].max() # скорость самого быстрого метеорита"
   ]
  },
  {
   "cell_type": "markdown",
   "metadata": {},
   "source": [
    "# 1"
   ]
  },
  {
   "cell_type": "markdown",
   "metadata": {},
   "source": [
    "### местоположение метеорита с наибольшей высвобоившейся энергией"
   ]
  },
  {
   "cell_type": "code",
   "execution_count": 156,
   "metadata": {},
   "outputs": [
    {
     "data": {
      "text/html": [
       "<div>\n",
       "<style scoped>\n",
       "    .dataframe tbody tr th:only-of-type {\n",
       "        vertical-align: middle;\n",
       "    }\n",
       "\n",
       "    .dataframe tbody tr th {\n",
       "        vertical-align: top;\n",
       "    }\n",
       "\n",
       "    .dataframe thead th {\n",
       "        text-align: right;\n",
       "    }\n",
       "</style>\n",
       "<table border=\"1\" class=\"dataframe\">\n",
       "  <thead>\n",
       "    <tr style=\"text-align: right;\">\n",
       "      <th></th>\n",
       "      <th>Latitude (deg.)</th>\n",
       "      <th>Longitude (deg.)</th>\n",
       "      <th>Calculated Total Impact Energy (kt)</th>\n",
       "    </tr>\n",
       "  </thead>\n",
       "  <tbody>\n",
       "    <tr>\n",
       "      <th>146</th>\n",
       "      <td>54.8N</td>\n",
       "      <td>61.1E</td>\n",
       "      <td>440.0</td>\n",
       "    </tr>\n",
       "  </tbody>\n",
       "</table>\n",
       "</div>"
      ],
      "text/plain": [
       "    Latitude (deg.) Longitude (deg.)  Calculated Total Impact Energy (kt)\n",
       "146           54.8N            61.1E                                440.0"
      ]
     },
     "execution_count": 156,
     "metadata": {},
     "output_type": "execute_result"
    }
   ],
   "source": [
    "maximum = fireball_df[fireball_df['Calculated Total Impact Energy (kt)'] ==\n",
    "                      fireball_df['Calculated Total Impact Energy (kt)'].max()]\n",
    "maximum[['Latitude (deg.)','Longitude (deg.)','Calculated Total Impact Energy (kt)']]"
   ]
  },
  {
   "cell_type": "markdown",
   "metadata": {},
   "source": [
    "# 2"
   ]
  },
  {
   "cell_type": "markdown",
   "metadata": {},
   "source": [
    "### метеорит с масимальной скоростью"
   ]
  },
  {
   "cell_type": "code",
   "execution_count": 157,
   "metadata": {},
   "outputs": [
    {
     "data": {
      "text/html": [
       "<div>\n",
       "<style scoped>\n",
       "    .dataframe tbody tr th:only-of-type {\n",
       "        vertical-align: middle;\n",
       "    }\n",
       "\n",
       "    .dataframe tbody tr th {\n",
       "        vertical-align: top;\n",
       "    }\n",
       "\n",
       "    .dataframe thead th {\n",
       "        text-align: right;\n",
       "    }\n",
       "</style>\n",
       "<table border=\"1\" class=\"dataframe\">\n",
       "  <thead>\n",
       "    <tr style=\"text-align: right;\">\n",
       "      <th></th>\n",
       "      <th>Peak Brightness Date/Time (UT)</th>\n",
       "      <th>Altitude (km)</th>\n",
       "    </tr>\n",
       "  </thead>\n",
       "  <tbody>\n",
       "    <tr>\n",
       "      <th>386</th>\n",
       "      <td>2005-11-02 05:16:47</td>\n",
       "      <td>74.0</td>\n",
       "    </tr>\n",
       "  </tbody>\n",
       "</table>\n",
       "</div>"
      ],
      "text/plain": [
       "    Peak Brightness Date/Time (UT)  Altitude (km)\n",
       "386            2005-11-02 05:16:47           74.0"
      ]
     },
     "execution_count": 157,
     "metadata": {},
     "output_type": "execute_result"
    }
   ],
   "source": [
    "maximumV = fireball_df[fireball_df['Altitude (km)'] == fireball_df['Altitude (km)'].max()]\n",
    "maximumV[['Peak Brightness Date/Time (UT)','Altitude (km)']]"
   ]
  },
  {
   "cell_type": "markdown",
   "metadata": {},
   "source": [
    "### метеорит с минимальной скоростью"
   ]
  },
  {
   "cell_type": "code",
   "execution_count": 158,
   "metadata": {},
   "outputs": [
    {
     "data": {
      "text/html": [
       "<div>\n",
       "<style scoped>\n",
       "    .dataframe tbody tr th:only-of-type {\n",
       "        vertical-align: middle;\n",
       "    }\n",
       "\n",
       "    .dataframe tbody tr th {\n",
       "        vertical-align: top;\n",
       "    }\n",
       "\n",
       "    .dataframe thead th {\n",
       "        text-align: right;\n",
       "    }\n",
       "</style>\n",
       "<table border=\"1\" class=\"dataframe\">\n",
       "  <thead>\n",
       "    <tr style=\"text-align: right;\">\n",
       "      <th></th>\n",
       "      <th>Peak Brightness Date/Time (UT)</th>\n",
       "      <th>Altitude (km)</th>\n",
       "    </tr>\n",
       "  </thead>\n",
       "  <tbody>\n",
       "    <tr>\n",
       "      <th>399</th>\n",
       "      <td>2005-05-07 09:31:44</td>\n",
       "      <td>15.2</td>\n",
       "    </tr>\n",
       "  </tbody>\n",
       "</table>\n",
       "</div>"
      ],
      "text/plain": [
       "    Peak Brightness Date/Time (UT)  Altitude (km)\n",
       "399            2005-05-07 09:31:44           15.2"
      ]
     },
     "execution_count": 158,
     "metadata": {},
     "output_type": "execute_result"
    }
   ],
   "source": [
    "minimumV = fireball_df[fireball_df['Altitude (km)'] == fireball_df['Altitude (km)'].min()]\n",
    "minimumV[['Peak Brightness Date/Time (UT)','Altitude (km)']]"
   ]
  },
  {
   "cell_type": "code",
   "execution_count": 159,
   "metadata": {},
   "outputs": [
    {
     "data": {
      "text/plain": [
       "50.2S    3\n",
       "31.1S    3\n",
       "8.0S     3\n",
       "7.8N     3\n",
       "49.2S    3\n",
       "        ..\n",
       "36.9S    1\n",
       "69.9S    1\n",
       "26.6S    1\n",
       "11.8N    1\n",
       "63.1N    1\n",
       "Name: Latitude (deg.), Length: 433, dtype: int64"
      ]
     },
     "execution_count": 159,
     "metadata": {},
     "output_type": "execute_result"
    }
   ],
   "source": [
    "fireball_df['Latitude (deg.)'].value_counts()"
   ]
  },
  {
   "cell_type": "code",
   "execution_count": 5,
   "metadata": {},
   "outputs": [
    {
     "data": {
      "text/plain": [
       "64.6W     4\n",
       "37.2W     3\n",
       "21.0E     3\n",
       "5.5W      2\n",
       "166.0W    2\n",
       "         ..\n",
       "95.2E     1\n",
       "93.6W     1\n",
       "120.6E    1\n",
       "113.4W    1\n",
       "77.0W     1\n",
       "Name: Longitude (deg.), Length: 499, dtype: int64"
      ]
     },
     "execution_count": 5,
     "metadata": {},
     "output_type": "execute_result"
    }
   ],
   "source": [
    "fireball_df['Longitude (deg.)'].value_counts()"
   ]
  },
  {
   "cell_type": "markdown",
   "metadata": {},
   "source": [
    "# 3"
   ]
  },
  {
   "cell_type": "markdown",
   "metadata": {},
   "source": [
    "### наибольшее скопление метеоритов по следующий координатам"
   ]
  },
  {
   "cell_type": "code",
   "execution_count": 160,
   "metadata": {},
   "outputs": [
    {
     "name": "stdout",
     "output_type": "stream",
     "text": [
      "64.6W 50.2S\n"
     ]
    }
   ],
   "source": [
    "i1 = fireball_df['Longitude (deg.)'].value_counts()\n",
    "i2 = fireball_df['Latitude (deg.)'].value_counts()\n",
    "print(i1.index[0] + ' ' + i2.index[0])"
   ]
  },
  {
   "cell_type": "markdown",
   "metadata": {},
   "source": [
    "# 4"
   ]
  },
  {
   "cell_type": "markdown",
   "metadata": {},
   "source": [
    "### Определим время года, в которое вероятность появления метеоритов максимальна"
   ]
  },
  {
   "cell_type": "code",
   "execution_count": 25,
   "metadata": {},
   "outputs": [
    {
     "data": {
      "text/plain": [
       "<matplotlib.axes._subplots.AxesSubplot at 0x10555100>"
      ]
     },
     "execution_count": 25,
     "metadata": {},
     "output_type": "execute_result"
    },
    {
     "data": {
      "image/png": "[encoded data removed]",
      "text/plain": [
       "<Figure size 432x288 with 1 Axes>"
      ]
     },
     "metadata": {},
     "output_type": "display_data"
    }
   ],
   "source": [
    "month_fireball_df = fireball_df # сохдадим новый объект, дабы ненароком не испорить основной\n",
    "month_fireball_df['Peak Brightness Date/Time (UT)'] = pd.to_datetime(fireball_df['Peak Brightness Date/Time (UT)']) # преобразуем строку даты в дату\n",
    "month_fireball_df['quarter'] = month_fireball_df['Peak Brightness Date/Time (UT)'].dt.quarter # создадим новый столбец с четвертями года\n",
    "month_fireball_df.groupby(['quarter'])['quarter'].count().plot() # построим график"
   ]
  },
  {
   "cell_type": "markdown",
   "metadata": {},
   "source": [
    "# 5"
   ]
  },
  {
   "cell_type": "code",
   "execution_count": 30,
   "metadata": {},
   "outputs": [
    {
     "data": {
      "text/html": [
       "<div>\n",
       "<style scoped>\n",
       "    .dataframe tbody tr th:only-of-type {\n",
       "        vertical-align: middle;\n",
       "    }\n",
       "\n",
       "    .dataframe tbody tr th {\n",
       "        vertical-align: top;\n",
       "    }\n",
       "\n",
       "    .dataframe thead th {\n",
       "        text-align: right;\n",
       "    }\n",
       "</style>\n",
       "<table border=\"1\" class=\"dataframe\">\n",
       "  <thead>\n",
       "    <tr style=\"text-align: right;\">\n",
       "      <th></th>\n",
       "      <th>Peak Brightness Date/Time (UT)</th>\n",
       "      <th>Latitude (deg.)</th>\n",
       "      <th>Longitude (deg.)</th>\n",
       "      <th>Altitude (km)</th>\n",
       "      <th>Velocity (km/s)</th>\n",
       "      <th>vx</th>\n",
       "      <th>vy</th>\n",
       "      <th>vz</th>\n",
       "      <th>Total Radiated Energy (J)</th>\n",
       "      <th>Calculated Total Impact Energy (kt)</th>\n",
       "      <th>Month</th>\n",
       "    </tr>\n",
       "  </thead>\n",
       "  <tbody>\n",
       "    <tr>\n",
       "      <th>0</th>\n",
       "      <td>2017-07-31 22:01:35</td>\n",
       "      <td>24.7N</td>\n",
       "      <td>118.5W</td>\n",
       "      <td>NaN</td>\n",
       "      <td>NaN</td>\n",
       "      <td>NaN</td>\n",
       "      <td>NaN</td>\n",
       "      <td>NaN</td>\n",
       "      <td>5.800000e+10</td>\n",
       "      <td>0.190</td>\n",
       "      <td>07</td>\n",
       "    </tr>\n",
       "    <tr>\n",
       "      <th>1</th>\n",
       "      <td>2017-07-23 06:12:38</td>\n",
       "      <td>6.6S</td>\n",
       "      <td>69.7W</td>\n",
       "      <td>38.0</td>\n",
       "      <td>17.2</td>\n",
       "      <td>-0.4</td>\n",
       "      <td>8.7</td>\n",
       "      <td>-14.8</td>\n",
       "      <td>3.500000e+10</td>\n",
       "      <td>0.120</td>\n",
       "      <td>07</td>\n",
       "    </tr>\n",
       "    <tr>\n",
       "      <th>2</th>\n",
       "      <td>2017-07-13 09:30:36</td>\n",
       "      <td>23.1N</td>\n",
       "      <td>60.7E</td>\n",
       "      <td>35.0</td>\n",
       "      <td>13.7</td>\n",
       "      <td>-10.0</td>\n",
       "      <td>-6.5</td>\n",
       "      <td>-6.8</td>\n",
       "      <td>7.300000e+10</td>\n",
       "      <td>0.230</td>\n",
       "      <td>07</td>\n",
       "    </tr>\n",
       "    <tr>\n",
       "      <th>3</th>\n",
       "      <td>2017-06-30 14:26:45</td>\n",
       "      <td>34.3S</td>\n",
       "      <td>134.5E</td>\n",
       "      <td>20.0</td>\n",
       "      <td>15.2</td>\n",
       "      <td>10.9</td>\n",
       "      <td>-9.7</td>\n",
       "      <td>4.2</td>\n",
       "      <td>9.400000e+10</td>\n",
       "      <td>0.290</td>\n",
       "      <td>06</td>\n",
       "    </tr>\n",
       "    <tr>\n",
       "      <th>4</th>\n",
       "      <td>2017-06-23 20:21:55</td>\n",
       "      <td>57.0N</td>\n",
       "      <td>143.7E</td>\n",
       "      <td>35.1</td>\n",
       "      <td>24.3</td>\n",
       "      <td>17.7</td>\n",
       "      <td>13.1</td>\n",
       "      <td>-10.3</td>\n",
       "      <td>1.840000e+11</td>\n",
       "      <td>0.520</td>\n",
       "      <td>06</td>\n",
       "    </tr>\n",
       "    <tr>\n",
       "      <th>...</th>\n",
       "      <td>...</td>\n",
       "      <td>...</td>\n",
       "      <td>...</td>\n",
       "      <td>...</td>\n",
       "      <td>...</td>\n",
       "      <td>...</td>\n",
       "      <td>...</td>\n",
       "      <td>...</td>\n",
       "      <td>...</td>\n",
       "      <td>...</td>\n",
       "      <td>...</td>\n",
       "    </tr>\n",
       "    <tr>\n",
       "      <th>714</th>\n",
       "      <td>1993-11-29 17:48:41</td>\n",
       "      <td>26.5N</td>\n",
       "      <td>78.3E</td>\n",
       "      <td>NaN</td>\n",
       "      <td>NaN</td>\n",
       "      <td>NaN</td>\n",
       "      <td>NaN</td>\n",
       "      <td>NaN</td>\n",
       "      <td>2.600000e+10</td>\n",
       "      <td>0.092</td>\n",
       "      <td>11</td>\n",
       "    </tr>\n",
       "    <tr>\n",
       "      <th>715</th>\n",
       "      <td>1993-10-31 03:39:27</td>\n",
       "      <td>51.3N</td>\n",
       "      <td>100.9W</td>\n",
       "      <td>NaN</td>\n",
       "      <td>NaN</td>\n",
       "      <td>NaN</td>\n",
       "      <td>NaN</td>\n",
       "      <td>NaN</td>\n",
       "      <td>4.000000e+10</td>\n",
       "      <td>0.130</td>\n",
       "      <td>10</td>\n",
       "    </tr>\n",
       "    <tr>\n",
       "      <th>716</th>\n",
       "      <td>1991-10-04 09:22:47</td>\n",
       "      <td>78.7N</td>\n",
       "      <td>6.3E</td>\n",
       "      <td>NaN</td>\n",
       "      <td>NaN</td>\n",
       "      <td>NaN</td>\n",
       "      <td>NaN</td>\n",
       "      <td>NaN</td>\n",
       "      <td>5.500000e+11</td>\n",
       "      <td>1.400</td>\n",
       "      <td>10</td>\n",
       "    </tr>\n",
       "    <tr>\n",
       "      <th>717</th>\n",
       "      <td>1990-10-01 03:51:47</td>\n",
       "      <td>7.5N</td>\n",
       "      <td>142.8E</td>\n",
       "      <td>NaN</td>\n",
       "      <td>NaN</td>\n",
       "      <td>NaN</td>\n",
       "      <td>NaN</td>\n",
       "      <td>NaN</td>\n",
       "      <td>2.500000e+12</td>\n",
       "      <td>5.200</td>\n",
       "      <td>10</td>\n",
       "    </tr>\n",
       "    <tr>\n",
       "      <th>718</th>\n",
       "      <td>1988-04-15 03:03:10</td>\n",
       "      <td>4.1S</td>\n",
       "      <td>124.3E</td>\n",
       "      <td>NaN</td>\n",
       "      <td>NaN</td>\n",
       "      <td>NaN</td>\n",
       "      <td>NaN</td>\n",
       "      <td>NaN</td>\n",
       "      <td>7.580000e+12</td>\n",
       "      <td>14.000</td>\n",
       "      <td>04</td>\n",
       "    </tr>\n",
       "  </tbody>\n",
       "</table>\n",
       "<p>719 rows × 11 columns</p>\n",
       "</div>"
      ],
      "text/plain": [
       "    Peak Brightness Date/Time (UT) Latitude (deg.) Longitude (deg.)  \\\n",
       "0              2017-07-31 22:01:35           24.7N           118.5W   \n",
       "1              2017-07-23 06:12:38            6.6S            69.7W   \n",
       "2              2017-07-13 09:30:36           23.1N            60.7E   \n",
       "3              2017-06-30 14:26:45           34.3S           134.5E   \n",
       "4              2017-06-23 20:21:55           57.0N           143.7E   \n",
       "..                             ...             ...              ...   \n",
       "714            1993-11-29 17:48:41           26.5N            78.3E   \n",
       "715            1993-10-31 03:39:27           51.3N           100.9W   \n",
       "716            1991-10-04 09:22:47           78.7N             6.3E   \n",
       "717            1990-10-01 03:51:47            7.5N           142.8E   \n",
       "718            1988-04-15 03:03:10            4.1S           124.3E   \n",
       "\n",
       "     Altitude (km)  Velocity (km/s)    vx    vy    vz  \\\n",
       "0              NaN              NaN   NaN   NaN   NaN   \n",
       "1             38.0             17.2  -0.4   8.7 -14.8   \n",
       "2             35.0             13.7 -10.0  -6.5  -6.8   \n",
       "3             20.0             15.2  10.9  -9.7   4.2   \n",
       "4             35.1             24.3  17.7  13.1 -10.3   \n",
       "..             ...              ...   ...   ...   ...   \n",
       "714            NaN              NaN   NaN   NaN   NaN   \n",
       "715            NaN              NaN   NaN   NaN   NaN   \n",
       "716            NaN              NaN   NaN   NaN   NaN   \n",
       "717            NaN              NaN   NaN   NaN   NaN   \n",
       "718            NaN              NaN   NaN   NaN   NaN   \n",
       "\n",
       "     Total Radiated Energy (J)  Calculated Total Impact Energy (kt) Month  \n",
       "0                 5.800000e+10                                0.190    07  \n",
       "1                 3.500000e+10                                0.120    07  \n",
       "2                 7.300000e+10                                0.230    07  \n",
       "3                 9.400000e+10                                0.290    06  \n",
       "4                 1.840000e+11                                0.520    06  \n",
       "..                         ...                                  ...   ...  \n",
       "714               2.600000e+10                                0.092    11  \n",
       "715               4.000000e+10                                0.130    10  \n",
       "716               5.500000e+11                                1.400    10  \n",
       "717               2.500000e+12                                5.200    10  \n",
       "718               7.580000e+12                               14.000    04  \n",
       "\n",
       "[719 rows x 11 columns]"
      ]
     },
     "execution_count": 30,
     "metadata": {},
     "output_type": "execute_result"
    }
   ],
   "source": [
    "fireball_df"
   ]
  },
  {
   "cell_type": "code",
   "execution_count": 36,
   "metadata": {},
   "outputs": [
    {
     "data": {
      "text/html": [
       "<div>\n",
       "<style scoped>\n",
       "    .dataframe tbody tr th:only-of-type {\n",
       "        vertical-align: middle;\n",
       "    }\n",
       "\n",
       "    .dataframe tbody tr th {\n",
       "        vertical-align: top;\n",
       "    }\n",
       "\n",
       "    .dataframe thead th {\n",
       "        text-align: right;\n",
       "    }\n",
       "</style>\n",
       "<table border=\"1\" class=\"dataframe\">\n",
       "  <thead>\n",
       "    <tr style=\"text-align: right;\">\n",
       "      <th></th>\n",
       "      <th>Peak Brightness Date/Time (UT)</th>\n",
       "      <th>Latitude (deg.)</th>\n",
       "      <th>Longitude (deg.)</th>\n",
       "      <th>Altitude (km)</th>\n",
       "      <th>Velocity (km/s)</th>\n",
       "      <th>vx</th>\n",
       "      <th>vy</th>\n",
       "      <th>vz</th>\n",
       "      <th>Total Radiated Energy (J)</th>\n",
       "      <th>Calculated Total Impact Energy (kt)</th>\n",
       "      <th>Month</th>\n",
       "    </tr>\n",
       "  </thead>\n",
       "  <tbody>\n",
       "    <tr>\n",
       "      <th>1</th>\n",
       "      <td>2017-07-23 06:12:38</td>\n",
       "      <td>6.6S</td>\n",
       "      <td>69.7W</td>\n",
       "      <td>38.0</td>\n",
       "      <td>17.2</td>\n",
       "      <td>-0.4</td>\n",
       "      <td>8.7</td>\n",
       "      <td>-14.8</td>\n",
       "      <td>3.500000e+10</td>\n",
       "      <td>0.12</td>\n",
       "      <td>07</td>\n",
       "    </tr>\n",
       "    <tr>\n",
       "      <th>2</th>\n",
       "      <td>2017-07-13 09:30:36</td>\n",
       "      <td>23.1N</td>\n",
       "      <td>60.7E</td>\n",
       "      <td>35.0</td>\n",
       "      <td>13.7</td>\n",
       "      <td>-10.0</td>\n",
       "      <td>-6.5</td>\n",
       "      <td>-6.8</td>\n",
       "      <td>7.300000e+10</td>\n",
       "      <td>0.23</td>\n",
       "      <td>07</td>\n",
       "    </tr>\n",
       "    <tr>\n",
       "      <th>3</th>\n",
       "      <td>2017-06-30 14:26:45</td>\n",
       "      <td>34.3S</td>\n",
       "      <td>134.5E</td>\n",
       "      <td>20.0</td>\n",
       "      <td>15.2</td>\n",
       "      <td>10.9</td>\n",
       "      <td>-9.7</td>\n",
       "      <td>4.2</td>\n",
       "      <td>9.400000e+10</td>\n",
       "      <td>0.29</td>\n",
       "      <td>06</td>\n",
       "    </tr>\n",
       "    <tr>\n",
       "      <th>4</th>\n",
       "      <td>2017-06-23 20:21:55</td>\n",
       "      <td>57.0N</td>\n",
       "      <td>143.7E</td>\n",
       "      <td>35.1</td>\n",
       "      <td>24.3</td>\n",
       "      <td>17.7</td>\n",
       "      <td>13.1</td>\n",
       "      <td>-10.3</td>\n",
       "      <td>1.840000e+11</td>\n",
       "      <td>0.52</td>\n",
       "      <td>06</td>\n",
       "    </tr>\n",
       "    <tr>\n",
       "      <th>5</th>\n",
       "      <td>2017-06-20 13:41:32</td>\n",
       "      <td>54.2S</td>\n",
       "      <td>133.0E</td>\n",
       "      <td>33.3</td>\n",
       "      <td>13.6</td>\n",
       "      <td>8.7</td>\n",
       "      <td>-5.7</td>\n",
       "      <td>8.8</td>\n",
       "      <td>6.360000e+11</td>\n",
       "      <td>1.60</td>\n",
       "      <td>06</td>\n",
       "    </tr>\n",
       "    <tr>\n",
       "      <th>...</th>\n",
       "      <td>...</td>\n",
       "      <td>...</td>\n",
       "      <td>...</td>\n",
       "      <td>...</td>\n",
       "      <td>...</td>\n",
       "      <td>...</td>\n",
       "      <td>...</td>\n",
       "      <td>...</td>\n",
       "      <td>...</td>\n",
       "      <td>...</td>\n",
       "      <td>...</td>\n",
       "    </tr>\n",
       "    <tr>\n",
       "      <th>450</th>\n",
       "      <td>2004-04-22 04:21:49</td>\n",
       "      <td>44.3S</td>\n",
       "      <td>83.3E</td>\n",
       "      <td>29.6</td>\n",
       "      <td>16.3</td>\n",
       "      <td>8.5</td>\n",
       "      <td>-12.1</td>\n",
       "      <td>-6.8</td>\n",
       "      <td>6.240000e+11</td>\n",
       "      <td>1.50</td>\n",
       "      <td>04</td>\n",
       "    </tr>\n",
       "    <tr>\n",
       "      <th>451</th>\n",
       "      <td>2004-04-06 03:24:49</td>\n",
       "      <td>12.0S</td>\n",
       "      <td>162.8E</td>\n",
       "      <td>35.0</td>\n",
       "      <td>25.6</td>\n",
       "      <td>10.5</td>\n",
       "      <td>-23.2</td>\n",
       "      <td>-2.9</td>\n",
       "      <td>4.330000e+11</td>\n",
       "      <td>1.10</td>\n",
       "      <td>04</td>\n",
       "    </tr>\n",
       "    <tr>\n",
       "      <th>462</th>\n",
       "      <td>2003-11-10 13:54:06</td>\n",
       "      <td>64.5S</td>\n",
       "      <td>136.2E</td>\n",
       "      <td>23.0</td>\n",
       "      <td>20.1</td>\n",
       "      <td>14.8</td>\n",
       "      <td>-8.7</td>\n",
       "      <td>10.4</td>\n",
       "      <td>5.180000e+11</td>\n",
       "      <td>1.30</td>\n",
       "      <td>11</td>\n",
       "    </tr>\n",
       "    <tr>\n",
       "      <th>467</th>\n",
       "      <td>2003-09-27 12:59:02</td>\n",
       "      <td>21.0N</td>\n",
       "      <td>86.6E</td>\n",
       "      <td>26.0</td>\n",
       "      <td>18.2</td>\n",
       "      <td>-1.0</td>\n",
       "      <td>-5.4</td>\n",
       "      <td>-17.3</td>\n",
       "      <td>2.150000e+12</td>\n",
       "      <td>4.60</td>\n",
       "      <td>09</td>\n",
       "    </tr>\n",
       "    <tr>\n",
       "      <th>626</th>\n",
       "      <td>1998-01-04 23:00:27</td>\n",
       "      <td>35.1S</td>\n",
       "      <td>33.4E</td>\n",
       "      <td>30.0</td>\n",
       "      <td>17.1</td>\n",
       "      <td>6.0</td>\n",
       "      <td>-10.6</td>\n",
       "      <td>12.0</td>\n",
       "      <td>7.400000e+10</td>\n",
       "      <td>0.23</td>\n",
       "      <td>01</td>\n",
       "    </tr>\n",
       "  </tbody>\n",
       "</table>\n",
       "<p>157 rows × 11 columns</p>\n",
       "</div>"
      ],
      "text/plain": [
       "    Peak Brightness Date/Time (UT) Latitude (deg.) Longitude (deg.)  \\\n",
       "1              2017-07-23 06:12:38            6.6S            69.7W   \n",
       "2              2017-07-13 09:30:36           23.1N            60.7E   \n",
       "3              2017-06-30 14:26:45           34.3S           134.5E   \n",
       "4              2017-06-23 20:21:55           57.0N           143.7E   \n",
       "5              2017-06-20 13:41:32           54.2S           133.0E   \n",
       "..                             ...             ...              ...   \n",
       "450            2004-04-22 04:21:49           44.3S            83.3E   \n",
       "451            2004-04-06 03:24:49           12.0S           162.8E   \n",
       "462            2003-11-10 13:54:06           64.5S           136.2E   \n",
       "467            2003-09-27 12:59:02           21.0N            86.6E   \n",
       "626            1998-01-04 23:00:27           35.1S            33.4E   \n",
       "\n",
       "     Altitude (km)  Velocity (km/s)    vx    vy    vz  \\\n",
       "1             38.0             17.2  -0.4   8.7 -14.8   \n",
       "2             35.0             13.7 -10.0  -6.5  -6.8   \n",
       "3             20.0             15.2  10.9  -9.7   4.2   \n",
       "4             35.1             24.3  17.7  13.1 -10.3   \n",
       "5             33.3             13.6   8.7  -5.7   8.8   \n",
       "..             ...              ...   ...   ...   ...   \n",
       "450           29.6             16.3   8.5 -12.1  -6.8   \n",
       "451           35.0             25.6  10.5 -23.2  -2.9   \n",
       "462           23.0             20.1  14.8  -8.7  10.4   \n",
       "467           26.0             18.2  -1.0  -5.4 -17.3   \n",
       "626           30.0             17.1   6.0 -10.6  12.0   \n",
       "\n",
       "     Total Radiated Energy (J)  Calculated Total Impact Energy (kt) Month  \n",
       "1                 3.500000e+10                                 0.12    07  \n",
       "2                 7.300000e+10                                 0.23    07  \n",
       "3                 9.400000e+10                                 0.29    06  \n",
       "4                 1.840000e+11                                 0.52    06  \n",
       "5                 6.360000e+11                                 1.60    06  \n",
       "..                         ...                                  ...   ...  \n",
       "450               6.240000e+11                                 1.50    04  \n",
       "451               4.330000e+11                                 1.10    04  \n",
       "462               5.180000e+11                                 1.30    11  \n",
       "467               2.150000e+12                                 4.60    09  \n",
       "626               7.400000e+10                                 0.23    01  \n",
       "\n",
       "[157 rows x 11 columns]"
      ]
     },
     "execution_count": 36,
     "metadata": {},
     "output_type": "execute_result"
    }
   ],
   "source": [
    "drop_fireball_df= fireball_df.dropna(axis=0, how='any', subset=['Velocity (km/s)'])\n",
    "drop_fireball_df"
   ]
  },
  {
   "cell_type": "markdown",
   "metadata": {},
   "source": [
    "### размер набора данных до удаления строк, в которых для метеоритов не указана скорость"
   ]
  },
  {
   "cell_type": "code",
   "execution_count": 37,
   "metadata": {},
   "outputs": [
    {
     "data": {
      "text/plain": [
       "719"
      ]
     },
     "execution_count": 37,
     "metadata": {},
     "output_type": "execute_result"
    }
   ],
   "source": [
    "fireball_df['Peak Brightness Date/Time (UT)'].count() "
   ]
  },
  {
   "cell_type": "markdown",
   "metadata": {},
   "source": [
    "### размер набора данных после удаления строк, в которых для метеоритов не указана скорость"
   ]
  },
  {
   "cell_type": "code",
   "execution_count": 38,
   "metadata": {},
   "outputs": [
    {
     "data": {
      "text/plain": [
       "157"
      ]
     },
     "execution_count": 38,
     "metadata": {},
     "output_type": "execute_result"
    }
   ],
   "source": [
    "drop_fireball_df['Peak Brightness Date/Time (UT)'].count() "
   ]
  },
  {
   "cell_type": "markdown",
   "metadata": {},
   "source": [
    "# 6"
   ]
  },
  {
   "cell_type": "markdown",
   "metadata": {},
   "source": [
    "### время дня, в которое скопение метеориов максимально"
   ]
  },
  {
   "cell_type": "code",
   "execution_count": 49,
   "metadata": {},
   "outputs": [
    {
     "data": {
      "text/html": [
       "<div>\n",
       "<style scoped>\n",
       "    .dataframe tbody tr th:only-of-type {\n",
       "        vertical-align: middle;\n",
       "    }\n",
       "\n",
       "    .dataframe tbody tr th {\n",
       "        vertical-align: top;\n",
       "    }\n",
       "\n",
       "    .dataframe thead th {\n",
       "        text-align: right;\n",
       "    }\n",
       "</style>\n",
       "<table border=\"1\" class=\"dataframe\">\n",
       "  <thead>\n",
       "    <tr style=\"text-align: right;\">\n",
       "      <th></th>\n",
       "      <th>Peak Brightness Date/Time (UT)</th>\n",
       "      <th>Latitude (deg.)</th>\n",
       "      <th>Longitude (deg.)</th>\n",
       "      <th>Altitude (km)</th>\n",
       "      <th>Velocity (km/s)</th>\n",
       "      <th>vx</th>\n",
       "      <th>vy</th>\n",
       "      <th>vz</th>\n",
       "      <th>Total Radiated Energy (J)</th>\n",
       "      <th>Calculated Total Impact Energy (kt)</th>\n",
       "      <th>Month</th>\n",
       "      <th>Hour</th>\n",
       "    </tr>\n",
       "  </thead>\n",
       "  <tbody>\n",
       "    <tr>\n",
       "      <th>0</th>\n",
       "      <td>2017-07-31 22:01:35</td>\n",
       "      <td>24.7N</td>\n",
       "      <td>118.5W</td>\n",
       "      <td>NaN</td>\n",
       "      <td>NaN</td>\n",
       "      <td>NaN</td>\n",
       "      <td>NaN</td>\n",
       "      <td>NaN</td>\n",
       "      <td>5.800000e+10</td>\n",
       "      <td>0.19</td>\n",
       "      <td>07</td>\n",
       "      <td>22</td>\n",
       "    </tr>\n",
       "    <tr>\n",
       "      <th>1</th>\n",
       "      <td>2017-07-23 06:12:38</td>\n",
       "      <td>6.6S</td>\n",
       "      <td>69.7W</td>\n",
       "      <td>38.0</td>\n",
       "      <td>17.2</td>\n",
       "      <td>-0.4</td>\n",
       "      <td>8.7</td>\n",
       "      <td>-14.8</td>\n",
       "      <td>3.500000e+10</td>\n",
       "      <td>0.12</td>\n",
       "      <td>07</td>\n",
       "      <td>06</td>\n",
       "    </tr>\n",
       "    <tr>\n",
       "      <th>2</th>\n",
       "      <td>2017-07-13 09:30:36</td>\n",
       "      <td>23.1N</td>\n",
       "      <td>60.7E</td>\n",
       "      <td>35.0</td>\n",
       "      <td>13.7</td>\n",
       "      <td>-10.0</td>\n",
       "      <td>-6.5</td>\n",
       "      <td>-6.8</td>\n",
       "      <td>7.300000e+10</td>\n",
       "      <td>0.23</td>\n",
       "      <td>07</td>\n",
       "      <td>09</td>\n",
       "    </tr>\n",
       "    <tr>\n",
       "      <th>3</th>\n",
       "      <td>2017-06-30 14:26:45</td>\n",
       "      <td>34.3S</td>\n",
       "      <td>134.5E</td>\n",
       "      <td>20.0</td>\n",
       "      <td>15.2</td>\n",
       "      <td>10.9</td>\n",
       "      <td>-9.7</td>\n",
       "      <td>4.2</td>\n",
       "      <td>9.400000e+10</td>\n",
       "      <td>0.29</td>\n",
       "      <td>06</td>\n",
       "      <td>14</td>\n",
       "    </tr>\n",
       "    <tr>\n",
       "      <th>4</th>\n",
       "      <td>2017-06-23 20:21:55</td>\n",
       "      <td>57.0N</td>\n",
       "      <td>143.7E</td>\n",
       "      <td>35.1</td>\n",
       "      <td>24.3</td>\n",
       "      <td>17.7</td>\n",
       "      <td>13.1</td>\n",
       "      <td>-10.3</td>\n",
       "      <td>1.840000e+11</td>\n",
       "      <td>0.52</td>\n",
       "      <td>06</td>\n",
       "      <td>20</td>\n",
       "    </tr>\n",
       "  </tbody>\n",
       "</table>\n",
       "</div>"
      ],
      "text/plain": [
       "  Peak Brightness Date/Time (UT) Latitude (deg.) Longitude (deg.)  \\\n",
       "0            2017-07-31 22:01:35           24.7N           118.5W   \n",
       "1            2017-07-23 06:12:38            6.6S            69.7W   \n",
       "2            2017-07-13 09:30:36           23.1N            60.7E   \n",
       "3            2017-06-30 14:26:45           34.3S           134.5E   \n",
       "4            2017-06-23 20:21:55           57.0N           143.7E   \n",
       "\n",
       "   Altitude (km)  Velocity (km/s)    vx    vy    vz  \\\n",
       "0            NaN              NaN   NaN   NaN   NaN   \n",
       "1           38.0             17.2  -0.4   8.7 -14.8   \n",
       "2           35.0             13.7 -10.0  -6.5  -6.8   \n",
       "3           20.0             15.2  10.9  -9.7   4.2   \n",
       "4           35.1             24.3  17.7  13.1 -10.3   \n",
       "\n",
       "   Total Radiated Energy (J)  Calculated Total Impact Energy (kt) Month Hour  \n",
       "0               5.800000e+10                                 0.19    07   22  \n",
       "1               3.500000e+10                                 0.12    07   06  \n",
       "2               7.300000e+10                                 0.23    07   09  \n",
       "3               9.400000e+10                                 0.29    06   14  \n",
       "4               1.840000e+11                                 0.52    06   20  "
      ]
     },
     "execution_count": 49,
     "metadata": {},
     "output_type": "execute_result"
    }
   ],
   "source": [
    "fireball_df.head()"
   ]
  },
  {
   "cell_type": "code",
   "execution_count": 40,
   "metadata": {},
   "outputs": [
    {
     "data": {
      "text/plain": [
       "0    22\n",
       "1    06\n",
       "2    09\n",
       "3    14\n",
       "4    20\n",
       "Name: Peak Brightness Date/Time (UT), dtype: object"
      ]
     },
     "execution_count": 40,
     "metadata": {},
     "output_type": "execute_result"
    }
   ],
   "source": [
    "# создадим объект, в который занесём часы падения метеоритов\n",
    "def get_hour (date):\n",
    "    temp = date.split(' ')[1].strip()\n",
    "    return temp.split(':')[0].strip()\n",
    "\n",
    "hour = fireball_df['Peak Brightness Date/Time (UT)'].apply(get_hour)\n",
    "hour.head()"
   ]
  },
  {
   "cell_type": "code",
   "execution_count": 43,
   "metadata": {},
   "outputs": [
    {
     "data": {
      "text/html": [
       "<div>\n",
       "<style scoped>\n",
       "    .dataframe tbody tr th:only-of-type {\n",
       "        vertical-align: middle;\n",
       "    }\n",
       "\n",
       "    .dataframe tbody tr th {\n",
       "        vertical-align: top;\n",
       "    }\n",
       "\n",
       "    .dataframe thead th {\n",
       "        text-align: right;\n",
       "    }\n",
       "</style>\n",
       "<table border=\"1\" class=\"dataframe\">\n",
       "  <thead>\n",
       "    <tr style=\"text-align: right;\">\n",
       "      <th></th>\n",
       "      <th>Peak Brightness Date/Time (UT)</th>\n",
       "      <th>Latitude (deg.)</th>\n",
       "      <th>Longitude (deg.)</th>\n",
       "      <th>Altitude (km)</th>\n",
       "      <th>Velocity (km/s)</th>\n",
       "      <th>vx</th>\n",
       "      <th>vy</th>\n",
       "      <th>vz</th>\n",
       "      <th>Total Radiated Energy (J)</th>\n",
       "      <th>Calculated Total Impact Energy (kt)</th>\n",
       "      <th>Month</th>\n",
       "      <th>Hour</th>\n",
       "    </tr>\n",
       "  </thead>\n",
       "  <tbody>\n",
       "    <tr>\n",
       "      <th>0</th>\n",
       "      <td>2017-07-31 22:01:35</td>\n",
       "      <td>24.7N</td>\n",
       "      <td>118.5W</td>\n",
       "      <td>NaN</td>\n",
       "      <td>NaN</td>\n",
       "      <td>NaN</td>\n",
       "      <td>NaN</td>\n",
       "      <td>NaN</td>\n",
       "      <td>5.800000e+10</td>\n",
       "      <td>0.19</td>\n",
       "      <td>07</td>\n",
       "      <td>22</td>\n",
       "    </tr>\n",
       "    <tr>\n",
       "      <th>1</th>\n",
       "      <td>2017-07-23 06:12:38</td>\n",
       "      <td>6.6S</td>\n",
       "      <td>69.7W</td>\n",
       "      <td>38.0</td>\n",
       "      <td>17.2</td>\n",
       "      <td>-0.4</td>\n",
       "      <td>8.7</td>\n",
       "      <td>-14.8</td>\n",
       "      <td>3.500000e+10</td>\n",
       "      <td>0.12</td>\n",
       "      <td>07</td>\n",
       "      <td>06</td>\n",
       "    </tr>\n",
       "    <tr>\n",
       "      <th>2</th>\n",
       "      <td>2017-07-13 09:30:36</td>\n",
       "      <td>23.1N</td>\n",
       "      <td>60.7E</td>\n",
       "      <td>35.0</td>\n",
       "      <td>13.7</td>\n",
       "      <td>-10.0</td>\n",
       "      <td>-6.5</td>\n",
       "      <td>-6.8</td>\n",
       "      <td>7.300000e+10</td>\n",
       "      <td>0.23</td>\n",
       "      <td>07</td>\n",
       "      <td>09</td>\n",
       "    </tr>\n",
       "    <tr>\n",
       "      <th>3</th>\n",
       "      <td>2017-06-30 14:26:45</td>\n",
       "      <td>34.3S</td>\n",
       "      <td>134.5E</td>\n",
       "      <td>20.0</td>\n",
       "      <td>15.2</td>\n",
       "      <td>10.9</td>\n",
       "      <td>-9.7</td>\n",
       "      <td>4.2</td>\n",
       "      <td>9.400000e+10</td>\n",
       "      <td>0.29</td>\n",
       "      <td>06</td>\n",
       "      <td>14</td>\n",
       "    </tr>\n",
       "    <tr>\n",
       "      <th>4</th>\n",
       "      <td>2017-06-23 20:21:55</td>\n",
       "      <td>57.0N</td>\n",
       "      <td>143.7E</td>\n",
       "      <td>35.1</td>\n",
       "      <td>24.3</td>\n",
       "      <td>17.7</td>\n",
       "      <td>13.1</td>\n",
       "      <td>-10.3</td>\n",
       "      <td>1.840000e+11</td>\n",
       "      <td>0.52</td>\n",
       "      <td>06</td>\n",
       "      <td>20</td>\n",
       "    </tr>\n",
       "  </tbody>\n",
       "</table>\n",
       "</div>"
      ],
      "text/plain": [
       "  Peak Brightness Date/Time (UT) Latitude (deg.) Longitude (deg.)  \\\n",
       "0            2017-07-31 22:01:35           24.7N           118.5W   \n",
       "1            2017-07-23 06:12:38            6.6S            69.7W   \n",
       "2            2017-07-13 09:30:36           23.1N            60.7E   \n",
       "3            2017-06-30 14:26:45           34.3S           134.5E   \n",
       "4            2017-06-23 20:21:55           57.0N           143.7E   \n",
       "\n",
       "   Altitude (km)  Velocity (km/s)    vx    vy    vz  \\\n",
       "0            NaN              NaN   NaN   NaN   NaN   \n",
       "1           38.0             17.2  -0.4   8.7 -14.8   \n",
       "2           35.0             13.7 -10.0  -6.5  -6.8   \n",
       "3           20.0             15.2  10.9  -9.7   4.2   \n",
       "4           35.1             24.3  17.7  13.1 -10.3   \n",
       "\n",
       "   Total Radiated Energy (J)  Calculated Total Impact Energy (kt) Month Hour  \n",
       "0               5.800000e+10                                 0.19    07   22  \n",
       "1               3.500000e+10                                 0.12    07   06  \n",
       "2               7.300000e+10                                 0.23    07   09  \n",
       "3               9.400000e+10                                 0.29    06   14  \n",
       "4               1.840000e+11                                 0.52    06   20  "
      ]
     },
     "execution_count": 43,
     "metadata": {},
     "output_type": "execute_result"
    }
   ],
   "source": [
    "fireball_df['Hour'] = hour # добавим часы в таблицу основных данных\n",
    "fireball_df.head()"
   ]
  },
  {
   "cell_type": "code",
   "execution_count": 47,
   "metadata": {},
   "outputs": [
    {
     "data": {
      "text/plain": [
       "Hour\n",
       "00    25\n",
       "01    34\n",
       "02    28\n",
       "03    35\n",
       "04    37\n",
       "05    25\n",
       "06    36\n",
       "07    33\n",
       "08    26\n",
       "09    29\n",
       "10    26\n",
       "11    38\n",
       "12    34\n",
       "13    34\n",
       "14    28\n",
       "15    26\n",
       "16    29\n",
       "17    38\n",
       "18    22\n",
       "19    27\n",
       "20    29\n",
       "21    24\n",
       "22    33\n",
       "23    23\n",
       "Name: Peak Brightness Date/Time (UT), dtype: int64"
      ]
     },
     "execution_count": 47,
     "metadata": {},
     "output_type": "execute_result"
    }
   ],
   "source": [
    "hour_counts = fireball_df.groupby('Hour').count()\n",
    "hour_counts['Peak Brightness Date/Time (UT)'] # используем дату как счётчик количества часов"
   ]
  },
  {
   "cell_type": "code",
   "execution_count": 48,
   "metadata": {},
   "outputs": [
    {
     "data": {
      "text/plain": [
       "[<matplotlib.lines.Line2D at 0x115d8c70>]"
      ]
     },
     "execution_count": 48,
     "metadata": {},
     "output_type": "execute_result"
    },
    {
     "data": {
      "image/png": "[encoded data removed]",
      "text/plain": [
       "<Figure size 432x288 with 1 Axes>"
      ]
     },
     "metadata": {},
     "output_type": "display_data"
    }
   ],
   "source": [
    "plt.plot(hour_counts.index, hour_counts['Peak Brightness Date/Time (UT)']) \n",
    "# построим график (по оси ox часы, по оси oy количество дат, в которые падали метеориты)"
   ]
  },
  {
   "cell_type": "markdown",
   "metadata": {},
   "source": [
    "максимальное скопление метеоритов наблдается за час перед обедом (11 a.m.) и за час перед ужином (5 p.m.)"
   ]
  },
  {
   "cell_type": "markdown",
   "metadata": {},
   "source": [
    "# 7"
   ]
  },
  {
   "cell_type": "markdown",
   "metadata": {},
   "source": [
    "### заполнить строки в которых для метеоритов не указана скорость"
   ]
  },
  {
   "cell_type": "code",
   "execution_count": 51,
   "metadata": {},
   "outputs": [
    {
     "data": {
      "text/html": [
       "<div>\n",
       "<style scoped>\n",
       "    .dataframe tbody tr th:only-of-type {\n",
       "        vertical-align: middle;\n",
       "    }\n",
       "\n",
       "    .dataframe tbody tr th {\n",
       "        vertical-align: top;\n",
       "    }\n",
       "\n",
       "    .dataframe thead th {\n",
       "        text-align: right;\n",
       "    }\n",
       "</style>\n",
       "<table border=\"1\" class=\"dataframe\">\n",
       "  <thead>\n",
       "    <tr style=\"text-align: right;\">\n",
       "      <th></th>\n",
       "      <th>Peak Brightness Date/Time (UT)</th>\n",
       "      <th>Latitude (deg.)</th>\n",
       "      <th>Longitude (deg.)</th>\n",
       "      <th>Altitude (km)</th>\n",
       "      <th>Velocity (km/s)</th>\n",
       "      <th>vx</th>\n",
       "      <th>vy</th>\n",
       "      <th>vz</th>\n",
       "      <th>Total Radiated Energy (J)</th>\n",
       "      <th>Calculated Total Impact Energy (kt)</th>\n",
       "      <th>Month</th>\n",
       "      <th>Hour</th>\n",
       "    </tr>\n",
       "  </thead>\n",
       "  <tbody>\n",
       "    <tr>\n",
       "      <th>0</th>\n",
       "      <td>2017-07-31 22:01:35</td>\n",
       "      <td>24.7N</td>\n",
       "      <td>118.5W</td>\n",
       "      <td>NaN</td>\n",
       "      <td>NaN</td>\n",
       "      <td>NaN</td>\n",
       "      <td>NaN</td>\n",
       "      <td>NaN</td>\n",
       "      <td>5.800000e+10</td>\n",
       "      <td>0.19</td>\n",
       "      <td>07</td>\n",
       "      <td>22</td>\n",
       "    </tr>\n",
       "    <tr>\n",
       "      <th>1</th>\n",
       "      <td>2017-07-23 06:12:38</td>\n",
       "      <td>6.6S</td>\n",
       "      <td>69.7W</td>\n",
       "      <td>38.0</td>\n",
       "      <td>17.2</td>\n",
       "      <td>-0.4</td>\n",
       "      <td>8.7</td>\n",
       "      <td>-14.8</td>\n",
       "      <td>3.500000e+10</td>\n",
       "      <td>0.12</td>\n",
       "      <td>07</td>\n",
       "      <td>06</td>\n",
       "    </tr>\n",
       "    <tr>\n",
       "      <th>2</th>\n",
       "      <td>2017-07-13 09:30:36</td>\n",
       "      <td>23.1N</td>\n",
       "      <td>60.7E</td>\n",
       "      <td>35.0</td>\n",
       "      <td>13.7</td>\n",
       "      <td>-10.0</td>\n",
       "      <td>-6.5</td>\n",
       "      <td>-6.8</td>\n",
       "      <td>7.300000e+10</td>\n",
       "      <td>0.23</td>\n",
       "      <td>07</td>\n",
       "      <td>09</td>\n",
       "    </tr>\n",
       "    <tr>\n",
       "      <th>3</th>\n",
       "      <td>2017-06-30 14:26:45</td>\n",
       "      <td>34.3S</td>\n",
       "      <td>134.5E</td>\n",
       "      <td>20.0</td>\n",
       "      <td>15.2</td>\n",
       "      <td>10.9</td>\n",
       "      <td>-9.7</td>\n",
       "      <td>4.2</td>\n",
       "      <td>9.400000e+10</td>\n",
       "      <td>0.29</td>\n",
       "      <td>06</td>\n",
       "      <td>14</td>\n",
       "    </tr>\n",
       "    <tr>\n",
       "      <th>4</th>\n",
       "      <td>2017-06-23 20:21:55</td>\n",
       "      <td>57.0N</td>\n",
       "      <td>143.7E</td>\n",
       "      <td>35.1</td>\n",
       "      <td>24.3</td>\n",
       "      <td>17.7</td>\n",
       "      <td>13.1</td>\n",
       "      <td>-10.3</td>\n",
       "      <td>1.840000e+11</td>\n",
       "      <td>0.52</td>\n",
       "      <td>06</td>\n",
       "      <td>20</td>\n",
       "    </tr>\n",
       "  </tbody>\n",
       "</table>\n",
       "</div>"
      ],
      "text/plain": [
       "  Peak Brightness Date/Time (UT) Latitude (deg.) Longitude (deg.)  \\\n",
       "0            2017-07-31 22:01:35           24.7N           118.5W   \n",
       "1            2017-07-23 06:12:38            6.6S            69.7W   \n",
       "2            2017-07-13 09:30:36           23.1N            60.7E   \n",
       "3            2017-06-30 14:26:45           34.3S           134.5E   \n",
       "4            2017-06-23 20:21:55           57.0N           143.7E   \n",
       "\n",
       "   Altitude (km)  Velocity (km/s)    vx    vy    vz  \\\n",
       "0            NaN              NaN   NaN   NaN   NaN   \n",
       "1           38.0             17.2  -0.4   8.7 -14.8   \n",
       "2           35.0             13.7 -10.0  -6.5  -6.8   \n",
       "3           20.0             15.2  10.9  -9.7   4.2   \n",
       "4           35.1             24.3  17.7  13.1 -10.3   \n",
       "\n",
       "   Total Radiated Energy (J)  Calculated Total Impact Energy (kt) Month Hour  \n",
       "0               5.800000e+10                                 0.19    07   22  \n",
       "1               3.500000e+10                                 0.12    07   06  \n",
       "2               7.300000e+10                                 0.23    07   09  \n",
       "3               9.400000e+10                                 0.29    06   14  \n",
       "4               1.840000e+11                                 0.52    06   20  "
      ]
     },
     "execution_count": 51,
     "metadata": {},
     "output_type": "execute_result"
    }
   ],
   "source": [
    "fireball_df.head()"
   ]
  },
  {
   "cell_type": "code",
   "execution_count": 86,
   "metadata": {},
   "outputs": [
    {
     "data": {
      "text/html": [
       "<div>\n",
       "<style scoped>\n",
       "    .dataframe tbody tr th:only-of-type {\n",
       "        vertical-align: middle;\n",
       "    }\n",
       "\n",
       "    .dataframe tbody tr th {\n",
       "        vertical-align: top;\n",
       "    }\n",
       "\n",
       "    .dataframe thead th {\n",
       "        text-align: right;\n",
       "    }\n",
       "</style>\n",
       "<table border=\"1\" class=\"dataframe\">\n",
       "  <thead>\n",
       "    <tr style=\"text-align: right;\">\n",
       "      <th></th>\n",
       "      <th>Peak Brightness Date/Time (UT)</th>\n",
       "      <th>Latitude (deg.)</th>\n",
       "      <th>Longitude (deg.)</th>\n",
       "      <th>Altitude (km)</th>\n",
       "      <th>Velocity (km/s)</th>\n",
       "      <th>vx</th>\n",
       "      <th>vy</th>\n",
       "      <th>vz</th>\n",
       "      <th>Total Radiated Energy (J)</th>\n",
       "      <th>Calculated Total Impact Energy (kt)</th>\n",
       "      <th>Month</th>\n",
       "      <th>Hour</th>\n",
       "    </tr>\n",
       "  </thead>\n",
       "  <tbody>\n",
       "    <tr>\n",
       "      <th>0</th>\n",
       "      <td>2017-07-31 22:01:35</td>\n",
       "      <td>24.7N</td>\n",
       "      <td>118.5W</td>\n",
       "      <td>36.511726</td>\n",
       "      <td>17.950318</td>\n",
       "      <td>0.310828</td>\n",
       "      <td>-2.388535</td>\n",
       "      <td>-1.031847</td>\n",
       "      <td>5.800000e+10</td>\n",
       "      <td>0.190</td>\n",
       "      <td>07</td>\n",
       "      <td>22</td>\n",
       "    </tr>\n",
       "    <tr>\n",
       "      <th>1</th>\n",
       "      <td>2017-07-23 06:12:38</td>\n",
       "      <td>6.6S</td>\n",
       "      <td>69.7W</td>\n",
       "      <td>38.000000</td>\n",
       "      <td>17.200000</td>\n",
       "      <td>-0.400000</td>\n",
       "      <td>8.700000</td>\n",
       "      <td>-14.800000</td>\n",
       "      <td>3.500000e+10</td>\n",
       "      <td>0.120</td>\n",
       "      <td>07</td>\n",
       "      <td>06</td>\n",
       "    </tr>\n",
       "    <tr>\n",
       "      <th>2</th>\n",
       "      <td>2017-07-13 09:30:36</td>\n",
       "      <td>23.1N</td>\n",
       "      <td>60.7E</td>\n",
       "      <td>35.000000</td>\n",
       "      <td>13.700000</td>\n",
       "      <td>-10.000000</td>\n",
       "      <td>-6.500000</td>\n",
       "      <td>-6.800000</td>\n",
       "      <td>7.300000e+10</td>\n",
       "      <td>0.230</td>\n",
       "      <td>07</td>\n",
       "      <td>09</td>\n",
       "    </tr>\n",
       "    <tr>\n",
       "      <th>3</th>\n",
       "      <td>2017-06-30 14:26:45</td>\n",
       "      <td>34.3S</td>\n",
       "      <td>134.5E</td>\n",
       "      <td>20.000000</td>\n",
       "      <td>15.200000</td>\n",
       "      <td>10.900000</td>\n",
       "      <td>-9.700000</td>\n",
       "      <td>4.200000</td>\n",
       "      <td>9.400000e+10</td>\n",
       "      <td>0.290</td>\n",
       "      <td>06</td>\n",
       "      <td>14</td>\n",
       "    </tr>\n",
       "    <tr>\n",
       "      <th>4</th>\n",
       "      <td>2017-06-23 20:21:55</td>\n",
       "      <td>57.0N</td>\n",
       "      <td>143.7E</td>\n",
       "      <td>35.100000</td>\n",
       "      <td>24.300000</td>\n",
       "      <td>17.700000</td>\n",
       "      <td>13.100000</td>\n",
       "      <td>-10.300000</td>\n",
       "      <td>1.840000e+11</td>\n",
       "      <td>0.520</td>\n",
       "      <td>06</td>\n",
       "      <td>20</td>\n",
       "    </tr>\n",
       "    <tr>\n",
       "      <th>...</th>\n",
       "      <td>...</td>\n",
       "      <td>...</td>\n",
       "      <td>...</td>\n",
       "      <td>...</td>\n",
       "      <td>...</td>\n",
       "      <td>...</td>\n",
       "      <td>...</td>\n",
       "      <td>...</td>\n",
       "      <td>...</td>\n",
       "      <td>...</td>\n",
       "      <td>...</td>\n",
       "      <td>...</td>\n",
       "    </tr>\n",
       "    <tr>\n",
       "      <th>714</th>\n",
       "      <td>1993-11-29 17:48:41</td>\n",
       "      <td>26.5N</td>\n",
       "      <td>78.3E</td>\n",
       "      <td>36.511726</td>\n",
       "      <td>17.950318</td>\n",
       "      <td>0.310828</td>\n",
       "      <td>-2.388535</td>\n",
       "      <td>-1.031847</td>\n",
       "      <td>2.600000e+10</td>\n",
       "      <td>0.092</td>\n",
       "      <td>11</td>\n",
       "      <td>17</td>\n",
       "    </tr>\n",
       "    <tr>\n",
       "      <th>715</th>\n",
       "      <td>1993-10-31 03:39:27</td>\n",
       "      <td>51.3N</td>\n",
       "      <td>100.9W</td>\n",
       "      <td>36.511726</td>\n",
       "      <td>17.950318</td>\n",
       "      <td>0.310828</td>\n",
       "      <td>-2.388535</td>\n",
       "      <td>-1.031847</td>\n",
       "      <td>4.000000e+10</td>\n",
       "      <td>0.130</td>\n",
       "      <td>10</td>\n",
       "      <td>03</td>\n",
       "    </tr>\n",
       "    <tr>\n",
       "      <th>716</th>\n",
       "      <td>1991-10-04 09:22:47</td>\n",
       "      <td>78.7N</td>\n",
       "      <td>6.3E</td>\n",
       "      <td>36.511726</td>\n",
       "      <td>17.950318</td>\n",
       "      <td>0.310828</td>\n",
       "      <td>-2.388535</td>\n",
       "      <td>-1.031847</td>\n",
       "      <td>5.500000e+11</td>\n",
       "      <td>1.400</td>\n",
       "      <td>10</td>\n",
       "      <td>09</td>\n",
       "    </tr>\n",
       "    <tr>\n",
       "      <th>717</th>\n",
       "      <td>1990-10-01 03:51:47</td>\n",
       "      <td>7.5N</td>\n",
       "      <td>142.8E</td>\n",
       "      <td>36.511726</td>\n",
       "      <td>17.950318</td>\n",
       "      <td>0.310828</td>\n",
       "      <td>-2.388535</td>\n",
       "      <td>-1.031847</td>\n",
       "      <td>2.500000e+12</td>\n",
       "      <td>5.200</td>\n",
       "      <td>10</td>\n",
       "      <td>03</td>\n",
       "    </tr>\n",
       "    <tr>\n",
       "      <th>718</th>\n",
       "      <td>1988-04-15 03:03:10</td>\n",
       "      <td>4.1S</td>\n",
       "      <td>124.3E</td>\n",
       "      <td>36.511726</td>\n",
       "      <td>17.950318</td>\n",
       "      <td>0.310828</td>\n",
       "      <td>-2.388535</td>\n",
       "      <td>-1.031847</td>\n",
       "      <td>7.580000e+12</td>\n",
       "      <td>14.000</td>\n",
       "      <td>04</td>\n",
       "      <td>03</td>\n",
       "    </tr>\n",
       "  </tbody>\n",
       "</table>\n",
       "<p>719 rows × 12 columns</p>\n",
       "</div>"
      ],
      "text/plain": [
       "    Peak Brightness Date/Time (UT) Latitude (deg.) Longitude (deg.)  \\\n",
       "0              2017-07-31 22:01:35           24.7N           118.5W   \n",
       "1              2017-07-23 06:12:38            6.6S            69.7W   \n",
       "2              2017-07-13 09:30:36           23.1N            60.7E   \n",
       "3              2017-06-30 14:26:45           34.3S           134.5E   \n",
       "4              2017-06-23 20:21:55           57.0N           143.7E   \n",
       "..                             ...             ...              ...   \n",
       "714            1993-11-29 17:48:41           26.5N            78.3E   \n",
       "715            1993-10-31 03:39:27           51.3N           100.9W   \n",
       "716            1991-10-04 09:22:47           78.7N             6.3E   \n",
       "717            1990-10-01 03:51:47            7.5N           142.8E   \n",
       "718            1988-04-15 03:03:10            4.1S           124.3E   \n",
       "\n",
       "     Altitude (km)  Velocity (km/s)         vx         vy         vz  \\\n",
       "0        36.511726        17.950318   0.310828  -2.388535  -1.031847   \n",
       "1        38.000000        17.200000  -0.400000   8.700000 -14.800000   \n",
       "2        35.000000        13.700000 -10.000000  -6.500000  -6.800000   \n",
       "3        20.000000        15.200000  10.900000  -9.700000   4.200000   \n",
       "4        35.100000        24.300000  17.700000  13.100000 -10.300000   \n",
       "..             ...              ...        ...        ...        ...   \n",
       "714      36.511726        17.950318   0.310828  -2.388535  -1.031847   \n",
       "715      36.511726        17.950318   0.310828  -2.388535  -1.031847   \n",
       "716      36.511726        17.950318   0.310828  -2.388535  -1.031847   \n",
       "717      36.511726        17.950318   0.310828  -2.388535  -1.031847   \n",
       "718      36.511726        17.950318   0.310828  -2.388535  -1.031847   \n",
       "\n",
       "     Total Radiated Energy (J)  Calculated Total Impact Energy (kt) Month Hour  \n",
       "0                 5.800000e+10                                0.190    07   22  \n",
       "1                 3.500000e+10                                0.120    07   06  \n",
       "2                 7.300000e+10                                0.230    07   09  \n",
       "3                 9.400000e+10                                0.290    06   14  \n",
       "4                 1.840000e+11                                0.520    06   20  \n",
       "..                         ...                                  ...   ...  ...  \n",
       "714               2.600000e+10                                0.092    11   17  \n",
       "715               4.000000e+10                                0.130    10   03  \n",
       "716               5.500000e+11                                1.400    10   09  \n",
       "717               2.500000e+12                                5.200    10   03  \n",
       "718               7.580000e+12                               14.000    04   03  \n",
       "\n",
       "[719 rows x 12 columns]"
      ]
     },
     "execution_count": 86,
     "metadata": {},
     "output_type": "execute_result"
    }
   ],
   "source": [
    "full_fireball_df = fireball_df.fillna(fireball_df.mean()) # заполним все пропуски средним значением по столбцу\n",
    "full_fireball_df # пока удалось заполнить только все пропуски. Не выборочно!"
   ]
  },
  {
   "cell_type": "markdown",
   "metadata": {},
   "source": [
    "# 8"
   ]
  },
  {
   "cell_type": "markdown",
   "metadata": {},
   "source": [
    "### месяц года, в которое скопение метеориов максимально"
   ]
  },
  {
   "cell_type": "code",
   "execution_count": 7,
   "metadata": {},
   "outputs": [
    {
     "data": {
      "text/plain": [
       "0    07\n",
       "1    07\n",
       "2    07\n",
       "3    06\n",
       "4    06\n",
       "Name: Peak Brightness Date/Time (UT), dtype: object"
      ]
     },
     "execution_count": 7,
     "metadata": {},
     "output_type": "execute_result"
    }
   ],
   "source": [
    "# создадим объект, в который занесём месяца\n",
    "def get_month (date):\n",
    "    return date.split('-')[1].strip() # ('-') это моё выражение лица, когда я это писал. С++ легче для понимания\n",
    "\n",
    "month = fireball_df['Peak Brightness Date/Time (UT)'].apply(get_month)\n",
    "month.head()"
   ]
  },
  {
   "cell_type": "code",
   "execution_count": 8,
   "metadata": {},
   "outputs": [
    {
     "data": {
      "text/plain": [
       "0      07\n",
       "1      07\n",
       "2      07\n",
       "3      06\n",
       "4      06\n",
       "       ..\n",
       "714    11\n",
       "715    10\n",
       "716    10\n",
       "717    10\n",
       "718    04\n",
       "Name: Peak Brightness Date/Time (UT), Length: 719, dtype: object"
      ]
     },
     "execution_count": 8,
     "metadata": {},
     "output_type": "execute_result"
    }
   ],
   "source": [
    "month # получили месяцы падения каждого метеорита из даты"
   ]
  },
  {
   "cell_type": "code",
   "execution_count": 9,
   "metadata": {},
   "outputs": [],
   "source": [
    "fireball_df['Month'] = month # добавили столбец месяцев в общие данные"
   ]
  },
  {
   "cell_type": "code",
   "execution_count": 10,
   "metadata": {},
   "outputs": [
    {
     "data": {
      "text/html": [
       "<div>\n",
       "<style scoped>\n",
       "    .dataframe tbody tr th:only-of-type {\n",
       "        vertical-align: middle;\n",
       "    }\n",
       "\n",
       "    .dataframe tbody tr th {\n",
       "        vertical-align: top;\n",
       "    }\n",
       "\n",
       "    .dataframe thead th {\n",
       "        text-align: right;\n",
       "    }\n",
       "</style>\n",
       "<table border=\"1\" class=\"dataframe\">\n",
       "  <thead>\n",
       "    <tr style=\"text-align: right;\">\n",
       "      <th></th>\n",
       "      <th>Peak Brightness Date/Time (UT)</th>\n",
       "      <th>Latitude (deg.)</th>\n",
       "      <th>Longitude (deg.)</th>\n",
       "      <th>Altitude (km)</th>\n",
       "      <th>Velocity (km/s)</th>\n",
       "      <th>vx</th>\n",
       "      <th>vy</th>\n",
       "      <th>vz</th>\n",
       "      <th>Total Radiated Energy (J)</th>\n",
       "      <th>Calculated Total Impact Energy (kt)</th>\n",
       "      <th>Month</th>\n",
       "    </tr>\n",
       "  </thead>\n",
       "  <tbody>\n",
       "    <tr>\n",
       "      <th>0</th>\n",
       "      <td>2017-07-31 22:01:35</td>\n",
       "      <td>24.7N</td>\n",
       "      <td>118.5W</td>\n",
       "      <td>NaN</td>\n",
       "      <td>NaN</td>\n",
       "      <td>NaN</td>\n",
       "      <td>NaN</td>\n",
       "      <td>NaN</td>\n",
       "      <td>5.800000e+10</td>\n",
       "      <td>0.19</td>\n",
       "      <td>07</td>\n",
       "    </tr>\n",
       "    <tr>\n",
       "      <th>1</th>\n",
       "      <td>2017-07-23 06:12:38</td>\n",
       "      <td>6.6S</td>\n",
       "      <td>69.7W</td>\n",
       "      <td>38.0</td>\n",
       "      <td>17.2</td>\n",
       "      <td>-0.4</td>\n",
       "      <td>8.7</td>\n",
       "      <td>-14.8</td>\n",
       "      <td>3.500000e+10</td>\n",
       "      <td>0.12</td>\n",
       "      <td>07</td>\n",
       "    </tr>\n",
       "    <tr>\n",
       "      <th>2</th>\n",
       "      <td>2017-07-13 09:30:36</td>\n",
       "      <td>23.1N</td>\n",
       "      <td>60.7E</td>\n",
       "      <td>35.0</td>\n",
       "      <td>13.7</td>\n",
       "      <td>-10.0</td>\n",
       "      <td>-6.5</td>\n",
       "      <td>-6.8</td>\n",
       "      <td>7.300000e+10</td>\n",
       "      <td>0.23</td>\n",
       "      <td>07</td>\n",
       "    </tr>\n",
       "    <tr>\n",
       "      <th>3</th>\n",
       "      <td>2017-06-30 14:26:45</td>\n",
       "      <td>34.3S</td>\n",
       "      <td>134.5E</td>\n",
       "      <td>20.0</td>\n",
       "      <td>15.2</td>\n",
       "      <td>10.9</td>\n",
       "      <td>-9.7</td>\n",
       "      <td>4.2</td>\n",
       "      <td>9.400000e+10</td>\n",
       "      <td>0.29</td>\n",
       "      <td>06</td>\n",
       "    </tr>\n",
       "    <tr>\n",
       "      <th>4</th>\n",
       "      <td>2017-06-23 20:21:55</td>\n",
       "      <td>57.0N</td>\n",
       "      <td>143.7E</td>\n",
       "      <td>35.1</td>\n",
       "      <td>24.3</td>\n",
       "      <td>17.7</td>\n",
       "      <td>13.1</td>\n",
       "      <td>-10.3</td>\n",
       "      <td>1.840000e+11</td>\n",
       "      <td>0.52</td>\n",
       "      <td>06</td>\n",
       "    </tr>\n",
       "  </tbody>\n",
       "</table>\n",
       "</div>"
      ],
      "text/plain": [
       "  Peak Brightness Date/Time (UT) Latitude (deg.) Longitude (deg.)  \\\n",
       "0            2017-07-31 22:01:35           24.7N           118.5W   \n",
       "1            2017-07-23 06:12:38            6.6S            69.7W   \n",
       "2            2017-07-13 09:30:36           23.1N            60.7E   \n",
       "3            2017-06-30 14:26:45           34.3S           134.5E   \n",
       "4            2017-06-23 20:21:55           57.0N           143.7E   \n",
       "\n",
       "   Altitude (km)  Velocity (km/s)    vx    vy    vz  \\\n",
       "0            NaN              NaN   NaN   NaN   NaN   \n",
       "1           38.0             17.2  -0.4   8.7 -14.8   \n",
       "2           35.0             13.7 -10.0  -6.5  -6.8   \n",
       "3           20.0             15.2  10.9  -9.7   4.2   \n",
       "4           35.1             24.3  17.7  13.1 -10.3   \n",
       "\n",
       "   Total Radiated Energy (J)  Calculated Total Impact Energy (kt) Month  \n",
       "0               5.800000e+10                                 0.19    07  \n",
       "1               3.500000e+10                                 0.12    07  \n",
       "2               7.300000e+10                                 0.23    07  \n",
       "3               9.400000e+10                                 0.29    06  \n",
       "4               1.840000e+11                                 0.52    06  "
      ]
     },
     "execution_count": 10,
     "metadata": {},
     "output_type": "execute_result"
    }
   ],
   "source": [
    "fireball_df.head()"
   ]
  },
  {
   "cell_type": "code",
   "execution_count": 24,
   "metadata": {},
   "outputs": [
    {
     "data": {
      "text/plain": [
       "Month\n",
       "01    60\n",
       "02    61\n",
       "03    61\n",
       "04    63\n",
       "05    56\n",
       "06    59\n",
       "07    60\n",
       "08    59\n",
       "09    52\n",
       "10    65\n",
       "11    65\n",
       "12    58\n",
       "Name: Peak Brightness Date/Time (UT), dtype: int64"
      ]
     },
     "execution_count": 24,
     "metadata": {},
     "output_type": "execute_result"
    }
   ],
   "source": [
    "month_counts = fireball_df.groupby('Month').count()\n",
    "month_counts['Peak Brightness Date/Time (UT)'] # используем дату как счётчик количества месяцев"
   ]
  },
  {
   "cell_type": "code",
   "execution_count": 27,
   "metadata": {},
   "outputs": [
    {
     "data": {
      "text/plain": [
       "Jan    60\n",
       "Feb    61\n",
       "Mar    61\n",
       "Apr    63\n",
       "May    56\n",
       "Jun    59\n",
       "Jul    60\n",
       "Aug    59\n",
       "Sep    52\n",
       "Oct    65\n",
       "Nov    65\n",
       "Dec    58\n",
       "Name: Peak Brightness Date/Time (UT), dtype: int64"
      ]
     },
     "execution_count": 27,
     "metadata": {},
     "output_type": "execute_result"
    }
   ],
   "source": [
    "month_counts.index = ['Jan','Feb','Mar','Apr','May','Jun','Jul','Aug','Sep','Oct','Nov','Dec'] # переименуем месяцы\n",
    "month_counts['Peak Brightness Date/Time (UT)']"
   ]
  },
  {
   "cell_type": "code",
   "execution_count": 29,
   "metadata": {},
   "outputs": [
    {
     "data": {
      "text/plain": [
       "[<matplotlib.lines.Line2D at 0x103afcb8>]"
      ]
     },
     "execution_count": 29,
     "metadata": {},
     "output_type": "execute_result"
    },
    {
     "data": {
      "image/png": "[encoded data removed]",
      "text/plain": [
       "<Figure size 432x288 with 1 Axes>"
      ]
     },
     "metadata": {},
     "output_type": "display_data"
    }
   ],
   "source": [
    "plt.plot(month_counts.index, month_counts['Peak Brightness Date/Time (UT)']) \n",
    "# построим график (по оси ox месяцы, по оси oy количество дат, в которые падали метеориты)"
   ]
  },
  {
   "cell_type": "markdown",
   "metadata": {},
   "source": [
    "максимально скопление метеоритов в начале осени и в середине весны"
   ]
  },
  {
   "cell_type": "markdown",
   "metadata": {},
   "source": [
    "# 9"
   ]
  },
  {
   "cell_type": "markdown",
   "metadata": {},
   "source": [
    "### Вычислите корреляцию Пирсона и Спирмена между признаками Altitude и Total Radiated Energy. Сравните полученные величины корреляции. Постройте гистограммы для указанных признаков. Оцените значение p-value."
   ]
  },
  {
   "cell_type": "code",
   "execution_count": 95,
   "metadata": {},
   "outputs": [
    {
     "data": {
      "text/html": [
       "<div>\n",
       "<style scoped>\n",
       "    .dataframe tbody tr th:only-of-type {\n",
       "        vertical-align: middle;\n",
       "    }\n",
       "\n",
       "    .dataframe tbody tr th {\n",
       "        vertical-align: top;\n",
       "    }\n",
       "\n",
       "    .dataframe thead th {\n",
       "        text-align: right;\n",
       "    }\n",
       "</style>\n",
       "<table border=\"1\" class=\"dataframe\">\n",
       "  <thead>\n",
       "    <tr style=\"text-align: right;\">\n",
       "      <th></th>\n",
       "      <th>Altitude (km)</th>\n",
       "      <th>Total Radiated Energy (J)</th>\n",
       "    </tr>\n",
       "  </thead>\n",
       "  <tbody>\n",
       "    <tr>\n",
       "      <th>Altitude (km)</th>\n",
       "      <td>1.000000</td>\n",
       "      <td>-0.085787</td>\n",
       "    </tr>\n",
       "    <tr>\n",
       "      <th>Total Radiated Energy (J)</th>\n",
       "      <td>-0.085787</td>\n",
       "      <td>1.000000</td>\n",
       "    </tr>\n",
       "  </tbody>\n",
       "</table>\n",
       "</div>"
      ],
      "text/plain": [
       "                           Altitude (km)  Total Radiated Energy (J)\n",
       "Altitude (km)                   1.000000                  -0.085787\n",
       "Total Radiated Energy (J)      -0.085787                   1.000000"
      ]
     },
     "execution_count": 95,
     "metadata": {},
     "output_type": "execute_result"
    }
   ],
   "source": [
    "fireball_df[['Altitude (km)','Total Radiated Energy (J)']].corr(method='pearson')"
   ]
  },
  {
   "cell_type": "code",
   "execution_count": 96,
   "metadata": {},
   "outputs": [
    {
     "data": {
      "text/html": [
       "<div>\n",
       "<style scoped>\n",
       "    .dataframe tbody tr th:only-of-type {\n",
       "        vertical-align: middle;\n",
       "    }\n",
       "\n",
       "    .dataframe tbody tr th {\n",
       "        vertical-align: top;\n",
       "    }\n",
       "\n",
       "    .dataframe thead th {\n",
       "        text-align: right;\n",
       "    }\n",
       "</style>\n",
       "<table border=\"1\" class=\"dataframe\">\n",
       "  <thead>\n",
       "    <tr style=\"text-align: right;\">\n",
       "      <th></th>\n",
       "      <th>Altitude (km)</th>\n",
       "      <th>Total Radiated Energy (J)</th>\n",
       "    </tr>\n",
       "  </thead>\n",
       "  <tbody>\n",
       "    <tr>\n",
       "      <th>Altitude (km)</th>\n",
       "      <td>1.00000</td>\n",
       "      <td>-0.12671</td>\n",
       "    </tr>\n",
       "    <tr>\n",
       "      <th>Total Radiated Energy (J)</th>\n",
       "      <td>-0.12671</td>\n",
       "      <td>1.00000</td>\n",
       "    </tr>\n",
       "  </tbody>\n",
       "</table>\n",
       "</div>"
      ],
      "text/plain": [
       "                           Altitude (km)  Total Radiated Energy (J)\n",
       "Altitude (km)                    1.00000                   -0.12671\n",
       "Total Radiated Energy (J)       -0.12671                    1.00000"
      ]
     },
     "execution_count": 96,
     "metadata": {},
     "output_type": "execute_result"
    }
   ],
   "source": [
    "fireball_df[['Altitude (km)','Total Radiated Energy (J)']].corr(method='spearman')"
   ]
  },
  {
   "cell_type": "code",
   "execution_count": 98,
   "metadata": {},
   "outputs": [
    {
     "data": {
      "text/plain": [
       "<matplotlib.axes._subplots.AxesSubplot at 0x12763220>"
      ]
     },
     "execution_count": 98,
     "metadata": {},
     "output_type": "execute_result"
    },
    {
     "data": {
      "image/png": "[encoded data removed]",
      "text/plain": [
       "<Figure size 432x288 with 1 Axes>"
      ]
     },
     "metadata": {},
     "output_type": "display_data"
    }
   ],
   "source": [
    "fireball_df['Altitude (km)'].hist(bins = 30)"
   ]
  },
  {
   "cell_type": "code",
   "execution_count": 104,
   "metadata": {},
   "outputs": [
    {
     "data": {
      "text/plain": [
       "<matplotlib.axes._subplots.AxesSubplot at 0x12974550>"
      ]
     },
     "execution_count": 104,
     "metadata": {},
     "output_type": "execute_result"
    },
    {
     "data": {
      "image/png": "[encoded data removed]",
      "text/plain": [
       "<Figure size 432x288 with 1 Axes>"
      ]
     },
     "metadata": {},
     "output_type": "display_data"
    }
   ],
   "source": [
    "fireball_df['Total Radiated Energy (J)'].hist(bins = 30)"
   ]
  },
  {
   "cell_type": "markdown",
   "metadata": {},
   "source": [
    "в обоих случая уровень значимости больше |0,05|, следовательно мы можем принять гипотезу о наличии монотонной связи. знак \"-\" говорит нам о том, что связ отрицательна, то есть увеличение одной переменной соответствует уменьшению другой."
   ]
  },
  {
   "cell_type": "code",
   "execution_count": null,
   "metadata": {},
   "outputs": [],
   "source": []
  }
 ],
 "metadata": {
  "kernelspec": {
   "display_name": "Python 3",
   "language": "python",
   "name": "python3"
  },
  "language_info": {
   "codemirror_mode": {
    "name": "ipython",
    "version": 3
   },
   "file_extension": ".py",
   "mimetype": "text/x-python",
   "name": "python",
   "nbconvert_exporter": "python",
   "pygments_lexer": "ipython3",
   "version": "3.8.0"
  }
 },
 "nbformat": 4,
 "nbformat_minor": 4
}
