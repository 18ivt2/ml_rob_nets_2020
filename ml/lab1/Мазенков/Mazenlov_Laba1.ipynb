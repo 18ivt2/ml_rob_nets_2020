{
 "cells": [
  {
   "cell_type": "markdown",
   "metadata": {},
   "source": [
    "# Мазенков Михаил Александрович"
   ]
  },
  {
   "cell_type": "markdown",
   "metadata": {},
   "source": [
    "# Вариант 2"
   ]
  },
  {
   "cell_type": "markdown",
   "metadata": {},
   "source": [
    "### 1. Подсчитайте количество отменённых рейсов."
   ]
  },
  {
   "cell_type": "code",
   "execution_count": 346,
   "metadata": {},
   "outputs": [],
   "source": [
    "import pandas as pd"
   ]
  },
  {
   "cell_type": "code",
   "execution_count": 347,
   "metadata": {},
   "outputs": [],
   "source": [
    "df = pd.read_csv('flights.csv', nrows=500000)"
   ]
  },
  {
   "cell_type": "code",
   "execution_count": 348,
   "metadata": {},
   "outputs": [
    {
     "data": {
      "text/html": [
       "<div>\n",
       "<style>\n",
       "    .dataframe thead tr:only-child th {\n",
       "        text-align: right;\n",
       "    }\n",
       "\n",
       "    .dataframe thead th {\n",
       "        text-align: left;\n",
       "    }\n",
       "\n",
       "    .dataframe tbody tr th {\n",
       "        vertical-align: top;\n",
       "    }\n",
       "</style>\n",
       "<table border=\"1\" class=\"dataframe\">\n",
       "  <thead>\n",
       "    <tr style=\"text-align: right;\">\n",
       "      <th></th>\n",
       "      <th>YEAR</th>\n",
       "      <th>MONTH</th>\n",
       "      <th>DAY</th>\n",
       "      <th>DAY_OF_WEEK</th>\n",
       "      <th>AIRLINE</th>\n",
       "      <th>FLIGHT_NUMBER</th>\n",
       "      <th>TAIL_NUMBER</th>\n",
       "      <th>ORIGIN_AIRPORT</th>\n",
       "      <th>DESTINATION_AIRPORT</th>\n",
       "      <th>SCHEDULED_DEPARTURE</th>\n",
       "      <th>...</th>\n",
       "      <th>ARRIVAL_TIME</th>\n",
       "      <th>ARRIVAL_DELAY</th>\n",
       "      <th>DIVERTED</th>\n",
       "      <th>CANCELLED</th>\n",
       "      <th>CANCELLATION_REASON</th>\n",
       "      <th>AIR_SYSTEM_DELAY</th>\n",
       "      <th>SECURITY_DELAY</th>\n",
       "      <th>AIRLINE_DELAY</th>\n",
       "      <th>LATE_AIRCRAFT_DELAY</th>\n",
       "      <th>WEATHER_DELAY</th>\n",
       "    </tr>\n",
       "  </thead>\n",
       "  <tbody>\n",
       "    <tr>\n",
       "      <th>0</th>\n",
       "      <td>2015</td>\n",
       "      <td>1</td>\n",
       "      <td>1</td>\n",
       "      <td>4</td>\n",
       "      <td>AS</td>\n",
       "      <td>98</td>\n",
       "      <td>N407AS</td>\n",
       "      <td>ANC</td>\n",
       "      <td>SEA</td>\n",
       "      <td>5</td>\n",
       "      <td>...</td>\n",
       "      <td>408.0</td>\n",
       "      <td>-22.0</td>\n",
       "      <td>0</td>\n",
       "      <td>0</td>\n",
       "      <td>NaN</td>\n",
       "      <td>NaN</td>\n",
       "      <td>NaN</td>\n",
       "      <td>NaN</td>\n",
       "      <td>NaN</td>\n",
       "      <td>NaN</td>\n",
       "    </tr>\n",
       "    <tr>\n",
       "      <th>1</th>\n",
       "      <td>2015</td>\n",
       "      <td>1</td>\n",
       "      <td>1</td>\n",
       "      <td>4</td>\n",
       "      <td>AA</td>\n",
       "      <td>2336</td>\n",
       "      <td>N3KUAA</td>\n",
       "      <td>LAX</td>\n",
       "      <td>PBI</td>\n",
       "      <td>10</td>\n",
       "      <td>...</td>\n",
       "      <td>741.0</td>\n",
       "      <td>-9.0</td>\n",
       "      <td>0</td>\n",
       "      <td>0</td>\n",
       "      <td>NaN</td>\n",
       "      <td>NaN</td>\n",
       "      <td>NaN</td>\n",
       "      <td>NaN</td>\n",
       "      <td>NaN</td>\n",
       "      <td>NaN</td>\n",
       "    </tr>\n",
       "    <tr>\n",
       "      <th>2</th>\n",
       "      <td>2015</td>\n",
       "      <td>1</td>\n",
       "      <td>1</td>\n",
       "      <td>4</td>\n",
       "      <td>US</td>\n",
       "      <td>840</td>\n",
       "      <td>N171US</td>\n",
       "      <td>SFO</td>\n",
       "      <td>CLT</td>\n",
       "      <td>20</td>\n",
       "      <td>...</td>\n",
       "      <td>811.0</td>\n",
       "      <td>5.0</td>\n",
       "      <td>0</td>\n",
       "      <td>0</td>\n",
       "      <td>NaN</td>\n",
       "      <td>NaN</td>\n",
       "      <td>NaN</td>\n",
       "      <td>NaN</td>\n",
       "      <td>NaN</td>\n",
       "      <td>NaN</td>\n",
       "    </tr>\n",
       "    <tr>\n",
       "      <th>3</th>\n",
       "      <td>2015</td>\n",
       "      <td>1</td>\n",
       "      <td>1</td>\n",
       "      <td>4</td>\n",
       "      <td>AA</td>\n",
       "      <td>258</td>\n",
       "      <td>N3HYAA</td>\n",
       "      <td>LAX</td>\n",
       "      <td>MIA</td>\n",
       "      <td>20</td>\n",
       "      <td>...</td>\n",
       "      <td>756.0</td>\n",
       "      <td>-9.0</td>\n",
       "      <td>0</td>\n",
       "      <td>0</td>\n",
       "      <td>NaN</td>\n",
       "      <td>NaN</td>\n",
       "      <td>NaN</td>\n",
       "      <td>NaN</td>\n",
       "      <td>NaN</td>\n",
       "      <td>NaN</td>\n",
       "    </tr>\n",
       "    <tr>\n",
       "      <th>4</th>\n",
       "      <td>2015</td>\n",
       "      <td>1</td>\n",
       "      <td>1</td>\n",
       "      <td>4</td>\n",
       "      <td>AS</td>\n",
       "      <td>135</td>\n",
       "      <td>N527AS</td>\n",
       "      <td>SEA</td>\n",
       "      <td>ANC</td>\n",
       "      <td>25</td>\n",
       "      <td>...</td>\n",
       "      <td>259.0</td>\n",
       "      <td>-21.0</td>\n",
       "      <td>0</td>\n",
       "      <td>0</td>\n",
       "      <td>NaN</td>\n",
       "      <td>NaN</td>\n",
       "      <td>NaN</td>\n",
       "      <td>NaN</td>\n",
       "      <td>NaN</td>\n",
       "      <td>NaN</td>\n",
       "    </tr>\n",
       "    <tr>\n",
       "      <th>5</th>\n",
       "      <td>2015</td>\n",
       "      <td>1</td>\n",
       "      <td>1</td>\n",
       "      <td>4</td>\n",
       "      <td>DL</td>\n",
       "      <td>806</td>\n",
       "      <td>N3730B</td>\n",
       "      <td>SFO</td>\n",
       "      <td>MSP</td>\n",
       "      <td>25</td>\n",
       "      <td>...</td>\n",
       "      <td>610.0</td>\n",
       "      <td>8.0</td>\n",
       "      <td>0</td>\n",
       "      <td>0</td>\n",
       "      <td>NaN</td>\n",
       "      <td>NaN</td>\n",
       "      <td>NaN</td>\n",
       "      <td>NaN</td>\n",
       "      <td>NaN</td>\n",
       "      <td>NaN</td>\n",
       "    </tr>\n",
       "    <tr>\n",
       "      <th>6</th>\n",
       "      <td>2015</td>\n",
       "      <td>1</td>\n",
       "      <td>1</td>\n",
       "      <td>4</td>\n",
       "      <td>NK</td>\n",
       "      <td>612</td>\n",
       "      <td>N635NK</td>\n",
       "      <td>LAS</td>\n",
       "      <td>MSP</td>\n",
       "      <td>25</td>\n",
       "      <td>...</td>\n",
       "      <td>509.0</td>\n",
       "      <td>-17.0</td>\n",
       "      <td>0</td>\n",
       "      <td>0</td>\n",
       "      <td>NaN</td>\n",
       "      <td>NaN</td>\n",
       "      <td>NaN</td>\n",
       "      <td>NaN</td>\n",
       "      <td>NaN</td>\n",
       "      <td>NaN</td>\n",
       "    </tr>\n",
       "    <tr>\n",
       "      <th>7</th>\n",
       "      <td>2015</td>\n",
       "      <td>1</td>\n",
       "      <td>1</td>\n",
       "      <td>4</td>\n",
       "      <td>US</td>\n",
       "      <td>2013</td>\n",
       "      <td>N584UW</td>\n",
       "      <td>LAX</td>\n",
       "      <td>CLT</td>\n",
       "      <td>30</td>\n",
       "      <td>...</td>\n",
       "      <td>753.0</td>\n",
       "      <td>-10.0</td>\n",
       "      <td>0</td>\n",
       "      <td>0</td>\n",
       "      <td>NaN</td>\n",
       "      <td>NaN</td>\n",
       "      <td>NaN</td>\n",
       "      <td>NaN</td>\n",
       "      <td>NaN</td>\n",
       "      <td>NaN</td>\n",
       "    </tr>\n",
       "    <tr>\n",
       "      <th>8</th>\n",
       "      <td>2015</td>\n",
       "      <td>1</td>\n",
       "      <td>1</td>\n",
       "      <td>4</td>\n",
       "      <td>AA</td>\n",
       "      <td>1112</td>\n",
       "      <td>N3LAAA</td>\n",
       "      <td>SFO</td>\n",
       "      <td>DFW</td>\n",
       "      <td>30</td>\n",
       "      <td>...</td>\n",
       "      <td>532.0</td>\n",
       "      <td>-13.0</td>\n",
       "      <td>0</td>\n",
       "      <td>0</td>\n",
       "      <td>NaN</td>\n",
       "      <td>NaN</td>\n",
       "      <td>NaN</td>\n",
       "      <td>NaN</td>\n",
       "      <td>NaN</td>\n",
       "      <td>NaN</td>\n",
       "    </tr>\n",
       "    <tr>\n",
       "      <th>9</th>\n",
       "      <td>2015</td>\n",
       "      <td>1</td>\n",
       "      <td>1</td>\n",
       "      <td>4</td>\n",
       "      <td>DL</td>\n",
       "      <td>1173</td>\n",
       "      <td>N826DN</td>\n",
       "      <td>LAS</td>\n",
       "      <td>ATL</td>\n",
       "      <td>30</td>\n",
       "      <td>...</td>\n",
       "      <td>656.0</td>\n",
       "      <td>-15.0</td>\n",
       "      <td>0</td>\n",
       "      <td>0</td>\n",
       "      <td>NaN</td>\n",
       "      <td>NaN</td>\n",
       "      <td>NaN</td>\n",
       "      <td>NaN</td>\n",
       "      <td>NaN</td>\n",
       "      <td>NaN</td>\n",
       "    </tr>\n",
       "    <tr>\n",
       "      <th>10</th>\n",
       "      <td>2015</td>\n",
       "      <td>1</td>\n",
       "      <td>1</td>\n",
       "      <td>4</td>\n",
       "      <td>DL</td>\n",
       "      <td>2336</td>\n",
       "      <td>N958DN</td>\n",
       "      <td>DEN</td>\n",
       "      <td>ATL</td>\n",
       "      <td>30</td>\n",
       "      <td>...</td>\n",
       "      <td>453.0</td>\n",
       "      <td>-30.0</td>\n",
       "      <td>0</td>\n",
       "      <td>0</td>\n",
       "      <td>NaN</td>\n",
       "      <td>NaN</td>\n",
       "      <td>NaN</td>\n",
       "      <td>NaN</td>\n",
       "      <td>NaN</td>\n",
       "      <td>NaN</td>\n",
       "    </tr>\n",
       "    <tr>\n",
       "      <th>11</th>\n",
       "      <td>2015</td>\n",
       "      <td>1</td>\n",
       "      <td>1</td>\n",
       "      <td>4</td>\n",
       "      <td>AA</td>\n",
       "      <td>1674</td>\n",
       "      <td>N853AA</td>\n",
       "      <td>LAS</td>\n",
       "      <td>MIA</td>\n",
       "      <td>35</td>\n",
       "      <td>...</td>\n",
       "      <td>753.0</td>\n",
       "      <td>-10.0</td>\n",
       "      <td>0</td>\n",
       "      <td>0</td>\n",
       "      <td>NaN</td>\n",
       "      <td>NaN</td>\n",
       "      <td>NaN</td>\n",
       "      <td>NaN</td>\n",
       "      <td>NaN</td>\n",
       "      <td>NaN</td>\n",
       "    </tr>\n",
       "    <tr>\n",
       "      <th>12</th>\n",
       "      <td>2015</td>\n",
       "      <td>1</td>\n",
       "      <td>1</td>\n",
       "      <td>4</td>\n",
       "      <td>DL</td>\n",
       "      <td>1434</td>\n",
       "      <td>N547US</td>\n",
       "      <td>LAX</td>\n",
       "      <td>MSP</td>\n",
       "      <td>35</td>\n",
       "      <td>...</td>\n",
       "      <td>605.0</td>\n",
       "      <td>-4.0</td>\n",
       "      <td>0</td>\n",
       "      <td>0</td>\n",
       "      <td>NaN</td>\n",
       "      <td>NaN</td>\n",
       "      <td>NaN</td>\n",
       "      <td>NaN</td>\n",
       "      <td>NaN</td>\n",
       "      <td>NaN</td>\n",
       "    </tr>\n",
       "    <tr>\n",
       "      <th>13</th>\n",
       "      <td>2015</td>\n",
       "      <td>1</td>\n",
       "      <td>1</td>\n",
       "      <td>4</td>\n",
       "      <td>DL</td>\n",
       "      <td>2324</td>\n",
       "      <td>N3751B</td>\n",
       "      <td>SLC</td>\n",
       "      <td>ATL</td>\n",
       "      <td>40</td>\n",
       "      <td>...</td>\n",
       "      <td>553.0</td>\n",
       "      <td>-22.0</td>\n",
       "      <td>0</td>\n",
       "      <td>0</td>\n",
       "      <td>NaN</td>\n",
       "      <td>NaN</td>\n",
       "      <td>NaN</td>\n",
       "      <td>NaN</td>\n",
       "      <td>NaN</td>\n",
       "      <td>NaN</td>\n",
       "    </tr>\n",
       "    <tr>\n",
       "      <th>14</th>\n",
       "      <td>2015</td>\n",
       "      <td>1</td>\n",
       "      <td>1</td>\n",
       "      <td>4</td>\n",
       "      <td>DL</td>\n",
       "      <td>2440</td>\n",
       "      <td>N651DL</td>\n",
       "      <td>SEA</td>\n",
       "      <td>MSP</td>\n",
       "      <td>40</td>\n",
       "      <td>...</td>\n",
       "      <td>557.0</td>\n",
       "      <td>8.0</td>\n",
       "      <td>0</td>\n",
       "      <td>0</td>\n",
       "      <td>NaN</td>\n",
       "      <td>NaN</td>\n",
       "      <td>NaN</td>\n",
       "      <td>NaN</td>\n",
       "      <td>NaN</td>\n",
       "      <td>NaN</td>\n",
       "    </tr>\n",
       "    <tr>\n",
       "      <th>15</th>\n",
       "      <td>2015</td>\n",
       "      <td>1</td>\n",
       "      <td>1</td>\n",
       "      <td>4</td>\n",
       "      <td>AS</td>\n",
       "      <td>108</td>\n",
       "      <td>N309AS</td>\n",
       "      <td>ANC</td>\n",
       "      <td>SEA</td>\n",
       "      <td>45</td>\n",
       "      <td>...</td>\n",
       "      <td>455.0</td>\n",
       "      <td>-14.0</td>\n",
       "      <td>0</td>\n",
       "      <td>0</td>\n",
       "      <td>NaN</td>\n",
       "      <td>NaN</td>\n",
       "      <td>NaN</td>\n",
       "      <td>NaN</td>\n",
       "      <td>NaN</td>\n",
       "      <td>NaN</td>\n",
       "    </tr>\n",
       "    <tr>\n",
       "      <th>16</th>\n",
       "      <td>2015</td>\n",
       "      <td>1</td>\n",
       "      <td>1</td>\n",
       "      <td>4</td>\n",
       "      <td>DL</td>\n",
       "      <td>1560</td>\n",
       "      <td>N3743H</td>\n",
       "      <td>ANC</td>\n",
       "      <td>SEA</td>\n",
       "      <td>45</td>\n",
       "      <td>...</td>\n",
       "      <td>451.0</td>\n",
       "      <td>-24.0</td>\n",
       "      <td>0</td>\n",
       "      <td>0</td>\n",
       "      <td>NaN</td>\n",
       "      <td>NaN</td>\n",
       "      <td>NaN</td>\n",
       "      <td>NaN</td>\n",
       "      <td>NaN</td>\n",
       "      <td>NaN</td>\n",
       "    </tr>\n",
       "    <tr>\n",
       "      <th>17</th>\n",
       "      <td>2015</td>\n",
       "      <td>1</td>\n",
       "      <td>1</td>\n",
       "      <td>4</td>\n",
       "      <td>UA</td>\n",
       "      <td>1197</td>\n",
       "      <td>N78448</td>\n",
       "      <td>SFO</td>\n",
       "      <td>IAH</td>\n",
       "      <td>48</td>\n",
       "      <td>...</td>\n",
       "      <td>619.0</td>\n",
       "      <td>-7.0</td>\n",
       "      <td>0</td>\n",
       "      <td>0</td>\n",
       "      <td>NaN</td>\n",
       "      <td>NaN</td>\n",
       "      <td>NaN</td>\n",
       "      <td>NaN</td>\n",
       "      <td>NaN</td>\n",
       "      <td>NaN</td>\n",
       "    </tr>\n",
       "    <tr>\n",
       "      <th>18</th>\n",
       "      <td>2015</td>\n",
       "      <td>1</td>\n",
       "      <td>1</td>\n",
       "      <td>4</td>\n",
       "      <td>AS</td>\n",
       "      <td>122</td>\n",
       "      <td>N413AS</td>\n",
       "      <td>ANC</td>\n",
       "      <td>PDX</td>\n",
       "      <td>50</td>\n",
       "      <td>...</td>\n",
       "      <td>507.0</td>\n",
       "      <td>-18.0</td>\n",
       "      <td>0</td>\n",
       "      <td>0</td>\n",
       "      <td>NaN</td>\n",
       "      <td>NaN</td>\n",
       "      <td>NaN</td>\n",
       "      <td>NaN</td>\n",
       "      <td>NaN</td>\n",
       "      <td>NaN</td>\n",
       "    </tr>\n",
       "    <tr>\n",
       "      <th>19</th>\n",
       "      <td>2015</td>\n",
       "      <td>1</td>\n",
       "      <td>1</td>\n",
       "      <td>4</td>\n",
       "      <td>DL</td>\n",
       "      <td>1670</td>\n",
       "      <td>N806DN</td>\n",
       "      <td>PDX</td>\n",
       "      <td>MSP</td>\n",
       "      <td>50</td>\n",
       "      <td>...</td>\n",
       "      <td>551.0</td>\n",
       "      <td>-12.0</td>\n",
       "      <td>0</td>\n",
       "      <td>0</td>\n",
       "      <td>NaN</td>\n",
       "      <td>NaN</td>\n",
       "      <td>NaN</td>\n",
       "      <td>NaN</td>\n",
       "      <td>NaN</td>\n",
       "      <td>NaN</td>\n",
       "    </tr>\n",
       "  </tbody>\n",
       "</table>\n",
       "<p>20 rows × 31 columns</p>\n",
       "</div>"
      ],
      "text/plain": [
       "    YEAR  MONTH  DAY  DAY_OF_WEEK AIRLINE  FLIGHT_NUMBER TAIL_NUMBER  \\\n",
       "0   2015      1    1            4      AS             98      N407AS   \n",
       "1   2015      1    1            4      AA           2336      N3KUAA   \n",
       "2   2015      1    1            4      US            840      N171US   \n",
       "3   2015      1    1            4      AA            258      N3HYAA   \n",
       "4   2015      1    1            4      AS            135      N527AS   \n",
       "5   2015      1    1            4      DL            806      N3730B   \n",
       "6   2015      1    1            4      NK            612      N635NK   \n",
       "7   2015      1    1            4      US           2013      N584UW   \n",
       "8   2015      1    1            4      AA           1112      N3LAAA   \n",
       "9   2015      1    1            4      DL           1173      N826DN   \n",
       "10  2015      1    1            4      DL           2336      N958DN   \n",
       "11  2015      1    1            4      AA           1674      N853AA   \n",
       "12  2015      1    1            4      DL           1434      N547US   \n",
       "13  2015      1    1            4      DL           2324      N3751B   \n",
       "14  2015      1    1            4      DL           2440      N651DL   \n",
       "15  2015      1    1            4      AS            108      N309AS   \n",
       "16  2015      1    1            4      DL           1560      N3743H   \n",
       "17  2015      1    1            4      UA           1197      N78448   \n",
       "18  2015      1    1            4      AS            122      N413AS   \n",
       "19  2015      1    1            4      DL           1670      N806DN   \n",
       "\n",
       "   ORIGIN_AIRPORT DESTINATION_AIRPORT  SCHEDULED_DEPARTURE      ...        \\\n",
       "0             ANC                 SEA                    5      ...         \n",
       "1             LAX                 PBI                   10      ...         \n",
       "2             SFO                 CLT                   20      ...         \n",
       "3             LAX                 MIA                   20      ...         \n",
       "4             SEA                 ANC                   25      ...         \n",
       "5             SFO                 MSP                   25      ...         \n",
       "6             LAS                 MSP                   25      ...         \n",
       "7             LAX                 CLT                   30      ...         \n",
       "8             SFO                 DFW                   30      ...         \n",
       "9             LAS                 ATL                   30      ...         \n",
       "10            DEN                 ATL                   30      ...         \n",
       "11            LAS                 MIA                   35      ...         \n",
       "12            LAX                 MSP                   35      ...         \n",
       "13            SLC                 ATL                   40      ...         \n",
       "14            SEA                 MSP                   40      ...         \n",
       "15            ANC                 SEA                   45      ...         \n",
       "16            ANC                 SEA                   45      ...         \n",
       "17            SFO                 IAH                   48      ...         \n",
       "18            ANC                 PDX                   50      ...         \n",
       "19            PDX                 MSP                   50      ...         \n",
       "\n",
       "    ARRIVAL_TIME  ARRIVAL_DELAY  DIVERTED  CANCELLED  CANCELLATION_REASON  \\\n",
       "0          408.0          -22.0         0          0                  NaN   \n",
       "1          741.0           -9.0         0          0                  NaN   \n",
       "2          811.0            5.0         0          0                  NaN   \n",
       "3          756.0           -9.0         0          0                  NaN   \n",
       "4          259.0          -21.0         0          0                  NaN   \n",
       "5          610.0            8.0         0          0                  NaN   \n",
       "6          509.0          -17.0         0          0                  NaN   \n",
       "7          753.0          -10.0         0          0                  NaN   \n",
       "8          532.0          -13.0         0          0                  NaN   \n",
       "9          656.0          -15.0         0          0                  NaN   \n",
       "10         453.0          -30.0         0          0                  NaN   \n",
       "11         753.0          -10.0         0          0                  NaN   \n",
       "12         605.0           -4.0         0          0                  NaN   \n",
       "13         553.0          -22.0         0          0                  NaN   \n",
       "14         557.0            8.0         0          0                  NaN   \n",
       "15         455.0          -14.0         0          0                  NaN   \n",
       "16         451.0          -24.0         0          0                  NaN   \n",
       "17         619.0           -7.0         0          0                  NaN   \n",
       "18         507.0          -18.0         0          0                  NaN   \n",
       "19         551.0          -12.0         0          0                  NaN   \n",
       "\n",
       "    AIR_SYSTEM_DELAY  SECURITY_DELAY  AIRLINE_DELAY  LATE_AIRCRAFT_DELAY  \\\n",
       "0                NaN             NaN            NaN                  NaN   \n",
       "1                NaN             NaN            NaN                  NaN   \n",
       "2                NaN             NaN            NaN                  NaN   \n",
       "3                NaN             NaN            NaN                  NaN   \n",
       "4                NaN             NaN            NaN                  NaN   \n",
       "5                NaN             NaN            NaN                  NaN   \n",
       "6                NaN             NaN            NaN                  NaN   \n",
       "7                NaN             NaN            NaN                  NaN   \n",
       "8                NaN             NaN            NaN                  NaN   \n",
       "9                NaN             NaN            NaN                  NaN   \n",
       "10               NaN             NaN            NaN                  NaN   \n",
       "11               NaN             NaN            NaN                  NaN   \n",
       "12               NaN             NaN            NaN                  NaN   \n",
       "13               NaN             NaN            NaN                  NaN   \n",
       "14               NaN             NaN            NaN                  NaN   \n",
       "15               NaN             NaN            NaN                  NaN   \n",
       "16               NaN             NaN            NaN                  NaN   \n",
       "17               NaN             NaN            NaN                  NaN   \n",
       "18               NaN             NaN            NaN                  NaN   \n",
       "19               NaN             NaN            NaN                  NaN   \n",
       "\n",
       "    WEATHER_DELAY  \n",
       "0             NaN  \n",
       "1             NaN  \n",
       "2             NaN  \n",
       "3             NaN  \n",
       "4             NaN  \n",
       "5             NaN  \n",
       "6             NaN  \n",
       "7             NaN  \n",
       "8             NaN  \n",
       "9             NaN  \n",
       "10            NaN  \n",
       "11            NaN  \n",
       "12            NaN  \n",
       "13            NaN  \n",
       "14            NaN  \n",
       "15            NaN  \n",
       "16            NaN  \n",
       "17            NaN  \n",
       "18            NaN  \n",
       "19            NaN  \n",
       "\n",
       "[20 rows x 31 columns]"
      ]
     },
     "execution_count": 348,
     "metadata": {},
     "output_type": "execute_result"
    }
   ],
   "source": [
    "df.head(20)"
   ]
  },
  {
   "cell_type": "code",
   "execution_count": 349,
   "metadata": {},
   "outputs": [
    {
     "name": "stdout",
     "output_type": "stream",
     "text": [
      "Количество отменённых рейсов = 16824\n"
     ]
    }
   ],
   "source": [
    "print(\"Количество отменённых рейсов =\",df[df['CANCELLED']==1].shape[0])"
   ]
  },
  {
   "cell_type": "markdown",
   "metadata": {},
   "source": [
    "### 2. Определите аэропорт, рейсы для которого отменяются наиболее часто."
   ]
  },
  {
   "cell_type": "code",
   "execution_count": 350,
   "metadata": {},
   "outputs": [
    {
     "name": "stdout",
     "output_type": "stream",
     "text": [
      "                CANCELLED\n",
      "ORIGIN_AIRPORT           \n",
      "ATL                 31332\n",
      "ORD                 24967\n",
      "DFW                 24651\n"
     ]
    }
   ],
   "source": [
    "count = df.groupby('ORIGIN_AIRPORT')[['CANCELLED']].count()\n",
    "port = count.sort_values(by=['CANCELLED'], ascending=False).head(3)\n",
    "print(port)"
   ]
  },
  {
   "cell_type": "markdown",
   "metadata": {},
   "source": [
    "### 3. Определите коэффициент корреляции Пирсона и Спирмена между отменой рейса и днём недели, месяцем, авиакомпанией, аэропортом. Оцените значение p-value. Постройте плотность распределения признаков."
   ]
  },
  {
   "cell_type": "code",
   "execution_count": 351,
   "metadata": {},
   "outputs": [],
   "source": [
    "from scipy import stats\n",
    "from sklearn.preprocessing import LabelEncoder\n",
    "from scipy.stats import pearsonr\n",
    "from scipy.stats import spearmanr\n",
    "import matplotlib.pyplot as plt\n",
    "%matplotlib inline\n"
   ]
  },
  {
   "cell_type": "code",
   "execution_count": 352,
   "metadata": {},
   "outputs": [
    {
     "name": "stdout",
     "output_type": "stream",
     "text": [
      "День недели\n",
      "Коэффициент корреляции Пирсона:  (-0.070560432734448467, 0.0)\n",
      "Коэффициент корреляции Спирмена:  SpearmanrResult(correlation=-0.069086431759161737, pvalue=0.0)\n",
      "p-value is good\n"
     ]
    }
   ],
   "source": [
    "pears_day = pearsonr(df['CANCELLED'],df['DAY_OF_WEEK'])\n",
    "spearm_day = spearmanr(df['CANCELLED'],df['DAY_OF_WEEK'])\n",
    "\n",
    "print(\"День недели\")\n",
    "print(\"Коэффициент корреляции Пирсона: \",pears_day)\n",
    "print(\"Коэффициент корреляции Спирмена: \",spearm_day)\n",
    "                          \n",
    "if (spearm_day[1]<0.05):\n",
    "    print(\"p-value is good\")\n",
    "else:\n",
    "    print(\"p-value is not good\")"
   ]
  },
  {
   "cell_type": "code",
   "execution_count": 353,
   "metadata": {},
   "outputs": [
    {
     "name": "stdout",
     "output_type": "stream",
     "text": [
      "Месяц\n",
      "Коэффициент корреляции Пирсона:  (0.17885181785805138, 0.0)\n",
      "Коэффициент корреляции Спирмена:  SpearmanrResult(correlation=0.17885181785805146, pvalue=0.0)\n",
      "p-value is good\n"
     ]
    }
   ],
   "source": [
    "pears_m = pearsonr(df['CANCELLED'],df['MONTH'])\n",
    "spearm_m = spearmanr(df['CANCELLED'],df['MONTH'])\n",
    "\n",
    "print(\"Месяц\")\n",
    "print(\"Коэффициент корреляции Пирсона: \",pears_m)\n",
    "print(\"Коэффициент корреляции Спирмена: \",spearm_m)\n",
    "      \n",
    "if (spearm_day[1]<0.05):\n",
    "    print(\"p-value is good\")\n",
    "else:\n",
    "    print(\"p-value is not good\")"
   ]
  },
  {
   "cell_type": "code",
   "execution_count": 354,
   "metadata": {},
   "outputs": [
    {
     "name": "stdout",
     "output_type": "stream",
     "text": [
      "Авиакомпания\n",
      "Коэффициент корреляции Пирсона:  (-0.0041752273620301646, 0.0031537845993512828)\n",
      "Коэффициент корреляции Спирмена:  SpearmanrResult(correlation=-0.0054718462429356124, pvalue=0.00010919355040687292)\n",
      "p-value is good\n"
     ]
    }
   ],
   "source": [
    "label_encoder = LabelEncoder()\n",
    "air = pd.Series(label_encoder.fit_transform(df['AIRLINE']))\n",
    "\n",
    "pears_a = pearsonr(df['CANCELLED'],air)\n",
    "spearm_a = spearmanr(df['CANCELLED'],air)\n",
    "\n",
    "print(\"Авиакомпания\")\n",
    "print(\"Коэффициент корреляции Пирсона: \",pears_a)\n",
    "print(\"Коэффициент корреляции Спирмена: \",spearm_a)\n",
    "      \n",
    "if (spearm_day[1]<0.05):\n",
    "    print(\"p-value is good\")\n",
    "else:\n",
    "    print(\"p-value is not good\")"
   ]
  },
  {
   "cell_type": "code",
   "execution_count": 355,
   "metadata": {},
   "outputs": [
    {
     "name": "stdout",
     "output_type": "stream",
     "text": [
      "Аэропорт\n",
      "Коэффициент корреляции Пирсона:  (-0.0048435544723469557, 0.00061497654543681913)\n",
      "Коэффициент корреляции Спирмена:  SpearmanrResult(correlation=-0.0037055248952083315, pvalue=0.0087877123098929408)\n",
      "p-value is good\n"
     ]
    }
   ],
   "source": [
    "port = pd.Series(label_encoder.fit_transform(df['ORIGIN_AIRPORT']))\n",
    "\n",
    "pears_p = pearsonr(df['CANCELLED'], port)\n",
    "spearm_p = spearmanr(df['CANCELLED'], port)\n",
    "\n",
    "print(\"Аэропорт\")\n",
    "print(\"Коэффициент корреляции Пирсона: \",pears_p)\n",
    "print(\"Коэффициент корреляции Спирмена: \",spearm_p)\n",
    "       \n",
    "if (spearm_day[1]<0.05):\n",
    "    print(\"p-value is good\")\n",
    "else:\n",
    "    print(\"p-value is not good\")"
   ]
  },
  {
   "cell_type": "code",
   "execution_count": 356,
   "metadata": {},
   "outputs": [
    {
     "data": {
      "text/plain": [
       "<matplotlib.axes._subplots.AxesSubplot at 0x1cb3caac4e0>"
      ]
     },
     "execution_count": 356,
     "metadata": {},
     "output_type": "execute_result"
    },
    {
     "data": {
      "image/png": "[encoded data removed]",
      "text/plain": [
       "<matplotlib.figure.Figure at 0x1cb3caac278>"
      ]
     },
     "metadata": {},
     "output_type": "display_data"
    }
   ],
   "source": [
    "df['DAY_OF_WEEK'].value_counts().plot.barh()"
   ]
  },
  {
   "cell_type": "code",
   "execution_count": 357,
   "metadata": {},
   "outputs": [
    {
     "data": {
      "text/plain": [
       "<matplotlib.axes._subplots.AxesSubplot at 0x1cb3d462630>"
      ]
     },
     "execution_count": 357,
     "metadata": {},
     "output_type": "execute_result"
    },
    {
     "data": {
      "image/png": "[encoded data removed]",
      "text/plain": [
       "<matplotlib.figure.Figure at 0x1cb3d3ee278>"
      ]
     },
     "metadata": {},
     "output_type": "display_data"
    }
   ],
   "source": [
    "df['MONTH'].value_counts().plot.barh()\n"
   ]
  },
  {
   "cell_type": "code",
   "execution_count": 358,
   "metadata": {},
   "outputs": [
    {
     "data": {
      "text/plain": [
       "<matplotlib.axes._subplots.AxesSubplot at 0x1cb3cc73668>"
      ]
     },
     "execution_count": 358,
     "metadata": {},
     "output_type": "execute_result"
    },
    {
     "data": {
      "image/png": "[encoded data removed]",
      "text/plain": [
       "<matplotlib.figure.Figure at 0x1cb36a445c0>"
      ]
     },
     "metadata": {},
     "output_type": "display_data"
    }
   ],
   "source": [
    "df['AIRLINE'].value_counts().plot.barh()\n"
   ]
  },
  {
   "cell_type": "code",
   "execution_count": 359,
   "metadata": {},
   "outputs": [
    {
     "data": {
      "text/plain": [
       "<matplotlib.axes._subplots.AxesSubplot at 0x1cb3cabd4a8>"
      ]
     },
     "execution_count": 359,
     "metadata": {},
     "output_type": "execute_result"
    },
    {
     "data": {
      "image/png": "[encoded data removed]",
      "text/plain": [
       "<matplotlib.figure.Figure at 0x1cb3510b2b0>"
      ]
     },
     "metadata": {},
     "output_type": "display_data"
    }
   ],
   "source": [
    "df['ORIGIN_AIRPORT'].value_counts().plot.barh()"
   ]
  },
  {
   "cell_type": "markdown",
   "metadata": {},
   "source": [
    "### 4. Подсчитайте для трёх выбранных авиакомпаний: количество рейсов, количество отменённых рейсов, количество перенаправленных рейсов."
   ]
  },
  {
   "cell_type": "code",
   "execution_count": 360,
   "metadata": {},
   "outputs": [
    {
     "name": "stdout",
     "output_type": "stream",
     "text": [
      "Для AS\n",
      "Количество рейсов = 14149\n",
      "Количество отменённых рейсов = 83\n",
      "Количество перенаправленных рейсов = 46\n",
      "Для AA\n",
      "Количество рейсов = 46950\n",
      "Количество отменённых рейсов = 1324\n",
      "Количество перенаправленных рейсов = 110\n",
      "Для US\n",
      "Количество рейсов = 35591\n",
      "Количество отменённых рейсов = 1268\n",
      "Количество перенаправленных рейсов = 73\n"
     ]
    }
   ],
   "source": [
    "print(\"Для AS\")\n",
    "print(\"Количество рейсов =\", df[df['AIRLINE']=='AS']['FLIGHT_NUMBER'].count())\n",
    "print(\"Количество отменённых рейсов =\",df[(df['AIRLINE']=='AS') & (df['CANCELLED']==1)].shape[0])\n",
    "print(\"Количество перенаправленных рейсов =\",df[(df['AIRLINE']=='AS') & (df['DIVERTED']==1)].shape[0])\n",
    "print(\"Для AA\")\n",
    "print(\"Количество рейсов =\", df[df['AIRLINE']=='AA']['FLIGHT_NUMBER'].count())\n",
    "print(\"Количество отменённых рейсов =\",df[(df['AIRLINE']=='AA') & (df['CANCELLED']==1)].shape[0])\n",
    "print(\"Количество перенаправленных рейсов =\",df[(df['AIRLINE']=='AA') & (df['DIVERTED']==1)].shape[0])\n",
    "print(\"Для US\")\n",
    "print(\"Количество рейсов =\", df[df['AIRLINE']=='US']['FLIGHT_NUMBER'].count())\n",
    "print(\"Количество отменённых рейсов =\",df[(df['AIRLINE']=='US') & (df['CANCELLED']==1)].shape[0])\n",
    "print(\"Количество перенаправленных рейсов =\",df[(df['AIRLINE']=='US') & (df['DIVERTED']==1)].shape[0])"
   ]
  },
  {
   "cell_type": "markdown",
   "metadata": {},
   "source": [
    "### 5. Определите скорость полёта для каждого рейса, скорость полёта среднюю для трёх выбранных авиакомпаний.\n"
   ]
  },
  {
   "cell_type": "code",
   "execution_count": 361,
   "metadata": {},
   "outputs": [
    {
     "data": {
      "text/html": [
       "<div>\n",
       "<style>\n",
       "    .dataframe thead tr:only-child th {\n",
       "        text-align: right;\n",
       "    }\n",
       "\n",
       "    .dataframe thead th {\n",
       "        text-align: left;\n",
       "    }\n",
       "\n",
       "    .dataframe tbody tr th {\n",
       "        vertical-align: top;\n",
       "    }\n",
       "</style>\n",
       "<table border=\"1\" class=\"dataframe\">\n",
       "  <thead>\n",
       "    <tr style=\"text-align: right;\">\n",
       "      <th></th>\n",
       "      <th>AIRLINE</th>\n",
       "      <th>DISTANCE</th>\n",
       "      <th>AIR_TIME</th>\n",
       "      <th>SPEED</th>\n",
       "    </tr>\n",
       "  </thead>\n",
       "  <tbody>\n",
       "    <tr>\n",
       "      <th>0</th>\n",
       "      <td>AS</td>\n",
       "      <td>1448</td>\n",
       "      <td>169.0</td>\n",
       "      <td>8.568047</td>\n",
       "    </tr>\n",
       "    <tr>\n",
       "      <th>1</th>\n",
       "      <td>AA</td>\n",
       "      <td>2330</td>\n",
       "      <td>263.0</td>\n",
       "      <td>8.859316</td>\n",
       "    </tr>\n",
       "    <tr>\n",
       "      <th>2</th>\n",
       "      <td>US</td>\n",
       "      <td>2296</td>\n",
       "      <td>266.0</td>\n",
       "      <td>8.631579</td>\n",
       "    </tr>\n",
       "    <tr>\n",
       "      <th>3</th>\n",
       "      <td>AA</td>\n",
       "      <td>2342</td>\n",
       "      <td>258.0</td>\n",
       "      <td>9.077519</td>\n",
       "    </tr>\n",
       "    <tr>\n",
       "      <th>4</th>\n",
       "      <td>AS</td>\n",
       "      <td>1448</td>\n",
       "      <td>199.0</td>\n",
       "      <td>7.276382</td>\n",
       "    </tr>\n",
       "  </tbody>\n",
       "</table>\n",
       "</div>"
      ],
      "text/plain": [
       "  AIRLINE  DISTANCE  AIR_TIME     SPEED\n",
       "0      AS      1448     169.0  8.568047\n",
       "1      AA      2330     263.0  8.859316\n",
       "2      US      2296     266.0  8.631579\n",
       "3      AA      2342     258.0  9.077519\n",
       "4      AS      1448     199.0  7.276382"
      ]
     },
     "execution_count": 361,
     "metadata": {},
     "output_type": "execute_result"
    }
   ],
   "source": [
    "df['SPEED'] = df['DISTANCE']/df['AIR_TIME']\n",
    "df[['AIRLINE','DISTANCE' , 'AIR_TIME', 'SPEED']].head()"
   ]
  },
  {
   "cell_type": "code",
   "execution_count": 362,
   "metadata": {},
   "outputs": [
    {
     "name": "stdout",
     "output_type": "stream",
     "text": [
      "Средняя скорость полёта для AS =  7.191532179540095\n",
      "Средняя скорость полёта для AA =  7.178043970834927\n",
      "Средняя скорость полёта для US =  6.786169926660631\n"
     ]
    }
   ],
   "source": [
    "print(\"Средняя скорость полёта для AS = \", df[(df['AIRLINE']=='AS')]['SPEED'].mean())\n",
    "print(\"Средняя скорость полёта для AA = \", df[(df['AIRLINE']=='AA')]['SPEED'].mean())\n",
    "print(\"Средняя скорость полёта для US = \", df[(df['AIRLINE']=='US')]['SPEED'].mean())"
   ]
  },
  {
   "cell_type": "markdown",
   "metadata": {},
   "source": [
    "### 6. Визуализируйте тепловую карту частоты отмены рейсов. По одной оси – дни, по другой оси – рейс (для двух аэропортов)."
   ]
  },
  {
   "cell_type": "code",
   "execution_count": 363,
   "metadata": {},
   "outputs": [
    {
     "data": {
      "text/plain": [
       "<matplotlib.axes._subplots.AxesSubplot at 0x1cb3cc73cf8>"
      ]
     },
     "execution_count": 363,
     "metadata": {},
     "output_type": "execute_result"
    },
    {
     "data": {
      "image/png": "[encoded data removed]",
      "text/plain": [
       "<matplotlib.figure.Figure at 0x1cb3cc70e10>"
      ]
     },
     "metadata": {},
     "output_type": "display_data"
    }
   ],
   "source": [
    "import seaborn as sns\n",
    "df = pd.read_csv('flights.csv', nrows=500000)\n",
    "frame = df[df['ORIGIN_AIRPORT']=='ATL']\n",
    "count = frame.groupby('DAY')[['CANCELLED']].count()\n",
    "sns.heatmap(count)"
   ]
  },
  {
   "cell_type": "code",
   "execution_count": 364,
   "metadata": {},
   "outputs": [
    {
     "data": {
      "text/plain": [
       "<matplotlib.axes._subplots.AxesSubplot at 0x1cb46e343c8>"
      ]
     },
     "execution_count": 364,
     "metadata": {},
     "output_type": "execute_result"
    },
    {
     "data": {
      "image/png": "[encoded data removed]",
      "text/plain": [
       "<matplotlib.figure.Figure at 0x1cb3659e7f0>"
      ]
     },
     "metadata": {},
     "output_type": "display_data"
    }
   ],
   "source": [
    "df = pd.read_csv('flights.csv', nrows=500000)\n",
    "frame = df[df['ORIGIN_AIRPORT']=='ORD']\n",
    "count = frame.groupby('DAY')[['CANCELLED']].count()\n",
    "sns.heatmap(count)"
   ]
  },
  {
   "cell_type": "code",
   "execution_count": 365,
   "metadata": {},
   "outputs": [
    {
     "data": {
      "text/plain": [
       "<matplotlib.axes._subplots.AxesSubplot at 0x1cb463db748>"
      ]
     },
     "execution_count": 365,
     "metadata": {},
     "output_type": "execute_result"
    },
    {
     "data": {
      "image/png": "[encoded data removed]",
      "text/plain": [
       "<matplotlib.figure.Figure at 0x1cb3d464668>"
      ]
     },
     "metadata": {},
     "output_type": "display_data"
    }
   ],
   "source": [
    "df = pd.read_csv('flights.csv', nrows=500000)\n",
    "frame = df[df['ORIGIN_AIRPORT']=='DFW']\n",
    "count = frame.groupby('DAY')[['CANCELLED']].count()\n",
    "sns.heatmap(count)"
   ]
  },
  {
   "cell_type": "markdown",
   "metadata": {},
   "source": [
    "### 7. Посчитайте и визуализируйте время задержки отправки и прибытия по трём аэропортам."
   ]
  },
  {
   "cell_type": "code",
   "execution_count": 366,
   "metadata": {},
   "outputs": [
    {
     "name": "stdout",
     "output_type": "stream",
     "text": [
      "    DEPARTURE_DELAY  ARRIVAL_DELAY\n",
      "1              -8.0           -9.0\n",
      "3              -5.0           -9.0\n",
      "7              14.0          -10.0\n",
      "12              0.0           -4.0\n",
      "23             -2.0          -12.0\n"
     ]
    },
    {
     "data": {
      "text/plain": [
       "<matplotlib.axes._subplots.AxesSubplot at 0x1cb3cb9d780>"
      ]
     },
     "execution_count": 366,
     "metadata": {},
     "output_type": "execute_result"
    },
    {
     "data": {
      "image/png": "[encoded data removed]",
      "text/plain": [
       "<matplotlib.figure.Figure at 0x1cb3cca22e8>"
      ]
     },
     "metadata": {},
     "output_type": "display_data"
    }
   ],
   "source": [
    "frame = df[df['ORIGIN_AIRPORT']=='LAX'].head()\n",
    "LAX = frame[['DEPARTURE_DELAY' , 'ARRIVAL_DELAY']].head(20)\n",
    "print(LAX)\n",
    "LAX.plot()"
   ]
  },
  {
   "cell_type": "code",
   "execution_count": 367,
   "metadata": {},
   "outputs": [
    {
     "name": "stdout",
     "output_type": "stream",
     "text": [
      "    DEPARTURE_DELAY  ARRIVAL_DELAY\n",
      "0             -11.0          -22.0\n",
      "15             -4.0          -14.0\n",
      "16            -14.0          -24.0\n",
      "18             -4.0          -18.0\n",
      "32              NaN            NaN\n"
     ]
    },
    {
     "data": {
      "text/plain": [
       "<matplotlib.axes._subplots.AxesSubplot at 0x1cb3d21bf60>"
      ]
     },
     "execution_count": 367,
     "metadata": {},
     "output_type": "execute_result"
    },
    {
     "data": {
      "image/png": "[encoded data removed]",
      "text/plain": [
       "<matplotlib.figure.Figure at 0x1cb3cbb1128>"
      ]
     },
     "metadata": {},
     "output_type": "display_data"
    }
   ],
   "source": [
    "frame = df[df['ORIGIN_AIRPORT']=='ANC'].head()\n",
    "ANC = frame[['DEPARTURE_DELAY' , 'ARRIVAL_DELAY']].head(20)\n",
    "print(ANC)\n",
    "ANC.plot()"
   ]
  },
  {
   "cell_type": "code",
   "execution_count": 368,
   "metadata": {},
   "outputs": [
    {
     "name": "stdout",
     "output_type": "stream",
     "text": [
      "    DEPARTURE_DELAY  ARRIVAL_DELAY\n",
      "2              -2.0            5.0\n",
      "5              -5.0            8.0\n",
      "8             -11.0          -13.0\n",
      "17             -6.0           -7.0\n",
      "92             19.0           26.0\n"
     ]
    },
    {
     "data": {
      "text/plain": [
       "<matplotlib.axes._subplots.AxesSubplot at 0x1cb3ccc2e80>"
      ]
     },
     "execution_count": 368,
     "metadata": {},
     "output_type": "execute_result"
    },
    {
     "data": {
      "image/png": "[encoded data removed]",
      "text/plain": [
       "<matplotlib.figure.Figure at 0x1cb3ca189b0>"
      ]
     },
     "metadata": {},
     "output_type": "display_data"
    }
   ],
   "source": [
    "frame = df[df['ORIGIN_AIRPORT']=='SFO'].head()\n",
    "SFO = frame[['DEPARTURE_DELAY' , 'ARRIVAL_DELAY']].head(20)\n",
    "print(SFO)\n",
    "SFO.plot()"
   ]
  },
  {
   "cell_type": "markdown",
   "metadata": {},
   "source": [
    "### 8. Определите для трёх выбранных аэропортов и визуализируйте задержки по каждой причине."
   ]
  },
  {
   "cell_type": "code",
   "execution_count": 369,
   "metadata": {},
   "outputs": [
    {
     "name": "stdout",
     "output_type": "stream",
     "text": [
      "B    271\n",
      "A     64\n",
      "C      7\n",
      "Name: CANCELLATION_REASON, dtype: int64\n"
     ]
    },
    {
     "data": {
      "text/plain": [
       "<matplotlib.axes._subplots.AxesSubplot at 0x1cb46df4550>"
      ]
     },
     "execution_count": 369,
     "metadata": {},
     "output_type": "execute_result"
    },
    {
     "data": {
      "image/png": "[encoded data removed]",
      "text/plain": [
       "<matplotlib.figure.Figure at 0x1cb2b592d30>"
      ]
     },
     "metadata": {},
     "output_type": "display_data"
    }
   ],
   "source": [
    "df = pd.read_csv('flights.csv', nrows=500000)\n",
    "frame = df[df['ORIGIN_AIRPORT']=='ATL']\n",
    "rea = frame['CANCELLATION_REASON'].value_counts()\n",
    "print(rea)\n",
    "rea.plot.barh()"
   ]
  },
  {
   "cell_type": "code",
   "execution_count": 370,
   "metadata": {},
   "outputs": [
    {
     "name": "stdout",
     "output_type": "stream",
     "text": [
      "B    1154\n",
      "C     647\n",
      "A     267\n",
      "Name: CANCELLATION_REASON, dtype: int64\n"
     ]
    },
    {
     "data": {
      "text/plain": [
       "<matplotlib.axes._subplots.AxesSubplot at 0x1cb46dbc668>"
      ]
     },
     "execution_count": 370,
     "metadata": {},
     "output_type": "execute_result"
    },
    {
     "data": {
      "image/png": "[encoded data removed]",
      "text/plain": [
       "<matplotlib.figure.Figure at 0x1cb46dbd550>"
      ]
     },
     "metadata": {},
     "output_type": "display_data"
    }
   ],
   "source": [
    "frame = df[df['ORIGIN_AIRPORT']=='ORD']\n",
    "rea = frame['CANCELLATION_REASON'].value_counts()\n",
    "print(rea)\n",
    "rea.plot.barh()"
   ]
  },
  {
   "cell_type": "code",
   "execution_count": 371,
   "metadata": {},
   "outputs": [
    {
     "name": "stdout",
     "output_type": "stream",
     "text": [
      "B    370\n",
      "A    219\n",
      "C     16\n",
      "Name: CANCELLATION_REASON, dtype: int64\n"
     ]
    },
    {
     "data": {
      "text/plain": [
       "<matplotlib.axes._subplots.AxesSubplot at 0x1cb46469128>"
      ]
     },
     "execution_count": 371,
     "metadata": {},
     "output_type": "execute_result"
    },
    {
     "data": {
      "image/png": "[encoded data removed]",
      "text/plain": [
       "<matplotlib.figure.Figure at 0x1cb3cba5240>"
      ]
     },
     "metadata": {},
     "output_type": "display_data"
    }
   ],
   "source": [
    "frame = df[df['ORIGIN_AIRPORT']=='DFW']\n",
    "rea = frame['CANCELLATION_REASON'].value_counts()\n",
    "print(rea)\n",
    "rea.plot.barh()"
   ]
  },
  {
   "cell_type": "markdown",
   "metadata": {},
   "source": [
    "### 9. Определите авиакомпанию с максимальными задержками рейсов по отправке и прибытию."
   ]
  },
  {
   "cell_type": "code",
   "execution_count": 372,
   "metadata": {},
   "outputs": [
    {
     "name": "stdout",
     "output_type": "stream",
     "text": [
      "Авиакомпания с максимальной задержкой по отправке\n",
      "         DEPARTURE_DELAY\n",
      "AIRLINE                 \n",
      "AA                1988.0\n"
     ]
    }
   ],
   "source": [
    "count = df.groupby('AIRLINE')[['DEPARTURE_DELAY']].max()\n",
    "port = count.sort_values(by=['DEPARTURE_DELAY'], ascending=False).head(1)\n",
    "print(\"Авиакомпания с максимальной задержкой по отправке\")\n",
    "print(port)"
   ]
  },
  {
   "cell_type": "code",
   "execution_count": 373,
   "metadata": {},
   "outputs": [
    {
     "name": "stdout",
     "output_type": "stream",
     "text": [
      "Авиакомания с максимальной задержкой по прибытию\n",
      "         ARRIVAL_DELAY\n",
      "AIRLINE               \n",
      "AA              1971.0\n"
     ]
    }
   ],
   "source": [
    "count = df.groupby('AIRLINE')[['ARRIVAL_DELAY']].max()\n",
    "port = count.sort_values(by=['ARRIVAL_DELAY'], ascending=False).head(1)\n",
    "print(\"Авиакомания с максимальной задержкой по прибытию\")\n",
    "print(port)"
   ]
  },
  {
   "cell_type": "markdown",
   "metadata": {},
   "source": [
    "# Конец"
   ]
  }
 ],
 "metadata": {
  "kernelspec": {
   "display_name": "Python 3",
   "language": "python",
   "name": "python3"
  },
  "language_info": {
   "codemirror_mode": {
    "name": "ipython",
    "version": 3
   },
   "file_extension": ".py",
   "mimetype": "text/x-python",
   "name": "python",
   "nbconvert_exporter": "python",
   "pygments_lexer": "ipython3",
   "version": "3.6.2"
  }
 },
 "nbformat": 4,
 "nbformat_minor": 2
}
